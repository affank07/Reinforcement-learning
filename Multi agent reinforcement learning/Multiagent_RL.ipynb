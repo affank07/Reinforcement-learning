{
  "nbformat": 4,
  "nbformat_minor": 0,
  "metadata": {
    "colab": {
      "name": "ha32_affanali_gmurtaza_final_project.ipynb",
      "provenance": [],
      "collapsed_sections": []
    },
    "kernelspec": {
      "name": "python3",
      "display_name": "Python 3"
    },
    "language_info": {
      "name": "python"
    }
  },
  "cells": [
    {
      "cell_type": "markdown",
      "source": [
        "I/we certify that the code and data in this assignment were generated independently, using only the tools and resources defined in the course and that I/we did not receive any external help, coaching or contributions during the production of this work."
      ],
      "metadata": {
        "id": "HkmvQxNgbzIc"
      }
    },
    {
      "cell_type": "markdown",
      "source": [
        "# Part 1"
      ],
      "metadata": {
        "id": "cdq7uzn9tUEp"
      }
    },
    {
      "cell_type": "code",
      "source": [
        "from google.colab import drive\n",
        "drive.mount('/content/drive')"
      ],
      "metadata": {
        "colab": {
          "base_uri": "https://localhost:8080/"
        },
        "id": "iKG4stL3hX10",
        "outputId": "5a04b300-aabd-4242-c7d0-d93a032dd716"
      },
      "execution_count": 1,
      "outputs": [
        {
          "output_type": "stream",
          "name": "stdout",
          "text": [
            "Mounted at /content/drive\n"
          ]
        }
      ]
    },
    {
      "cell_type": "code",
      "source": [
        "!pip install box2d-py==2.3.5 shapely==1.7.0 numpy gym==0.17.2"
      ],
      "metadata": {
        "colab": {
          "base_uri": "https://localhost:8080/"
        },
        "id": "ZVDji2Gdhg4u",
        "outputId": "5bc67d09-af85-4683-dd90-4fdbee34780d"
      },
      "execution_count": 2,
      "outputs": [
        {
          "output_type": "stream",
          "name": "stdout",
          "text": [
            "Collecting box2d-py==2.3.5\n",
            "  Downloading box2d_py-2.3.5-cp37-cp37m-manylinux1_x86_64.whl (2.1 MB)\n",
            "\u001b[K     |████████████████████████████████| 2.1 MB 5.1 MB/s \n",
            "\u001b[?25hCollecting shapely==1.7.0\n",
            "  Downloading Shapely-1.7.0-cp37-cp37m-manylinux1_x86_64.whl (1.8 MB)\n",
            "\u001b[K     |████████████████████████████████| 1.8 MB 43.9 MB/s \n",
            "\u001b[?25hRequirement already satisfied: numpy in /usr/local/lib/python3.7/dist-packages (1.21.6)\n",
            "Collecting gym==0.17.2\n",
            "  Downloading gym-0.17.2.tar.gz (1.6 MB)\n",
            "\u001b[K     |████████████████████████████████| 1.6 MB 39.4 MB/s \n",
            "\u001b[?25hRequirement already satisfied: scipy in /usr/local/lib/python3.7/dist-packages (from gym==0.17.2) (1.4.1)\n",
            "Requirement already satisfied: pyglet<=1.5.0,>=1.4.0 in /usr/local/lib/python3.7/dist-packages (from gym==0.17.2) (1.5.0)\n",
            "Requirement already satisfied: cloudpickle<1.4.0,>=1.2.0 in /usr/local/lib/python3.7/dist-packages (from gym==0.17.2) (1.3.0)\n",
            "Requirement already satisfied: future in /usr/local/lib/python3.7/dist-packages (from pyglet<=1.5.0,>=1.4.0->gym==0.17.2) (0.16.0)\n",
            "Building wheels for collected packages: gym\n",
            "  Building wheel for gym (setup.py) ... \u001b[?25l\u001b[?25hdone\n",
            "  Created wheel for gym: filename=gym-0.17.2-py3-none-any.whl size=1650890 sha256=1f3314904809febf9c689041061185041c460a85140b59d16f717fcefbc7b12f\n",
            "  Stored in directory: /root/.cache/pip/wheels/18/e1/58/89a2aa24e6c2cc800204fc02010612afdf200926c4d6bfe315\n",
            "Successfully built gym\n",
            "Installing collected packages: shapely, gym, box2d-py\n",
            "  Attempting uninstall: shapely\n",
            "    Found existing installation: Shapely 1.8.1.post1\n",
            "    Uninstalling Shapely-1.8.1.post1:\n",
            "      Successfully uninstalled Shapely-1.8.1.post1\n",
            "  Attempting uninstall: gym\n",
            "    Found existing installation: gym 0.17.3\n",
            "    Uninstalling gym-0.17.3:\n",
            "      Successfully uninstalled gym-0.17.3\n",
            "\u001b[31mERROR: pip's dependency resolver does not currently take into account all the packages that are installed. This behaviour is the source of the following dependency conflicts.\n",
            "albumentations 0.1.12 requires imgaug<0.2.7,>=0.2.5, but you have imgaug 0.2.9 which is incompatible.\u001b[0m\n",
            "Successfully installed box2d-py-2.3.5 gym-0.17.2 shapely-1.7.0\n"
          ]
        }
      ]
    },
    {
      "cell_type": "code",
      "source": [
        "%cd \"drive/My Drive/Reinforcement Learning\"\n",
        "!git clone https://github.com/koulanurag/ma-gym.git\n",
        "%cd ma-gym\n",
        "!pip install -e ."
      ],
      "metadata": {
        "colab": {
          "base_uri": "https://localhost:8080/",
          "height": 954
        },
        "id": "5nkfHJ64g6mx",
        "outputId": "dfd26af7-34f4-42a3-ad49-ae3512af589f"
      },
      "execution_count": 3,
      "outputs": [
        {
          "output_type": "stream",
          "name": "stdout",
          "text": [
            "[Errno 2] No such file or directory: 'drive/My Drive/Reinforcement Learning'\n",
            "/content\n",
            "Cloning into 'ma-gym'...\n",
            "remote: Enumerating objects: 1452, done.\u001b[K\n",
            "remote: Counting objects: 100% (289/289), done.\u001b[K\n",
            "remote: Compressing objects: 100% (56/56), done.\u001b[K\n",
            "remote: Total 1452 (delta 265), reused 233 (delta 233), pack-reused 1163\u001b[K\n",
            "Receiving objects: 100% (1452/1452), 3.94 MiB | 16.73 MiB/s, done.\n",
            "Resolving deltas: 100% (742/742), done.\n",
            "/content/ma-gym\n",
            "Obtaining file:///content/ma-gym\n",
            "Requirement already satisfied: scipy>=1.3.0 in /usr/local/lib/python3.7/dist-packages (from ma-gym==0.0.8) (1.4.1)\n",
            "Requirement already satisfied: numpy>=1.16.4 in /usr/local/lib/python3.7/dist-packages (from ma-gym==0.0.8) (1.21.6)\n",
            "Requirement already satisfied: pyglet<=1.5.0,>=1.4.0 in /usr/local/lib/python3.7/dist-packages (from ma-gym==0.0.8) (1.5.0)\n",
            "Requirement already satisfied: cloudpickle<1.7.0,>=1.2.0 in /usr/local/lib/python3.7/dist-packages (from ma-gym==0.0.8) (1.3.0)\n",
            "Collecting gym==0.19.0\n",
            "  Downloading gym-0.19.0.tar.gz (1.6 MB)\n",
            "\u001b[K     |████████████████████████████████| 1.6 MB 5.7 MB/s \n",
            "\u001b[?25hCollecting pillow>=7.2.0\n",
            "  Downloading Pillow-9.1.0-cp37-cp37m-manylinux_2_17_x86_64.manylinux2014_x86_64.whl (4.3 MB)\n",
            "\u001b[K     |████████████████████████████████| 4.3 MB 36.4 MB/s \n",
            "\u001b[?25hCollecting six>=1.16.0\n",
            "  Downloading six-1.16.0-py2.py3-none-any.whl (11 kB)\n",
            "Requirement already satisfied: future in /usr/local/lib/python3.7/dist-packages (from pyglet<=1.5.0,>=1.4.0->ma-gym==0.0.8) (0.16.0)\n",
            "Building wheels for collected packages: gym\n",
            "  Building wheel for gym (setup.py) ... \u001b[?25l\u001b[?25hdone\n",
            "  Created wheel for gym: filename=gym-0.19.0-py3-none-any.whl size=1663118 sha256=e987b782a925677815965dac8a6ebd6d59d5eecc7195772c47c6ee59df7b6aea\n",
            "  Stored in directory: /root/.cache/pip/wheels/ef/9d/70/8bea53f7edec2fdb4f98d9d64ac9f11aea95dfcb98099d7712\n",
            "Successfully built gym\n",
            "Installing collected packages: six, pillow, gym, ma-gym\n",
            "  Attempting uninstall: six\n",
            "    Found existing installation: six 1.15.0\n",
            "    Uninstalling six-1.15.0:\n",
            "      Successfully uninstalled six-1.15.0\n",
            "  Attempting uninstall: pillow\n",
            "    Found existing installation: Pillow 7.1.2\n",
            "    Uninstalling Pillow-7.1.2:\n",
            "      Successfully uninstalled Pillow-7.1.2\n",
            "  Attempting uninstall: gym\n",
            "    Found existing installation: gym 0.17.2\n",
            "    Uninstalling gym-0.17.2:\n",
            "      Successfully uninstalled gym-0.17.2\n",
            "  Running setup.py develop for ma-gym\n",
            "\u001b[31mERROR: pip's dependency resolver does not currently take into account all the packages that are installed. This behaviour is the source of the following dependency conflicts.\n",
            "tensorflow 2.8.0 requires tf-estimator-nightly==2.8.0.dev2021122109, which is not installed.\n",
            "google-colab 1.0.0 requires six~=1.15.0, but you have six 1.16.0 which is incompatible.\n",
            "datascience 0.10.6 requires folium==0.2.1, but you have folium 0.8.3 which is incompatible.\n",
            "albumentations 0.1.12 requires imgaug<0.2.7,>=0.2.5, but you have imgaug 0.2.9 which is incompatible.\u001b[0m\n",
            "Successfully installed gym-0.19.0 ma-gym-0.0.8 pillow-9.1.0 six-1.16.0\n"
          ]
        },
        {
          "output_type": "display_data",
          "data": {
            "application/vnd.colab-display-data+json": {
              "pip_warning": {
                "packages": [
                  "PIL",
                  "six"
                ]
              }
            }
          },
          "metadata": {}
        }
      ]
    },
    {
      "cell_type": "code",
      "source": [
        "!apt-get install -y libgl1-mesa-dev libgl1-mesa-glx libglew-dev libosmesa6-dev software-properties-common\n",
        "!apt-get install -y patchelf\n",
        "!apt-get install python-opengl -y\n",
        "!apt install xvfb x11-utils -y\n",
        "!apt-get install swig"
      ],
      "metadata": {
        "colab": {
          "base_uri": "https://localhost:8080/"
        },
        "id": "hRQWVEFo6bzp",
        "outputId": "c02da542-1188-48cb-9a75-b86ba84f8990"
      },
      "execution_count": 4,
      "outputs": [
        {
          "output_type": "stream",
          "name": "stdout",
          "text": [
            "Reading package lists... Done\n",
            "Building dependency tree       \n",
            "Reading state information... Done\n",
            "libgl1-mesa-dev is already the newest version (20.0.8-0ubuntu1~18.04.1).\n",
            "libgl1-mesa-dev set to manually installed.\n",
            "software-properties-common is already the newest version (0.96.24.32.18).\n",
            "The following packages were automatically installed and are no longer required:\n",
            "  libnvidia-common-460 nsight-compute-2020.2.0\n",
            "Use 'apt autoremove' to remove them.\n",
            "Suggested packages:\n",
            "  glew-utils\n",
            "The following NEW packages will be installed:\n",
            "  libgl1-mesa-glx libglew-dev libglew2.0 libosmesa6 libosmesa6-dev\n",
            "0 upgraded, 5 newly installed, 0 to remove and 42 not upgraded.\n",
            "Need to get 2,916 kB of archives.\n",
            "After this operation, 12.6 MB of additional disk space will be used.\n",
            "Get:1 http://archive.ubuntu.com/ubuntu bionic-updates/main amd64 libgl1-mesa-glx amd64 20.0.8-0ubuntu1~18.04.1 [5,532 B]\n",
            "Get:2 http://archive.ubuntu.com/ubuntu bionic/universe amd64 libglew2.0 amd64 2.0.0-5 [140 kB]\n",
            "Get:3 http://archive.ubuntu.com/ubuntu bionic/universe amd64 libglew-dev amd64 2.0.0-5 [120 kB]\n",
            "Get:4 http://archive.ubuntu.com/ubuntu bionic-updates/main amd64 libosmesa6 amd64 20.0.8-0ubuntu1~18.04.1 [2,641 kB]\n",
            "Get:5 http://archive.ubuntu.com/ubuntu bionic-updates/main amd64 libosmesa6-dev amd64 20.0.8-0ubuntu1~18.04.1 [8,828 B]\n",
            "Fetched 2,916 kB in 1s (2,876 kB/s)\n",
            "Selecting previously unselected package libgl1-mesa-glx:amd64.\n",
            "(Reading database ... 155203 files and directories currently installed.)\n",
            "Preparing to unpack .../libgl1-mesa-glx_20.0.8-0ubuntu1~18.04.1_amd64.deb ...\n",
            "Unpacking libgl1-mesa-glx:amd64 (20.0.8-0ubuntu1~18.04.1) ...\n",
            "Selecting previously unselected package libglew2.0:amd64.\n",
            "Preparing to unpack .../libglew2.0_2.0.0-5_amd64.deb ...\n",
            "Unpacking libglew2.0:amd64 (2.0.0-5) ...\n",
            "Selecting previously unselected package libglew-dev:amd64.\n",
            "Preparing to unpack .../libglew-dev_2.0.0-5_amd64.deb ...\n",
            "Unpacking libglew-dev:amd64 (2.0.0-5) ...\n",
            "Selecting previously unselected package libosmesa6:amd64.\n",
            "Preparing to unpack .../libosmesa6_20.0.8-0ubuntu1~18.04.1_amd64.deb ...\n",
            "Unpacking libosmesa6:amd64 (20.0.8-0ubuntu1~18.04.1) ...\n",
            "Selecting previously unselected package libosmesa6-dev:amd64.\n",
            "Preparing to unpack .../libosmesa6-dev_20.0.8-0ubuntu1~18.04.1_amd64.deb ...\n",
            "Unpacking libosmesa6-dev:amd64 (20.0.8-0ubuntu1~18.04.1) ...\n",
            "Setting up libosmesa6:amd64 (20.0.8-0ubuntu1~18.04.1) ...\n",
            "Setting up libgl1-mesa-glx:amd64 (20.0.8-0ubuntu1~18.04.1) ...\n",
            "Setting up libglew2.0:amd64 (2.0.0-5) ...\n",
            "Setting up libglew-dev:amd64 (2.0.0-5) ...\n",
            "Setting up libosmesa6-dev:amd64 (20.0.8-0ubuntu1~18.04.1) ...\n",
            "Processing triggers for libc-bin (2.27-3ubuntu1.3) ...\n",
            "/sbin/ldconfig.real: /usr/local/lib/python3.7/dist-packages/ideep4py/lib/libmkldnn.so.0 is not a symbolic link\n",
            "\n",
            "Reading package lists... Done\n",
            "Building dependency tree       \n",
            "Reading state information... Done\n",
            "The following packages were automatically installed and are no longer required:\n",
            "  libnvidia-common-460 nsight-compute-2020.2.0\n",
            "Use 'apt autoremove' to remove them.\n",
            "The following NEW packages will be installed:\n",
            "  patchelf\n",
            "0 upgraded, 1 newly installed, 0 to remove and 42 not upgraded.\n",
            "Need to get 46.5 kB of archives.\n",
            "After this operation, 130 kB of additional disk space will be used.\n",
            "Get:1 http://archive.ubuntu.com/ubuntu bionic/universe amd64 patchelf amd64 0.9-1 [46.5 kB]\n",
            "Fetched 46.5 kB in 0s (122 kB/s)\n",
            "Selecting previously unselected package patchelf.\n",
            "(Reading database ... 155241 files and directories currently installed.)\n",
            "Preparing to unpack .../patchelf_0.9-1_amd64.deb ...\n",
            "Unpacking patchelf (0.9-1) ...\n",
            "Setting up patchelf (0.9-1) ...\n",
            "Processing triggers for man-db (2.8.3-2ubuntu0.1) ...\n",
            "Reading package lists... Done\n",
            "Building dependency tree       \n",
            "Reading state information... Done\n",
            "The following packages were automatically installed and are no longer required:\n",
            "  libnvidia-common-460 nsight-compute-2020.2.0\n",
            "Use 'apt autoremove' to remove them.\n",
            "Suggested packages:\n",
            "  libgle3\n",
            "The following NEW packages will be installed:\n",
            "  python-opengl\n",
            "0 upgraded, 1 newly installed, 0 to remove and 42 not upgraded.\n",
            "Need to get 496 kB of archives.\n",
            "After this operation, 5,416 kB of additional disk space will be used.\n",
            "Get:1 http://archive.ubuntu.com/ubuntu bionic/universe amd64 python-opengl all 3.1.0+dfsg-1 [496 kB]\n",
            "Fetched 496 kB in 1s (727 kB/s)\n",
            "Selecting previously unselected package python-opengl.\n",
            "(Reading database ... 155247 files and directories currently installed.)\n",
            "Preparing to unpack .../python-opengl_3.1.0+dfsg-1_all.deb ...\n",
            "Unpacking python-opengl (3.1.0+dfsg-1) ...\n",
            "Setting up python-opengl (3.1.0+dfsg-1) ...\n",
            "Reading package lists... Done\n",
            "Building dependency tree       \n",
            "Reading state information... Done\n",
            "The following packages were automatically installed and are no longer required:\n",
            "  libnvidia-common-460 nsight-compute-2020.2.0\n",
            "Use 'apt autoremove' to remove them.\n",
            "The following additional packages will be installed:\n",
            "  libxxf86dga1\n",
            "Suggested packages:\n",
            "  mesa-utils\n",
            "The following NEW packages will be installed:\n",
            "  libxxf86dga1 x11-utils xvfb\n",
            "0 upgraded, 3 newly installed, 0 to remove and 42 not upgraded.\n",
            "Need to get 993 kB of archives.\n",
            "After this operation, 2,982 kB of additional disk space will be used.\n",
            "Get:1 http://archive.ubuntu.com/ubuntu bionic/main amd64 libxxf86dga1 amd64 2:1.1.4-1 [13.7 kB]\n",
            "Get:2 http://archive.ubuntu.com/ubuntu bionic/main amd64 x11-utils amd64 7.7+3build1 [196 kB]\n",
            "Get:3 http://archive.ubuntu.com/ubuntu bionic-updates/universe amd64 xvfb amd64 2:1.19.6-1ubuntu4.10 [784 kB]\n",
            "Fetched 993 kB in 1s (1,264 kB/s)\n",
            "Selecting previously unselected package libxxf86dga1:amd64.\n",
            "(Reading database ... 157602 files and directories currently installed.)\n",
            "Preparing to unpack .../libxxf86dga1_2%3a1.1.4-1_amd64.deb ...\n",
            "Unpacking libxxf86dga1:amd64 (2:1.1.4-1) ...\n",
            "Selecting previously unselected package x11-utils.\n",
            "Preparing to unpack .../x11-utils_7.7+3build1_amd64.deb ...\n",
            "Unpacking x11-utils (7.7+3build1) ...\n",
            "Selecting previously unselected package xvfb.\n",
            "Preparing to unpack .../xvfb_2%3a1.19.6-1ubuntu4.10_amd64.deb ...\n",
            "Unpacking xvfb (2:1.19.6-1ubuntu4.10) ...\n",
            "Setting up xvfb (2:1.19.6-1ubuntu4.10) ...\n",
            "Setting up libxxf86dga1:amd64 (2:1.1.4-1) ...\n",
            "Setting up x11-utils (7.7+3build1) ...\n",
            "Processing triggers for man-db (2.8.3-2ubuntu0.1) ...\n",
            "Processing triggers for libc-bin (2.27-3ubuntu1.3) ...\n",
            "/sbin/ldconfig.real: /usr/local/lib/python3.7/dist-packages/ideep4py/lib/libmkldnn.so.0 is not a symbolic link\n",
            "\n",
            "Reading package lists... Done\n",
            "Building dependency tree       \n",
            "Reading state information... Done\n",
            "The following packages were automatically installed and are no longer required:\n",
            "  libnvidia-common-460 nsight-compute-2020.2.0\n",
            "Use 'apt autoremove' to remove them.\n",
            "The following additional packages will be installed:\n",
            "  swig3.0\n",
            "Suggested packages:\n",
            "  swig-doc swig-examples swig3.0-examples swig3.0-doc\n",
            "The following NEW packages will be installed:\n",
            "  swig swig3.0\n",
            "0 upgraded, 2 newly installed, 0 to remove and 42 not upgraded.\n",
            "Need to get 1,100 kB of archives.\n",
            "After this operation, 5,822 kB of additional disk space will be used.\n",
            "Get:1 http://archive.ubuntu.com/ubuntu bionic/universe amd64 swig3.0 amd64 3.0.12-1 [1,094 kB]\n",
            "Get:2 http://archive.ubuntu.com/ubuntu bionic/universe amd64 swig amd64 3.0.12-1 [6,460 B]\n",
            "Fetched 1,100 kB in 1s (1,215 kB/s)\n",
            "Selecting previously unselected package swig3.0.\n",
            "(Reading database ... 157663 files and directories currently installed.)\n",
            "Preparing to unpack .../swig3.0_3.0.12-1_amd64.deb ...\n",
            "Unpacking swig3.0 (3.0.12-1) ...\n",
            "Selecting previously unselected package swig.\n",
            "Preparing to unpack .../swig_3.0.12-1_amd64.deb ...\n",
            "Unpacking swig (3.0.12-1) ...\n",
            "Setting up swig3.0 (3.0.12-1) ...\n",
            "Setting up swig (3.0.12-1) ...\n",
            "Processing triggers for man-db (2.8.3-2ubuntu0.1) ...\n"
          ]
        }
      ]
    },
    {
      "cell_type": "code",
      "source": [
        "!pip install free-mujoco-py\n",
        "!pip install Box2D\n",
        "!pip install box2d-py\n",
        "!pip install gym[all]\n",
        "!pip install gym[Box_2D]\n",
        "!pip install gym\n",
        "!pip install pyvirtualdisplay\n",
        "!pip install piglet\n",
        "!pip install pyglet\n",
        "!pip install gym[box2d]==0.17.* pyvirtualdisplay==0.2.* PyOpenGL==3.1.* PyOpenGL-accelerate==3.1.*"
      ],
      "metadata": {
        "colab": {
          "base_uri": "https://localhost:8080/"
        },
        "id": "xzkJlrup6h__",
        "outputId": "868f3a34-599b-4205-ce86-8aad19771cb6"
      },
      "execution_count": 5,
      "outputs": [
        {
          "output_type": "stream",
          "name": "stdout",
          "text": [
            "Collecting free-mujoco-py\n",
            "  Downloading free_mujoco_py-2.1.6-py3-none-any.whl (14.1 MB)\n",
            "\u001b[K     |████████████████████████████████| 14.1 MB 4.5 MB/s \n",
            "\u001b[?25hCollecting imageio<3.0.0,>=2.9.0\n",
            "  Downloading imageio-2.19.0-py3-none-any.whl (3.4 MB)\n",
            "\u001b[K     |████████████████████████████████| 3.4 MB 31.0 MB/s \n",
            "\u001b[?25hCollecting glfw<2.0.0,>=1.4.0\n",
            "  Downloading glfw-1.12.0-py2.py27.py3.py30.py31.py32.py33.py34.py35.py36.py37.py38-none-manylinux2014_x86_64.whl (203 kB)\n",
            "\u001b[K     |████████████████████████████████| 203 kB 41.9 MB/s \n",
            "\u001b[?25hRequirement already satisfied: numpy<2.0.0,>=1.21.3 in /usr/local/lib/python3.7/dist-packages (from free-mujoco-py) (1.21.6)\n",
            "Requirement already satisfied: Cython<0.30.0,>=0.29.24 in /usr/local/lib/python3.7/dist-packages (from free-mujoco-py) (0.29.28)\n",
            "Collecting fasteners==0.15\n",
            "  Downloading fasteners-0.15-py2.py3-none-any.whl (23 kB)\n",
            "Requirement already satisfied: cffi<2.0.0,>=1.15.0 in /usr/local/lib/python3.7/dist-packages (from free-mujoco-py) (1.15.0)\n",
            "Requirement already satisfied: six in /usr/local/lib/python3.7/dist-packages (from fasteners==0.15->free-mujoco-py) (1.16.0)\n",
            "Collecting monotonic>=0.1\n",
            "  Downloading monotonic-1.6-py2.py3-none-any.whl (8.2 kB)\n",
            "Requirement already satisfied: pycparser in /usr/local/lib/python3.7/dist-packages (from cffi<2.0.0,>=1.15.0->free-mujoco-py) (2.21)\n",
            "Requirement already satisfied: pillow>=8.3.2 in /usr/local/lib/python3.7/dist-packages (from imageio<3.0.0,>=2.9.0->free-mujoco-py) (9.1.0)\n",
            "Installing collected packages: monotonic, imageio, glfw, fasteners, free-mujoco-py\n",
            "  Attempting uninstall: imageio\n",
            "    Found existing installation: imageio 2.4.1\n",
            "    Uninstalling imageio-2.4.1:\n",
            "      Successfully uninstalled imageio-2.4.1\n",
            "\u001b[31mERROR: pip's dependency resolver does not currently take into account all the packages that are installed. This behaviour is the source of the following dependency conflicts.\n",
            "albumentations 0.1.12 requires imgaug<0.2.7,>=0.2.5, but you have imgaug 0.2.9 which is incompatible.\u001b[0m\n",
            "Successfully installed fasteners-0.15 free-mujoco-py-2.1.6 glfw-1.12.0 imageio-2.19.0 monotonic-1.6\n",
            "Collecting Box2D\n",
            "  Downloading Box2D-2.3.10-cp37-cp37m-manylinux1_x86_64.whl (1.3 MB)\n",
            "\u001b[K     |████████████████████████████████| 1.3 MB 5.2 MB/s \n",
            "\u001b[?25hInstalling collected packages: Box2D\n",
            "Successfully installed Box2D-2.3.10\n",
            "Requirement already satisfied: box2d-py in /usr/local/lib/python3.7/dist-packages (2.3.5)\n",
            "Requirement already satisfied: gym[all] in /usr/local/lib/python3.7/dist-packages (0.19.0)\n",
            "Requirement already satisfied: numpy>=1.18.0 in /usr/local/lib/python3.7/dist-packages (from gym[all]) (1.21.6)\n",
            "Requirement already satisfied: cloudpickle<1.7.0,>=1.2.0 in /usr/local/lib/python3.7/dist-packages (from gym[all]) (1.3.0)\n",
            "Collecting atari-py==0.2.6\n",
            "  Downloading atari_py-0.2.6-cp37-cp37m-manylinux1_x86_64.whl (2.8 MB)\n",
            "\u001b[K     |████████████████████████████████| 2.8 MB 5.0 MB/s \n",
            "\u001b[?25hCollecting mujoco-py<2.0,>=1.50\n",
            "  Downloading mujoco-py-1.50.1.68.tar.gz (120 kB)\n",
            "\u001b[K     |████████████████████████████████| 120 kB 56.2 MB/s \n",
            "\u001b[?25hRequirement already satisfied: scipy in /usr/local/lib/python3.7/dist-packages (from gym[all]) (1.4.1)\n",
            "Requirement already satisfied: opencv-python>=3. in /usr/local/lib/python3.7/dist-packages (from gym[all]) (4.1.2.30)\n",
            "Requirement already satisfied: imageio in /usr/local/lib/python3.7/dist-packages (from gym[all]) (2.19.0)\n",
            "Requirement already satisfied: box2d-py~=2.3.5 in /usr/local/lib/python3.7/dist-packages (from gym[all]) (2.3.5)\n",
            "Requirement already satisfied: pyglet>=1.4.0 in /usr/local/lib/python3.7/dist-packages (from gym[all]) (1.5.0)\n",
            "Requirement already satisfied: six in /usr/local/lib/python3.7/dist-packages (from atari-py==0.2.6->gym[all]) (1.16.0)\n",
            "Requirement already satisfied: glfw>=1.4.0 in /usr/local/lib/python3.7/dist-packages (from mujoco-py<2.0,>=1.50->gym[all]) (1.12.0)\n",
            "Requirement already satisfied: Cython>=0.27.2 in /usr/local/lib/python3.7/dist-packages (from mujoco-py<2.0,>=1.50->gym[all]) (0.29.28)\n",
            "Requirement already satisfied: cffi>=1.10 in /usr/local/lib/python3.7/dist-packages (from mujoco-py<2.0,>=1.50->gym[all]) (1.15.0)\n",
            "Collecting lockfile>=0.12.2\n",
            "  Downloading lockfile-0.12.2-py2.py3-none-any.whl (13 kB)\n",
            "Requirement already satisfied: pycparser in /usr/local/lib/python3.7/dist-packages (from cffi>=1.10->mujoco-py<2.0,>=1.50->gym[all]) (2.21)\n",
            "Requirement already satisfied: pillow>=8.3.2 in /usr/local/lib/python3.7/dist-packages (from imageio->gym[all]) (9.1.0)\n",
            "Requirement already satisfied: future in /usr/local/lib/python3.7/dist-packages (from pyglet>=1.4.0->gym[all]) (0.16.0)\n",
            "\u001b[33mWARNING: The candidate selected for download or install is a yanked version: 'atari-py' candidate (version 0.2.6 at https://files.pythonhosted.org/packages/8f/ba/1d22e9d2f332f07aaa57041f5dd569c2cb40a92bd6374a0b743ec3dfae97/atari_py-0.2.6-cp37-cp37m-manylinux1_x86_64.whl#sha256=d9e2c25d39783867c2f29d1dd9d3a659fc56036456d07dc9efe8bd7bb31a07d7 (from https://pypi.org/simple/atari-py/))\n",
            "Reason for being yanked: re-release with new wheels\u001b[0m\n",
            "Building wheels for collected packages: mujoco-py\n",
            "  Building wheel for mujoco-py (setup.py) ... \u001b[?25lerror\n",
            "\u001b[31m  ERROR: Failed building wheel for mujoco-py\u001b[0m\n",
            "\u001b[?25h  Running setup.py clean for mujoco-py\n",
            "Failed to build mujoco-py\n",
            "Installing collected packages: lockfile, mujoco-py, atari-py\n",
            "    Running setup.py install for mujoco-py ... \u001b[?25l\u001b[?25herror\n",
            "\u001b[31mERROR: Command errored out with exit status 1: /usr/bin/python3 -u -c 'import io, os, sys, setuptools, tokenize; sys.argv[0] = '\"'\"'/tmp/pip-install-2_jzjy6h/mujoco-py_7f8d699b79d74e97bebf123a0b1ab0eb/setup.py'\"'\"'; __file__='\"'\"'/tmp/pip-install-2_jzjy6h/mujoco-py_7f8d699b79d74e97bebf123a0b1ab0eb/setup.py'\"'\"';f = getattr(tokenize, '\"'\"'open'\"'\"', open)(__file__) if os.path.exists(__file__) else io.StringIO('\"'\"'from setuptools import setup; setup()'\"'\"');code = f.read().replace('\"'\"'\\r\\n'\"'\"', '\"'\"'\\n'\"'\"');f.close();exec(compile(code, __file__, '\"'\"'exec'\"'\"'))' install --record /tmp/pip-record-dsfcm9sf/install-record.txt --single-version-externally-managed --compile --install-headers /usr/local/include/python3.7/mujoco-py Check the logs for full command output.\u001b[0m\n",
            "Requirement already satisfied: gym[Box_2D] in /usr/local/lib/python3.7/dist-packages (0.19.0)\n",
            "\u001b[33mWARNING: gym 0.19.0 does not provide the extra 'box_2d'\u001b[0m\n",
            "Requirement already satisfied: cloudpickle<1.7.0,>=1.2.0 in /usr/local/lib/python3.7/dist-packages (from gym[Box_2D]) (1.3.0)\n",
            "Requirement already satisfied: numpy>=1.18.0 in /usr/local/lib/python3.7/dist-packages (from gym[Box_2D]) (1.21.6)\n",
            "Requirement already satisfied: gym in /usr/local/lib/python3.7/dist-packages (0.19.0)\n",
            "Requirement already satisfied: cloudpickle<1.7.0,>=1.2.0 in /usr/local/lib/python3.7/dist-packages (from gym) (1.3.0)\n",
            "Requirement already satisfied: numpy>=1.18.0 in /usr/local/lib/python3.7/dist-packages (from gym) (1.21.6)\n",
            "Collecting pyvirtualdisplay\n",
            "  Downloading PyVirtualDisplay-3.0-py3-none-any.whl (15 kB)\n",
            "Installing collected packages: pyvirtualdisplay\n",
            "Successfully installed pyvirtualdisplay-3.0\n",
            "Collecting piglet\n",
            "  Downloading piglet-1.0.0-py2.py3-none-any.whl (2.2 kB)\n",
            "Collecting piglet-templates\n",
            "  Downloading piglet_templates-1.2.0-py3-none-any.whl (67 kB)\n",
            "\u001b[K     |████████████████████████████████| 67 kB 2.7 MB/s \n",
            "\u001b[?25hRequirement already satisfied: markupsafe in /usr/local/lib/python3.7/dist-packages (from piglet-templates->piglet) (2.0.1)\n",
            "Requirement already satisfied: astunparse in /usr/local/lib/python3.7/dist-packages (from piglet-templates->piglet) (1.6.3)\n",
            "Requirement already satisfied: pyparsing in /usr/local/lib/python3.7/dist-packages (from piglet-templates->piglet) (3.0.8)\n",
            "Requirement already satisfied: attrs in /usr/local/lib/python3.7/dist-packages (from piglet-templates->piglet) (21.4.0)\n",
            "Requirement already satisfied: six<2.0,>=1.6.1 in /usr/local/lib/python3.7/dist-packages (from astunparse->piglet-templates->piglet) (1.16.0)\n",
            "Requirement already satisfied: wheel<1.0,>=0.23.0 in /usr/local/lib/python3.7/dist-packages (from astunparse->piglet-templates->piglet) (0.37.1)\n",
            "Installing collected packages: piglet-templates, piglet\n",
            "Successfully installed piglet-1.0.0 piglet-templates-1.2.0\n",
            "Requirement already satisfied: pyglet in /usr/local/lib/python3.7/dist-packages (1.5.0)\n",
            "Requirement already satisfied: future in /usr/local/lib/python3.7/dist-packages (from pyglet) (0.16.0)\n",
            "Collecting gym[box2d]==0.17.*\n",
            "  Downloading gym-0.17.3.tar.gz (1.6 MB)\n",
            "\u001b[K     |████████████████████████████████| 1.6 MB 5.1 MB/s \n",
            "\u001b[?25hCollecting pyvirtualdisplay==0.2.*\n",
            "  Downloading PyVirtualDisplay-0.2.5-py2.py3-none-any.whl (13 kB)\n",
            "Requirement already satisfied: PyOpenGL==3.1.* in /usr/local/lib/python3.7/dist-packages (3.1.6)\n",
            "Collecting PyOpenGL-accelerate==3.1.*\n",
            "  Downloading PyOpenGL-accelerate-3.1.5.tar.gz (538 kB)\n",
            "\u001b[K     |████████████████████████████████| 538 kB 50.6 MB/s \n",
            "\u001b[?25hCollecting EasyProcess\n",
            "  Downloading EasyProcess-1.1-py3-none-any.whl (8.7 kB)\n",
            "Requirement already satisfied: scipy in /usr/local/lib/python3.7/dist-packages (from gym[box2d]==0.17.*) (1.4.1)\n",
            "Requirement already satisfied: numpy>=1.10.4 in /usr/local/lib/python3.7/dist-packages (from gym[box2d]==0.17.*) (1.21.6)\n",
            "Requirement already satisfied: pyglet<=1.5.0,>=1.4.0 in /usr/local/lib/python3.7/dist-packages (from gym[box2d]==0.17.*) (1.5.0)\n",
            "Requirement already satisfied: cloudpickle<1.7.0,>=1.2.0 in /usr/local/lib/python3.7/dist-packages (from gym[box2d]==0.17.*) (1.3.0)\n",
            "Requirement already satisfied: box2d-py~=2.3.5 in /usr/local/lib/python3.7/dist-packages (from gym[box2d]==0.17.*) (2.3.5)\n",
            "Requirement already satisfied: future in /usr/local/lib/python3.7/dist-packages (from pyglet<=1.5.0,>=1.4.0->gym[box2d]==0.17.*) (0.16.0)\n",
            "Building wheels for collected packages: PyOpenGL-accelerate, gym\n",
            "  Building wheel for PyOpenGL-accelerate (setup.py) ... \u001b[?25l\u001b[?25hdone\n",
            "  Created wheel for PyOpenGL-accelerate: filename=PyOpenGL_accelerate-3.1.5-cp37-cp37m-linux_x86_64.whl size=1599480 sha256=0179adcc1b8e547b40419c7be85e1d3297f0740938e6809fb21f8d2cec725526\n",
            "  Stored in directory: /root/.cache/pip/wheels/1c/f5/6f/169afb3f2d476c5e807f8515b3c9bc9b819c3962316aa804eb\n",
            "  Building wheel for gym (setup.py) ... \u001b[?25l\u001b[?25hdone\n",
            "  Created wheel for gym: filename=gym-0.17.3-py3-none-any.whl size=1654653 sha256=46f3041f672f6579a3a35b904ac9c490135c485e60aaa2018b17b281ee930ca5\n",
            "  Stored in directory: /root/.cache/pip/wheels/d1/81/4b/dd9c029691022cb957398d1f015e66b75e37637dda61abdf58\n",
            "Successfully built PyOpenGL-accelerate gym\n",
            "Installing collected packages: gym, EasyProcess, pyvirtualdisplay, PyOpenGL-accelerate\n",
            "  Attempting uninstall: gym\n",
            "    Found existing installation: gym 0.19.0\n",
            "    Uninstalling gym-0.19.0:\n",
            "      Successfully uninstalled gym-0.19.0\n",
            "  Attempting uninstall: pyvirtualdisplay\n",
            "    Found existing installation: PyVirtualDisplay 3.0\n",
            "    Uninstalling PyVirtualDisplay-3.0:\n",
            "      Successfully uninstalled PyVirtualDisplay-3.0\n",
            "\u001b[31mERROR: pip's dependency resolver does not currently take into account all the packages that are installed. This behaviour is the source of the following dependency conflicts.\n",
            "ma-gym 0.0.8 requires gym==0.19.0, but you have gym 0.17.3 which is incompatible.\u001b[0m\n",
            "Successfully installed EasyProcess-1.1 PyOpenGL-accelerate-3.1.5 gym-0.17.3 pyvirtualdisplay-0.2.5\n"
          ]
        }
      ]
    },
    {
      "cell_type": "code",
      "execution_count": 6,
      "metadata": {
        "id": "inOwIYZUBVjN"
      },
      "outputs": [],
      "source": [
        "import numpy as np\n",
        "import gym\n",
        "from gym import spaces\n",
        "import copy\n",
        "from copy import copy\n",
        "import matplotlib.pyplot as plt\n",
        "from google.colab import widgets\n",
        "from collections import deque\n",
        "import torch\n",
        "import time\n",
        "import random\n",
        "import pyglet\n",
        "import base64\n",
        "import pyvirtualdisplay\n",
        "from IPython.display import HTML\n",
        "from IPython import display as ipythondisplay\n",
        "import os"
      ]
    },
    {
      "cell_type": "code",
      "source": [
        "display = pyvirtualdisplay.Display(visible=False, size=(1400, 900))\n",
        "display.start()"
      ],
      "metadata": {
        "colab": {
          "base_uri": "https://localhost:8080/"
        },
        "id": "KzXAT7y5PrTp",
        "outputId": "2678043a-78be-42c0-c02d-1ab703a9a85b"
      },
      "execution_count": 7,
      "outputs": [
        {
          "output_type": "execute_result",
          "data": {
            "text/plain": [
              "<Display cmd_param=['Xvfb', '-br', '-nolisten', 'tcp', '-screen', '0', '1400x900x24', ':1001'] cmd=['Xvfb', '-br', '-nolisten', 'tcp', '-screen', '0', '1400x900x24', ':1001'] oserror=None return_code=None stdout=\"None\" stderr=\"None\" timeout_happened=False>"
            ]
          },
          "metadata": {},
          "execution_count": 7
        }
      ]
    },
    {
      "cell_type": "code",
      "source": [
        "if type(os.environ.get(\"DISPLAY\")) is not str or len(os.environ.get(\"DISPLAY\"))==0:\n",
        "    !bash ../Xvfb start\n",
        "    %env DISPLAY=:1"
      ],
      "metadata": {
        "id": "XuJk-SP2Q4Nu"
      },
      "execution_count": 8,
      "outputs": []
    },
    {
      "cell_type": "code",
      "source": [
        "class MAGridWorld(gym.Env):\n",
        "    \n",
        "    metadata = { 'render.modes' : ['human', 'rgb_array'] }\n",
        "        \n",
        "    def __init__(self, size, n_agents):\n",
        "        self.size = size\n",
        "        self._grid_size = (self.size, self.size)\n",
        "        self.world = np.zeros((self._grid_size))\n",
        "        self._timestep = None\n",
        "        self._max_timestep = int(self.size*4)\n",
        "        self.n_agents = n_agents\n",
        "        self.dist = int((self.size-1)/(n_agents-1))\n",
        "        self._step_cost = -0.1\n",
        "        self.observation_space = spaces.Box(low=0, high=self.size, shape=(self.size, self.size))\n",
        "        self.action_space = spaces.Discrete(5)\n",
        "\n",
        "    def reset(self):\n",
        "        self.agent_pos = []\n",
        "        self.goal_pos = []\n",
        "        self._timestep = 0\n",
        "        self.done = [False for i in range(self.n_agents)]\n",
        "        for i in range(self.n_agents):\n",
        "            self.agent_pos.append([self.size-1, i*self.dist])\n",
        "            self.goal_pos.append([0, i*self.dist])\n",
        "        self.goal_pos.reverse()\n",
        "        observation = self.agent_pos\n",
        "        return observation\n",
        "\n",
        "\n",
        "    def _compute_distance(self, x, y):\n",
        "        dist = np.abs(x[0]-y[0]) + np.abs(x[1]-y[1])\n",
        "        return dist\n",
        "\n",
        "\n",
        "    def _is_inside_grid(self, pos):\n",
        "        return (0 <= pos[0] < self._grid_size[0]) and (0 <= pos[1] < self._grid_size[1])\n",
        "\n",
        "\n",
        "    def _is_collision(self, new_pos, agent):\n",
        "        for i in range(self.n_agents):\n",
        "            if i == agent:\n",
        "                continue\n",
        "            elif new_pos == self.agent_pos[i]:\n",
        "                return True\n",
        "            elif new_pos == self.goal_pos[i]:\n",
        "                return True\n",
        "\n",
        "    def step(self, actions):\n",
        "        self._timestep += 1\n",
        "        old_pos = self.agent_pos.copy()\n",
        "        rewards = [0 for _ in range(self.n_agents)]\n",
        "\n",
        "        for i in range(self.n_agents):\n",
        "            self.update_agent_pos(i, actions[i])\n",
        "            old_dist = self._compute_distance(old_pos[i], self.goal_pos[i])\n",
        "            new_dist = self._compute_distance(self.agent_pos[i], self.goal_pos[i])\n",
        "            \n",
        "            if new_dist < old_dist:\n",
        "                rewards[i] = -0.1\n",
        "            elif new_dist > old_dist:\n",
        "                rewards[i] = -0.5\n",
        "\n",
        "            elif (new_dist == old_dist) and not self.done[i]:\n",
        "                rewards[i] = -0.5\n",
        "            \n",
        "            if (self.agent_pos[i] == self.goal_pos[i]):\n",
        "                self.done[i] = True\n",
        "                rewards[i] = 1\n",
        "            else:\n",
        "                self.done[i] = False\n",
        "\n",
        "        if self._timestep >= self._max_timestep:\n",
        "            self.done = [True for i in range(self.n_agents)]\n",
        "            \n",
        "        observation = self.agent_pos\n",
        "        info = {}\n",
        "        return observation, rewards, self.done, info #all(done)\n",
        "\n",
        "\n",
        "\n",
        "    def update_agent_pos(self, agent, action):\n",
        "        next_pos = copy(self.agent_pos[agent])\n",
        "        if action == 0: # Down\n",
        "            next_pos[0] += 1\n",
        "        elif action == 1: # Up\n",
        "            next_pos[0] -= 1\n",
        "        elif action == 2: # Right\n",
        "            next_pos[1] += 1\n",
        "        elif action == 3: # Left\n",
        "            next_pos[1] -= 1\n",
        "        elif action == 4: # No move\n",
        "            pass\n",
        "        else:\n",
        "            raise Exception('Action is not valid')\n",
        "            \n",
        "        if self._is_inside_grid(next_pos) and not self._is_collision(next_pos, agent):\n",
        "            self.agent_pos[agent] = next_pos\n",
        "        else:\n",
        "            pass\n",
        "        \n",
        "\n",
        "    def render(self):\n",
        "        state = np.copy(self.world)\n",
        "        for i in range(self.n_agents):\n",
        "            state[tuple(self.agent_pos[i])] = 1 - (0.1 * i)\n",
        "            state[tuple(self.goal_pos[i])] = 1 - (0.1 * i)\n",
        "        return plt.imshow(state)"
      ],
      "metadata": {
        "id": "fKpfGsDvBcbF"
      },
      "execution_count": 9,
      "outputs": []
    },
    {
      "cell_type": "code",
      "source": [
        "config = {\n",
        "    'N_AGENTS': 2,\n",
        "    'GRID_SIZE': 4\n",
        "}"
      ],
      "metadata": {
        "id": "kcyKAt9yCaQv"
      },
      "execution_count": 10,
      "outputs": []
    },
    {
      "cell_type": "code",
      "source": [
        "if __name__ == '__main__':\n",
        "    n_agents = config['N_AGENTS']\n",
        "    size = config['GRID_SIZE']\n",
        "    env = MAGridWorld(size=size, n_agents=n_agents)\n",
        "    env.reset()\n",
        "    env.render()\n",
        "    action_n = [1, 1, 1, 0, 1, 3, 4, 1]\n",
        "    state, reward, done, _ = env.step(action_n)\n",
        "    print('state', state)\n",
        "    print('reward', reward)\n",
        "    print('done', done)\n",
        "    env.render()"
      ],
      "metadata": {
        "id": "kPEQ_QFDCcVV",
        "colab": {
          "base_uri": "https://localhost:8080/",
          "height": 321
        },
        "outputId": "dbfa487d-0184-4db7-9fd9-c214ebf65797"
      },
      "execution_count": 11,
      "outputs": [
        {
          "output_type": "stream",
          "name": "stdout",
          "text": [
            "state [[2, 0], [2, 3]]\n",
            "reward [-0.1, -0.1]\n",
            "done [False, False]\n"
          ]
        },
        {
          "output_type": "display_data",
          "data": {
            "text/plain": [
              "<Figure size 432x288 with 1 Axes>"
            ],
            "image/png": "[encoded data removed]"
          },
          "metadata": {
            "needs_background": "light"
          }
        }
      ]
    },
    {
      "cell_type": "code",
      "source": [
        "action_n = [1, 1, 1, 0, 1, 3, 4, 1]\n",
        "state, reward, done, _ = env.step(action_n)\n",
        "print('state', state)\n",
        "print('reward', reward)\n",
        "print('done', done)\n",
        "env.render()"
      ],
      "metadata": {
        "id": "CMxgI5s4Cfqv",
        "colab": {
          "base_uri": "https://localhost:8080/",
          "height": 338
        },
        "outputId": "36db6f01-2f19-45dd-b3ad-31b92e83126b"
      },
      "execution_count": 12,
      "outputs": [
        {
          "output_type": "stream",
          "name": "stdout",
          "text": [
            "state [[1, 0], [1, 3]]\n",
            "reward [-0.1, -0.1]\n",
            "done [False, False]\n"
          ]
        },
        {
          "output_type": "execute_result",
          "data": {
            "text/plain": [
              "<matplotlib.image.AxesImage at 0x7f8a552df190>"
            ]
          },
          "metadata": {},
          "execution_count": 12
        },
        {
          "output_type": "display_data",
          "data": {
            "text/plain": [
              "<Figure size 432x288 with 1 Axes>"
            ],
            "image/png": "[encoded data removed]"
          },
          "metadata": {
            "needs_background": "light"
          }
        }
      ]
    },
    {
      "cell_type": "code",
      "source": [
        "list1=[2,2,1,2,4,4,4,4]\n",
        "list2=[0,0,3,3,3,1,1,1]\n",
        "for i in range(len(list1)):\n",
        "  action_n = [list1[i],list2[i]]\n",
        "  state, reward, done, _ = env.step(action_n)\n",
        "print('state', state)\n",
        "print('reward', reward)\n",
        "print('done', done)\n",
        "env.render()"
      ],
      "metadata": {
        "id": "7bY1K1zMfkwM",
        "colab": {
          "base_uri": "https://localhost:8080/",
          "height": 338
        },
        "outputId": "0bc3c84a-4526-461a-d524-43596a3281f2"
      },
      "execution_count": 13,
      "outputs": [
        {
          "output_type": "stream",
          "name": "stdout",
          "text": [
            "state [[0, 3], [0, 0]]\n",
            "reward [1, 1]\n",
            "done [True, True]\n"
          ]
        },
        {
          "output_type": "execute_result",
          "data": {
            "text/plain": [
              "<matplotlib.image.AxesImage at 0x7f8a55251590>"
            ]
          },
          "metadata": {},
          "execution_count": 13
        },
        {
          "output_type": "display_data",
          "data": {
            "text/plain": [
              "<Figure size 432x288 with 1 Axes>"
            ],
            "image/png": "[encoded data removed]"
          },
          "metadata": {
            "needs_background": "light"
          }
        }
      ]
    },
    {
      "cell_type": "code",
      "source": [
        "class RandomAgent:\n",
        "    \n",
        "    def __init__(self, env):\n",
        "        self.env = env\n",
        "        self.observation_space = env.observation_space\n",
        "        self.action_space = env.action_space\n",
        "\n",
        "    def step(self, observation):\n",
        "        return [np.random.choice(self.action_space.n),np.random.choice(self.action_space.n)]"
      ],
      "metadata": {
        "id": "xBlIe8_HC7hU"
      },
      "execution_count": 14,
      "outputs": []
    },
    {
      "cell_type": "code",
      "source": [
        "env = MAGridWorld(n_agents = config['N_AGENTS'],size = config['GRID_SIZE'])\n",
        "agent = RandomAgent(env)\n",
        "\n",
        "obs = env.reset()\n",
        "done = [False] * 2\n",
        "\n",
        "output_grid = widgets.Grid(1, 1)\n",
        "with output_grid.output_to(0, 0):\n",
        "  env.render()\n",
        "\n",
        "\n",
        "while not all(done):\n",
        "  action = agent.step(obs)\n",
        "  obs, reward, done, info = env.step(action)\n",
        "  print(reward)\n",
        "  with output_grid.output_to(0, 0):\n",
        "    output_grid.clear_cell()\n",
        "    env.render()\n",
        "  time.sleep(1)\n",
        "#print('Total reward:', env.reward)"
      ],
      "metadata": {
        "id": "gZh_viTJ-MT0",
        "colab": {
          "base_uri": "https://localhost:8080/",
          "height": 551
        },
        "outputId": "750707a6-16c7-4d48-b576-183dab453b40"
      },
      "execution_count": null,
      "outputs": [
        {
          "output_type": "display_data",
          "data": {
            "text/plain": [
              "<IPython.core.display.HTML object>"
            ],
            "text/html": [
              "<style>\n",
              "       table#id2, #id2 > tbody > tr > th, #id2 > tbody > tr > td {\n",
              "         border: 1px solid lightgray;\n",
              "         border-collapse:collapse;\n",
              "         \n",
              "        }</style>"
            ]
          },
          "metadata": {}
        },
        {
          "output_type": "display_data",
          "data": {
            "text/plain": [
              "<IPython.core.display.HTML object>"
            ],
            "text/html": [
              "<table id=id2><tr><td id=id2-0-0></td></tr></table>"
            ]
          },
          "metadata": {}
        },
        {
          "output_type": "display_data",
          "data": {
            "text/plain": [
              "<IPython.core.display.Javascript object>"
            ],
            "application/javascript": [
              "window[\"e65f134a-ce95-11ec-ac75-0242ac1c0002\"] = google.colab.output.getActiveOutputArea();\n",
              "//# sourceURL=js_8677dd59ab"
            ]
          },
          "metadata": {}
        },
        {
          "output_type": "display_data",
          "data": {
            "text/plain": [
              "<IPython.core.display.Javascript object>"
            ],
            "application/javascript": [
              "window[\"e65fa2f6-ce95-11ec-ac75-0242ac1c0002\"] = document.querySelector(\"#id2-0-0\");\n",
              "//# sourceURL=js_3717a76b7c"
            ]
          },
          "metadata": {}
        },
        {
          "output_type": "display_data",
          "data": {
            "text/plain": [
              "<IPython.core.display.Javascript object>"
            ],
            "application/javascript": [
              "window[\"e6611866-ce95-11ec-ac75-0242ac1c0002\"] = google.colab.output.setActiveOutputArea(window[\"e65fa2f6-ce95-11ec-ac75-0242ac1c0002\"]);\n",
              "//# sourceURL=js_ffce7e14b2"
            ]
          },
          "metadata": {}
        },
        {
          "output_type": "display_data",
          "data": {
            "text/plain": [
              "<IPython.core.display.Javascript object>"
            ],
            "application/javascript": [
              "window[\"e6781e1c-ce95-11ec-ac75-0242ac1c0002\"] = google.colab.output.setActiveOutputArea(window[\"e65f134a-ce95-11ec-ac75-0242ac1c0002\"]);\n",
              "//# sourceURL=js_54da395d4c"
            ]
          },
          "metadata": {}
        },
        {
          "output_type": "stream",
          "name": "stdout",
          "text": [
            "[-0.5, -0.1]\n"
          ]
        },
        {
          "output_type": "display_data",
          "data": {
            "text/plain": [
              "<IPython.core.display.Javascript object>"
            ],
            "application/javascript": [
              "window[\"e67bcd1e-ce95-11ec-ac75-0242ac1c0002\"] = google.colab.output.getActiveOutputArea();\n",
              "//# sourceURL=js_e5e3cc597b"
            ]
          },
          "metadata": {}
        },
        {
          "output_type": "display_data",
          "data": {
            "text/plain": [
              "<IPython.core.display.Javascript object>"
            ],
            "application/javascript": [
              "window[\"e67c3a88-ce95-11ec-ac75-0242ac1c0002\"] = document.querySelector(\"#id2-0-0\");\n",
              "//# sourceURL=js_7224f90c17"
            ]
          },
          "metadata": {}
        },
        {
          "output_type": "display_data",
          "data": {
            "text/plain": [
              "<IPython.core.display.Javascript object>"
            ],
            "application/javascript": [
              "window[\"e67cb04e-ce95-11ec-ac75-0242ac1c0002\"] = google.colab.output.setActiveOutputArea(window[\"e67c3a88-ce95-11ec-ac75-0242ac1c0002\"]);\n",
              "//# sourceURL=js_449f985788"
            ]
          },
          "metadata": {}
        },
        {
          "output_type": "display_data",
          "data": {
            "text/plain": [
              "<IPython.core.display.Javascript object>"
            ],
            "application/javascript": [
              "window[\"e6a4aad6-ce95-11ec-ac75-0242ac1c0002\"] = google.colab.output.setActiveOutputArea(window[\"e67bcd1e-ce95-11ec-ac75-0242ac1c0002\"]);\n",
              "//# sourceURL=js_0da396c31f"
            ]
          },
          "metadata": {}
        },
        {
          "output_type": "stream",
          "name": "stdout",
          "text": [
            "[-0.1, -0.5]\n"
          ]
        },
        {
          "output_type": "display_data",
          "data": {
            "text/plain": [
              "<IPython.core.display.Javascript object>"
            ],
            "application/javascript": [
              "window[\"e7405e68-ce95-11ec-ac75-0242ac1c0002\"] = google.colab.output.getActiveOutputArea();\n",
              "//# sourceURL=js_f67639f5ae"
            ]
          },
          "metadata": {}
        },
        {
          "output_type": "display_data",
          "data": {
            "text/plain": [
              "<IPython.core.display.Javascript object>"
            ],
            "application/javascript": [
              "window[\"e740bb38-ce95-11ec-ac75-0242ac1c0002\"] = document.querySelector(\"#id2-0-0\");\n",
              "//# sourceURL=js_37e6e33b1c"
            ]
          },
          "metadata": {}
        },
        {
          "output_type": "display_data",
          "data": {
            "text/plain": [
              "<IPython.core.display.Javascript object>"
            ],
            "application/javascript": [
              "window[\"e7415cdc-ce95-11ec-ac75-0242ac1c0002\"] = google.colab.output.setActiveOutputArea(window[\"e740bb38-ce95-11ec-ac75-0242ac1c0002\"]);\n",
              "//# sourceURL=js_0bcda0d165"
            ]
          },
          "metadata": {}
        },
        {
          "output_type": "display_data",
          "data": {
            "text/plain": [
              "<IPython.core.display.Javascript object>"
            ],
            "application/javascript": [
              "window[\"e75ab894-ce95-11ec-ac75-0242ac1c0002\"] = google.colab.output.setActiveOutputArea(window[\"e7405e68-ce95-11ec-ac75-0242ac1c0002\"]);\n",
              "//# sourceURL=js_b230256950"
            ]
          },
          "metadata": {}
        },
        {
          "output_type": "stream",
          "name": "stdout",
          "text": [
            "[-0.5, -0.5]\n"
          ]
        },
        {
          "output_type": "display_data",
          "data": {
            "text/plain": [
              "<IPython.core.display.Javascript object>"
            ],
            "application/javascript": [
              "window[\"e7f981ae-ce95-11ec-ac75-0242ac1c0002\"] = google.colab.output.getActiveOutputArea();\n",
              "//# sourceURL=js_0e3f0d4a65"
            ]
          },
          "metadata": {}
        },
        {
          "output_type": "display_data",
          "data": {
            "text/plain": [
              "<IPython.core.display.Javascript object>"
            ],
            "application/javascript": [
              "window[\"e7fa9d28-ce95-11ec-ac75-0242ac1c0002\"] = document.querySelector(\"#id2-0-0\");\n",
              "//# sourceURL=js_a4cab6f495"
            ]
          },
          "metadata": {}
        },
        {
          "output_type": "display_data",
          "data": {
            "text/plain": [
              "<IPython.core.display.Javascript object>"
            ],
            "application/javascript": [
              "window[\"e7fbf740-ce95-11ec-ac75-0242ac1c0002\"] = google.colab.output.setActiveOutputArea(window[\"e7fa9d28-ce95-11ec-ac75-0242ac1c0002\"]);\n",
              "//# sourceURL=js_c0084436e5"
            ]
          },
          "metadata": {}
        },
        {
          "output_type": "display_data",
          "data": {
            "text/plain": [
              "<IPython.core.display.Javascript object>"
            ],
            "application/javascript": [
              "window[\"e81c635e-ce95-11ec-ac75-0242ac1c0002\"] = google.colab.output.setActiveOutputArea(window[\"e7f981ae-ce95-11ec-ac75-0242ac1c0002\"]);\n",
              "//# sourceURL=js_ba5eebbb7f"
            ]
          },
          "metadata": {}
        },
        {
          "output_type": "stream",
          "name": "stdout",
          "text": [
            "[-0.1, -0.5]\n"
          ]
        },
        {
          "output_type": "display_data",
          "data": {
            "text/plain": [
              "<IPython.core.display.Javascript object>"
            ],
            "application/javascript": [
              "window[\"e8b79018-ce95-11ec-ac75-0242ac1c0002\"] = google.colab.output.getActiveOutputArea();\n",
              "//# sourceURL=js_855cbde2f4"
            ]
          },
          "metadata": {}
        },
        {
          "output_type": "display_data",
          "data": {
            "text/plain": [
              "<IPython.core.display.Javascript object>"
            ],
            "application/javascript": [
              "window[\"e8b813bc-ce95-11ec-ac75-0242ac1c0002\"] = document.querySelector(\"#id2-0-0\");\n",
              "//# sourceURL=js_f8976288c5"
            ]
          },
          "metadata": {}
        },
        {
          "output_type": "display_data",
          "data": {
            "text/plain": [
              "<IPython.core.display.Javascript object>"
            ],
            "application/javascript": [
              "window[\"e8b8bd3a-ce95-11ec-ac75-0242ac1c0002\"] = google.colab.output.setActiveOutputArea(window[\"e8b813bc-ce95-11ec-ac75-0242ac1c0002\"]);\n",
              "//# sourceURL=js_38a0d8cc73"
            ]
          },
          "metadata": {}
        },
        {
          "output_type": "display_data",
          "data": {
            "text/plain": [
              "<IPython.core.display.Javascript object>"
            ],
            "application/javascript": [
              "window[\"e8e055ca-ce95-11ec-ac75-0242ac1c0002\"] = google.colab.output.setActiveOutputArea(window[\"e8b79018-ce95-11ec-ac75-0242ac1c0002\"]);\n",
              "//# sourceURL=js_810df99ef5"
            ]
          },
          "metadata": {}
        },
        {
          "output_type": "stream",
          "name": "stdout",
          "text": [
            "[-0.1, -0.5]\n"
          ]
        },
        {
          "output_type": "display_data",
          "data": {
            "text/plain": [
              "<IPython.core.display.Javascript object>"
            ],
            "application/javascript": [
              "window[\"e97bc546-ce95-11ec-ac75-0242ac1c0002\"] = google.colab.output.getActiveOutputArea();\n",
              "//# sourceURL=js_71137c8c4e"
            ]
          },
          "metadata": {}
        },
        {
          "output_type": "display_data",
          "data": {
            "text/plain": [
              "<IPython.core.display.Javascript object>"
            ],
            "application/javascript": [
              "window[\"e97c27fc-ce95-11ec-ac75-0242ac1c0002\"] = document.querySelector(\"#id2-0-0\");\n",
              "//# sourceURL=js_0d09f09827"
            ]
          },
          "metadata": {}
        },
        {
          "output_type": "display_data",
          "data": {
            "text/plain": [
              "<IPython.core.display.Javascript object>"
            ],
            "application/javascript": [
              "window[\"e97d1702-ce95-11ec-ac75-0242ac1c0002\"] = google.colab.output.setActiveOutputArea(window[\"e97c27fc-ce95-11ec-ac75-0242ac1c0002\"]);\n",
              "//# sourceURL=js_2d136a6291"
            ]
          },
          "metadata": {}
        },
        {
          "output_type": "display_data",
          "data": {
            "text/plain": [
              "<IPython.core.display.Javascript object>"
            ],
            "application/javascript": [
              "window[\"e9a67368-ce95-11ec-ac75-0242ac1c0002\"] = google.colab.output.setActiveOutputArea(window[\"e97bc546-ce95-11ec-ac75-0242ac1c0002\"]);\n",
              "//# sourceURL=js_4d9855ec14"
            ]
          },
          "metadata": {}
        },
        {
          "output_type": "stream",
          "name": "stdout",
          "text": [
            "[-0.1, -0.5]\n"
          ]
        },
        {
          "output_type": "display_data",
          "data": {
            "text/plain": [
              "<IPython.core.display.Javascript object>"
            ],
            "application/javascript": [
              "window[\"ea4470c2-ce95-11ec-ac75-0242ac1c0002\"] = google.colab.output.getActiveOutputArea();\n",
              "//# sourceURL=js_43d5fdea70"
            ]
          },
          "metadata": {}
        },
        {
          "output_type": "display_data",
          "data": {
            "text/plain": [
              "<IPython.core.display.Javascript object>"
            ],
            "application/javascript": [
              "window[\"ea453994-ce95-11ec-ac75-0242ac1c0002\"] = document.querySelector(\"#id2-0-0\");\n",
              "//# sourceURL=js_bb156663e7"
            ]
          },
          "metadata": {}
        },
        {
          "output_type": "display_data",
          "data": {
            "text/plain": [
              "<IPython.core.display.Javascript object>"
            ],
            "application/javascript": [
              "window[\"ea4712d2-ce95-11ec-ac75-0242ac1c0002\"] = google.colab.output.setActiveOutputArea(window[\"ea453994-ce95-11ec-ac75-0242ac1c0002\"]);\n",
              "//# sourceURL=js_b14d86cc1f"
            ]
          },
          "metadata": {}
        },
        {
          "output_type": "display_data",
          "data": {
            "text/plain": [
              "<IPython.core.display.Javascript object>"
            ],
            "application/javascript": [
              "window[\"ea801ce4-ce95-11ec-ac75-0242ac1c0002\"] = google.colab.output.setActiveOutputArea(window[\"ea4470c2-ce95-11ec-ac75-0242ac1c0002\"]);\n",
              "//# sourceURL=js_ea81688267"
            ]
          },
          "metadata": {}
        },
        {
          "output_type": "stream",
          "name": "stdout",
          "text": [
            "[-0.1, -0.1]\n"
          ]
        },
        {
          "output_type": "display_data",
          "data": {
            "text/plain": [
              "<IPython.core.display.Javascript object>"
            ],
            "application/javascript": [
              "window[\"eb1f6902-ce95-11ec-ac75-0242ac1c0002\"] = google.colab.output.getActiveOutputArea();\n",
              "//# sourceURL=js_a4a8ac712f"
            ]
          },
          "metadata": {}
        },
        {
          "output_type": "display_data",
          "data": {
            "text/plain": [
              "<IPython.core.display.Javascript object>"
            ],
            "application/javascript": [
              "window[\"eb212c60-ce95-11ec-ac75-0242ac1c0002\"] = document.querySelector(\"#id2-0-0\");\n",
              "//# sourceURL=js_2ee7e5627c"
            ]
          },
          "metadata": {}
        },
        {
          "output_type": "display_data",
          "data": {
            "text/plain": [
              "<IPython.core.display.Javascript object>"
            ],
            "application/javascript": [
              "window[\"eb224ea6-ce95-11ec-ac75-0242ac1c0002\"] = google.colab.output.setActiveOutputArea(window[\"eb212c60-ce95-11ec-ac75-0242ac1c0002\"]);\n",
              "//# sourceURL=js_75d51a3751"
            ]
          },
          "metadata": {}
        },
        {
          "output_type": "display_data",
          "data": {
            "text/plain": [
              "<IPython.core.display.Javascript object>"
            ],
            "application/javascript": [
              "window[\"eb612e32-ce95-11ec-ac75-0242ac1c0002\"] = google.colab.output.setActiveOutputArea(window[\"eb1f6902-ce95-11ec-ac75-0242ac1c0002\"]);\n",
              "//# sourceURL=js_9bd5a5c9b2"
            ]
          },
          "metadata": {}
        },
        {
          "output_type": "stream",
          "name": "stdout",
          "text": [
            "[-0.5, -0.5]\n"
          ]
        },
        {
          "output_type": "display_data",
          "data": {
            "text/plain": [
              "<IPython.core.display.Javascript object>"
            ],
            "application/javascript": [
              "window[\"ebff0850-ce95-11ec-ac75-0242ac1c0002\"] = google.colab.output.getActiveOutputArea();\n",
              "//# sourceURL=js_4132a80186"
            ]
          },
          "metadata": {}
        },
        {
          "output_type": "display_data",
          "data": {
            "text/plain": [
              "<IPython.core.display.Javascript object>"
            ],
            "application/javascript": [
              "window[\"ec00122c-ce95-11ec-ac75-0242ac1c0002\"] = document.querySelector(\"#id2-0-0\");\n",
              "//# sourceURL=js_17fadba850"
            ]
          },
          "metadata": {}
        },
        {
          "output_type": "display_data",
          "data": {
            "text/plain": [
              "<IPython.core.display.Javascript object>"
            ],
            "application/javascript": [
              "window[\"ec022256-ce95-11ec-ac75-0242ac1c0002\"] = google.colab.output.setActiveOutputArea(window[\"ec00122c-ce95-11ec-ac75-0242ac1c0002\"]);\n",
              "//# sourceURL=js_f056a0d67f"
            ]
          },
          "metadata": {}
        },
        {
          "output_type": "display_data",
          "data": {
            "text/plain": [
              "<IPython.core.display.Javascript object>"
            ],
            "application/javascript": [
              "window[\"ec3adbaa-ce95-11ec-ac75-0242ac1c0002\"] = google.colab.output.setActiveOutputArea(window[\"ebff0850-ce95-11ec-ac75-0242ac1c0002\"]);\n",
              "//# sourceURL=js_9de974c1e2"
            ]
          },
          "metadata": {}
        },
        {
          "output_type": "stream",
          "name": "stdout",
          "text": [
            "[-0.5, -0.5]\n"
          ]
        },
        {
          "output_type": "display_data",
          "data": {
            "text/plain": [
              "<IPython.core.display.Javascript object>"
            ],
            "application/javascript": [
              "window[\"ecd9d26e-ce95-11ec-ac75-0242ac1c0002\"] = google.colab.output.getActiveOutputArea();\n",
              "//# sourceURL=js_93dbf86f35"
            ]
          },
          "metadata": {}
        },
        {
          "output_type": "display_data",
          "data": {
            "text/plain": [
              "<IPython.core.display.Javascript object>"
            ],
            "application/javascript": [
              "window[\"ecdae37a-ce95-11ec-ac75-0242ac1c0002\"] = document.querySelector(\"#id2-0-0\");\n",
              "//# sourceURL=js_1fb3f38fb2"
            ]
          },
          "metadata": {}
        },
        {
          "output_type": "display_data",
          "data": {
            "text/plain": [
              "<IPython.core.display.Javascript object>"
            ],
            "application/javascript": [
              "window[\"ecdbfba2-ce95-11ec-ac75-0242ac1c0002\"] = google.colab.output.setActiveOutputArea(window[\"ecdae37a-ce95-11ec-ac75-0242ac1c0002\"]);\n",
              "//# sourceURL=js_1791fcd5a3"
            ]
          },
          "metadata": {}
        },
        {
          "output_type": "display_data",
          "data": {
            "text/plain": [
              "<IPython.core.display.Javascript object>"
            ],
            "application/javascript": [
              "window[\"ed0df30a-ce95-11ec-ac75-0242ac1c0002\"] = google.colab.output.setActiveOutputArea(window[\"ecd9d26e-ce95-11ec-ac75-0242ac1c0002\"]);\n",
              "//# sourceURL=js_70188e1e15"
            ]
          },
          "metadata": {}
        },
        {
          "output_type": "stream",
          "name": "stdout",
          "text": [
            "[-0.5, -0.1]\n"
          ]
        },
        {
          "output_type": "display_data",
          "data": {
            "text/plain": [
              "<IPython.core.display.Javascript object>"
            ],
            "application/javascript": [
              "window[\"edaf4822-ce95-11ec-ac75-0242ac1c0002\"] = google.colab.output.getActiveOutputArea();\n",
              "//# sourceURL=js_67e368e35c"
            ]
          },
          "metadata": {}
        },
        {
          "output_type": "display_data",
          "data": {
            "text/plain": [
              "<IPython.core.display.Javascript object>"
            ],
            "application/javascript": [
              "window[\"edb08dfe-ce95-11ec-ac75-0242ac1c0002\"] = document.querySelector(\"#id2-0-0\");\n",
              "//# sourceURL=js_78dae274d4"
            ]
          },
          "metadata": {}
        },
        {
          "output_type": "display_data",
          "data": {
            "text/plain": [
              "<IPython.core.display.Javascript object>"
            ],
            "application/javascript": [
              "window[\"edb23cee-ce95-11ec-ac75-0242ac1c0002\"] = google.colab.output.setActiveOutputArea(window[\"edb08dfe-ce95-11ec-ac75-0242ac1c0002\"]);\n",
              "//# sourceURL=js_21cee87e69"
            ]
          },
          "metadata": {}
        },
        {
          "output_type": "display_data",
          "data": {
            "text/plain": [
              "<IPython.core.display.Javascript object>"
            ],
            "application/javascript": [
              "window[\"eded269c-ce95-11ec-ac75-0242ac1c0002\"] = google.colab.output.setActiveOutputArea(window[\"edaf4822-ce95-11ec-ac75-0242ac1c0002\"]);\n",
              "//# sourceURL=js_66b87fe6ea"
            ]
          },
          "metadata": {}
        },
        {
          "output_type": "stream",
          "name": "stdout",
          "text": [
            "[-0.5, -0.5]\n"
          ]
        },
        {
          "output_type": "display_data",
          "data": {
            "text/plain": [
              "<IPython.core.display.Javascript object>"
            ],
            "application/javascript": [
              "window[\"ee8dc48a-ce95-11ec-ac75-0242ac1c0002\"] = google.colab.output.getActiveOutputArea();\n",
              "//# sourceURL=js_d49f7fb178"
            ]
          },
          "metadata": {}
        },
        {
          "output_type": "display_data",
          "data": {
            "text/plain": [
              "<IPython.core.display.Javascript object>"
            ],
            "application/javascript": [
              "window[\"ee8f7b04-ce95-11ec-ac75-0242ac1c0002\"] = document.querySelector(\"#id2-0-0\");\n",
              "//# sourceURL=js_2d15373394"
            ]
          },
          "metadata": {}
        },
        {
          "output_type": "display_data",
          "data": {
            "text/plain": [
              "<IPython.core.display.Javascript object>"
            ],
            "application/javascript": [
              "window[\"ee90fad8-ce95-11ec-ac75-0242ac1c0002\"] = google.colab.output.setActiveOutputArea(window[\"ee8f7b04-ce95-11ec-ac75-0242ac1c0002\"]);\n",
              "//# sourceURL=js_aef2a174b1"
            ]
          },
          "metadata": {}
        },
        {
          "output_type": "display_data",
          "data": {
            "text/plain": [
              "<IPython.core.display.Javascript object>"
            ],
            "application/javascript": [
              "window[\"eece237c-ce95-11ec-ac75-0242ac1c0002\"] = google.colab.output.setActiveOutputArea(window[\"ee8dc48a-ce95-11ec-ac75-0242ac1c0002\"]);\n",
              "//# sourceURL=js_00e0d97eea"
            ]
          },
          "metadata": {}
        },
        {
          "output_type": "stream",
          "name": "stdout",
          "text": [
            "[-0.1, -0.5]\n"
          ]
        },
        {
          "output_type": "display_data",
          "data": {
            "text/plain": [
              "<IPython.core.display.Javascript object>"
            ],
            "application/javascript": [
              "window[\"ef6acb0a-ce95-11ec-ac75-0242ac1c0002\"] = google.colab.output.getActiveOutputArea();\n",
              "//# sourceURL=js_ca0a4352f3"
            ]
          },
          "metadata": {}
        },
        {
          "output_type": "display_data",
          "data": {
            "text/plain": [
              "<IPython.core.display.Javascript object>"
            ],
            "application/javascript": [
              "window[\"ef6b4a94-ce95-11ec-ac75-0242ac1c0002\"] = document.querySelector(\"#id2-0-0\");\n",
              "//# sourceURL=js_635bda5ec9"
            ]
          },
          "metadata": {}
        },
        {
          "output_type": "display_data",
          "data": {
            "text/plain": [
              "<IPython.core.display.Javascript object>"
            ],
            "application/javascript": [
              "window[\"ef6bba2e-ce95-11ec-ac75-0242ac1c0002\"] = google.colab.output.setActiveOutputArea(window[\"ef6b4a94-ce95-11ec-ac75-0242ac1c0002\"]);\n",
              "//# sourceURL=js_a194c26f71"
            ]
          },
          "metadata": {}
        },
        {
          "output_type": "display_data",
          "data": {
            "text/plain": [
              "<IPython.core.display.Javascript object>"
            ],
            "application/javascript": [
              "window[\"efa4fe42-ce95-11ec-ac75-0242ac1c0002\"] = google.colab.output.setActiveOutputArea(window[\"ef6acb0a-ce95-11ec-ac75-0242ac1c0002\"]);\n",
              "//# sourceURL=js_383af7bfe0"
            ]
          },
          "metadata": {}
        },
        {
          "output_type": "stream",
          "name": "stdout",
          "text": [
            "[-0.5, -0.5]\n"
          ]
        },
        {
          "output_type": "display_data",
          "data": {
            "text/plain": [
              "<IPython.core.display.Javascript object>"
            ],
            "application/javascript": [
              "window[\"f041673c-ce95-11ec-ac75-0242ac1c0002\"] = google.colab.output.getActiveOutputArea();\n",
              "//# sourceURL=js_7844e0bf22"
            ]
          },
          "metadata": {}
        },
        {
          "output_type": "display_data",
          "data": {
            "text/plain": [
              "<IPython.core.display.Javascript object>"
            ],
            "application/javascript": [
              "window[\"f0423298-ce95-11ec-ac75-0242ac1c0002\"] = document.querySelector(\"#id2-0-0\");\n",
              "//# sourceURL=js_b113d37d5f"
            ]
          },
          "metadata": {}
        },
        {
          "output_type": "display_data",
          "data": {
            "text/plain": [
              "<IPython.core.display.Javascript object>"
            ],
            "application/javascript": [
              "window[\"f0428a2c-ce95-11ec-ac75-0242ac1c0002\"] = google.colab.output.setActiveOutputArea(window[\"f0423298-ce95-11ec-ac75-0242ac1c0002\"]);\n",
              "//# sourceURL=js_bf9e520ebc"
            ]
          },
          "metadata": {}
        },
        {
          "output_type": "display_data",
          "data": {
            "text/plain": [
              "<IPython.core.display.Javascript object>"
            ],
            "application/javascript": [
              "window[\"f05c9d86-ce95-11ec-ac75-0242ac1c0002\"] = google.colab.output.setActiveOutputArea(window[\"f041673c-ce95-11ec-ac75-0242ac1c0002\"]);\n",
              "//# sourceURL=js_7822e6dac0"
            ]
          },
          "metadata": {}
        },
        {
          "output_type": "stream",
          "name": "stdout",
          "text": [
            "[-0.5, -0.5]\n"
          ]
        },
        {
          "output_type": "display_data",
          "data": {
            "text/plain": [
              "<IPython.core.display.Javascript object>"
            ],
            "application/javascript": [
              "window[\"f0f7e426-ce95-11ec-ac75-0242ac1c0002\"] = google.colab.output.getActiveOutputArea();\n",
              "//# sourceURL=js_960da96acb"
            ]
          },
          "metadata": {}
        },
        {
          "output_type": "display_data",
          "data": {
            "text/plain": [
              "<IPython.core.display.Javascript object>"
            ],
            "application/javascript": [
              "window[\"f0f8861a-ce95-11ec-ac75-0242ac1c0002\"] = document.querySelector(\"#id2-0-0\");\n",
              "//# sourceURL=js_3f0aac21f1"
            ]
          },
          "metadata": {}
        },
        {
          "output_type": "display_data",
          "data": {
            "text/plain": [
              "<IPython.core.display.Javascript object>"
            ],
            "application/javascript": [
              "window[\"f0f90fe0-ce95-11ec-ac75-0242ac1c0002\"] = google.colab.output.setActiveOutputArea(window[\"f0f8861a-ce95-11ec-ac75-0242ac1c0002\"]);\n",
              "//# sourceURL=js_e2179913d9"
            ]
          },
          "metadata": {}
        },
        {
          "output_type": "display_data",
          "data": {
            "text/plain": [
              "<IPython.core.display.Javascript object>"
            ],
            "application/javascript": [
              "window[\"f11487d4-ce95-11ec-ac75-0242ac1c0002\"] = google.colab.output.setActiveOutputArea(window[\"f0f7e426-ce95-11ec-ac75-0242ac1c0002\"]);\n",
              "//# sourceURL=js_1254878571"
            ]
          },
          "metadata": {}
        },
        {
          "output_type": "stream",
          "name": "stdout",
          "text": [
            "[-0.5, -0.1]\n"
          ]
        },
        {
          "output_type": "display_data",
          "data": {
            "text/plain": [
              "<IPython.core.display.Javascript object>"
            ],
            "application/javascript": [
              "window[\"f1b08b2a-ce95-11ec-ac75-0242ac1c0002\"] = google.colab.output.getActiveOutputArea();\n",
              "//# sourceURL=js_cf84422b54"
            ]
          },
          "metadata": {}
        },
        {
          "output_type": "display_data",
          "data": {
            "text/plain": [
              "<IPython.core.display.Javascript object>"
            ],
            "application/javascript": [
              "window[\"f1b1091a-ce95-11ec-ac75-0242ac1c0002\"] = document.querySelector(\"#id2-0-0\");\n",
              "//# sourceURL=js_360e2caacf"
            ]
          },
          "metadata": {}
        },
        {
          "output_type": "display_data",
          "data": {
            "text/plain": [
              "<IPython.core.display.Javascript object>"
            ],
            "application/javascript": [
              "window[\"f1b180b6-ce95-11ec-ac75-0242ac1c0002\"] = google.colab.output.setActiveOutputArea(window[\"f1b1091a-ce95-11ec-ac75-0242ac1c0002\"]);\n",
              "//# sourceURL=js_2c58c17587"
            ]
          },
          "metadata": {}
        },
        {
          "output_type": "display_data",
          "data": {
            "text/plain": [
              "<IPython.core.display.Javascript object>"
            ],
            "application/javascript": [
              "window[\"f1cb311e-ce95-11ec-ac75-0242ac1c0002\"] = google.colab.output.setActiveOutputArea(window[\"f1b08b2a-ce95-11ec-ac75-0242ac1c0002\"]);\n",
              "//# sourceURL=js_2d61428f9a"
            ]
          },
          "metadata": {}
        },
        {
          "output_type": "stream",
          "name": "stdout",
          "text": [
            "[-0.5, -0.5]\n"
          ]
        },
        {
          "output_type": "display_data",
          "data": {
            "text/plain": [
              "<IPython.core.display.Javascript object>"
            ],
            "application/javascript": [
              "window[\"f268688a-ce95-11ec-ac75-0242ac1c0002\"] = google.colab.output.getActiveOutputArea();\n",
              "//# sourceURL=js_a115f18535"
            ]
          },
          "metadata": {}
        },
        {
          "output_type": "display_data",
          "data": {
            "text/plain": [
              "<IPython.core.display.Javascript object>"
            ],
            "application/javascript": [
              "window[\"f26974be-ce95-11ec-ac75-0242ac1c0002\"] = document.querySelector(\"#id2-0-0\");\n",
              "//# sourceURL=js_8b058a0a29"
            ]
          },
          "metadata": {}
        },
        {
          "output_type": "display_data",
          "data": {
            "text/plain": [
              "<IPython.core.display.Javascript object>"
            ],
            "application/javascript": [
              "window[\"f269e868-ce95-11ec-ac75-0242ac1c0002\"] = google.colab.output.setActiveOutputArea(window[\"f26974be-ce95-11ec-ac75-0242ac1c0002\"]);\n",
              "//# sourceURL=js_e49601b565"
            ]
          },
          "metadata": {}
        },
        {
          "output_type": "display_data",
          "data": {
            "text/plain": [
              "<Figure size 432x288 with 1 Axes>"
            ],
            "image/png": "[encoded data removed]"
          },
          "metadata": {
            "needs_background": "light"
          }
        },
        {
          "output_type": "display_data",
          "data": {
            "text/plain": [
              "<IPython.core.display.Javascript object>"
            ],
            "application/javascript": [
              "window[\"f2841210-ce95-11ec-ac75-0242ac1c0002\"] = google.colab.output.setActiveOutputArea(window[\"f268688a-ce95-11ec-ac75-0242ac1c0002\"]);\n",
              "//# sourceURL=js_61065cfe6f"
            ]
          },
          "metadata": {}
        }
      ]
    },
    {
      "cell_type": "markdown",
      "source": [
        "# Part 2"
      ],
      "metadata": {
        "id": "eD1jg0v4bwnG"
      }
    },
    {
      "cell_type": "code",
      "source": [
        "class QLearning:\n",
        "  def __init__(self, env, episodes):\n",
        "    env.reset()\n",
        "    self.env = env\n",
        "    self.q_table = []\n",
        "    for _ in range(env.n_agents):\n",
        "      self.q_table.append(np.zeros((env.size ** 2, env.action_space.n)))\n",
        "    self.reward_list = []\n",
        "    self.steps_list = []\n",
        "    self.test_steps_list = []\n",
        "    self.test_reward_list = []\n",
        "    self.alpha = 0.2\n",
        "    self.epsilon = 1\n",
        "    self.gamma = 0.9\n",
        "    self.epsilon_decay = 0.9954\n",
        "    self.epsilon_vals = [self.epsilon]\n",
        "    self.number_of_episodes = range(episodes)\n",
        "    self.reset()\n",
        "  def reset(self):\n",
        "    self.env.reset()\n",
        "    self.done = [False] * env.n_agents\n",
        "    self.action = [0] * env.n_agents\n",
        "    self.reward = [0] * env.n_agents\n",
        "    self.state = [0] * env.n_agents\n",
        "    self.total_reward = [0] * env.n_agents\n",
        "  def train(self):\n",
        "    for _ in self.number_of_episodes:\n",
        "      self.reset()\n",
        "      while not all(self.done):\n",
        "        for i in range(self.env.n_agents):\n",
        "          self.q_table[i][(self.env.size * self.env.goal_pos[i][0]) + self.env.goal_pos[i][1]] = 0\n",
        "        for i in range(self.env.n_agents):\n",
        "          self.action[i] = np.argmax(self.q_table[i][self.state[i]]) if (np.random.rand() > self.epsilon) else np.random.randint(self.env.action_space.n)\n",
        "        _, self.reward, self.done, _ = self.env.step(self.action)\n",
        "        next_state = [0] * self.env.n_agents\n",
        "        for i in range(self.env.n_agents):\n",
        "          next_state[i] = (self.env.size * self.env.agent_pos[i][0]) + self.env.agent_pos[i][1]\n",
        "          self.q_table[i][self.state[i]][self.action[i]] += self.alpha * (self.reward[i] + self.gamma * np.max(self.q_table[i][next_state[i]]) - self.q_table[i][self.state[i]][self.action[i]])\n",
        "        for i in range(self.env.n_agents):\n",
        "          self.q_table[i][(self.env.size * self.env.goal_pos[i][0]) + self.env.goal_pos[i][1]] = 0\n",
        "        self.state = next_state.copy()\n",
        "        self.total_reward = [x + y for x, y in zip(self.total_reward, self.reward)]\n",
        "      self.steps_list.append(self.env._timestep)\n",
        "      self.reward_list.append(self.total_reward)\n",
        "      self.epsilon *= self.epsilon_decay\n",
        "      self.epsilon_vals.append(self.epsilon)\n",
        "  def test(self):\n",
        "    for _ in range(10):\n",
        "      self.reset()\n",
        "      while not all(self.done):\n",
        "        for i in range(self.env.n_agents):\n",
        "          self.action[i] = np.argmax(self.q_table[i][self.state[i]])\n",
        "        _, self.reward, self.done, _ = self.env.step(self.action)\n",
        "        next_state = [0] * self.env.n_agents\n",
        "        for i in range(self.env.n_agents):\n",
        "          next_state[i] = (self.env.size * self.env.agent_pos[i][0]) + self.env.agent_pos[i][1]\n",
        "        self.state = next_state.copy()\n",
        "        self.total_reward = [x + y for x, y in zip(self.total_reward, self.reward)]\n",
        "      self.test_steps_list.append(self.env._timestep)\n",
        "      self.test_reward_list.append(self.total_reward)"
      ],
      "metadata": {
        "id": "e7zNrieG_o3E"
      },
      "execution_count": null,
      "outputs": []
    },
    {
      "cell_type": "code",
      "source": [
        "import matplotlib.pyplot as plt\n",
        "\n",
        "env = MAGridWorld(n_agents = config['N_AGENTS'],size = config['GRID_SIZE'])\n",
        "table1=QLearning(env, 1000)\n",
        "table1.train()\n",
        "\n",
        "plot1 = plt.figure(1)\n",
        "plt.xlabel('Episodes')\n",
        "plt.title('Q learning results after training for deterministic environment')\n",
        "plt.plot(table1.reward_list)\n",
        "plt.legend(['Reward per episode for 1', 'Reward per episode for 2'], loc='best')\n",
        "\n",
        "table1.test()\n",
        "plot2 = plt.figure(2)\n",
        "plt.xlabel('Episodes')\n",
        "plt.title('Q learning results for testing')\n",
        "plt.plot(table1.test_reward_list)\n",
        "plt.legend(['Reward per episode for 1', 'Reward per episode for 2'], loc='best')"
      ],
      "metadata": {
        "colab": {
          "base_uri": "https://localhost:8080/",
          "height": 590
        },
        "id": "1bGWSx3sEF6w",
        "outputId": "fdf846ec-3134-4449-e2b6-2eed50274427"
      },
      "execution_count": null,
      "outputs": [
        {
          "output_type": "execute_result",
          "data": {
            "text/plain": [
              "<matplotlib.legend.Legend at 0x7f694bdc2c10>"
            ]
          },
          "metadata": {},
          "execution_count": 17
        },
        {
          "output_type": "display_data",
          "data": {
            "text/plain": [
              "<Figure size 432x288 with 1 Axes>"
            ],
            "image/png": "[encoded data removed]"
          },
          "metadata": {
            "needs_background": "light"
          }
        },
        {
          "output_type": "display_data",
          "data": {
            "text/plain": [
              "<Figure size 432x288 with 1 Axes>"
            ],
            "image/png": "[encoded data removed]"
          },
          "metadata": {
            "needs_background": "light"
          }
        }
      ]
    },
    {
      "cell_type": "markdown",
      "source": [
        "# Part 3"
      ],
      "metadata": {
        "id": "vk5X3menoPk_"
      }
    },
    {
      "cell_type": "code",
      "source": [
        "class Network(torch.nn.Module):\n",
        "  def __init__(self,env):\n",
        "    super(Network, self).__init__()\n",
        "    self.net = torch.nn.Sequential(torch.nn.Linear(env.observation_space.shape[0] * env.observation_space.shape[1], 64), torch.nn.ReLU(), torch.nn.Linear(64, 64), torch.nn.ReLU(), torch.nn.Linear(64,env.action_space.n))\n",
        "  def forward(self,x):\n",
        "    return self.net(x)\n",
        "  def act(self,obs):\n",
        "    pass"
      ],
      "metadata": {
        "id": "ELZ4aFT7sex3"
      },
      "execution_count": null,
      "outputs": []
    },
    {
      "cell_type": "code",
      "source": [
        "class DeepQLearning:\n",
        "  def __init__(self, env, episodes):\n",
        "    env.reset()\n",
        "    self.env = env\n",
        "    self.reward_list = []\n",
        "    self.steps_list = []\n",
        "    self.test_steps_list = []\n",
        "    self.test_reward_list = []\n",
        "    self.replay = []\n",
        "    for _ in range(env.n_agents):\n",
        "      self.replay.append(deque(maxlen=50000))\n",
        "    self.epsilon = 1\n",
        "    self.gamma = 0.99\n",
        "    self.epsilon_decay = 0.9977\n",
        "    self.epsilon_vals = [self.epsilon]\n",
        "    self.number_of_episodes = range(episodes)\n",
        "    self.online = []\n",
        "    self.target = []\n",
        "    self.optimizer = []\n",
        "    for _ in range(env.n_agents):\n",
        "      self.online.append(Network(self.env))\n",
        "      self.target.append(Network(self.env))\n",
        "    for i in range(env.n_agents):\n",
        "      self.target[i].load_state_dict(self.online[i].state_dict())\n",
        "      self.optimizer.append(torch.optim.Adam(self.online[i].parameters(), lr=0.005))\n",
        "    self.reset()\n",
        "  def reset(self):\n",
        "    self.env.reset()\n",
        "    self.done = [False] * self.env.n_agents\n",
        "    self.action = [0] * self.env.n_agents\n",
        "    self.reward = [0] * self.env.n_agents\n",
        "    self.state = [0] * self.env.n_agents\n",
        "    self.total_reward = [0] * self.env.n_agents\n",
        "    self.step = 0\n",
        "  def train(self):\n",
        "    for e in self.number_of_episodes:\n",
        "      self.reset()\n",
        "      while not all(self.done):\n",
        "        old_state = self.get_agent_pos()\n",
        "        self.step += 1\n",
        "        for i in range(self.env.n_agents):\n",
        "          self.action[i] = np.argmax(self.online[i].forward(torch.as_tensor(old_state[i], dtype=torch.float32)).tolist()) if (np.random.rand() > self.epsilon) else np.random.randint(self.env.action_space.n)\n",
        "        new_pos, self.reward, self.done, _ = self.env.step(self.action)\n",
        "        new_state = []\n",
        "        for i in range(self.env.n_agents):\n",
        "          new_state.append((self.env.observation_space.shape[0] * new_pos[i][0]) + new_pos[i][1])\n",
        "        self.total_reward = [x + y for x, y in zip(self.total_reward, self.reward)]\n",
        "        self.state = new_state.copy()\n",
        "        new_state = self.get_agent_pos()\n",
        "        for i in range(self.env.n_agents):\n",
        "          self.replay[i].append((old_state[i], self.action[i], self.reward[i], int(self.done[i]), new_state[i]))\n",
        "        if(len(self.replay[0]) > 550):\n",
        "          random_transition = []\n",
        "          observation_tensor = []\n",
        "          action_tensor = []\n",
        "          reward_tensor = []\n",
        "          done_tensor = []\n",
        "          next_observation_tensor = []\n",
        "          for i in range(self.env.n_agents):\n",
        "            random_transition.append(random.sample(self.replay[i], 500))\n",
        "            observation_tensor.append(torch.as_tensor(np.array([rt[0] for rt in random_transition[i]]), dtype=torch.float32))\n",
        "            action_tensor.append(torch.as_tensor(np.array([rt[1] for rt in random_transition[i]]), dtype=torch.int64).unsqueeze(-1))\n",
        "            reward_tensor.append(torch.as_tensor(np.array([rt[2] for rt in random_transition[i]]), dtype=torch.float32).unsqueeze(-1))\n",
        "            done_tensor.append(torch.as_tensor(np.array([rt[3] for rt in random_transition[i]]), dtype=torch.int64).unsqueeze(-1))\n",
        "            next_observation_tensor.append(torch.as_tensor(np.array([rt[4] for rt in random_transition[i]]), dtype=torch.float32))\n",
        "          q_target = []\n",
        "          max_q_target = []\n",
        "          t = []\n",
        "          q_action = []\n",
        "          loss = []\n",
        "          for i in range(self.env.n_agents):\n",
        "            with torch.no_grad():\n",
        "              q_target.append(self.target[i].forward(next_observation_tensor[i]))\n",
        "            max_q_target.append(q_target[i].max(dim=1, keepdim=True)[0])\n",
        "            t.append(reward_tensor[i] + self.gamma * (1 - done_tensor[i]) * max_q_target[i])\n",
        "            q_action.append(torch.gather(input=self.online[i].forward(observation_tensor[i]), dim=1, index=action_tensor[i]))\n",
        "            loss.append(torch.nn.functional.smooth_l1_loss(q_action[i], t[i]))\n",
        "            self.optimizer[i].zero_grad()\n",
        "            loss[i].backward()\n",
        "            self.optimizer[i].step()\n",
        "            if (self.step % 50 == 0):\n",
        "              self.target[i].load_state_dict(self.online[i].state_dict())\n",
        "      if(e % 500 == 0):\n",
        "        print(\"{}: {}\".format(e, self.total_reward))\n",
        "      self.reward_list.append(self.total_reward)\n",
        "      self.epsilon *= self.epsilon_decay\n",
        "      self.epsilon_vals.append(self.epsilon)\n",
        "  def get_agent_pos(self):\n",
        "    pos = []\n",
        "    for i in range(self.env.n_agents):\n",
        "      pos.append(np.zeros((self.env.observation_space.shape[0], self.env.observation_space.shape[1])))\n",
        "      for r in range(self.env.observation_space.shape[0]):\n",
        "        for c in range(self.env.observation_space.shape[1]):\n",
        "          pos[i][r, c] = int(r == self.env.agent_pos[i][0] and c == self.env.agent_pos[i][1])\n",
        "      pos[i] = pos[i].flatten()\n",
        "    return pos\n",
        "  def test(self):\n",
        "    for _ in range(10):\n",
        "      self.reset()\n",
        "      while not all(self.done):\n",
        "        old_state = self.get_agent_pos()\n",
        "        for i in range(self.env.n_agents):\n",
        "          self.action[i] = np.argmax(self.online[i].forward(torch.as_tensor(old_state[i], dtype=torch.float32)).tolist())\n",
        "        new_pos, self.reward, self.done, _ = self.env.step(self.action)\n",
        "        self.state = []\n",
        "        for i in range(self.env.n_agents):\n",
        "          self.state.append((self.env.observation_space.shape[0] * new_pos[i][0]) + new_pos[i][1])\n",
        "        self.total_reward = [x + y for x, y in zip(self.total_reward, self.reward)]\n",
        "      self.test_reward_list.append(self.total_reward)"
      ],
      "metadata": {
        "id": "zgzLSoedoLk7"
      },
      "execution_count": null,
      "outputs": []
    },
    {
      "cell_type": "code",
      "source": [
        "env = MAGridWorld(n_agents = config['N_AGENTS'],size = config['GRID_SIZE'])\n",
        "dq = DeepQLearning(env, 3000)"
      ],
      "metadata": {
        "id": "bt2qJVoIso7p"
      },
      "execution_count": null,
      "outputs": []
    },
    {
      "cell_type": "code",
      "source": [
        "dq.train()\n",
        "plot1 = plt.figure(1)\n",
        "plt.xlabel('Episodes')\n",
        "plt.title('Deep Q learning results after training')\n",
        "plt.plot(dq.reward_list)\n",
        "plt.legend(['Reward per episode for 1', 'Reward per episode for 2'], loc='best')\n",
        "\n",
        "dq.test()\n",
        "plot2 = plt.figure(2)\n",
        "plt.xlabel('Episodes')\n",
        "plt.title('Deep Q learning results for testing')\n",
        "plt.plot(dq.test_reward_list)\n",
        "plt.legend(['Reward per episode for 1', 'Reward per episode for 2'], loc='best')"
      ],
      "metadata": {
        "id": "lDiuYqdys_Tf",
        "colab": {
          "base_uri": "https://localhost:8080/",
          "height": 694
        },
        "outputId": "5490b376-b46a-488f-adce-2881896ea0e6"
      },
      "execution_count": null,
      "outputs": [
        {
          "output_type": "stream",
          "name": "stdout",
          "text": [
            "0: [-4.0, -1.7000000000000002]\n",
            "500: [-1.5, 1.9000000000000001]\n",
            "1000: [-4.1, 0.0]\n",
            "1500: [0.5, 0.5]\n",
            "2000: [0.5, 0.5]\n",
            "2500: [0.5, 0.5]\n"
          ]
        },
        {
          "output_type": "execute_result",
          "data": {
            "text/plain": [
              "<matplotlib.legend.Legend at 0x7f694beeee90>"
            ]
          },
          "metadata": {},
          "execution_count": 21
        },
        {
          "output_type": "display_data",
          "data": {
            "text/plain": [
              "<Figure size 432x288 with 1 Axes>"
            ],
            "image/png": "[encoded data removed]"
          },
          "metadata": {
            "needs_background": "light"
          }
        },
        {
          "output_type": "display_data",
          "data": {
            "text/plain": [
              "<Figure size 432x288 with 1 Axes>"
            ],
            "image/png": "[encoded data removed]"
          },
          "metadata": {
            "needs_background": "light"
          }
        }
      ]
    },
    {
      "cell_type": "markdown",
      "source": [
        "## Part 4"
      ],
      "metadata": {
        "id": "JUYijAGu4kEq"
      }
    },
    {
      "cell_type": "code",
      "source": [
        "class Network(torch.nn.Module):\n",
        "  def __init__(self,env):\n",
        "    super(Network, self).__init__()\n",
        "    self.net = torch.nn.Sequential(torch.nn.Linear(env.observation_space[0].shape[0], 64), torch.nn.ReLU(), torch.nn.Linear(64, 64), torch.nn.ReLU(), torch.nn.Linear(64,env.action_space[0].n))\n",
        "  def forward(self,x):\n",
        "    return self.net(x)\n",
        "  def act(self,obs):\n",
        "    pass"
      ],
      "metadata": {
        "id": "gcT45iJ27q0S"
      },
      "execution_count": 30,
      "outputs": []
    },
    {
      "cell_type": "code",
      "source": [
        "class DeepQLearning:\n",
        "  def __init__(self, env, episodes):\n",
        "    env.reset()\n",
        "    self.env = env\n",
        "    self.reward_list = []\n",
        "    self.steps_list = []\n",
        "    self.test_steps_list = []\n",
        "    self.test_reward_list = []\n",
        "    self.replay = []\n",
        "    for _ in range(env.n_agents):\n",
        "      self.replay.append(deque(maxlen=50000))\n",
        "    self.epsilon = 1\n",
        "    self.gamma = 0.99\n",
        "    self.epsilon_decay = 0.9908\n",
        "    self.epsilon_vals = [self.epsilon]\n",
        "    self.number_of_episodes = range(episodes)\n",
        "    self.online = []\n",
        "    self.target = []\n",
        "    self.optimizer = []\n",
        "    for _ in range(env.n_agents):\n",
        "      self.online.append(Network(self.env))\n",
        "      self.target.append(Network(self.env))\n",
        "    for i in range(env.n_agents):\n",
        "      self.target[i].load_state_dict(self.online[i].state_dict())\n",
        "      self.optimizer.append(torch.optim.Adam(self.online[i].parameters(), lr=0.005))\n",
        "    self.reset()\n",
        "  def reset(self):\n",
        "    self.env.reset()\n",
        "    self.done = [False] * self.env.n_agents\n",
        "    self.action = [0] * self.env.n_agents\n",
        "    self.reward = [0] * self.env.n_agents\n",
        "    self.state = [0] * self.env.n_agents\n",
        "    self.total_reward = [0] * self.env.n_agents\n",
        "    self.step = 0\n",
        "  def train(self):\n",
        "    for e in self.number_of_episodes:\n",
        "      self.reset()\n",
        "      self.state = self.env.reset()\n",
        "      while not all(self.done):\n",
        "        self.step += 1\n",
        "        for i in range(self.env.n_agents):\n",
        "          self.action[i] = np.argmax(self.online[i].forward(torch.as_tensor(self.state[i], dtype=torch.float32)).tolist()) if (np.random.rand() > self.epsilon) else np.random.randint(self.env.action_space[i].n)\n",
        "        new_state, self.reward, self.done, _ = self.env.step(self.action)\n",
        "        self.total_reward = [x + y for x, y in zip(self.total_reward, self.reward)]\n",
        "        for i in range(self.env.n_agents):\n",
        "          self.replay[i].append((self.state[i], self.action[i], self.reward[i], int(self.done[i]), new_state[i]))\n",
        "        self.state = new_state.copy()\n",
        "        if(len(self.replay[0]) > 550):\n",
        "          random_transition = []\n",
        "          observation_tensor = []\n",
        "          action_tensor = []\n",
        "          reward_tensor = []\n",
        "          done_tensor = []\n",
        "          next_observation_tensor = []\n",
        "          for i in range(self.env.n_agents):\n",
        "            random_transition.append(random.sample(self.replay[i], 500))\n",
        "            observation_tensor.append(torch.as_tensor(np.array([rt[0] for rt in random_transition[i]]), dtype=torch.float32))\n",
        "            action_tensor.append(torch.as_tensor(np.array([rt[1] for rt in random_transition[i]]), dtype=torch.int64).unsqueeze(-1))\n",
        "            reward_tensor.append(torch.as_tensor(np.array([rt[2] for rt in random_transition[i]]), dtype=torch.float32).unsqueeze(-1))\n",
        "            done_tensor.append(torch.as_tensor(np.array([rt[3] for rt in random_transition[i]]), dtype=torch.int64).unsqueeze(-1))\n",
        "            next_observation_tensor.append(torch.as_tensor(np.array([rt[4] for rt in random_transition[i]]), dtype=torch.float32))\n",
        "          q_target = []\n",
        "          max_q_target = []\n",
        "          t = []\n",
        "          q_action = []\n",
        "          loss = []\n",
        "          for i in range(self.env.n_agents):\n",
        "            with torch.no_grad():\n",
        "              q_target.append(self.target[i].forward(next_observation_tensor[i]))\n",
        "            max_q_target.append(q_target[i].max(dim=1, keepdim=True)[0])\n",
        "            t.append(reward_tensor[i] + self.gamma * (1 - done_tensor[i]) * max_q_target[i])\n",
        "            q_action.append(torch.gather(input=self.online[i].forward(observation_tensor[i]), dim=1, index=action_tensor[i]))\n",
        "            loss.append(torch.nn.functional.smooth_l1_loss(q_action[i], t[i]))\n",
        "            self.optimizer[i].zero_grad()\n",
        "            loss[i].backward()\n",
        "            self.optimizer[i].step()\n",
        "            if (self.step % 50 == 0):\n",
        "              self.target[i].load_state_dict(self.online[i].state_dict())\n",
        "      if(e % 50 == 0):\n",
        "        print(\"{}: {}\".format(e, self.total_reward))\n",
        "      self.reward_list.append(self.total_reward)\n",
        "      self.epsilon *= self.epsilon_decay\n",
        "      self.epsilon_vals.append(self.epsilon)\n",
        "  def test(self):\n",
        "    for _ in range(10):\n",
        "      self.reset()\n",
        "      self.state = self.env.reset()\n",
        "      self.action_list = []\n",
        "      while not all(self.done):\n",
        "        self.step += 1\n",
        "        for i in range(self.env.n_agents):\n",
        "          self.action[i] = np.argmax(self.online[i].forward(torch.as_tensor(self.state[i], dtype=torch.float32)).tolist())\n",
        "        self.action_list.append(self.action)\n",
        "        new_state, self.reward, self.done, _ = self.env.step(self.action)\n",
        "        self.total_reward = [x + y for x, y in zip(self.total_reward, self.reward)]\n",
        "      self.test_reward_list.append(self.total_reward)"
      ],
      "metadata": {
        "id": "Kbm6CDqX7afh"
      },
      "execution_count": 31,
      "outputs": []
    },
    {
      "cell_type": "code",
      "source": [
        "env = gym.make('ma_gym:PongDuel-v0')\n",
        "dq = DeepQLearning(env, 500)"
      ],
      "metadata": {
        "id": "w0Nb2V2_2v0Q"
      },
      "execution_count": 32,
      "outputs": []
    },
    {
      "cell_type": "code",
      "source": [
        "dq.train()\n",
        "plot1 = plt.figure(1)\n",
        "plt.xlabel('Episodes')\n",
        "plt.title('Deep Q learning results after training for deterministic environment')\n",
        "plt.plot(dq.reward_list)\n",
        "plt.legend(['Reward per episode for 1', 'Reward per episode for 2'], loc='best')\n",
        "\n",
        "dq.test()\n",
        "plot2 = plt.figure(2)\n",
        "plt.xlabel('Episodes')\n",
        "plt.title('Deep Q learning results for testing')\n",
        "plt.plot(dq.test_reward_list)\n",
        "plt.legend(['Reward per episode for 1', 'Reward per episode for 2'], loc='best')"
      ],
      "metadata": {
        "colab": {
          "base_uri": "https://localhost:8080/",
          "height": 764
        },
        "id": "RBJLnMYw6CEg",
        "outputId": "c981f3fc-a4b5-4ce7-c925-d4c38f7d1cd8"
      },
      "execution_count": 33,
      "outputs": [
        {
          "output_type": "stream",
          "name": "stdout",
          "text": [
            "0: [5, 5]\n",
            "50: [6, 4]\n",
            "100: [5, 5]\n",
            "150: [6, 4]\n",
            "200: [3, 7]\n",
            "250: [5, 5]\n",
            "300: [4, 6]\n",
            "350: [4, 6]\n",
            "400: [2, 8]\n",
            "450: [3, 7]\n"
          ]
        },
        {
          "output_type": "execute_result",
          "data": {
            "text/plain": [
              "<matplotlib.legend.Legend at 0x7f8a557e9090>"
            ]
          },
          "metadata": {},
          "execution_count": 33
        },
        {
          "output_type": "display_data",
          "data": {
            "text/plain": [
              "<Figure size 432x288 with 1 Axes>"
            ],
            "image/png": "[encoded data removed]"
          },
          "metadata": {
            "needs_background": "light"
          }
        },
        {
          "output_type": "display_data",
          "data": {
            "text/plain": [
              "<Figure size 432x288 with 1 Axes>"
            ],
            "image/png": "[encoded data removed]"
          },
          "metadata": {
            "needs_background": "light"
          }
        }
      ]
    },
    {
      "cell_type": "code",
      "source": [
        "env.reset()\n",
        "for i in dq.action_list:\n",
        "  env.step(i)\n",
        "  img = env.render(mode='rgb_array')\n",
        "  plt.imshow(img)\n",
        "  ipythondisplay.clear_output(wait=True)\n",
        "  ipythondisplay.display(plt.gcf())\n",
        "  time.sleep(1)"
      ],
      "metadata": {
        "colab": {
          "base_uri": "https://localhost:8080/",
          "height": 521
        },
        "id": "27BwuW8ZN5m9",
        "outputId": "c481f278-beef-4b75-d1a6-224e11ee4e22"
      },
      "execution_count": 24,
      "outputs": [
        {
          "output_type": "display_data",
          "data": {
            "text/plain": [
              "<Figure size 432x288 with 1 Axes>"
            ],
            "image/png": "[encoded data removed]"
          },
          "metadata": {}
        },
        {
          "output_type": "display_data",
          "data": {
            "text/plain": [
              "<Figure size 432x288 with 1 Axes>"
            ],
            "image/png": "[encoded data removed]"
          },
          "metadata": {
            "needs_background": "light"
          }
        }
      ]
    },
    {
      "cell_type": "code",
      "source": [
        ""
      ],
      "metadata": {
        "id": "X3bSZvK9ulsV"
      },
      "execution_count": null,
      "outputs": []
    }
  ]
}