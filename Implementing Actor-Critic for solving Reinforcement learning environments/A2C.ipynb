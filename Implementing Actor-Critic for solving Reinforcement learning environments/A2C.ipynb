{
  "cells": [
    {
      "cell_type": "markdown",
      "metadata": {
        "id": "tpvuEqsYEWcT"
      },
      "source": [
        "I/we certify that the code and data in this assignment were generated independently, using only the tools and resources defined in the course and that I/we did not receive any external help, coaching or contributions during the production of this work."
      ]
    },
    {
      "cell_type": "markdown",
      "metadata": {
        "id": "ARmJuuRsE5yB"
      },
      "source": [
        "# Part 1"
      ]
    },
    {
      "cell_type": "code",
      "source": [
        "!apt-get install -y libgl1-mesa-dev libgl1-mesa-glx libglew-dev libosmesa6-dev software-properties-common\n",
        "!apt-get install -y patchelf"
      ],
      "metadata": {
        "colab": {
          "base_uri": "https://localhost:8080/"
        },
        "id": "Cuahha7HtDHX",
        "outputId": "da644659-e676-4a51-9826-d6e818249d8a"
      },
      "execution_count": 1,
      "outputs": [
        {
          "output_type": "stream",
          "name": "stdout",
          "text": [
            "Reading package lists... Done\n",
            "Building dependency tree       \n",
            "Reading state information... Done\n",
            "libgl1-mesa-dev is already the newest version (20.0.8-0ubuntu1~18.04.1).\n",
            "libgl1-mesa-dev set to manually installed.\n",
            "software-properties-common is already the newest version (0.96.24.32.18).\n",
            "The following packages were automatically installed and are no longer required:\n",
            "  libnvidia-common-460 nsight-compute-2020.2.0\n",
            "Use 'apt autoremove' to remove them.\n",
            "Suggested packages:\n",
            "  glew-utils\n",
            "The following NEW packages will be installed:\n",
            "  libgl1-mesa-glx libglew-dev libglew2.0 libosmesa6 libosmesa6-dev\n",
            "0 upgraded, 5 newly installed, 0 to remove and 42 not upgraded.\n",
            "Need to get 2,916 kB of archives.\n",
            "After this operation, 12.6 MB of additional disk space will be used.\n",
            "Get:1 http://archive.ubuntu.com/ubuntu bionic-updates/main amd64 libgl1-mesa-glx amd64 20.0.8-0ubuntu1~18.04.1 [5,532 B]\n",
            "Get:2 http://archive.ubuntu.com/ubuntu bionic/universe amd64 libglew2.0 amd64 2.0.0-5 [140 kB]\n",
            "Get:3 http://archive.ubuntu.com/ubuntu bionic/universe amd64 libglew-dev amd64 2.0.0-5 [120 kB]\n",
            "Get:4 http://archive.ubuntu.com/ubuntu bionic-updates/main amd64 libosmesa6 amd64 20.0.8-0ubuntu1~18.04.1 [2,641 kB]\n",
            "Get:5 http://archive.ubuntu.com/ubuntu bionic-updates/main amd64 libosmesa6-dev amd64 20.0.8-0ubuntu1~18.04.1 [8,828 B]\n",
            "Fetched 2,916 kB in 1s (2,944 kB/s)\n",
            "Selecting previously unselected package libgl1-mesa-glx:amd64.\n",
            "(Reading database ... 155202 files and directories currently installed.)\n",
            "Preparing to unpack .../libgl1-mesa-glx_20.0.8-0ubuntu1~18.04.1_amd64.deb ...\n",
            "Unpacking libgl1-mesa-glx:amd64 (20.0.8-0ubuntu1~18.04.1) ...\n",
            "Selecting previously unselected package libglew2.0:amd64.\n",
            "Preparing to unpack .../libglew2.0_2.0.0-5_amd64.deb ...\n",
            "Unpacking libglew2.0:amd64 (2.0.0-5) ...\n",
            "Selecting previously unselected package libglew-dev:amd64.\n",
            "Preparing to unpack .../libglew-dev_2.0.0-5_amd64.deb ...\n",
            "Unpacking libglew-dev:amd64 (2.0.0-5) ...\n",
            "Selecting previously unselected package libosmesa6:amd64.\n",
            "Preparing to unpack .../libosmesa6_20.0.8-0ubuntu1~18.04.1_amd64.deb ...\n",
            "Unpacking libosmesa6:amd64 (20.0.8-0ubuntu1~18.04.1) ...\n",
            "Selecting previously unselected package libosmesa6-dev:amd64.\n",
            "Preparing to unpack .../libosmesa6-dev_20.0.8-0ubuntu1~18.04.1_amd64.deb ...\n",
            "Unpacking libosmesa6-dev:amd64 (20.0.8-0ubuntu1~18.04.1) ...\n",
            "Setting up libosmesa6:amd64 (20.0.8-0ubuntu1~18.04.1) ...\n",
            "Setting up libgl1-mesa-glx:amd64 (20.0.8-0ubuntu1~18.04.1) ...\n",
            "Setting up libglew2.0:amd64 (2.0.0-5) ...\n",
            "Setting up libglew-dev:amd64 (2.0.0-5) ...\n",
            "Setting up libosmesa6-dev:amd64 (20.0.8-0ubuntu1~18.04.1) ...\n",
            "Processing triggers for libc-bin (2.27-3ubuntu1.3) ...\n",
            "/sbin/ldconfig.real: /usr/local/lib/python3.7/dist-packages/ideep4py/lib/libmkldnn.so.0 is not a symbolic link\n",
            "\n",
            "Reading package lists... Done\n",
            "Building dependency tree       \n",
            "Reading state information... Done\n",
            "The following packages were automatically installed and are no longer required:\n",
            "  libnvidia-common-460 nsight-compute-2020.2.0\n",
            "Use 'apt autoremove' to remove them.\n",
            "The following NEW packages will be installed:\n",
            "  patchelf\n",
            "0 upgraded, 1 newly installed, 0 to remove and 42 not upgraded.\n",
            "Need to get 46.5 kB of archives.\n",
            "After this operation, 130 kB of additional disk space will be used.\n",
            "Get:1 http://archive.ubuntu.com/ubuntu bionic/universe amd64 patchelf amd64 0.9-1 [46.5 kB]\n",
            "Fetched 46.5 kB in 0s (388 kB/s)\n",
            "Selecting previously unselected package patchelf.\n",
            "(Reading database ... 155240 files and directories currently installed.)\n",
            "Preparing to unpack .../patchelf_0.9-1_amd64.deb ...\n",
            "Unpacking patchelf (0.9-1) ...\n",
            "Setting up patchelf (0.9-1) ...\n",
            "Processing triggers for man-db (2.8.3-2ubuntu0.1) ...\n"
          ]
        }
      ]
    },
    {
      "cell_type": "code",
      "execution_count": 2,
      "metadata": {
        "colab": {
          "base_uri": "https://localhost:8080/",
          "height": 1000
        },
        "id": "kI-3pOGFF00c",
        "outputId": "c6d130ea-9790-4fb1-f4cb-093001e6ca5d"
      },
      "outputs": [
        {
          "output_type": "stream",
          "name": "stdout",
          "text": [
            "Collecting free-mujoco-py\n",
            "  Downloading free_mujoco_py-2.1.6-py3-none-any.whl (14.1 MB)\n",
            "\u001b[K     |████████████████████████████████| 14.1 MB 3.1 MB/s \n",
            "\u001b[?25hRequirement already satisfied: Cython<0.30.0,>=0.29.24 in /usr/local/lib/python3.7/dist-packages (from free-mujoco-py) (0.29.28)\n",
            "Collecting glfw<2.0.0,>=1.4.0\n",
            "  Downloading glfw-1.12.0-py2.py27.py3.py30.py31.py32.py33.py34.py35.py36.py37.py38-none-manylinux2014_x86_64.whl (203 kB)\n",
            "\u001b[K     |████████████████████████████████| 203 kB 55.1 MB/s \n",
            "\u001b[?25hCollecting imageio<3.0.0,>=2.9.0\n",
            "  Downloading imageio-2.18.0-py3-none-any.whl (3.4 MB)\n",
            "\u001b[K     |████████████████████████████████| 3.4 MB 24.0 MB/s \n",
            "\u001b[?25hRequirement already satisfied: numpy<2.0.0,>=1.21.3 in /usr/local/lib/python3.7/dist-packages (from free-mujoco-py) (1.21.6)\n",
            "Collecting fasteners==0.15\n",
            "  Downloading fasteners-0.15-py2.py3-none-any.whl (23 kB)\n",
            "Requirement already satisfied: cffi<2.0.0,>=1.15.0 in /usr/local/lib/python3.7/dist-packages (from free-mujoco-py) (1.15.0)\n",
            "Requirement already satisfied: six in /usr/local/lib/python3.7/dist-packages (from fasteners==0.15->free-mujoco-py) (1.15.0)\n",
            "Collecting monotonic>=0.1\n",
            "  Downloading monotonic-1.6-py2.py3-none-any.whl (8.2 kB)\n",
            "Requirement already satisfied: pycparser in /usr/local/lib/python3.7/dist-packages (from cffi<2.0.0,>=1.15.0->free-mujoco-py) (2.21)\n",
            "Collecting pillow>=8.3.2\n",
            "  Downloading Pillow-9.1.0-cp37-cp37m-manylinux_2_17_x86_64.manylinux2014_x86_64.whl (4.3 MB)\n",
            "\u001b[K     |████████████████████████████████| 4.3 MB 42.7 MB/s \n",
            "\u001b[?25hInstalling collected packages: pillow, monotonic, imageio, glfw, fasteners, free-mujoco-py\n",
            "  Attempting uninstall: pillow\n",
            "    Found existing installation: Pillow 7.1.2\n",
            "    Uninstalling Pillow-7.1.2:\n",
            "      Successfully uninstalled Pillow-7.1.2\n",
            "  Attempting uninstall: imageio\n",
            "    Found existing installation: imageio 2.4.1\n",
            "    Uninstalling imageio-2.4.1:\n",
            "      Successfully uninstalled imageio-2.4.1\n",
            "\u001b[31mERROR: pip's dependency resolver does not currently take into account all the packages that are installed. This behaviour is the source of the following dependency conflicts.\n",
            "albumentations 0.1.12 requires imgaug<0.2.7,>=0.2.5, but you have imgaug 0.2.9 which is incompatible.\u001b[0m\n",
            "Successfully installed fasteners-0.15 free-mujoco-py-2.1.6 glfw-1.12.0 imageio-2.18.0 monotonic-1.6 pillow-9.1.0\n"
          ]
        },
        {
          "output_type": "display_data",
          "data": {
            "application/vnd.colab-display-data+json": {
              "pip_warning": {
                "packages": [
                  "PIL"
                ]
              }
            }
          },
          "metadata": {}
        },
        {
          "output_type": "stream",
          "name": "stdout",
          "text": [
            "Collecting Box2D\n",
            "  Downloading Box2D-2.3.10-cp37-cp37m-manylinux1_x86_64.whl (1.3 MB)\n",
            "\u001b[?25l\r\u001b[K     |▎                               | 10 kB 27.2 MB/s eta 0:00:01\r\u001b[K     |▌                               | 20 kB 9.9 MB/s eta 0:00:01\r\u001b[K     |▊                               | 30 kB 8.7 MB/s eta 0:00:01\r\u001b[K     |█                               | 40 kB 8.1 MB/s eta 0:00:01\r\u001b[K     |█▎                              | 51 kB 4.4 MB/s eta 0:00:01\r\u001b[K     |█▌                              | 61 kB 5.2 MB/s eta 0:00:01\r\u001b[K     |█▊                              | 71 kB 5.2 MB/s eta 0:00:01\r\u001b[K     |██                              | 81 kB 5.3 MB/s eta 0:00:01\r\u001b[K     |██▎                             | 92 kB 6.0 MB/s eta 0:00:01\r\u001b[K     |██▌                             | 102 kB 5.1 MB/s eta 0:00:01\r\u001b[K     |██▊                             | 112 kB 5.1 MB/s eta 0:00:01\r\u001b[K     |███                             | 122 kB 5.1 MB/s eta 0:00:01\r\u001b[K     |███▏                            | 133 kB 5.1 MB/s eta 0:00:01\r\u001b[K     |███▌                            | 143 kB 5.1 MB/s eta 0:00:01\r\u001b[K     |███▊                            | 153 kB 5.1 MB/s eta 0:00:01\r\u001b[K     |████                            | 163 kB 5.1 MB/s eta 0:00:01\r\u001b[K     |████▏                           | 174 kB 5.1 MB/s eta 0:00:01\r\u001b[K     |████▌                           | 184 kB 5.1 MB/s eta 0:00:01\r\u001b[K     |████▊                           | 194 kB 5.1 MB/s eta 0:00:01\r\u001b[K     |█████                           | 204 kB 5.1 MB/s eta 0:00:01\r\u001b[K     |█████▏                          | 215 kB 5.1 MB/s eta 0:00:01\r\u001b[K     |█████▌                          | 225 kB 5.1 MB/s eta 0:00:01\r\u001b[K     |█████▊                          | 235 kB 5.1 MB/s eta 0:00:01\r\u001b[K     |██████                          | 245 kB 5.1 MB/s eta 0:00:01\r\u001b[K     |██████▏                         | 256 kB 5.1 MB/s eta 0:00:01\r\u001b[K     |██████▍                         | 266 kB 5.1 MB/s eta 0:00:01\r\u001b[K     |██████▊                         | 276 kB 5.1 MB/s eta 0:00:01\r\u001b[K     |███████                         | 286 kB 5.1 MB/s eta 0:00:01\r\u001b[K     |███████▏                        | 296 kB 5.1 MB/s eta 0:00:01\r\u001b[K     |███████▍                        | 307 kB 5.1 MB/s eta 0:00:01\r\u001b[K     |███████▊                        | 317 kB 5.1 MB/s eta 0:00:01\r\u001b[K     |████████                        | 327 kB 5.1 MB/s eta 0:00:01\r\u001b[K     |████████▏                       | 337 kB 5.1 MB/s eta 0:00:01\r\u001b[K     |████████▍                       | 348 kB 5.1 MB/s eta 0:00:01\r\u001b[K     |████████▊                       | 358 kB 5.1 MB/s eta 0:00:01\r\u001b[K     |█████████                       | 368 kB 5.1 MB/s eta 0:00:01\r\u001b[K     |█████████▏                      | 378 kB 5.1 MB/s eta 0:00:01\r\u001b[K     |█████████▍                      | 389 kB 5.1 MB/s eta 0:00:01\r\u001b[K     |█████████▋                      | 399 kB 5.1 MB/s eta 0:00:01\r\u001b[K     |██████████                      | 409 kB 5.1 MB/s eta 0:00:01\r\u001b[K     |██████████▏                     | 419 kB 5.1 MB/s eta 0:00:01\r\u001b[K     |██████████▍                     | 430 kB 5.1 MB/s eta 0:00:01\r\u001b[K     |██████████▋                     | 440 kB 5.1 MB/s eta 0:00:01\r\u001b[K     |███████████                     | 450 kB 5.1 MB/s eta 0:00:01\r\u001b[K     |███████████▏                    | 460 kB 5.1 MB/s eta 0:00:01\r\u001b[K     |███████████▍                    | 471 kB 5.1 MB/s eta 0:00:01\r\u001b[K     |███████████▋                    | 481 kB 5.1 MB/s eta 0:00:01\r\u001b[K     |████████████                    | 491 kB 5.1 MB/s eta 0:00:01\r\u001b[K     |████████████▏                   | 501 kB 5.1 MB/s eta 0:00:01\r\u001b[K     |████████████▍                   | 512 kB 5.1 MB/s eta 0:00:01\r\u001b[K     |████████████▋                   | 522 kB 5.1 MB/s eta 0:00:01\r\u001b[K     |████████████▉                   | 532 kB 5.1 MB/s eta 0:00:01\r\u001b[K     |█████████████▏                  | 542 kB 5.1 MB/s eta 0:00:01\r\u001b[K     |█████████████▍                  | 552 kB 5.1 MB/s eta 0:00:01\r\u001b[K     |█████████████▋                  | 563 kB 5.1 MB/s eta 0:00:01\r\u001b[K     |█████████████▉                  | 573 kB 5.1 MB/s eta 0:00:01\r\u001b[K     |██████████████▏                 | 583 kB 5.1 MB/s eta 0:00:01\r\u001b[K     |██████████████▍                 | 593 kB 5.1 MB/s eta 0:00:01\r\u001b[K     |██████████████▋                 | 604 kB 5.1 MB/s eta 0:00:01\r\u001b[K     |██████████████▉                 | 614 kB 5.1 MB/s eta 0:00:01\r\u001b[K     |███████████████▏                | 624 kB 5.1 MB/s eta 0:00:01\r\u001b[K     |███████████████▍                | 634 kB 5.1 MB/s eta 0:00:01\r\u001b[K     |███████████████▋                | 645 kB 5.1 MB/s eta 0:00:01\r\u001b[K     |███████████████▉                | 655 kB 5.1 MB/s eta 0:00:01\r\u001b[K     |████████████████                | 665 kB 5.1 MB/s eta 0:00:01\r\u001b[K     |████████████████▍               | 675 kB 5.1 MB/s eta 0:00:01\r\u001b[K     |████████████████▋               | 686 kB 5.1 MB/s eta 0:00:01\r\u001b[K     |████████████████▉               | 696 kB 5.1 MB/s eta 0:00:01\r\u001b[K     |█████████████████               | 706 kB 5.1 MB/s eta 0:00:01\r\u001b[K     |█████████████████▍              | 716 kB 5.1 MB/s eta 0:00:01\r\u001b[K     |█████████████████▋              | 727 kB 5.1 MB/s eta 0:00:01\r\u001b[K     |█████████████████▉              | 737 kB 5.1 MB/s eta 0:00:01\r\u001b[K     |██████████████████              | 747 kB 5.1 MB/s eta 0:00:01\r\u001b[K     |██████████████████▎             | 757 kB 5.1 MB/s eta 0:00:01\r\u001b[K     |██████████████████▋             | 768 kB 5.1 MB/s eta 0:00:01\r\u001b[K     |██████████████████▉             | 778 kB 5.1 MB/s eta 0:00:01\r\u001b[K     |███████████████████             | 788 kB 5.1 MB/s eta 0:00:01\r\u001b[K     |███████████████████▎            | 798 kB 5.1 MB/s eta 0:00:01\r\u001b[K     |███████████████████▋            | 808 kB 5.1 MB/s eta 0:00:01\r\u001b[K     |███████████████████▉            | 819 kB 5.1 MB/s eta 0:00:01\r\u001b[K     |████████████████████            | 829 kB 5.1 MB/s eta 0:00:01\r\u001b[K     |████████████████████▎           | 839 kB 5.1 MB/s eta 0:00:01\r\u001b[K     |████████████████████▋           | 849 kB 5.1 MB/s eta 0:00:01\r\u001b[K     |████████████████████▉           | 860 kB 5.1 MB/s eta 0:00:01\r\u001b[K     |█████████████████████           | 870 kB 5.1 MB/s eta 0:00:01\r\u001b[K     |█████████████████████▎          | 880 kB 5.1 MB/s eta 0:00:01\r\u001b[K     |█████████████████████▌          | 890 kB 5.1 MB/s eta 0:00:01\r\u001b[K     |█████████████████████▉          | 901 kB 5.1 MB/s eta 0:00:01\r\u001b[K     |██████████████████████          | 911 kB 5.1 MB/s eta 0:00:01\r\u001b[K     |██████████████████████▎         | 921 kB 5.1 MB/s eta 0:00:01\r\u001b[K     |██████████████████████▌         | 931 kB 5.1 MB/s eta 0:00:01\r\u001b[K     |██████████████████████▉         | 942 kB 5.1 MB/s eta 0:00:01\r\u001b[K     |███████████████████████         | 952 kB 5.1 MB/s eta 0:00:01\r\u001b[K     |███████████████████████▎        | 962 kB 5.1 MB/s eta 0:00:01\r\u001b[K     |███████████████████████▌        | 972 kB 5.1 MB/s eta 0:00:01\r\u001b[K     |███████████████████████▉        | 983 kB 5.1 MB/s eta 0:00:01\r\u001b[K     |████████████████████████        | 993 kB 5.1 MB/s eta 0:00:01\r\u001b[K     |████████████████████████▎       | 1.0 MB 5.1 MB/s eta 0:00:01\r\u001b[K     |████████████████████████▌       | 1.0 MB 5.1 MB/s eta 0:00:01\r\u001b[K     |████████████████████████▊       | 1.0 MB 5.1 MB/s eta 0:00:01\r\u001b[K     |█████████████████████████       | 1.0 MB 5.1 MB/s eta 0:00:01\r\u001b[K     |█████████████████████████▎      | 1.0 MB 5.1 MB/s eta 0:00:01\r\u001b[K     |█████████████████████████▌      | 1.1 MB 5.1 MB/s eta 0:00:01\r\u001b[K     |█████████████████████████▊      | 1.1 MB 5.1 MB/s eta 0:00:01\r\u001b[K     |██████████████████████████      | 1.1 MB 5.1 MB/s eta 0:00:01\r\u001b[K     |██████████████████████████▎     | 1.1 MB 5.1 MB/s eta 0:00:01\r\u001b[K     |██████████████████████████▌     | 1.1 MB 5.1 MB/s eta 0:00:01\r\u001b[K     |██████████████████████████▊     | 1.1 MB 5.1 MB/s eta 0:00:01\r\u001b[K     |███████████████████████████     | 1.1 MB 5.1 MB/s eta 0:00:01\r\u001b[K     |███████████████████████████▎    | 1.1 MB 5.1 MB/s eta 0:00:01\r\u001b[K     |███████████████████████████▌    | 1.1 MB 5.1 MB/s eta 0:00:01\r\u001b[K     |███████████████████████████▊    | 1.1 MB 5.1 MB/s eta 0:00:01\r\u001b[K     |████████████████████████████    | 1.2 MB 5.1 MB/s eta 0:00:01\r\u001b[K     |████████████████████████████▎   | 1.2 MB 5.1 MB/s eta 0:00:01\r\u001b[K     |████████████████████████████▌   | 1.2 MB 5.1 MB/s eta 0:00:01\r\u001b[K     |████████████████████████████▊   | 1.2 MB 5.1 MB/s eta 0:00:01\r\u001b[K     |█████████████████████████████   | 1.2 MB 5.1 MB/s eta 0:00:01\r\u001b[K     |█████████████████████████████▎  | 1.2 MB 5.1 MB/s eta 0:00:01\r\u001b[K     |█████████████████████████████▌  | 1.2 MB 5.1 MB/s eta 0:00:01\r\u001b[K     |█████████████████████████████▊  | 1.2 MB 5.1 MB/s eta 0:00:01\r\u001b[K     |██████████████████████████████  | 1.2 MB 5.1 MB/s eta 0:00:01\r\u001b[K     |██████████████████████████████▎ | 1.2 MB 5.1 MB/s eta 0:00:01\r\u001b[K     |██████████████████████████████▌ | 1.3 MB 5.1 MB/s eta 0:00:01\r\u001b[K     |██████████████████████████████▊ | 1.3 MB 5.1 MB/s eta 0:00:01\r\u001b[K     |███████████████████████████████ | 1.3 MB 5.1 MB/s eta 0:00:01\r\u001b[K     |███████████████████████████████▏| 1.3 MB 5.1 MB/s eta 0:00:01\r\u001b[K     |███████████████████████████████▌| 1.3 MB 5.1 MB/s eta 0:00:01\r\u001b[K     |███████████████████████████████▊| 1.3 MB 5.1 MB/s eta 0:00:01\r\u001b[K     |████████████████████████████████| 1.3 MB 5.1 MB/s eta 0:00:01\r\u001b[K     |████████████████████████████████| 1.3 MB 5.1 MB/s \n",
            "\u001b[?25hInstalling collected packages: Box2D\n",
            "Successfully installed Box2D-2.3.10\n",
            "Collecting box2d-py\n",
            "  Downloading box2d_py-2.3.8-cp37-cp37m-manylinux1_x86_64.whl (448 kB)\n",
            "\u001b[K     |████████████████████████████████| 448 kB 5.1 MB/s \n",
            "\u001b[?25hInstalling collected packages: box2d-py\n",
            "Successfully installed box2d-py-2.3.8\n",
            "Requirement already satisfied: gym[all] in /usr/local/lib/python3.7/dist-packages (0.17.3)\n",
            "Requirement already satisfied: pyglet<=1.5.0,>=1.4.0 in /usr/local/lib/python3.7/dist-packages (from gym[all]) (1.5.0)\n",
            "Requirement already satisfied: scipy in /usr/local/lib/python3.7/dist-packages (from gym[all]) (1.4.1)\n",
            "Requirement already satisfied: cloudpickle<1.7.0,>=1.2.0 in /usr/local/lib/python3.7/dist-packages (from gym[all]) (1.3.0)\n",
            "Requirement already satisfied: numpy>=1.10.4 in /usr/local/lib/python3.7/dist-packages (from gym[all]) (1.21.6)\n",
            "Requirement already satisfied: Pillow in /usr/local/lib/python3.7/dist-packages (from gym[all]) (9.1.0)\n",
            "Requirement already satisfied: imageio in /usr/local/lib/python3.7/dist-packages (from gym[all]) (2.18.0)\n",
            "Requirement already satisfied: atari-py~=0.2.0 in /usr/local/lib/python3.7/dist-packages (from gym[all]) (0.2.9)\n",
            "Requirement already satisfied: opencv-python in /usr/local/lib/python3.7/dist-packages (from gym[all]) (4.1.2.30)\n",
            "Collecting mujoco-py<2.0,>=1.50\n",
            "  Downloading mujoco-py-1.50.1.68.tar.gz (120 kB)\n",
            "\u001b[K     |████████████████████████████████| 120 kB 5.0 MB/s \n",
            "\u001b[?25hRequirement already satisfied: box2d-py~=2.3.5 in /usr/local/lib/python3.7/dist-packages (from gym[all]) (2.3.8)\n",
            "Requirement already satisfied: six in /usr/local/lib/python3.7/dist-packages (from atari-py~=0.2.0->gym[all]) (1.15.0)\n",
            "Requirement already satisfied: glfw>=1.4.0 in /usr/local/lib/python3.7/dist-packages (from mujoco-py<2.0,>=1.50->gym[all]) (1.12.0)\n",
            "Requirement already satisfied: Cython>=0.27.2 in /usr/local/lib/python3.7/dist-packages (from mujoco-py<2.0,>=1.50->gym[all]) (0.29.28)\n",
            "Requirement already satisfied: cffi>=1.10 in /usr/local/lib/python3.7/dist-packages (from mujoco-py<2.0,>=1.50->gym[all]) (1.15.0)\n",
            "Collecting lockfile>=0.12.2\n",
            "  Downloading lockfile-0.12.2-py2.py3-none-any.whl (13 kB)\n",
            "Requirement already satisfied: pycparser in /usr/local/lib/python3.7/dist-packages (from cffi>=1.10->mujoco-py<2.0,>=1.50->gym[all]) (2.21)\n",
            "Requirement already satisfied: future in /usr/local/lib/python3.7/dist-packages (from pyglet<=1.5.0,>=1.4.0->gym[all]) (0.16.0)\n",
            "Building wheels for collected packages: mujoco-py\n",
            "  Building wheel for mujoco-py (setup.py) ... \u001b[?25lerror\n",
            "\u001b[31m  ERROR: Failed building wheel for mujoco-py\u001b[0m\n",
            "\u001b[?25h  Running setup.py clean for mujoco-py\n",
            "Failed to build mujoco-py\n",
            "Installing collected packages: lockfile, mujoco-py\n",
            "    Running setup.py install for mujoco-py ... \u001b[?25l\u001b[?25herror\n",
            "\u001b[31mERROR: Command errored out with exit status 1: /usr/bin/python3 -u -c 'import io, os, sys, setuptools, tokenize; sys.argv[0] = '\"'\"'/tmp/pip-install-ixydq_w5/mujoco-py_41f2d126ed5a4990a9bf2df20eddcc76/setup.py'\"'\"'; __file__='\"'\"'/tmp/pip-install-ixydq_w5/mujoco-py_41f2d126ed5a4990a9bf2df20eddcc76/setup.py'\"'\"';f = getattr(tokenize, '\"'\"'open'\"'\"', open)(__file__) if os.path.exists(__file__) else io.StringIO('\"'\"'from setuptools import setup; setup()'\"'\"');code = f.read().replace('\"'\"'\\r\\n'\"'\"', '\"'\"'\\n'\"'\"');f.close();exec(compile(code, __file__, '\"'\"'exec'\"'\"'))' install --record /tmp/pip-record-r39csmaw/install-record.txt --single-version-externally-managed --compile --install-headers /usr/local/include/python3.7/mujoco-py Check the logs for full command output.\u001b[0m\n",
            "Requirement already satisfied: gym[Box_2D] in /usr/local/lib/python3.7/dist-packages (0.17.3)\n",
            "\u001b[33mWARNING: gym 0.17.3 does not provide the extra 'box_2d'\u001b[0m\n",
            "Requirement already satisfied: numpy>=1.10.4 in /usr/local/lib/python3.7/dist-packages (from gym[Box_2D]) (1.21.6)\n",
            "Requirement already satisfied: pyglet<=1.5.0,>=1.4.0 in /usr/local/lib/python3.7/dist-packages (from gym[Box_2D]) (1.5.0)\n",
            "Requirement already satisfied: cloudpickle<1.7.0,>=1.2.0 in /usr/local/lib/python3.7/dist-packages (from gym[Box_2D]) (1.3.0)\n",
            "Requirement already satisfied: scipy in /usr/local/lib/python3.7/dist-packages (from gym[Box_2D]) (1.4.1)\n",
            "Requirement already satisfied: future in /usr/local/lib/python3.7/dist-packages (from pyglet<=1.5.0,>=1.4.0->gym[Box_2D]) (0.16.0)\n"
          ]
        }
      ],
      "source": [
        "!pip install free-mujoco-py\n",
        "!pip install Box2D\n",
        "!pip install box2d-py\n",
        "!pip install gym[all]\n",
        "!pip install gym[Box_2D]"
      ]
    },
    {
      "cell_type": "code",
      "execution_count": 3,
      "metadata": {
        "id": "EMnZIiv5f0hI",
        "colab": {
          "base_uri": "https://localhost:8080/"
        },
        "outputId": "75c88ac8-3cde-4ffd-921a-14ee5ffbf146"
      },
      "outputs": [
        {
          "output_type": "stream",
          "name": "stdout",
          "text": [
            "Compiling /usr/local/lib/python3.7/dist-packages/mujoco_py/cymj.pyx because it changed.\n",
            "[1/1] Cythonizing /usr/local/lib/python3.7/dist-packages/mujoco_py/cymj.pyx\n",
            "running build_ext\n",
            "building 'mujoco_py.cymj' extension\n",
            "creating /usr/local/lib/python3.7/dist-packages/mujoco_py/generated/_pyxbld_2.0.2.13_37_linuxcpuextensionbuilder\n",
            "creating /usr/local/lib/python3.7/dist-packages/mujoco_py/generated/_pyxbld_2.0.2.13_37_linuxcpuextensionbuilder/temp.linux-x86_64-3.7\n",
            "creating /usr/local/lib/python3.7/dist-packages/mujoco_py/generated/_pyxbld_2.0.2.13_37_linuxcpuextensionbuilder/temp.linux-x86_64-3.7/usr\n",
            "creating /usr/local/lib/python3.7/dist-packages/mujoco_py/generated/_pyxbld_2.0.2.13_37_linuxcpuextensionbuilder/temp.linux-x86_64-3.7/usr/local\n",
            "creating /usr/local/lib/python3.7/dist-packages/mujoco_py/generated/_pyxbld_2.0.2.13_37_linuxcpuextensionbuilder/temp.linux-x86_64-3.7/usr/local/lib\n",
            "creating /usr/local/lib/python3.7/dist-packages/mujoco_py/generated/_pyxbld_2.0.2.13_37_linuxcpuextensionbuilder/temp.linux-x86_64-3.7/usr/local/lib/python3.7\n",
            "creating /usr/local/lib/python3.7/dist-packages/mujoco_py/generated/_pyxbld_2.0.2.13_37_linuxcpuextensionbuilder/temp.linux-x86_64-3.7/usr/local/lib/python3.7/dist-packages\n",
            "creating /usr/local/lib/python3.7/dist-packages/mujoco_py/generated/_pyxbld_2.0.2.13_37_linuxcpuextensionbuilder/temp.linux-x86_64-3.7/usr/local/lib/python3.7/dist-packages/mujoco_py\n",
            "creating /usr/local/lib/python3.7/dist-packages/mujoco_py/generated/_pyxbld_2.0.2.13_37_linuxcpuextensionbuilder/temp.linux-x86_64-3.7/usr/local/lib/python3.7/dist-packages/mujoco_py/gl\n",
            "x86_64-linux-gnu-gcc -pthread -Wno-unused-result -Wsign-compare -DNDEBUG -g -fwrapv -O2 -Wall -g -fstack-protector-strong -Wformat -Werror=format-security -g -fwrapv -O2 -g -fstack-protector-strong -Wformat -Werror=format-security -Wdate-time -D_FORTIFY_SOURCE=2 -fPIC -I/usr/local/lib/python3.7/dist-packages/mujoco_py -I/usr/local/lib/python3.7/dist-packages/mujoco_py/binaries/linux/mujoco210/include -I/usr/local/lib/python3.7/dist-packages/numpy/core/include -I/usr/include/python3.7m -c /usr/local/lib/python3.7/dist-packages/mujoco_py/cymj.c -o /usr/local/lib/python3.7/dist-packages/mujoco_py/generated/_pyxbld_2.0.2.13_37_linuxcpuextensionbuilder/temp.linux-x86_64-3.7/usr/local/lib/python3.7/dist-packages/mujoco_py/cymj.o -fopenmp -w\n",
            "x86_64-linux-gnu-gcc -pthread -Wno-unused-result -Wsign-compare -DNDEBUG -g -fwrapv -O2 -Wall -g -fstack-protector-strong -Wformat -Werror=format-security -g -fwrapv -O2 -g -fstack-protector-strong -Wformat -Werror=format-security -Wdate-time -D_FORTIFY_SOURCE=2 -fPIC -I/usr/local/lib/python3.7/dist-packages/mujoco_py -I/usr/local/lib/python3.7/dist-packages/mujoco_py/binaries/linux/mujoco210/include -I/usr/local/lib/python3.7/dist-packages/numpy/core/include -I/usr/include/python3.7m -c /usr/local/lib/python3.7/dist-packages/mujoco_py/gl/osmesashim.c -o /usr/local/lib/python3.7/dist-packages/mujoco_py/generated/_pyxbld_2.0.2.13_37_linuxcpuextensionbuilder/temp.linux-x86_64-3.7/usr/local/lib/python3.7/dist-packages/mujoco_py/gl/osmesashim.o -fopenmp -w\n",
            "creating /usr/local/lib/python3.7/dist-packages/mujoco_py/generated/_pyxbld_2.0.2.13_37_linuxcpuextensionbuilder/lib.linux-x86_64-3.7\n",
            "creating /usr/local/lib/python3.7/dist-packages/mujoco_py/generated/_pyxbld_2.0.2.13_37_linuxcpuextensionbuilder/lib.linux-x86_64-3.7/mujoco_py\n",
            "x86_64-linux-gnu-gcc -pthread -shared -Wl,-O1 -Wl,-Bsymbolic-functions -Wl,-Bsymbolic-functions -g -fwrapv -O2 -Wl,-Bsymbolic-functions -g -fwrapv -O2 -g -fstack-protector-strong -Wformat -Werror=format-security -Wdate-time -D_FORTIFY_SOURCE=2 /usr/local/lib/python3.7/dist-packages/mujoco_py/generated/_pyxbld_2.0.2.13_37_linuxcpuextensionbuilder/temp.linux-x86_64-3.7/usr/local/lib/python3.7/dist-packages/mujoco_py/cymj.o /usr/local/lib/python3.7/dist-packages/mujoco_py/generated/_pyxbld_2.0.2.13_37_linuxcpuextensionbuilder/temp.linux-x86_64-3.7/usr/local/lib/python3.7/dist-packages/mujoco_py/gl/osmesashim.o -L/usr/local/lib/python3.7/dist-packages/mujoco_py/binaries/linux/mujoco210/bin -Wl,--enable-new-dtags,-R/usr/local/lib/python3.7/dist-packages/mujoco_py/binaries/linux/mujoco210/bin -lmujoco210 -lglewosmesa -lOSMesa -lGL -o /usr/local/lib/python3.7/dist-packages/mujoco_py/generated/_pyxbld_2.0.2.13_37_linuxcpuextensionbuilder/lib.linux-x86_64-3.7/mujoco_py/cymj.cpython-37m-x86_64-linux-gnu.so -fopenmp\n"
          ]
        }
      ],
      "source": [
        "import gym, os\n",
        "import mujoco_py\n",
        "import numpy as np\n",
        "import matplotlib.pyplot as plt\n",
        "from enum import Enum\n",
        "from itertools import count\n",
        "import random\n",
        "import torch\n",
        "import torch.nn as nn\n",
        "import torch.optim as optim\n",
        "import torch.nn.functional as F\n",
        "from torch.distributions import Categorical"
      ]
    },
    {
      "cell_type": "code",
      "execution_count": 4,
      "metadata": {
        "id": "L34_4JQyeNqB"
      },
      "outputs": [],
      "source": [
        "class GridEnvironment(gym.Env):\n",
        "    metadata = { 'render.modes': [] }\n",
        "    \n",
        "    def __init__(self, env_type):\n",
        "        self.observation_space = gym.spaces.Discrete(20)\n",
        "        self.action_space = gym.spaces.Discrete(4)\n",
        "        self.max_timesteps = 15\n",
        "        self.prob = 0.95 if env_type == 'Stochastic' else 1\n",
        "        self.actions = Enum('Actions', 'UP RIGHT DOWN LEFT')\n",
        "        \n",
        "    def reset(self):\n",
        "        self.timestep = 0\n",
        "        self.reward = 0\n",
        "        self.agent_pos = [0, 0]\n",
        "        self.goal_pos = [3, 4]\n",
        "        self.gold_1 = [0, 3]\n",
        "        self.gold_2 = [1, 2]\n",
        "        self.gold_3 = [2, 1]\n",
        "        self.gold_4 = [2, 3]\n",
        "        self.gold_5 = [3, 0]\n",
        "        self.state = np.zeros((4, 5))\n",
        "        self.state[tuple(self.agent_pos)] = 0.75\n",
        "        self.state[tuple(self.goal_pos)] = 0.25\n",
        "        self.state[tuple(self.gold_1)] = 1\n",
        "        self.state[tuple(self.gold_2)] = 1\n",
        "        self.state[tuple(self.gold_3)] = 0.5\n",
        "        self.state[tuple(self.gold_4)] = 1\n",
        "        self.state[tuple(self.gold_5)] = 1\n",
        "        observation = self.state.flatten()\n",
        "        return observation\n",
        "    \n",
        "    def step(self, action):\n",
        "        if random.random() < self.prob:\n",
        "          if action == self.actions['UP'].value:\n",
        "            self.agent_pos[0] -= 1\n",
        "          if action == self.actions['RIGHT'].value:\n",
        "            self.agent_pos[1] += 1\n",
        "          if action == self.actions['DOWN'].value:\n",
        "            self.agent_pos[0] += 1\n",
        "          if action == self.actions['LEFT'].value:\n",
        "            self.agent_pos[1] -= 1\n",
        "          \n",
        "        self.agent_pos[0] = np.clip(self.agent_pos[0], 0, 3)\n",
        "        self.agent_pos[1] = np.clip(self.agent_pos[1], 0, 4)\n",
        "        self.state = np.zeros((4, 5))\n",
        "        self.state[tuple(self.agent_pos)] = 0.75\n",
        "        self.state[tuple(self.goal_pos)] = 0.25\n",
        "        self.state[tuple(self.gold_1)] = 1\n",
        "        self.state[tuple(self.gold_2)] = 1\n",
        "        self.state[tuple(self.gold_3)] = 0.5\n",
        "        self.state[tuple(self.gold_4)] = 1\n",
        "        self.state[tuple(self.gold_5)] = 1\n",
        "        observation = self.state.flatten()\n",
        "        \n",
        "        if(self.agent_pos == self.goal_pos):\n",
        "          self.reward = 10\n",
        "        elif(self.agent_pos == self.gold_1):\n",
        "          self.reward = 1\n",
        "        elif(self.agent_pos == self.gold_2):\n",
        "          self.reward = 1\n",
        "        elif(self.agent_pos == self.gold_3):\n",
        "          self.reward = -5\n",
        "        elif(self.agent_pos == self.gold_4):\n",
        "          self.reward = 1\n",
        "        elif(self.agent_pos == self.gold_5):\n",
        "          self.reward = 1\n",
        "        else:\n",
        "          self.reward = 0\n",
        "          \n",
        "        self.timestep += 1\n",
        "        done = (self.timestep >= self.max_timesteps) or (self.agent_pos == self.goal_pos)\n",
        "        info = {}\n",
        "        \n",
        "        return observation, self.reward, done, info\n",
        "        \n",
        "    def render(self):\n",
        "        plt.imshow(self.state)"
      ]
    },
    {
      "cell_type": "code",
      "execution_count": 5,
      "metadata": {
        "id": "SD7-EnIxFF_Q"
      },
      "outputs": [],
      "source": [
        "class Actor(nn.Module):\n",
        "  def __init__(self, state_size, action_size):\n",
        "    super(Actor, self).__init__()\n",
        "    self.net = nn.Sequential(nn.Linear(state_size, 128), nn.ReLU(), nn.Linear(128, 256), nn.ReLU(), nn.Linear(256, action_size))\n",
        "  def forward(self, state):\n",
        "    output = self.net(state)\n",
        "    return Categorical(F.softmax(output, dim=-1))"
      ]
    },
    {
      "cell_type": "code",
      "execution_count": 6,
      "metadata": {
        "id": "EaxsVlUGFIv9"
      },
      "outputs": [],
      "source": [
        "class Critic(nn.Module):\n",
        "  def __init__(self, state_size, action_size):\n",
        "    super(Critic, self).__init__()\n",
        "    self.net = nn.Sequential(nn.Linear(state_size, 128), nn.ReLU(), nn.Linear(128, 256), nn.ReLU(), nn.Linear(256, 1))\n",
        "  def forward(self, state):\n",
        "    return self.net(state)"
      ]
    },
    {
      "cell_type": "code",
      "execution_count": 7,
      "metadata": {
        "id": "Ary0kLMTgFHv"
      },
      "outputs": [],
      "source": [
        "class ActorCritic:\n",
        "  def __init__(self, env):\n",
        "    self.env = env\n",
        "    self.rewards_per_episode = []\n",
        "    self.rewards_eval_per_episode = []\n",
        "  def reset(self):\n",
        "    self.state = env.reset()\n",
        "    self.probs = []\n",
        "    self.values = []\n",
        "    self.rewards = []\n",
        "    self.masks = []\n",
        "    self.entropy = 0\n",
        "  def training(self, actor, critic, episodes, learning_rate=0.01):\n",
        "    opt_A = optim.Adam(actor.parameters())\n",
        "    opt_C = optim.Adam(critic.parameters(), lr=learning_rate)\n",
        "    for episode in range(episodes):\n",
        "      self.reset()\n",
        "      for i in count():\n",
        "        self.state = torch.FloatTensor(self.state)\n",
        "        dist, value = actor(self.state), critic(self.state)\n",
        "        action = dist.sample()\n",
        "        self.state, reward, done, info = env.step(action.cpu().numpy())\n",
        "        p = dist.log_prob(action).unsqueeze(0)\n",
        "        self.entropy += dist.entropy().mean()\n",
        "        self.probs.append(p)\n",
        "        self.values.append(value)\n",
        "        self.rewards.append(torch.tensor([reward], dtype=torch.float))\n",
        "        self.masks.append(torch.tensor([1-done], dtype=torch.float))\n",
        "        if done:\n",
        "          if(episode % 100 == 0 or episode == (episodes - 1)):\n",
        "            print('Episode: {}, Steps: {}, Reward: {}'.format(episode, i, int(sum(self.rewards))))\n",
        "          self.rewards_per_episode.append(int(sum(self.rewards)))\n",
        "          break\n",
        "      next_value = critic(torch.FloatTensor(self.state))\n",
        "      self.probs = torch.cat(self.probs)\n",
        "      self.values = torch.cat(self.values)\n",
        "      advantage = torch.cat(self.compute(next_value)).detach() - self.values\n",
        "      actor_loss = -(self.probs * advantage.detach()).mean()\n",
        "      critic_loss = advantage.pow(2).mean()\n",
        "      opt_A.zero_grad()\n",
        "      opt_C.zero_grad()\n",
        "      actor_loss.backward()\n",
        "      critic_loss.backward()\n",
        "      opt_A.step()\n",
        "      opt_C.step()\n",
        "    env.close()\n",
        "  def compute(self, next, gamma=0.99):\n",
        "    vals = []\n",
        "    i=len(self.rewards)-1\n",
        "    while i!=-1:\n",
        "      next = self.rewards[i] + gamma * next * self.masks[i]\n",
        "      vals.insert(0, next)\n",
        "      i-=1\n",
        "    return vals\n",
        "  def evaluation(self, actor, critic, episodes):\n",
        "    for episode in range(episodes):\n",
        "      self.reset()\n",
        "      for i in count():\n",
        "        self.state = torch.FloatTensor(self.state)\n",
        "        dist, value = actor(self.state), critic(self.state)\n",
        "        action = dist.sample()\n",
        "        self.state, reward, done, info = env.step(action.cpu().numpy())\n",
        "        p = dist.log_prob(action).unsqueeze(0)\n",
        "        self.entropy += dist.entropy().mean()\n",
        "        self.probs.append(p)\n",
        "        self.values.append(value)\n",
        "        self.rewards.append(torch.tensor([reward], dtype=torch.float))\n",
        "        self.masks.append(torch.tensor([1-done], dtype=torch.float))\n",
        "        if done:\n",
        "          self.rewards_eval_per_episode.append(int(sum(self.rewards)))\n",
        "          break"
      ]
    },
    {
      "cell_type": "code",
      "execution_count": 8,
      "metadata": {
        "colab": {
          "base_uri": "https://localhost:8080/"
        },
        "id": "3YmFDHRUEIGw",
        "outputId": "f7b9a583-264f-42f6-cb0f-0a5bc9177785"
      },
      "outputs": [
        {
          "output_type": "stream",
          "name": "stdout",
          "text": [
            "Episode: 0, Steps: 11, Reward: 11\n",
            "Episode: 100, Steps: 7, Reward: 5\n",
            "Episode: 200, Steps: 8, Reward: 11\n",
            "Episode: 300, Steps: 10, Reward: 11\n",
            "Episode: 400, Steps: 10, Reward: 12\n",
            "Episode: 500, Steps: 11, Reward: 12\n",
            "Episode: 600, Steps: 6, Reward: 12\n",
            "Episode: 700, Steps: 10, Reward: 14\n",
            "Episode: 800, Steps: 6, Reward: 12\n",
            "Episode: 900, Steps: 8, Reward: 13\n",
            "Episode: 999, Steps: 13, Reward: 17\n"
          ]
        }
      ],
      "source": [
        "env = GridEnvironment(\"\")\n",
        "actor = Actor(env.observation_space.n, env.action_space.n)\n",
        "critic = Critic(env.observation_space.n, env.action_space.n)\n",
        "ac = ActorCritic(env)\n",
        "ac.training(actor, critic, episodes=1000)\n",
        "ac.evaluation(actor, critic, episodes=10)"
      ]
    },
    {
      "cell_type": "code",
      "execution_count": null,
      "metadata": {
        "id": "twKyNFeuAVad"
      },
      "outputs": [],
      "source": [
        "plt.figure(1)\n",
        "plt.title('Training')\n",
        "plt.xlabel('Episodes')\n",
        "plt.ylabel('Reward per Episode')\n",
        "plt.plot(ac.rewards_per_episode)\n",
        "plt.figure(2)\n",
        "plt.title('Evaluation')\n",
        "plt.xlabel('Episodes')\n",
        "plt.ylabel('Reward per Episode')\n",
        "plt.plot(ac.rewards_eval_per_episode)\n",
        "plt.show()"
      ]
    },
    {
      "cell_type": "markdown",
      "metadata": {
        "id": "dcKIVgENE9fj"
      },
      "source": [
        "# Part 2"
      ]
    },
    {
      "cell_type": "markdown",
      "source": [
        "## Environment 1(Lunar Lander)"
      ],
      "metadata": {
        "id": "rKH7B9Iyls-5"
      }
    },
    {
      "cell_type": "code",
      "execution_count": null,
      "metadata": {
        "id": "olYLgPSXRQMW"
      },
      "outputs": [],
      "source": [
        "class Actor(nn.Module):\n",
        "  def __init__(self, state_size, action_size):\n",
        "    super(Actor, self).__init__()\n",
        "    self.net = nn.Sequential(nn.Linear(state_size, 128), nn.ReLU(), nn.Linear(128, 256), nn.ReLU(), nn.Linear(256, action_size))\n",
        "  def forward(self, state):\n",
        "    output = self.net(state)\n",
        "    return Categorical(F.softmax(output, dim=-1))"
      ]
    },
    {
      "cell_type": "code",
      "execution_count": null,
      "metadata": {
        "id": "eQQCv8ZeRQMX"
      },
      "outputs": [],
      "source": [
        "class Critic(nn.Module):\n",
        "  def __init__(self, state_size, action_size):\n",
        "    super(Critic, self).__init__()\n",
        "    self.net = nn.Sequential(nn.Linear(state_size, 128), nn.ReLU(), nn.Linear(128, 256), nn.ReLU(), nn.Linear(256, 1))\n",
        "  def forward(self, state):\n",
        "    return self.net(state)"
      ]
    },
    {
      "cell_type": "code",
      "execution_count": null,
      "metadata": {
        "id": "z8OsqnWZESXk"
      },
      "outputs": [],
      "source": [
        "env = gym.make('LunarLander-v2')\n",
        "env.seed(1234)\n",
        "actor = Actor(env.observation_space.shape[0], env.action_space.n)\n",
        "critic = Critic(env.observation_space.shape[0], env.action_space.n)\n",
        "ac = ActorCritic(env)\n",
        "ac.training(actor, critic, episodes=1000, learning_rate=0.01)\n",
        "ac.evaluation(actor, critic, episodes=10)"
      ]
    },
    {
      "cell_type": "code",
      "execution_count": null,
      "metadata": {
        "id": "PFXraCGPHND1"
      },
      "outputs": [],
      "source": [
        "plt.figure(1)\n",
        "plt.title('Training')\n",
        "plt.xlabel('Episodes')\n",
        "plt.ylabel('Reward per Episode')\n",
        "plt.plot(ac.rewards_per_episode)\n",
        "plt.figure(2)\n",
        "plt.title('Evaluation')\n",
        "plt.xlabel('Episodes')\n",
        "plt.ylabel('Reward per Episode')\n",
        "plt.plot(ac.rewards_eval_per_episode)\n",
        "plt.show()"
      ]
    },
    {
      "cell_type": "markdown",
      "source": [
        "## Environment 2(OpenAI Ant)"
      ],
      "metadata": {
        "id": "t2_08Ni1lv7i"
      }
    },
    {
      "cell_type": "code",
      "execution_count": null,
      "metadata": {
        "id": "fAiWlKRHlpQh"
      },
      "outputs": [],
      "source": [
        "class Actor(nn.Module):\n",
        "  def __init__(self, state_size, action_size):\n",
        "    super(Actor, self).__init__()\n",
        "    self.net = nn.Sequential(nn.Linear(state_size, 128), nn.ReLU(), nn.Linear(128, 256), nn.ReLU(), nn.Linear(256, action_size))\n",
        "  def forward(self, state):\n",
        "    output = self.net(state)\n",
        "    return Categorical(F.softmax(output, dim=-1))"
      ]
    },
    {
      "cell_type": "code",
      "execution_count": null,
      "metadata": {
        "id": "-4uUuRRhlpQh"
      },
      "outputs": [],
      "source": [
        "class Critic(nn.Module):\n",
        "  def __init__(self, state_size, action_size):\n",
        "    super(Critic, self).__init__()\n",
        "    self.net = nn.Sequential(nn.Linear(state_size, 128), nn.ReLU(), nn.Linear(128, 256), nn.ReLU(), nn.Linear(256, 1))\n",
        "  def forward(self, state):\n",
        "    return self.net(state)"
      ]
    },
    {
      "cell_type": "code",
      "execution_count": null,
      "metadata": {
        "colab": {
          "base_uri": "https://localhost:8080/"
        },
        "id": "esyWy1zNlpQi",
        "outputId": "f4d0bc36-8413-410b-9b55-0c93f4db11a6"
      },
      "outputs": [
        {
          "output_type": "stream",
          "name": "stdout",
          "text": [
            "Episode: 0, Steps: 999, Reward: -7777\n",
            "Episode: 100, Steps: 999, Reward: 863\n",
            "Episode: 199, Steps: 999, Reward: 1001\n"
          ]
        }
      ],
      "source": [
        "env = gym.make('Ant-v2')\n",
        "env.seed(1234)\n",
        "actor = Actor(env.observation_space.shape[0], env.action_space.shape[0])\n",
        "critic = Critic(env.observation_space.shape[0], env.action_space.shape[0])\n",
        "ac = ActorCritic(env)\n",
        "ac.training(actor, critic, episodes=200, learning_rate=0.01)\n",
        "ac.evaluation(actor, critic, episodes=10)"
      ]
    },
    {
      "cell_type": "code",
      "execution_count": null,
      "metadata": {
        "id": "8xrbQ0cqlpQi"
      },
      "outputs": [],
      "source": [
        "plt.figure(1)\n",
        "plt.title('Training')\n",
        "plt.xlabel('Episodes')\n",
        "plt.ylabel('Reward per Episode')\n",
        "plt.plot(ac.rewards_per_episode)\n",
        "plt.figure(2)\n",
        "plt.title('Evaluation')\n",
        "plt.xlabel('Episodes')\n",
        "plt.ylabel('Reward per Episode')\n",
        "plt.plot(ac.rewards_eval_per_episode)\n",
        "plt.show()"
      ]
    }
  ],
  "metadata": {
    "accelerator": "GPU",
    "colab": {
      "collapsed_sections": [],
      "name": "ha32_affanali_assignment3.ipynb",
      "provenance": []
    },
    "kernelspec": {
      "display_name": "Python 3",
      "name": "python3"
    },
    "language_info": {
      "name": "python"
    }
  },
  "nbformat": 4,
  "nbformat_minor": 0
}