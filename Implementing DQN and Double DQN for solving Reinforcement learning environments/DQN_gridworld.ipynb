{
  "nbformat": 4,
  "nbformat_minor": 0,
  "metadata": {
    "colab": {
      "name": "pritisma_affanali_assignment2_part2.ipynb",
      "provenance": [],
      "collapsed_sections": []
    },
    "kernelspec": {
      "name": "python3",
      "display_name": "Python 3"
    },
    "language_info": {
      "name": "python"
    }
  },
  "cells": [
    {
      "cell_type": "code",
      "execution_count": 1,
      "metadata": {
        "colab": {
          "base_uri": "https://localhost:8080/"
        },
        "id": "NIXRkbxUTUy9",
        "outputId": "6b05eb8f-c896-4fc9-8058-fdeb7bfd672d"
      },
      "outputs": [
        {
          "output_type": "stream",
          "name": "stdout",
          "text": [
            "Requirement already satisfied: gym in /usr/local/lib/python3.7/dist-packages (0.17.3)\n",
            "Requirement already satisfied: pyglet<=1.5.0,>=1.4.0 in /usr/local/lib/python3.7/dist-packages (from gym) (1.5.0)\n",
            "Requirement already satisfied: cloudpickle<1.7.0,>=1.2.0 in /usr/local/lib/python3.7/dist-packages (from gym) (1.3.0)\n",
            "Requirement already satisfied: scipy in /usr/local/lib/python3.7/dist-packages (from gym) (1.4.1)\n",
            "Requirement already satisfied: numpy>=1.10.4 in /usr/local/lib/python3.7/dist-packages (from gym) (1.21.5)\n",
            "Requirement already satisfied: future in /usr/local/lib/python3.7/dist-packages (from pyglet<=1.5.0,>=1.4.0->gym) (0.16.0)\n"
          ]
        }
      ],
      "source": [
        "#I certify that the code and data in this assignment were generated independently, using only the tools and resources defined in the course and that I did not receive any external help, coaching or contributions during the production of this work\n",
        "!pip install gym"
      ]
    },
    {
      "cell_type": "code",
      "source": [
        "import numpy as np\n",
        "import matplotlib.pyplot as plt\n",
        "import gym\n",
        "from gym import spaces\n",
        "from google.colab import widgets\n",
        "import time\n",
        "from torch import nn\n",
        "import torch\n",
        "from collections import deque\n",
        "import random"
      ],
      "metadata": {
        "id": "hh6gBXUGTX5y"
      },
      "execution_count": 2,
      "outputs": []
    },
    {
      "cell_type": "code",
      "source": [
        "###\n",
        "class Network(nn.Module):\n",
        "  def __init__(self,env):\n",
        "    super(Network, self).__init__()\n",
        "    my_features = 16\n",
        "    self.net = nn.Sequential(nn.Linear(my_features, 64), nn.ReLU(),nn.Linear(64, 64), nn.ReLU(),nn.Linear(64,4))\n",
        "  \n",
        "  def forward(self,x):\n",
        "    return self.net(x)\n",
        "  \n",
        "  def act(self,obs):\n",
        "    pass   \n",
        "###"
      ],
      "metadata": {
        "id": "t2zrURhlO-wB"
      },
      "execution_count": 3,
      "outputs": []
    },
    {
      "cell_type": "code",
      "source": [
        "class DeterGridEnvironment(gym.Env):            #Deterministic enviroment\n",
        "    metadata = { 'render.modes': [] }\n",
        "    \n",
        "    def __init__(self):\n",
        "        self.observation_space = spaces.Discrete(16)  #12\n",
        "        self.action_space = spaces.Discrete(4)   #4\n",
        "        self.max_timesteps = 25 #25  # 7\n",
        "\n",
        "    def reset(self):\n",
        "        self.timestep = 0\n",
        "        self.reward=0\n",
        "        self.agent_pos = [0, 0]\n",
        "        self.goal_pos = [3, 3]\n",
        "        self.r1=[0,2]\n",
        "        self.r2=[1,1]\n",
        "        self.r3=[1,3]\n",
        "        self.state = np.zeros((4,4))\n",
        "        self.state[tuple(self.agent_pos)] = 1\n",
        "        self.state[tuple(self.goal_pos)] = 0.0\n",
        "        self.state[tuple(self.r1)] = 0.0\n",
        "        self.state[tuple(self.r2)] = 0.0\n",
        "        self.state[tuple(self.r3)] = 0.0\n",
        "        observation = self.state.flatten()\n",
        "        return observation\n",
        "    \n",
        "    def step(self, action):\n",
        "        self.state = np.random.choice(self.observation_space.n)\n",
        "        if action == 0:  #Down\n",
        "          self.agent_pos[0] += 1\n",
        "        if action == 1:  #Up\n",
        "          self.agent_pos[0] -= 1\n",
        "        if action == 2:  #Right\n",
        "          self.agent_pos[1] += 1\n",
        "        if action == 3:  #Left\n",
        "          self.agent_pos[1] -= 1\n",
        "          \n",
        "        self.agent_pos = np.clip(self.agent_pos, 0, 3)\n",
        "        self.state = np.zeros((4,4))\n",
        "        self.state[tuple(self.agent_pos)] = 1\n",
        "        self.state[tuple(self.goal_pos)] = 0.0\n",
        "        self.state[tuple(self.r1)] = 0.0\n",
        "        self.state[tuple(self.r2)] = 0.0\n",
        "        self.state[tuple(self.r3)] = 0.0\n",
        "        observation = self.state.flatten()\n",
        "        \n",
        "        \n",
        "        if (self.agent_pos == self.goal_pos).all():\n",
        "          self.reward += 1\n",
        "        elif (self.agent_pos == self.r1).all():\n",
        "          self.reward +=0.4\n",
        "        elif (self.agent_pos == self.r2).all():\n",
        "          self.reward +=-0.8\n",
        "        elif (self.agent_pos == self.r3).all():\n",
        "          self.reward +=0.4\n",
        "\n",
        "        \n",
        "        self.timestep += 1\n",
        "        if self.timestep >= self.max_timesteps:\n",
        "          done = True\n",
        "        elif (self.agent_pos == self.goal_pos).all():\n",
        "          done = True\n",
        "        else:\n",
        "          done = False \n",
        "        info = {}\n",
        "        return observation, self.reward, done, info\n",
        "\n",
        "    ###\n",
        "    def get_agent_pos(self):\n",
        "\n",
        "      pos = np.zeros((4,4))      \n",
        "      for row in range(4):\n",
        "        for col in range(4):\n",
        "          if (row == self.agent_pos[0] and col == self.agent_pos[1]):\n",
        "            pos[row,col] = 1\n",
        "      \n",
        "      pos = pos.flatten()\n",
        "      return pos\n",
        "    ###\n",
        "    def render(self):\n",
        "        plt.imshow(self.state)"
      ],
      "metadata": {
        "id": "tByX1mONTaSz"
      },
      "execution_count": 4,
      "outputs": []
    },
    {
      "cell_type": "code",
      "source": [
        "###\n",
        "online_net = Network(DeterGridEnvironment)\n",
        "target_net = Network(DeterGridEnvironment)\n",
        "\n",
        "# declare replay buffer\n",
        "replay_buffer = deque(maxlen=50000)\n",
        "\n",
        "# assign the same parameters of online net to target net\n",
        "target_net.load_state_dict(online_net.state_dict())\n",
        "\n",
        "# define optimizer\n",
        "optimizer = torch.optim.Adam(online_net.parameters(), lr=0.005) # 0.005\n",
        "###"
      ],
      "metadata": {
        "id": "B6qkyq3gQ7mk"
      },
      "execution_count": 5,
      "outputs": []
    },
    {
      "cell_type": "code",
      "source": [
        "class RandomAgent:\n",
        "  def __init__(self, env):\n",
        "    self.env = env\n",
        "    self.observation_space = env.observation_space\n",
        "    self.action_space = env.action_space\n",
        "\n",
        "  def step(self, observation):\n",
        "    return np.random.choice(self.action_space.n)"
      ],
      "metadata": {
        "id": "P8j5dZ-FTdIX"
      },
      "execution_count": 6,
      "outputs": []
    },
    {
      "cell_type": "code",
      "source": [
        "env = DeterGridEnvironment()\n",
        "agent = RandomAgent(env)\n",
        "\n",
        "obs = env.reset()\n",
        "done = False\n",
        "\n",
        "output_grid = widgets.Grid(1, 1)\n",
        "with output_grid.output_to(0, 0):\n",
        "  env.render()\n",
        "\n",
        "###\n",
        "# while not done:\n",
        "for i in range(100):\n",
        "\n",
        "###\n",
        "  action = agent.step(obs)\n",
        "  ###\n",
        "  old_state = env.get_agent_pos()\n",
        "  ###\n",
        "  obs, reward, done, info = env.step(action)\n",
        "  ###\n",
        "  new_state = env.get_agent_pos()\n",
        "  # initialize buffer\n",
        "  done_i = int(done == True) \n",
        "  trans = (old_state,action,reward,done_i,new_state)\n",
        "  replay_buffer.append(trans)\n",
        "  ###\n",
        "  \n",
        "  with output_grid.output_to(0, 0):\n",
        "    output_grid.clear_cell()\n",
        "    env.render()\n",
        "  ###\n",
        "  if done:\n",
        "    env.reset()\n",
        "  ###\n",
        "  \n",
        "print('Total reward:', env.reward)"
      ],
      "metadata": {
        "colab": {
          "base_uri": "https://localhost:8080/",
          "height": 290
        },
        "id": "776pvfCqTgty",
        "outputId": "1371738c-12ad-4417-c1c9-399e0ba0c695"
      },
      "execution_count": 7,
      "outputs": [
        {
          "output_type": "display_data",
          "data": {
            "text/plain": [
              "<IPython.core.display.HTML object>"
            ],
            "text/html": [
              "<style>\n",
              "       table#id2, #id2 > tbody > tr > th, #id2 > tbody > tr > td {\n",
              "         border: 1px solid lightgray;\n",
              "         border-collapse:collapse;\n",
              "         \n",
              "        }</style>"
            ]
          },
          "metadata": {}
        },
        {
          "output_type": "display_data",
          "data": {
            "text/plain": [
              "<IPython.core.display.HTML object>"
            ],
            "text/html": [
              "<table id=id2><tr><td id=id2-0-0></td></tr></table>"
            ]
          },
          "metadata": {}
        },
        {
          "output_type": "display_data",
          "data": {
            "text/plain": [
              "<IPython.core.display.Javascript object>"
            ],
            "application/javascript": [
              "window[\"31f0effc-bac5-11ec-b935-0242ac1c0002\"] = google.colab.output.getActiveOutputArea();\n",
              "//# sourceURL=js_b8c5ed3ae2"
            ]
          },
          "metadata": {}
        },
        {
          "output_type": "display_data",
          "data": {
            "text/plain": [
              "<IPython.core.display.Javascript object>"
            ],
            "application/javascript": [
              "window[\"31f1783c-bac5-11ec-b935-0242ac1c0002\"] = document.querySelector(\"#id2-0-0\");\n",
              "//# sourceURL=js_b804e8a4f0"
            ]
          },
          "metadata": {}
        },
        {
          "output_type": "display_data",
          "data": {
            "text/plain": [
              "<IPython.core.display.Javascript object>"
            ],
            "application/javascript": [
              "window[\"31f1f3e8-bac5-11ec-b935-0242ac1c0002\"] = google.colab.output.setActiveOutputArea(window[\"31f1783c-bac5-11ec-b935-0242ac1c0002\"]);\n",
              "//# sourceURL=js_97f817550b"
            ]
          },
          "metadata": {}
        },
        {
          "output_type": "display_data",
          "data": {
            "text/plain": [
              "<IPython.core.display.Javascript object>"
            ],
            "application/javascript": [
              "window[\"3229e2d0-bac5-11ec-b935-0242ac1c0002\"] = google.colab.output.setActiveOutputArea(window[\"31f0effc-bac5-11ec-b935-0242ac1c0002\"]);\n",
              "//# sourceURL=js_5658c74249"
            ]
          },
          "metadata": {}
        },
        {
          "output_type": "display_data",
          "data": {
            "text/plain": [
              "<IPython.core.display.Javascript object>"
            ],
            "application/javascript": [
              "window[\"322e3376-bac5-11ec-b935-0242ac1c0002\"] = google.colab.output.getActiveOutputArea();\n",
              "//# sourceURL=js_8e8f7c0919"
            ]
          },
          "metadata": {}
        },
        {
          "output_type": "display_data",
          "data": {
            "text/plain": [
              "<IPython.core.display.Javascript object>"
            ],
            "application/javascript": [
              "window[\"322eaaae-bac5-11ec-b935-0242ac1c0002\"] = document.querySelector(\"#id2-0-0\");\n",
              "//# sourceURL=js_7243708bf5"
            ]
          },
          "metadata": {}
        },
        {
          "output_type": "display_data",
          "data": {
            "text/plain": [
              "<IPython.core.display.Javascript object>"
            ],
            "application/javascript": [
              "window[\"322f4702-bac5-11ec-b935-0242ac1c0002\"] = google.colab.output.setActiveOutputArea(window[\"322eaaae-bac5-11ec-b935-0242ac1c0002\"]);\n",
              "//# sourceURL=js_643e1853dd"
            ]
          },
          "metadata": {}
        },
        {
          "output_type": "display_data",
          "data": {
            "text/plain": [
              "<IPython.core.display.Javascript object>"
            ],
            "application/javascript": [
              "window[\"324c79da-bac5-11ec-b935-0242ac1c0002\"] = google.colab.output.setActiveOutputArea(window[\"322e3376-bac5-11ec-b935-0242ac1c0002\"]);\n",
              "//# sourceURL=js_afbcc0119b"
            ]
          },
          "metadata": {}
        },
        {
          "output_type": "display_data",
          "data": {
            "text/plain": [
              "<IPython.core.display.Javascript object>"
            ],
            "application/javascript": [
              "window[\"32507a6c-bac5-11ec-b935-0242ac1c0002\"] = google.colab.output.getActiveOutputArea();\n",
              "//# sourceURL=js_e91d7f3b97"
            ]
          },
          "metadata": {}
        },
        {
          "output_type": "display_data",
          "data": {
            "text/plain": [
              "<IPython.core.display.Javascript object>"
            ],
            "application/javascript": [
              "window[\"32510658-bac5-11ec-b935-0242ac1c0002\"] = document.querySelector(\"#id2-0-0\");\n",
              "//# sourceURL=js_3e9da55ba8"
            ]
          },
          "metadata": {}
        },
        {
          "output_type": "display_data",
          "data": {
            "text/plain": [
              "<IPython.core.display.Javascript object>"
            ],
            "application/javascript": [
              "window[\"3251a6a8-bac5-11ec-b935-0242ac1c0002\"] = google.colab.output.setActiveOutputArea(window[\"32510658-bac5-11ec-b935-0242ac1c0002\"]);\n",
              "//# sourceURL=js_1b5e9c7489"
            ]
          },
          "metadata": {}
        },
        {
          "output_type": "display_data",
          "data": {
            "text/plain": [
              "<IPython.core.display.Javascript object>"
            ],
            "application/javascript": [
              "window[\"327a844c-bac5-11ec-b935-0242ac1c0002\"] = google.colab.output.setActiveOutputArea(window[\"32507a6c-bac5-11ec-b935-0242ac1c0002\"]);\n",
              "//# sourceURL=js_f8094dd1f3"
            ]
          },
          "metadata": {}
        },
        {
          "output_type": "display_data",
          "data": {
            "text/plain": [
              "<IPython.core.display.Javascript object>"
            ],
            "application/javascript": [
              "window[\"327e836c-bac5-11ec-b935-0242ac1c0002\"] = google.colab.output.getActiveOutputArea();\n",
              "//# sourceURL=js_7a8635bc95"
            ]
          },
          "metadata": {}
        },
        {
          "output_type": "display_data",
          "data": {
            "text/plain": [
              "<IPython.core.display.Javascript object>"
            ],
            "application/javascript": [
              "window[\"327f36e0-bac5-11ec-b935-0242ac1c0002\"] = document.querySelector(\"#id2-0-0\");\n",
              "//# sourceURL=js_e05424ae8b"
            ]
          },
          "metadata": {}
        },
        {
          "output_type": "display_data",
          "data": {
            "text/plain": [
              "<IPython.core.display.Javascript object>"
            ],
            "application/javascript": [
              "window[\"327fa83c-bac5-11ec-b935-0242ac1c0002\"] = google.colab.output.setActiveOutputArea(window[\"327f36e0-bac5-11ec-b935-0242ac1c0002\"]);\n",
              "//# sourceURL=js_2b26ac31a2"
            ]
          },
          "metadata": {}
        },
        {
          "output_type": "display_data",
          "data": {
            "text/plain": [
              "<IPython.core.display.Javascript object>"
            ],
            "application/javascript": [
              "window[\"32b424d6-bac5-11ec-b935-0242ac1c0002\"] = google.colab.output.setActiveOutputArea(window[\"327e836c-bac5-11ec-b935-0242ac1c0002\"]);\n",
              "//# sourceURL=js_788be7c4c2"
            ]
          },
          "metadata": {}
        },
        {
          "output_type": "display_data",
          "data": {
            "text/plain": [
              "<IPython.core.display.Javascript object>"
            ],
            "application/javascript": [
              "window[\"32b73d38-bac5-11ec-b935-0242ac1c0002\"] = google.colab.output.getActiveOutputArea();\n",
              "//# sourceURL=js_f7704685b0"
            ]
          },
          "metadata": {}
        },
        {
          "output_type": "display_data",
          "data": {
            "text/plain": [
              "<IPython.core.display.Javascript object>"
            ],
            "application/javascript": [
              "window[\"32b79af8-bac5-11ec-b935-0242ac1c0002\"] = document.querySelector(\"#id2-0-0\");\n",
              "//# sourceURL=js_18c5a08983"
            ]
          },
          "metadata": {}
        },
        {
          "output_type": "display_data",
          "data": {
            "text/plain": [
              "<IPython.core.display.Javascript object>"
            ],
            "application/javascript": [
              "window[\"32b85074-bac5-11ec-b935-0242ac1c0002\"] = google.colab.output.setActiveOutputArea(window[\"32b79af8-bac5-11ec-b935-0242ac1c0002\"]);\n",
              "//# sourceURL=js_39008612a1"
            ]
          },
          "metadata": {}
        },
        {
          "output_type": "display_data",
          "data": {
            "text/plain": [
              "<IPython.core.display.Javascript object>"
            ],
            "application/javascript": [
              "window[\"32d6c61c-bac5-11ec-b935-0242ac1c0002\"] = google.colab.output.setActiveOutputArea(window[\"32b73d38-bac5-11ec-b935-0242ac1c0002\"]);\n",
              "//# sourceURL=js_4ed8381656"
            ]
          },
          "metadata": {}
        },
        {
          "output_type": "display_data",
          "data": {
            "text/plain": [
              "<IPython.core.display.Javascript object>"
            ],
            "application/javascript": [
              "window[\"32d9dd98-bac5-11ec-b935-0242ac1c0002\"] = google.colab.output.getActiveOutputArea();\n",
              "//# sourceURL=js_805991e489"
            ]
          },
          "metadata": {}
        },
        {
          "output_type": "display_data",
          "data": {
            "text/plain": [
              "<IPython.core.display.Javascript object>"
            ],
            "application/javascript": [
              "window[\"32da6b00-bac5-11ec-b935-0242ac1c0002\"] = document.querySelector(\"#id2-0-0\");\n",
              "//# sourceURL=js_227eb1fcb7"
            ]
          },
          "metadata": {}
        },
        {
          "output_type": "display_data",
          "data": {
            "text/plain": [
              "<IPython.core.display.Javascript object>"
            ],
            "application/javascript": [
              "window[\"32dac4ec-bac5-11ec-b935-0242ac1c0002\"] = google.colab.output.setActiveOutputArea(window[\"32da6b00-bac5-11ec-b935-0242ac1c0002\"]);\n",
              "//# sourceURL=js_ef4eef8f10"
            ]
          },
          "metadata": {}
        },
        {
          "output_type": "display_data",
          "data": {
            "text/plain": [
              "<IPython.core.display.Javascript object>"
            ],
            "application/javascript": [
              "window[\"331e6238-bac5-11ec-b935-0242ac1c0002\"] = google.colab.output.setActiveOutputArea(window[\"32d9dd98-bac5-11ec-b935-0242ac1c0002\"]);\n",
              "//# sourceURL=js_0c432bf5c3"
            ]
          },
          "metadata": {}
        },
        {
          "output_type": "display_data",
          "data": {
            "text/plain": [
              "<IPython.core.display.Javascript object>"
            ],
            "application/javascript": [
              "window[\"33259940-bac5-11ec-b935-0242ac1c0002\"] = google.colab.output.getActiveOutputArea();\n",
              "//# sourceURL=js_5944d1a589"
            ]
          },
          "metadata": {}
        },
        {
          "output_type": "display_data",
          "data": {
            "text/plain": [
              "<IPython.core.display.Javascript object>"
            ],
            "application/javascript": [
              "window[\"3327b7e8-bac5-11ec-b935-0242ac1c0002\"] = document.querySelector(\"#id2-0-0\");\n",
              "//# sourceURL=js_3ec7228ad9"
            ]
          },
          "metadata": {}
        },
        {
          "output_type": "display_data",
          "data": {
            "text/plain": [
              "<IPython.core.display.Javascript object>"
            ],
            "application/javascript": [
              "window[\"33283498-bac5-11ec-b935-0242ac1c0002\"] = google.colab.output.setActiveOutputArea(window[\"3327b7e8-bac5-11ec-b935-0242ac1c0002\"]);\n",
              "//# sourceURL=js_163551d178"
            ]
          },
          "metadata": {}
        },
        {
          "output_type": "display_data",
          "data": {
            "text/plain": [
              "<IPython.core.display.Javascript object>"
            ],
            "application/javascript": [
              "window[\"335c8be4-bac5-11ec-b935-0242ac1c0002\"] = google.colab.output.setActiveOutputArea(window[\"33259940-bac5-11ec-b935-0242ac1c0002\"]);\n",
              "//# sourceURL=js_37016e03b9"
            ]
          },
          "metadata": {}
        },
        {
          "output_type": "display_data",
          "data": {
            "text/plain": [
              "<IPython.core.display.Javascript object>"
            ],
            "application/javascript": [
              "window[\"336375d0-bac5-11ec-b935-0242ac1c0002\"] = google.colab.output.getActiveOutputArea();\n",
              "//# sourceURL=js_65c7963072"
            ]
          },
          "metadata": {}
        },
        {
          "output_type": "display_data",
          "data": {
            "text/plain": [
              "<IPython.core.display.Javascript object>"
            ],
            "application/javascript": [
              "window[\"33665bc4-bac5-11ec-b935-0242ac1c0002\"] = document.querySelector(\"#id2-0-0\");\n",
              "//# sourceURL=js_377c02602b"
            ]
          },
          "metadata": {}
        },
        {
          "output_type": "display_data",
          "data": {
            "text/plain": [
              "<IPython.core.display.Javascript object>"
            ],
            "application/javascript": [
              "window[\"3367af92-bac5-11ec-b935-0242ac1c0002\"] = google.colab.output.setActiveOutputArea(window[\"33665bc4-bac5-11ec-b935-0242ac1c0002\"]);\n",
              "//# sourceURL=js_c7b1320a50"
            ]
          },
          "metadata": {}
        },
        {
          "output_type": "display_data",
          "data": {
            "text/plain": [
              "<IPython.core.display.Javascript object>"
            ],
            "application/javascript": [
              "window[\"339b13a0-bac5-11ec-b935-0242ac1c0002\"] = google.colab.output.setActiveOutputArea(window[\"336375d0-bac5-11ec-b935-0242ac1c0002\"]);\n",
              "//# sourceURL=js_d65d020598"
            ]
          },
          "metadata": {}
        },
        {
          "output_type": "display_data",
          "data": {
            "text/plain": [
              "<IPython.core.display.Javascript object>"
            ],
            "application/javascript": [
              "window[\"33a0e1c2-bac5-11ec-b935-0242ac1c0002\"] = google.colab.output.getActiveOutputArea();\n",
              "//# sourceURL=js_16846dec16"
            ]
          },
          "metadata": {}
        },
        {
          "output_type": "display_data",
          "data": {
            "text/plain": [
              "<IPython.core.display.Javascript object>"
            ],
            "application/javascript": [
              "window[\"33a22c4e-bac5-11ec-b935-0242ac1c0002\"] = document.querySelector(\"#id2-0-0\");\n",
              "//# sourceURL=js_552c0a50eb"
            ]
          },
          "metadata": {}
        },
        {
          "output_type": "display_data",
          "data": {
            "text/plain": [
              "<IPython.core.display.Javascript object>"
            ],
            "application/javascript": [
              "window[\"33a3716c-bac5-11ec-b935-0242ac1c0002\"] = google.colab.output.setActiveOutputArea(window[\"33a22c4e-bac5-11ec-b935-0242ac1c0002\"]);\n",
              "//# sourceURL=js_0bdc0d4949"
            ]
          },
          "metadata": {}
        },
        {
          "output_type": "display_data",
          "data": {
            "text/plain": [
              "<IPython.core.display.Javascript object>"
            ],
            "application/javascript": [
              "window[\"33e51824-bac5-11ec-b935-0242ac1c0002\"] = google.colab.output.setActiveOutputArea(window[\"33a0e1c2-bac5-11ec-b935-0242ac1c0002\"]);\n",
              "//# sourceURL=js_c17cc0cd50"
            ]
          },
          "metadata": {}
        },
        {
          "output_type": "display_data",
          "data": {
            "text/plain": [
              "<IPython.core.display.Javascript object>"
            ],
            "application/javascript": [
              "window[\"33ec50bc-bac5-11ec-b935-0242ac1c0002\"] = google.colab.output.getActiveOutputArea();\n",
              "//# sourceURL=js_d8c5124b2e"
            ]
          },
          "metadata": {}
        },
        {
          "output_type": "display_data",
          "data": {
            "text/plain": [
              "<IPython.core.display.Javascript object>"
            ],
            "application/javascript": [
              "window[\"33ee3742-bac5-11ec-b935-0242ac1c0002\"] = document.querySelector(\"#id2-0-0\");\n",
              "//# sourceURL=js_370d672890"
            ]
          },
          "metadata": {}
        },
        {
          "output_type": "display_data",
          "data": {
            "text/plain": [
              "<IPython.core.display.Javascript object>"
            ],
            "application/javascript": [
              "window[\"33ef18b0-bac5-11ec-b935-0242ac1c0002\"] = google.colab.output.setActiveOutputArea(window[\"33ee3742-bac5-11ec-b935-0242ac1c0002\"]);\n",
              "//# sourceURL=js_bfdc6c92a1"
            ]
          },
          "metadata": {}
        },
        {
          "output_type": "display_data",
          "data": {
            "text/plain": [
              "<IPython.core.display.Javascript object>"
            ],
            "application/javascript": [
              "window[\"34270fae-bac5-11ec-b935-0242ac1c0002\"] = google.colab.output.setActiveOutputArea(window[\"33ec50bc-bac5-11ec-b935-0242ac1c0002\"]);\n",
              "//# sourceURL=js_ccdb189b3b"
            ]
          },
          "metadata": {}
        },
        {
          "output_type": "display_data",
          "data": {
            "text/plain": [
              "<IPython.core.display.Javascript object>"
            ],
            "application/javascript": [
              "window[\"342b8cbe-bac5-11ec-b935-0242ac1c0002\"] = google.colab.output.getActiveOutputArea();\n",
              "//# sourceURL=js_5559fa4853"
            ]
          },
          "metadata": {}
        },
        {
          "output_type": "display_data",
          "data": {
            "text/plain": [
              "<IPython.core.display.Javascript object>"
            ],
            "application/javascript": [
              "window[\"342c2674-bac5-11ec-b935-0242ac1c0002\"] = document.querySelector(\"#id2-0-0\");\n",
              "//# sourceURL=js_b92384ef64"
            ]
          },
          "metadata": {}
        },
        {
          "output_type": "display_data",
          "data": {
            "text/plain": [
              "<IPython.core.display.Javascript object>"
            ],
            "application/javascript": [
              "window[\"342ce06e-bac5-11ec-b935-0242ac1c0002\"] = google.colab.output.setActiveOutputArea(window[\"342c2674-bac5-11ec-b935-0242ac1c0002\"]);\n",
              "//# sourceURL=js_01d7b36ec9"
            ]
          },
          "metadata": {}
        },
        {
          "output_type": "display_data",
          "data": {
            "text/plain": [
              "<IPython.core.display.Javascript object>"
            ],
            "application/javascript": [
              "window[\"3472db50-bac5-11ec-b935-0242ac1c0002\"] = google.colab.output.setActiveOutputArea(window[\"342b8cbe-bac5-11ec-b935-0242ac1c0002\"]);\n",
              "//# sourceURL=js_df16f060f9"
            ]
          },
          "metadata": {}
        },
        {
          "output_type": "display_data",
          "data": {
            "text/plain": [
              "<IPython.core.display.Javascript object>"
            ],
            "application/javascript": [
              "window[\"34765168-bac5-11ec-b935-0242ac1c0002\"] = google.colab.output.getActiveOutputArea();\n",
              "//# sourceURL=js_d456f20c00"
            ]
          },
          "metadata": {}
        },
        {
          "output_type": "display_data",
          "data": {
            "text/plain": [
              "<IPython.core.display.Javascript object>"
            ],
            "application/javascript": [
              "window[\"3476dc82-bac5-11ec-b935-0242ac1c0002\"] = document.querySelector(\"#id2-0-0\");\n",
              "//# sourceURL=js_603caa1840"
            ]
          },
          "metadata": {}
        },
        {
          "output_type": "display_data",
          "data": {
            "text/plain": [
              "<IPython.core.display.Javascript object>"
            ],
            "application/javascript": [
              "window[\"347756e4-bac5-11ec-b935-0242ac1c0002\"] = google.colab.output.setActiveOutputArea(window[\"3476dc82-bac5-11ec-b935-0242ac1c0002\"]);\n",
              "//# sourceURL=js_0b6aca9f2d"
            ]
          },
          "metadata": {}
        },
        {
          "output_type": "display_data",
          "data": {
            "text/plain": [
              "<IPython.core.display.Javascript object>"
            ],
            "application/javascript": [
              "window[\"34aa0cec-bac5-11ec-b935-0242ac1c0002\"] = google.colab.output.setActiveOutputArea(window[\"34765168-bac5-11ec-b935-0242ac1c0002\"]);\n",
              "//# sourceURL=js_94f4fcb28e"
            ]
          },
          "metadata": {}
        },
        {
          "output_type": "display_data",
          "data": {
            "text/plain": [
              "<IPython.core.display.Javascript object>"
            ],
            "application/javascript": [
              "window[\"34b174b4-bac5-11ec-b935-0242ac1c0002\"] = google.colab.output.getActiveOutputArea();\n",
              "//# sourceURL=js_8eb4f042a0"
            ]
          },
          "metadata": {}
        },
        {
          "output_type": "display_data",
          "data": {
            "text/plain": [
              "<IPython.core.display.Javascript object>"
            ],
            "application/javascript": [
              "window[\"34b2f97e-bac5-11ec-b935-0242ac1c0002\"] = document.querySelector(\"#id2-0-0\");\n",
              "//# sourceURL=js_cc5d0934e9"
            ]
          },
          "metadata": {}
        },
        {
          "output_type": "display_data",
          "data": {
            "text/plain": [
              "<IPython.core.display.Javascript object>"
            ],
            "application/javascript": [
              "window[\"34b455da-bac5-11ec-b935-0242ac1c0002\"] = google.colab.output.setActiveOutputArea(window[\"34b2f97e-bac5-11ec-b935-0242ac1c0002\"]);\n",
              "//# sourceURL=js_164e3b2ec8"
            ]
          },
          "metadata": {}
        },
        {
          "output_type": "display_data",
          "data": {
            "text/plain": [
              "<IPython.core.display.Javascript object>"
            ],
            "application/javascript": [
              "window[\"35136c28-bac5-11ec-b935-0242ac1c0002\"] = google.colab.output.setActiveOutputArea(window[\"34b174b4-bac5-11ec-b935-0242ac1c0002\"]);\n",
              "//# sourceURL=js_bd40e9724d"
            ]
          },
          "metadata": {}
        },
        {
          "output_type": "display_data",
          "data": {
            "text/plain": [
              "<IPython.core.display.Javascript object>"
            ],
            "application/javascript": [
              "window[\"351af5b0-bac5-11ec-b935-0242ac1c0002\"] = google.colab.output.getActiveOutputArea();\n",
              "//# sourceURL=js_b5af3660d5"
            ]
          },
          "metadata": {}
        },
        {
          "output_type": "display_data",
          "data": {
            "text/plain": [
              "<IPython.core.display.Javascript object>"
            ],
            "application/javascript": [
              "window[\"351c1396-bac5-11ec-b935-0242ac1c0002\"] = document.querySelector(\"#id2-0-0\");\n",
              "//# sourceURL=js_f229c749ce"
            ]
          },
          "metadata": {}
        },
        {
          "output_type": "display_data",
          "data": {
            "text/plain": [
              "<IPython.core.display.Javascript object>"
            ],
            "application/javascript": [
              "window[\"35204902-bac5-11ec-b935-0242ac1c0002\"] = google.colab.output.setActiveOutputArea(window[\"351c1396-bac5-11ec-b935-0242ac1c0002\"]);\n",
              "//# sourceURL=js_68aefb42b2"
            ]
          },
          "metadata": {}
        },
        {
          "output_type": "display_data",
          "data": {
            "text/plain": [
              "<IPython.core.display.Javascript object>"
            ],
            "application/javascript": [
              "window[\"35582106-bac5-11ec-b935-0242ac1c0002\"] = google.colab.output.setActiveOutputArea(window[\"351af5b0-bac5-11ec-b935-0242ac1c0002\"]);\n",
              "//# sourceURL=js_274ab3736c"
            ]
          },
          "metadata": {}
        },
        {
          "output_type": "display_data",
          "data": {
            "text/plain": [
              "<IPython.core.display.Javascript object>"
            ],
            "application/javascript": [
              "window[\"355e7128-bac5-11ec-b935-0242ac1c0002\"] = google.colab.output.getActiveOutputArea();\n",
              "//# sourceURL=js_e433187049"
            ]
          },
          "metadata": {}
        },
        {
          "output_type": "display_data",
          "data": {
            "text/plain": [
              "<IPython.core.display.Javascript object>"
            ],
            "application/javascript": [
              "window[\"355fb984-bac5-11ec-b935-0242ac1c0002\"] = document.querySelector(\"#id2-0-0\");\n",
              "//# sourceURL=js_fd5c9ec9fa"
            ]
          },
          "metadata": {}
        },
        {
          "output_type": "display_data",
          "data": {
            "text/plain": [
              "<IPython.core.display.Javascript object>"
            ],
            "application/javascript": [
              "window[\"35611270-bac5-11ec-b935-0242ac1c0002\"] = google.colab.output.setActiveOutputArea(window[\"355fb984-bac5-11ec-b935-0242ac1c0002\"]);\n",
              "//# sourceURL=js_8e3cca3146"
            ]
          },
          "metadata": {}
        },
        {
          "output_type": "display_data",
          "data": {
            "text/plain": [
              "<IPython.core.display.Javascript object>"
            ],
            "application/javascript": [
              "window[\"359b057a-bac5-11ec-b935-0242ac1c0002\"] = google.colab.output.setActiveOutputArea(window[\"355e7128-bac5-11ec-b935-0242ac1c0002\"]);\n",
              "//# sourceURL=js_6e52bd9598"
            ]
          },
          "metadata": {}
        },
        {
          "output_type": "display_data",
          "data": {
            "text/plain": [
              "<IPython.core.display.Javascript object>"
            ],
            "application/javascript": [
              "window[\"35a11604-bac5-11ec-b935-0242ac1c0002\"] = google.colab.output.getActiveOutputArea();\n",
              "//# sourceURL=js_a76ad96ac1"
            ]
          },
          "metadata": {}
        },
        {
          "output_type": "display_data",
          "data": {
            "text/plain": [
              "<IPython.core.display.Javascript object>"
            ],
            "application/javascript": [
              "window[\"35a288a4-bac5-11ec-b935-0242ac1c0002\"] = document.querySelector(\"#id2-0-0\");\n",
              "//# sourceURL=js_fd24c2fc8c"
            ]
          },
          "metadata": {}
        },
        {
          "output_type": "display_data",
          "data": {
            "text/plain": [
              "<IPython.core.display.Javascript object>"
            ],
            "application/javascript": [
              "window[\"35a2e5f6-bac5-11ec-b935-0242ac1c0002\"] = google.colab.output.setActiveOutputArea(window[\"35a288a4-bac5-11ec-b935-0242ac1c0002\"]);\n",
              "//# sourceURL=js_fd751e20f2"
            ]
          },
          "metadata": {}
        },
        {
          "output_type": "display_data",
          "data": {
            "text/plain": [
              "<IPython.core.display.Javascript object>"
            ],
            "application/javascript": [
              "window[\"35ec66fe-bac5-11ec-b935-0242ac1c0002\"] = google.colab.output.setActiveOutputArea(window[\"35a11604-bac5-11ec-b935-0242ac1c0002\"]);\n",
              "//# sourceURL=js_789ed92473"
            ]
          },
          "metadata": {}
        },
        {
          "output_type": "display_data",
          "data": {
            "text/plain": [
              "<IPython.core.display.Javascript object>"
            ],
            "application/javascript": [
              "window[\"35f08e6e-bac5-11ec-b935-0242ac1c0002\"] = google.colab.output.getActiveOutputArea();\n",
              "//# sourceURL=js_6a192d990f"
            ]
          },
          "metadata": {}
        },
        {
          "output_type": "display_data",
          "data": {
            "text/plain": [
              "<IPython.core.display.Javascript object>"
            ],
            "application/javascript": [
              "window[\"35f17a22-bac5-11ec-b935-0242ac1c0002\"] = document.querySelector(\"#id2-0-0\");\n",
              "//# sourceURL=js_d128f5e616"
            ]
          },
          "metadata": {}
        },
        {
          "output_type": "display_data",
          "data": {
            "text/plain": [
              "<IPython.core.display.Javascript object>"
            ],
            "application/javascript": [
              "window[\"35f24c4a-bac5-11ec-b935-0242ac1c0002\"] = google.colab.output.setActiveOutputArea(window[\"35f17a22-bac5-11ec-b935-0242ac1c0002\"]);\n",
              "//# sourceURL=js_1be7925ba2"
            ]
          },
          "metadata": {}
        },
        {
          "output_type": "display_data",
          "data": {
            "text/plain": [
              "<IPython.core.display.Javascript object>"
            ],
            "application/javascript": [
              "window[\"3631b2ae-bac5-11ec-b935-0242ac1c0002\"] = google.colab.output.setActiveOutputArea(window[\"35f08e6e-bac5-11ec-b935-0242ac1c0002\"]);\n",
              "//# sourceURL=js_157e157542"
            ]
          },
          "metadata": {}
        },
        {
          "output_type": "display_data",
          "data": {
            "text/plain": [
              "<IPython.core.display.Javascript object>"
            ],
            "application/javascript": [
              "window[\"3637786a-bac5-11ec-b935-0242ac1c0002\"] = google.colab.output.getActiveOutputArea();\n",
              "//# sourceURL=js_eaff343b27"
            ]
          },
          "metadata": {}
        },
        {
          "output_type": "display_data",
          "data": {
            "text/plain": [
              "<IPython.core.display.Javascript object>"
            ],
            "application/javascript": [
              "window[\"3638b07c-bac5-11ec-b935-0242ac1c0002\"] = document.querySelector(\"#id2-0-0\");\n",
              "//# sourceURL=js_40d2629a75"
            ]
          },
          "metadata": {}
        },
        {
          "output_type": "display_data",
          "data": {
            "text/plain": [
              "<IPython.core.display.Javascript object>"
            ],
            "application/javascript": [
              "window[\"3639be22-bac5-11ec-b935-0242ac1c0002\"] = google.colab.output.setActiveOutputArea(window[\"3638b07c-bac5-11ec-b935-0242ac1c0002\"]);\n",
              "//# sourceURL=js_b8eeb76d83"
            ]
          },
          "metadata": {}
        },
        {
          "output_type": "display_data",
          "data": {
            "text/plain": [
              "<IPython.core.display.Javascript object>"
            ],
            "application/javascript": [
              "window[\"3670f86a-bac5-11ec-b935-0242ac1c0002\"] = google.colab.output.setActiveOutputArea(window[\"3637786a-bac5-11ec-b935-0242ac1c0002\"]);\n",
              "//# sourceURL=js_ab75eb999c"
            ]
          },
          "metadata": {}
        },
        {
          "output_type": "display_data",
          "data": {
            "text/plain": [
              "<IPython.core.display.Javascript object>"
            ],
            "application/javascript": [
              "window[\"3675d4d4-bac5-11ec-b935-0242ac1c0002\"] = google.colab.output.getActiveOutputArea();\n",
              "//# sourceURL=js_2685817ca3"
            ]
          },
          "metadata": {}
        },
        {
          "output_type": "display_data",
          "data": {
            "text/plain": [
              "<IPython.core.display.Javascript object>"
            ],
            "application/javascript": [
              "window[\"3676afc6-bac5-11ec-b935-0242ac1c0002\"] = document.querySelector(\"#id2-0-0\");\n",
              "//# sourceURL=js_8ceace5000"
            ]
          },
          "metadata": {}
        },
        {
          "output_type": "display_data",
          "data": {
            "text/plain": [
              "<IPython.core.display.Javascript object>"
            ],
            "application/javascript": [
              "window[\"36777906-bac5-11ec-b935-0242ac1c0002\"] = google.colab.output.setActiveOutputArea(window[\"3676afc6-bac5-11ec-b935-0242ac1c0002\"]);\n",
              "//# sourceURL=js_b791251dfb"
            ]
          },
          "metadata": {}
        },
        {
          "output_type": "display_data",
          "data": {
            "text/plain": [
              "<IPython.core.display.Javascript object>"
            ],
            "application/javascript": [
              "window[\"36aee3a0-bac5-11ec-b935-0242ac1c0002\"] = google.colab.output.setActiveOutputArea(window[\"3675d4d4-bac5-11ec-b935-0242ac1c0002\"]);\n",
              "//# sourceURL=js_5be66044cb"
            ]
          },
          "metadata": {}
        },
        {
          "output_type": "display_data",
          "data": {
            "text/plain": [
              "<IPython.core.display.Javascript object>"
            ],
            "application/javascript": [
              "window[\"36b3c794-bac5-11ec-b935-0242ac1c0002\"] = google.colab.output.getActiveOutputArea();\n",
              "//# sourceURL=js_7076d3a91b"
            ]
          },
          "metadata": {}
        },
        {
          "output_type": "display_data",
          "data": {
            "text/plain": [
              "<IPython.core.display.Javascript object>"
            ],
            "application/javascript": [
              "window[\"36b45178-bac5-11ec-b935-0242ac1c0002\"] = document.querySelector(\"#id2-0-0\");\n",
              "//# sourceURL=js_932421ab6c"
            ]
          },
          "metadata": {}
        },
        {
          "output_type": "display_data",
          "data": {
            "text/plain": [
              "<IPython.core.display.Javascript object>"
            ],
            "application/javascript": [
              "window[\"36b5280a-bac5-11ec-b935-0242ac1c0002\"] = google.colab.output.setActiveOutputArea(window[\"36b45178-bac5-11ec-b935-0242ac1c0002\"]);\n",
              "//# sourceURL=js_931ad7a6d6"
            ]
          },
          "metadata": {}
        },
        {
          "output_type": "display_data",
          "data": {
            "text/plain": [
              "<IPython.core.display.Javascript object>"
            ],
            "application/javascript": [
              "window[\"370736cc-bac5-11ec-b935-0242ac1c0002\"] = google.colab.output.setActiveOutputArea(window[\"36b3c794-bac5-11ec-b935-0242ac1c0002\"]);\n",
              "//# sourceURL=js_c03469ddb2"
            ]
          },
          "metadata": {}
        },
        {
          "output_type": "display_data",
          "data": {
            "text/plain": [
              "<IPython.core.display.Javascript object>"
            ],
            "application/javascript": [
              "window[\"370d1ca4-bac5-11ec-b935-0242ac1c0002\"] = google.colab.output.getActiveOutputArea();\n",
              "//# sourceURL=js_c4587cedc3"
            ]
          },
          "metadata": {}
        },
        {
          "output_type": "display_data",
          "data": {
            "text/plain": [
              "<IPython.core.display.Javascript object>"
            ],
            "application/javascript": [
              "window[\"370e4ebc-bac5-11ec-b935-0242ac1c0002\"] = document.querySelector(\"#id2-0-0\");\n",
              "//# sourceURL=js_dcd4f98ce8"
            ]
          },
          "metadata": {}
        },
        {
          "output_type": "display_data",
          "data": {
            "text/plain": [
              "<IPython.core.display.Javascript object>"
            ],
            "application/javascript": [
              "window[\"370f5014-bac5-11ec-b935-0242ac1c0002\"] = google.colab.output.setActiveOutputArea(window[\"370e4ebc-bac5-11ec-b935-0242ac1c0002\"]);\n",
              "//# sourceURL=js_d127a835d7"
            ]
          },
          "metadata": {}
        },
        {
          "output_type": "display_data",
          "data": {
            "text/plain": [
              "<IPython.core.display.Javascript object>"
            ],
            "application/javascript": [
              "window[\"37468ae8-bac5-11ec-b935-0242ac1c0002\"] = google.colab.output.setActiveOutputArea(window[\"370d1ca4-bac5-11ec-b935-0242ac1c0002\"]);\n",
              "//# sourceURL=js_14e0feb67e"
            ]
          },
          "metadata": {}
        },
        {
          "output_type": "display_data",
          "data": {
            "text/plain": [
              "<IPython.core.display.Javascript object>"
            ],
            "application/javascript": [
              "window[\"374caad6-bac5-11ec-b935-0242ac1c0002\"] = google.colab.output.getActiveOutputArea();\n",
              "//# sourceURL=js_f6667a1f07"
            ]
          },
          "metadata": {}
        },
        {
          "output_type": "display_data",
          "data": {
            "text/plain": [
              "<IPython.core.display.Javascript object>"
            ],
            "application/javascript": [
              "window[\"374dee1e-bac5-11ec-b935-0242ac1c0002\"] = document.querySelector(\"#id2-0-0\");\n",
              "//# sourceURL=js_fed3357412"
            ]
          },
          "metadata": {}
        },
        {
          "output_type": "display_data",
          "data": {
            "text/plain": [
              "<IPython.core.display.Javascript object>"
            ],
            "application/javascript": [
              "window[\"3750431c-bac5-11ec-b935-0242ac1c0002\"] = google.colab.output.setActiveOutputArea(window[\"374dee1e-bac5-11ec-b935-0242ac1c0002\"]);\n",
              "//# sourceURL=js_182fc7686c"
            ]
          },
          "metadata": {}
        },
        {
          "output_type": "display_data",
          "data": {
            "text/plain": [
              "<IPython.core.display.Javascript object>"
            ],
            "application/javascript": [
              "window[\"37934e3c-bac5-11ec-b935-0242ac1c0002\"] = google.colab.output.setActiveOutputArea(window[\"374caad6-bac5-11ec-b935-0242ac1c0002\"]);\n",
              "//# sourceURL=js_b02d95305b"
            ]
          },
          "metadata": {}
        },
        {
          "output_type": "display_data",
          "data": {
            "text/plain": [
              "<IPython.core.display.Javascript object>"
            ],
            "application/javascript": [
              "window[\"379c4e7e-bac5-11ec-b935-0242ac1c0002\"] = google.colab.output.getActiveOutputArea();\n",
              "//# sourceURL=js_6434c34b91"
            ]
          },
          "metadata": {}
        },
        {
          "output_type": "display_data",
          "data": {
            "text/plain": [
              "<IPython.core.display.Javascript object>"
            ],
            "application/javascript": [
              "window[\"379d61c4-bac5-11ec-b935-0242ac1c0002\"] = document.querySelector(\"#id2-0-0\");\n",
              "//# sourceURL=js_9e534c4ae4"
            ]
          },
          "metadata": {}
        },
        {
          "output_type": "display_data",
          "data": {
            "text/plain": [
              "<IPython.core.display.Javascript object>"
            ],
            "application/javascript": [
              "window[\"379e72bc-bac5-11ec-b935-0242ac1c0002\"] = google.colab.output.setActiveOutputArea(window[\"379d61c4-bac5-11ec-b935-0242ac1c0002\"]);\n",
              "//# sourceURL=js_bae93a7a4f"
            ]
          },
          "metadata": {}
        },
        {
          "output_type": "display_data",
          "data": {
            "text/plain": [
              "<IPython.core.display.Javascript object>"
            ],
            "application/javascript": [
              "window[\"37e2357e-bac5-11ec-b935-0242ac1c0002\"] = google.colab.output.setActiveOutputArea(window[\"379c4e7e-bac5-11ec-b935-0242ac1c0002\"]);\n",
              "//# sourceURL=js_7787a12eed"
            ]
          },
          "metadata": {}
        },
        {
          "output_type": "display_data",
          "data": {
            "text/plain": [
              "<IPython.core.display.Javascript object>"
            ],
            "application/javascript": [
              "window[\"37e7c322-bac5-11ec-b935-0242ac1c0002\"] = google.colab.output.getActiveOutputArea();\n",
              "//# sourceURL=js_cd6d1139e1"
            ]
          },
          "metadata": {}
        },
        {
          "output_type": "display_data",
          "data": {
            "text/plain": [
              "<IPython.core.display.Javascript object>"
            ],
            "application/javascript": [
              "window[\"37e9960c-bac5-11ec-b935-0242ac1c0002\"] = document.querySelector(\"#id2-0-0\");\n",
              "//# sourceURL=js_73d0ad2bf2"
            ]
          },
          "metadata": {}
        },
        {
          "output_type": "display_data",
          "data": {
            "text/plain": [
              "<IPython.core.display.Javascript object>"
            ],
            "application/javascript": [
              "window[\"37ea2fd6-bac5-11ec-b935-0242ac1c0002\"] = google.colab.output.setActiveOutputArea(window[\"37e9960c-bac5-11ec-b935-0242ac1c0002\"]);\n",
              "//# sourceURL=js_b2b4663705"
            ]
          },
          "metadata": {}
        },
        {
          "output_type": "display_data",
          "data": {
            "text/plain": [
              "<IPython.core.display.Javascript object>"
            ],
            "application/javascript": [
              "window[\"382fb164-bac5-11ec-b935-0242ac1c0002\"] = google.colab.output.setActiveOutputArea(window[\"37e7c322-bac5-11ec-b935-0242ac1c0002\"]);\n",
              "//# sourceURL=js_e9b69a24af"
            ]
          },
          "metadata": {}
        },
        {
          "output_type": "display_data",
          "data": {
            "text/plain": [
              "<IPython.core.display.Javascript object>"
            ],
            "application/javascript": [
              "window[\"383473fc-bac5-11ec-b935-0242ac1c0002\"] = google.colab.output.getActiveOutputArea();\n",
              "//# sourceURL=js_07dc94d775"
            ]
          },
          "metadata": {}
        },
        {
          "output_type": "display_data",
          "data": {
            "text/plain": [
              "<IPython.core.display.Javascript object>"
            ],
            "application/javascript": [
              "window[\"3834ddb0-bac5-11ec-b935-0242ac1c0002\"] = document.querySelector(\"#id2-0-0\");\n",
              "//# sourceURL=js_855a0e84d1"
            ]
          },
          "metadata": {}
        },
        {
          "output_type": "display_data",
          "data": {
            "text/plain": [
              "<IPython.core.display.Javascript object>"
            ],
            "application/javascript": [
              "window[\"383beccc-bac5-11ec-b935-0242ac1c0002\"] = google.colab.output.setActiveOutputArea(window[\"3834ddb0-bac5-11ec-b935-0242ac1c0002\"]);\n",
              "//# sourceURL=js_702c4831f6"
            ]
          },
          "metadata": {}
        },
        {
          "output_type": "display_data",
          "data": {
            "text/plain": [
              "<IPython.core.display.Javascript object>"
            ],
            "application/javascript": [
              "window[\"387a2474-bac5-11ec-b935-0242ac1c0002\"] = google.colab.output.setActiveOutputArea(window[\"383473fc-bac5-11ec-b935-0242ac1c0002\"]);\n",
              "//# sourceURL=js_0d2877f467"
            ]
          },
          "metadata": {}
        },
        {
          "output_type": "display_data",
          "data": {
            "text/plain": [
              "<IPython.core.display.Javascript object>"
            ],
            "application/javascript": [
              "window[\"387fcf32-bac5-11ec-b935-0242ac1c0002\"] = google.colab.output.getActiveOutputArea();\n",
              "//# sourceURL=js_535c929201"
            ]
          },
          "metadata": {}
        },
        {
          "output_type": "display_data",
          "data": {
            "text/plain": [
              "<IPython.core.display.Javascript object>"
            ],
            "application/javascript": [
              "window[\"3880cd9c-bac5-11ec-b935-0242ac1c0002\"] = document.querySelector(\"#id2-0-0\");\n",
              "//# sourceURL=js_d0ff6df5a0"
            ]
          },
          "metadata": {}
        },
        {
          "output_type": "display_data",
          "data": {
            "text/plain": [
              "<IPython.core.display.Javascript object>"
            ],
            "application/javascript": [
              "window[\"3881b1a8-bac5-11ec-b935-0242ac1c0002\"] = google.colab.output.setActiveOutputArea(window[\"3880cd9c-bac5-11ec-b935-0242ac1c0002\"]);\n",
              "//# sourceURL=js_2e972941f2"
            ]
          },
          "metadata": {}
        },
        {
          "output_type": "display_data",
          "data": {
            "text/plain": [
              "<IPython.core.display.Javascript object>"
            ],
            "application/javascript": [
              "window[\"38bd5eb0-bac5-11ec-b935-0242ac1c0002\"] = google.colab.output.setActiveOutputArea(window[\"387fcf32-bac5-11ec-b935-0242ac1c0002\"]);\n",
              "//# sourceURL=js_2ae20a71b3"
            ]
          },
          "metadata": {}
        },
        {
          "output_type": "display_data",
          "data": {
            "text/plain": [
              "<IPython.core.display.Javascript object>"
            ],
            "application/javascript": [
              "window[\"38c256d6-bac5-11ec-b935-0242ac1c0002\"] = google.colab.output.getActiveOutputArea();\n",
              "//# sourceURL=js_f6ecd7d065"
            ]
          },
          "metadata": {}
        },
        {
          "output_type": "display_data",
          "data": {
            "text/plain": [
              "<IPython.core.display.Javascript object>"
            ],
            "application/javascript": [
              "window[\"38c31e36-bac5-11ec-b935-0242ac1c0002\"] = document.querySelector(\"#id2-0-0\");\n",
              "//# sourceURL=js_4ad116a9d3"
            ]
          },
          "metadata": {}
        },
        {
          "output_type": "display_data",
          "data": {
            "text/plain": [
              "<IPython.core.display.Javascript object>"
            ],
            "application/javascript": [
              "window[\"38c38ccc-bac5-11ec-b935-0242ac1c0002\"] = google.colab.output.setActiveOutputArea(window[\"38c31e36-bac5-11ec-b935-0242ac1c0002\"]);\n",
              "//# sourceURL=js_4f53ea4b7c"
            ]
          },
          "metadata": {}
        },
        {
          "output_type": "display_data",
          "data": {
            "text/plain": [
              "<IPython.core.display.Javascript object>"
            ],
            "application/javascript": [
              "window[\"390391d2-bac5-11ec-b935-0242ac1c0002\"] = google.colab.output.setActiveOutputArea(window[\"38c256d6-bac5-11ec-b935-0242ac1c0002\"]);\n",
              "//# sourceURL=js_c6096e36c8"
            ]
          },
          "metadata": {}
        },
        {
          "output_type": "display_data",
          "data": {
            "text/plain": [
              "<IPython.core.display.Javascript object>"
            ],
            "application/javascript": [
              "window[\"390be95e-bac5-11ec-b935-0242ac1c0002\"] = google.colab.output.getActiveOutputArea();\n",
              "//# sourceURL=js_070d18d0c3"
            ]
          },
          "metadata": {}
        },
        {
          "output_type": "display_data",
          "data": {
            "text/plain": [
              "<IPython.core.display.Javascript object>"
            ],
            "application/javascript": [
              "window[\"390c7ed2-bac5-11ec-b935-0242ac1c0002\"] = document.querySelector(\"#id2-0-0\");\n",
              "//# sourceURL=js_e6e0e6a37b"
            ]
          },
          "metadata": {}
        },
        {
          "output_type": "display_data",
          "data": {
            "text/plain": [
              "<IPython.core.display.Javascript object>"
            ],
            "application/javascript": [
              "window[\"390e4e74-bac5-11ec-b935-0242ac1c0002\"] = google.colab.output.setActiveOutputArea(window[\"390c7ed2-bac5-11ec-b935-0242ac1c0002\"]);\n",
              "//# sourceURL=js_605894ea34"
            ]
          },
          "metadata": {}
        },
        {
          "output_type": "display_data",
          "data": {
            "text/plain": [
              "<IPython.core.display.Javascript object>"
            ],
            "application/javascript": [
              "window[\"3952b9ba-bac5-11ec-b935-0242ac1c0002\"] = google.colab.output.setActiveOutputArea(window[\"390be95e-bac5-11ec-b935-0242ac1c0002\"]);\n",
              "//# sourceURL=js_ba6a7d156c"
            ]
          },
          "metadata": {}
        },
        {
          "output_type": "display_data",
          "data": {
            "text/plain": [
              "<IPython.core.display.Javascript object>"
            ],
            "application/javascript": [
              "window[\"39571cbc-bac5-11ec-b935-0242ac1c0002\"] = google.colab.output.getActiveOutputArea();\n",
              "//# sourceURL=js_8c28a16c73"
            ]
          },
          "metadata": {}
        },
        {
          "output_type": "display_data",
          "data": {
            "text/plain": [
              "<IPython.core.display.Javascript object>"
            ],
            "application/javascript": [
              "window[\"39579a98-bac5-11ec-b935-0242ac1c0002\"] = document.querySelector(\"#id2-0-0\");\n",
              "//# sourceURL=js_2a143a171a"
            ]
          },
          "metadata": {}
        },
        {
          "output_type": "display_data",
          "data": {
            "text/plain": [
              "<IPython.core.display.Javascript object>"
            ],
            "application/javascript": [
              "window[\"39580f1e-bac5-11ec-b935-0242ac1c0002\"] = google.colab.output.setActiveOutputArea(window[\"39579a98-bac5-11ec-b935-0242ac1c0002\"]);\n",
              "//# sourceURL=js_07c4dd9581"
            ]
          },
          "metadata": {}
        },
        {
          "output_type": "display_data",
          "data": {
            "text/plain": [
              "<IPython.core.display.Javascript object>"
            ],
            "application/javascript": [
              "window[\"39c838ca-bac5-11ec-b935-0242ac1c0002\"] = google.colab.output.setActiveOutputArea(window[\"39571cbc-bac5-11ec-b935-0242ac1c0002\"]);\n",
              "//# sourceURL=js_1a813ac0af"
            ]
          },
          "metadata": {}
        },
        {
          "output_type": "display_data",
          "data": {
            "text/plain": [
              "<IPython.core.display.Javascript object>"
            ],
            "application/javascript": [
              "window[\"39cfb8e8-bac5-11ec-b935-0242ac1c0002\"] = google.colab.output.getActiveOutputArea();\n",
              "//# sourceURL=js_aeb7b21cff"
            ]
          },
          "metadata": {}
        },
        {
          "output_type": "display_data",
          "data": {
            "text/plain": [
              "<IPython.core.display.Javascript object>"
            ],
            "application/javascript": [
              "window[\"39d10900-bac5-11ec-b935-0242ac1c0002\"] = document.querySelector(\"#id2-0-0\");\n",
              "//# sourceURL=js_47a846addc"
            ]
          },
          "metadata": {}
        },
        {
          "output_type": "display_data",
          "data": {
            "text/plain": [
              "<IPython.core.display.Javascript object>"
            ],
            "application/javascript": [
              "window[\"39d1fff4-bac5-11ec-b935-0242ac1c0002\"] = google.colab.output.setActiveOutputArea(window[\"39d10900-bac5-11ec-b935-0242ac1c0002\"]);\n",
              "//# sourceURL=js_0dc6bf7e58"
            ]
          },
          "metadata": {}
        },
        {
          "output_type": "display_data",
          "data": {
            "text/plain": [
              "<IPython.core.display.Javascript object>"
            ],
            "application/javascript": [
              "window[\"3a0a5db8-bac5-11ec-b935-0242ac1c0002\"] = google.colab.output.setActiveOutputArea(window[\"39cfb8e8-bac5-11ec-b935-0242ac1c0002\"]);\n",
              "//# sourceURL=js_eeac617b5d"
            ]
          },
          "metadata": {}
        },
        {
          "output_type": "display_data",
          "data": {
            "text/plain": [
              "<IPython.core.display.Javascript object>"
            ],
            "application/javascript": [
              "window[\"3a15a5a6-bac5-11ec-b935-0242ac1c0002\"] = google.colab.output.getActiveOutputArea();\n",
              "//# sourceURL=js_04dc830460"
            ]
          },
          "metadata": {}
        },
        {
          "output_type": "display_data",
          "data": {
            "text/plain": [
              "<IPython.core.display.Javascript object>"
            ],
            "application/javascript": [
              "window[\"3a16e664-bac5-11ec-b935-0242ac1c0002\"] = document.querySelector(\"#id2-0-0\");\n",
              "//# sourceURL=js_da7538cb49"
            ]
          },
          "metadata": {}
        },
        {
          "output_type": "display_data",
          "data": {
            "text/plain": [
              "<IPython.core.display.Javascript object>"
            ],
            "application/javascript": [
              "window[\"3a178556-bac5-11ec-b935-0242ac1c0002\"] = google.colab.output.setActiveOutputArea(window[\"3a16e664-bac5-11ec-b935-0242ac1c0002\"]);\n",
              "//# sourceURL=js_d26d5d0e0f"
            ]
          },
          "metadata": {}
        },
        {
          "output_type": "display_data",
          "data": {
            "text/plain": [
              "<IPython.core.display.Javascript object>"
            ],
            "application/javascript": [
              "window[\"3a5efb2a-bac5-11ec-b935-0242ac1c0002\"] = google.colab.output.setActiveOutputArea(window[\"3a15a5a6-bac5-11ec-b935-0242ac1c0002\"]);\n",
              "//# sourceURL=js_d0a26649c7"
            ]
          },
          "metadata": {}
        },
        {
          "output_type": "display_data",
          "data": {
            "text/plain": [
              "<IPython.core.display.Javascript object>"
            ],
            "application/javascript": [
              "window[\"3a6467c2-bac5-11ec-b935-0242ac1c0002\"] = google.colab.output.getActiveOutputArea();\n",
              "//# sourceURL=js_e211cf4ee5"
            ]
          },
          "metadata": {}
        },
        {
          "output_type": "display_data",
          "data": {
            "text/plain": [
              "<IPython.core.display.Javascript object>"
            ],
            "application/javascript": [
              "window[\"3a64f110-bac5-11ec-b935-0242ac1c0002\"] = document.querySelector(\"#id2-0-0\");\n",
              "//# sourceURL=js_ee2f868dd8"
            ]
          },
          "metadata": {}
        },
        {
          "output_type": "display_data",
          "data": {
            "text/plain": [
              "<IPython.core.display.Javascript object>"
            ],
            "application/javascript": [
              "window[\"3a65f510-bac5-11ec-b935-0242ac1c0002\"] = google.colab.output.setActiveOutputArea(window[\"3a64f110-bac5-11ec-b935-0242ac1c0002\"]);\n",
              "//# sourceURL=js_6f9c1de9e9"
            ]
          },
          "metadata": {}
        },
        {
          "output_type": "display_data",
          "data": {
            "text/plain": [
              "<IPython.core.display.Javascript object>"
            ],
            "application/javascript": [
              "window[\"3abd61ec-bac5-11ec-b935-0242ac1c0002\"] = google.colab.output.setActiveOutputArea(window[\"3a6467c2-bac5-11ec-b935-0242ac1c0002\"]);\n",
              "//# sourceURL=js_b275fcc111"
            ]
          },
          "metadata": {}
        },
        {
          "output_type": "display_data",
          "data": {
            "text/plain": [
              "<IPython.core.display.Javascript object>"
            ],
            "application/javascript": [
              "window[\"3ac704f4-bac5-11ec-b935-0242ac1c0002\"] = google.colab.output.getActiveOutputArea();\n",
              "//# sourceURL=js_d816e914ea"
            ]
          },
          "metadata": {}
        },
        {
          "output_type": "display_data",
          "data": {
            "text/plain": [
              "<IPython.core.display.Javascript object>"
            ],
            "application/javascript": [
              "window[\"3ac8d356-bac5-11ec-b935-0242ac1c0002\"] = document.querySelector(\"#id2-0-0\");\n",
              "//# sourceURL=js_8968b03f29"
            ]
          },
          "metadata": {}
        },
        {
          "output_type": "display_data",
          "data": {
            "text/plain": [
              "<IPython.core.display.Javascript object>"
            ],
            "application/javascript": [
              "window[\"3acab928-bac5-11ec-b935-0242ac1c0002\"] = google.colab.output.setActiveOutputArea(window[\"3ac8d356-bac5-11ec-b935-0242ac1c0002\"]);\n",
              "//# sourceURL=js_59edd2c737"
            ]
          },
          "metadata": {}
        },
        {
          "output_type": "display_data",
          "data": {
            "text/plain": [
              "<IPython.core.display.Javascript object>"
            ],
            "application/javascript": [
              "window[\"3b102df0-bac5-11ec-b935-0242ac1c0002\"] = google.colab.output.setActiveOutputArea(window[\"3ac704f4-bac5-11ec-b935-0242ac1c0002\"]);\n",
              "//# sourceURL=js_9043dc3f0b"
            ]
          },
          "metadata": {}
        },
        {
          "output_type": "display_data",
          "data": {
            "text/plain": [
              "<IPython.core.display.Javascript object>"
            ],
            "application/javascript": [
              "window[\"3b13f9bc-bac5-11ec-b935-0242ac1c0002\"] = google.colab.output.getActiveOutputArea();\n",
              "//# sourceURL=js_7ea18d550c"
            ]
          },
          "metadata": {}
        },
        {
          "output_type": "display_data",
          "data": {
            "text/plain": [
              "<IPython.core.display.Javascript object>"
            ],
            "application/javascript": [
              "window[\"3b15b81a-bac5-11ec-b935-0242ac1c0002\"] = document.querySelector(\"#id2-0-0\");\n",
              "//# sourceURL=js_015602d12c"
            ]
          },
          "metadata": {}
        },
        {
          "output_type": "display_data",
          "data": {
            "text/plain": [
              "<IPython.core.display.Javascript object>"
            ],
            "application/javascript": [
              "window[\"3b172fd8-bac5-11ec-b935-0242ac1c0002\"] = google.colab.output.setActiveOutputArea(window[\"3b15b81a-bac5-11ec-b935-0242ac1c0002\"]);\n",
              "//# sourceURL=js_88169e8b71"
            ]
          },
          "metadata": {}
        },
        {
          "output_type": "display_data",
          "data": {
            "text/plain": [
              "<IPython.core.display.Javascript object>"
            ],
            "application/javascript": [
              "window[\"3b6830fe-bac5-11ec-b935-0242ac1c0002\"] = google.colab.output.setActiveOutputArea(window[\"3b13f9bc-bac5-11ec-b935-0242ac1c0002\"]);\n",
              "//# sourceURL=js_546628c58d"
            ]
          },
          "metadata": {}
        },
        {
          "output_type": "display_data",
          "data": {
            "text/plain": [
              "<IPython.core.display.Javascript object>"
            ],
            "application/javascript": [
              "window[\"3b70656c-bac5-11ec-b935-0242ac1c0002\"] = google.colab.output.getActiveOutputArea();\n",
              "//# sourceURL=js_1e4cdad8ab"
            ]
          },
          "metadata": {}
        },
        {
          "output_type": "display_data",
          "data": {
            "text/plain": [
              "<IPython.core.display.Javascript object>"
            ],
            "application/javascript": [
              "window[\"3b721272-bac5-11ec-b935-0242ac1c0002\"] = document.querySelector(\"#id2-0-0\");\n",
              "//# sourceURL=js_b96a24d3ea"
            ]
          },
          "metadata": {}
        },
        {
          "output_type": "display_data",
          "data": {
            "text/plain": [
              "<IPython.core.display.Javascript object>"
            ],
            "application/javascript": [
              "window[\"3b740032-bac5-11ec-b935-0242ac1c0002\"] = google.colab.output.setActiveOutputArea(window[\"3b721272-bac5-11ec-b935-0242ac1c0002\"]);\n",
              "//# sourceURL=js_3c895a31a7"
            ]
          },
          "metadata": {}
        },
        {
          "output_type": "display_data",
          "data": {
            "text/plain": [
              "<IPython.core.display.Javascript object>"
            ],
            "application/javascript": [
              "window[\"3bb6d6be-bac5-11ec-b935-0242ac1c0002\"] = google.colab.output.setActiveOutputArea(window[\"3b70656c-bac5-11ec-b935-0242ac1c0002\"]);\n",
              "//# sourceURL=js_6add468c08"
            ]
          },
          "metadata": {}
        },
        {
          "output_type": "display_data",
          "data": {
            "text/plain": [
              "<IPython.core.display.Javascript object>"
            ],
            "application/javascript": [
              "window[\"3bbfc18e-bac5-11ec-b935-0242ac1c0002\"] = google.colab.output.getActiveOutputArea();\n",
              "//# sourceURL=js_dece5a9d70"
            ]
          },
          "metadata": {}
        },
        {
          "output_type": "display_data",
          "data": {
            "text/plain": [
              "<IPython.core.display.Javascript object>"
            ],
            "application/javascript": [
              "window[\"3bc12308-bac5-11ec-b935-0242ac1c0002\"] = document.querySelector(\"#id2-0-0\");\n",
              "//# sourceURL=js_acd9394204"
            ]
          },
          "metadata": {}
        },
        {
          "output_type": "display_data",
          "data": {
            "text/plain": [
              "<IPython.core.display.Javascript object>"
            ],
            "application/javascript": [
              "window[\"3bc20192-bac5-11ec-b935-0242ac1c0002\"] = google.colab.output.setActiveOutputArea(window[\"3bc12308-bac5-11ec-b935-0242ac1c0002\"]);\n",
              "//# sourceURL=js_a866f29a0c"
            ]
          },
          "metadata": {}
        },
        {
          "output_type": "display_data",
          "data": {
            "text/plain": [
              "<IPython.core.display.Javascript object>"
            ],
            "application/javascript": [
              "window[\"3c0debde-bac5-11ec-b935-0242ac1c0002\"] = google.colab.output.setActiveOutputArea(window[\"3bbfc18e-bac5-11ec-b935-0242ac1c0002\"]);\n",
              "//# sourceURL=js_2d37525646"
            ]
          },
          "metadata": {}
        },
        {
          "output_type": "display_data",
          "data": {
            "text/plain": [
              "<IPython.core.display.Javascript object>"
            ],
            "application/javascript": [
              "window[\"3c118f46-bac5-11ec-b935-0242ac1c0002\"] = google.colab.output.getActiveOutputArea();\n",
              "//# sourceURL=js_d756cb6e1d"
            ]
          },
          "metadata": {}
        },
        {
          "output_type": "display_data",
          "data": {
            "text/plain": [
              "<IPython.core.display.Javascript object>"
            ],
            "application/javascript": [
              "window[\"3c12415c-bac5-11ec-b935-0242ac1c0002\"] = document.querySelector(\"#id2-0-0\");\n",
              "//# sourceURL=js_921d439de3"
            ]
          },
          "metadata": {}
        },
        {
          "output_type": "display_data",
          "data": {
            "text/plain": [
              "<IPython.core.display.Javascript object>"
            ],
            "application/javascript": [
              "window[\"3c12d716-bac5-11ec-b935-0242ac1c0002\"] = google.colab.output.setActiveOutputArea(window[\"3c12415c-bac5-11ec-b935-0242ac1c0002\"]);\n",
              "//# sourceURL=js_4a94a8f9f1"
            ]
          },
          "metadata": {}
        },
        {
          "output_type": "display_data",
          "data": {
            "text/plain": [
              "<IPython.core.display.Javascript object>"
            ],
            "application/javascript": [
              "window[\"3c4ad31e-bac5-11ec-b935-0242ac1c0002\"] = google.colab.output.setActiveOutputArea(window[\"3c118f46-bac5-11ec-b935-0242ac1c0002\"]);\n",
              "//# sourceURL=js_36228f6379"
            ]
          },
          "metadata": {}
        },
        {
          "output_type": "display_data",
          "data": {
            "text/plain": [
              "<IPython.core.display.Javascript object>"
            ],
            "application/javascript": [
              "window[\"3c517656-bac5-11ec-b935-0242ac1c0002\"] = google.colab.output.getActiveOutputArea();\n",
              "//# sourceURL=js_fced6f0df9"
            ]
          },
          "metadata": {}
        },
        {
          "output_type": "display_data",
          "data": {
            "text/plain": [
              "<IPython.core.display.Javascript object>"
            ],
            "application/javascript": [
              "window[\"3c520314-bac5-11ec-b935-0242ac1c0002\"] = document.querySelector(\"#id2-0-0\");\n",
              "//# sourceURL=js_14e3cdc19e"
            ]
          },
          "metadata": {}
        },
        {
          "output_type": "display_data",
          "data": {
            "text/plain": [
              "<IPython.core.display.Javascript object>"
            ],
            "application/javascript": [
              "window[\"3c53019c-bac5-11ec-b935-0242ac1c0002\"] = google.colab.output.setActiveOutputArea(window[\"3c520314-bac5-11ec-b935-0242ac1c0002\"]);\n",
              "//# sourceURL=js_8bb3155161"
            ]
          },
          "metadata": {}
        },
        {
          "output_type": "display_data",
          "data": {
            "text/plain": [
              "<IPython.core.display.Javascript object>"
            ],
            "application/javascript": [
              "window[\"3c9e6132-bac5-11ec-b935-0242ac1c0002\"] = google.colab.output.setActiveOutputArea(window[\"3c517656-bac5-11ec-b935-0242ac1c0002\"]);\n",
              "//# sourceURL=js_1eb2f192f1"
            ]
          },
          "metadata": {}
        },
        {
          "output_type": "display_data",
          "data": {
            "text/plain": [
              "<IPython.core.display.Javascript object>"
            ],
            "application/javascript": [
              "window[\"3ca4a830-bac5-11ec-b935-0242ac1c0002\"] = google.colab.output.getActiveOutputArea();\n",
              "//# sourceURL=js_c6fd19c104"
            ]
          },
          "metadata": {}
        },
        {
          "output_type": "display_data",
          "data": {
            "text/plain": [
              "<IPython.core.display.Javascript object>"
            ],
            "application/javascript": [
              "window[\"3ca51e32-bac5-11ec-b935-0242ac1c0002\"] = document.querySelector(\"#id2-0-0\");\n",
              "//# sourceURL=js_c2f1923f5a"
            ]
          },
          "metadata": {}
        },
        {
          "output_type": "display_data",
          "data": {
            "text/plain": [
              "<IPython.core.display.Javascript object>"
            ],
            "application/javascript": [
              "window[\"3ca6a130-bac5-11ec-b935-0242ac1c0002\"] = google.colab.output.setActiveOutputArea(window[\"3ca51e32-bac5-11ec-b935-0242ac1c0002\"]);\n",
              "//# sourceURL=js_26371d9019"
            ]
          },
          "metadata": {}
        },
        {
          "output_type": "display_data",
          "data": {
            "text/plain": [
              "<IPython.core.display.Javascript object>"
            ],
            "application/javascript": [
              "window[\"3cc88606-bac5-11ec-b935-0242ac1c0002\"] = google.colab.output.setActiveOutputArea(window[\"3ca4a830-bac5-11ec-b935-0242ac1c0002\"]);\n",
              "//# sourceURL=js_2ac7d30763"
            ]
          },
          "metadata": {}
        },
        {
          "output_type": "display_data",
          "data": {
            "text/plain": [
              "<IPython.core.display.Javascript object>"
            ],
            "application/javascript": [
              "window[\"3ccc8ada-bac5-11ec-b935-0242ac1c0002\"] = google.colab.output.getActiveOutputArea();\n",
              "//# sourceURL=js_18439e5968"
            ]
          },
          "metadata": {}
        },
        {
          "output_type": "display_data",
          "data": {
            "text/plain": [
              "<IPython.core.display.Javascript object>"
            ],
            "application/javascript": [
              "window[\"3cccf27c-bac5-11ec-b935-0242ac1c0002\"] = document.querySelector(\"#id2-0-0\");\n",
              "//# sourceURL=js_ac0ae6f7b6"
            ]
          },
          "metadata": {}
        },
        {
          "output_type": "display_data",
          "data": {
            "text/plain": [
              "<IPython.core.display.Javascript object>"
            ],
            "application/javascript": [
              "window[\"3ccd6270-bac5-11ec-b935-0242ac1c0002\"] = google.colab.output.setActiveOutputArea(window[\"3cccf27c-bac5-11ec-b935-0242ac1c0002\"]);\n",
              "//# sourceURL=js_5f018e8620"
            ]
          },
          "metadata": {}
        },
        {
          "output_type": "display_data",
          "data": {
            "text/plain": [
              "<IPython.core.display.Javascript object>"
            ],
            "application/javascript": [
              "window[\"3cee1efc-bac5-11ec-b935-0242ac1c0002\"] = google.colab.output.setActiveOutputArea(window[\"3ccc8ada-bac5-11ec-b935-0242ac1c0002\"]);\n",
              "//# sourceURL=js_350a3b6f7d"
            ]
          },
          "metadata": {}
        },
        {
          "output_type": "display_data",
          "data": {
            "text/plain": [
              "<IPython.core.display.Javascript object>"
            ],
            "application/javascript": [
              "window[\"3cf0e042-bac5-11ec-b935-0242ac1c0002\"] = google.colab.output.getActiveOutputArea();\n",
              "//# sourceURL=js_59fd0261ca"
            ]
          },
          "metadata": {}
        },
        {
          "output_type": "display_data",
          "data": {
            "text/plain": [
              "<IPython.core.display.Javascript object>"
            ],
            "application/javascript": [
              "window[\"3cf1528e-bac5-11ec-b935-0242ac1c0002\"] = document.querySelector(\"#id2-0-0\");\n",
              "//# sourceURL=js_f734bf15fb"
            ]
          },
          "metadata": {}
        },
        {
          "output_type": "display_data",
          "data": {
            "text/plain": [
              "<IPython.core.display.Javascript object>"
            ],
            "application/javascript": [
              "window[\"3cf1cc0a-bac5-11ec-b935-0242ac1c0002\"] = google.colab.output.setActiveOutputArea(window[\"3cf1528e-bac5-11ec-b935-0242ac1c0002\"]);\n",
              "//# sourceURL=js_63964c0e43"
            ]
          },
          "metadata": {}
        },
        {
          "output_type": "display_data",
          "data": {
            "text/plain": [
              "<IPython.core.display.Javascript object>"
            ],
            "application/javascript": [
              "window[\"3d13e92a-bac5-11ec-b935-0242ac1c0002\"] = google.colab.output.setActiveOutputArea(window[\"3cf0e042-bac5-11ec-b935-0242ac1c0002\"]);\n",
              "//# sourceURL=js_ea98d16f70"
            ]
          },
          "metadata": {}
        },
        {
          "output_type": "display_data",
          "data": {
            "text/plain": [
              "<IPython.core.display.Javascript object>"
            ],
            "application/javascript": [
              "window[\"3d169dbe-bac5-11ec-b935-0242ac1c0002\"] = google.colab.output.getActiveOutputArea();\n",
              "//# sourceURL=js_83c3bfb9e7"
            ]
          },
          "metadata": {}
        },
        {
          "output_type": "display_data",
          "data": {
            "text/plain": [
              "<IPython.core.display.Javascript object>"
            ],
            "application/javascript": [
              "window[\"3d17ef7a-bac5-11ec-b935-0242ac1c0002\"] = document.querySelector(\"#id2-0-0\");\n",
              "//# sourceURL=js_ef054f8d9a"
            ]
          },
          "metadata": {}
        },
        {
          "output_type": "display_data",
          "data": {
            "text/plain": [
              "<IPython.core.display.Javascript object>"
            ],
            "application/javascript": [
              "window[\"3d1878be-bac5-11ec-b935-0242ac1c0002\"] = google.colab.output.setActiveOutputArea(window[\"3d17ef7a-bac5-11ec-b935-0242ac1c0002\"]);\n",
              "//# sourceURL=js_ef242e7db1"
            ]
          },
          "metadata": {}
        },
        {
          "output_type": "display_data",
          "data": {
            "text/plain": [
              "<IPython.core.display.Javascript object>"
            ],
            "application/javascript": [
              "window[\"3d3c703e-bac5-11ec-b935-0242ac1c0002\"] = google.colab.output.setActiveOutputArea(window[\"3d169dbe-bac5-11ec-b935-0242ac1c0002\"]);\n",
              "//# sourceURL=js_839421064e"
            ]
          },
          "metadata": {}
        },
        {
          "output_type": "display_data",
          "data": {
            "text/plain": [
              "<IPython.core.display.Javascript object>"
            ],
            "application/javascript": [
              "window[\"3d40b57c-bac5-11ec-b935-0242ac1c0002\"] = google.colab.output.getActiveOutputArea();\n",
              "//# sourceURL=js_de05feef25"
            ]
          },
          "metadata": {}
        },
        {
          "output_type": "display_data",
          "data": {
            "text/plain": [
              "<IPython.core.display.Javascript object>"
            ],
            "application/javascript": [
              "window[\"3d412ca0-bac5-11ec-b935-0242ac1c0002\"] = document.querySelector(\"#id2-0-0\");\n",
              "//# sourceURL=js_b2b3929bf2"
            ]
          },
          "metadata": {}
        },
        {
          "output_type": "display_data",
          "data": {
            "text/plain": [
              "<IPython.core.display.Javascript object>"
            ],
            "application/javascript": [
              "window[\"3d41a6bc-bac5-11ec-b935-0242ac1c0002\"] = google.colab.output.setActiveOutputArea(window[\"3d412ca0-bac5-11ec-b935-0242ac1c0002\"]);\n",
              "//# sourceURL=js_420ded654b"
            ]
          },
          "metadata": {}
        },
        {
          "output_type": "display_data",
          "data": {
            "text/plain": [
              "<IPython.core.display.Javascript object>"
            ],
            "application/javascript": [
              "window[\"3d645a18-bac5-11ec-b935-0242ac1c0002\"] = google.colab.output.setActiveOutputArea(window[\"3d40b57c-bac5-11ec-b935-0242ac1c0002\"]);\n",
              "//# sourceURL=js_f13ca6e9a2"
            ]
          },
          "metadata": {}
        },
        {
          "output_type": "display_data",
          "data": {
            "text/plain": [
              "<IPython.core.display.Javascript object>"
            ],
            "application/javascript": [
              "window[\"3d675a06-bac5-11ec-b935-0242ac1c0002\"] = google.colab.output.getActiveOutputArea();\n",
              "//# sourceURL=js_f9d795a846"
            ]
          },
          "metadata": {}
        },
        {
          "output_type": "display_data",
          "data": {
            "text/plain": [
              "<IPython.core.display.Javascript object>"
            ],
            "application/javascript": [
              "window[\"3d67d260-bac5-11ec-b935-0242ac1c0002\"] = document.querySelector(\"#id2-0-0\");\n",
              "//# sourceURL=js_ad656d1c9a"
            ]
          },
          "metadata": {}
        },
        {
          "output_type": "display_data",
          "data": {
            "text/plain": [
              "<IPython.core.display.Javascript object>"
            ],
            "application/javascript": [
              "window[\"3d685186-bac5-11ec-b935-0242ac1c0002\"] = google.colab.output.setActiveOutputArea(window[\"3d67d260-bac5-11ec-b935-0242ac1c0002\"]);\n",
              "//# sourceURL=js_cc331cc4de"
            ]
          },
          "metadata": {}
        },
        {
          "output_type": "display_data",
          "data": {
            "text/plain": [
              "<IPython.core.display.Javascript object>"
            ],
            "application/javascript": [
              "window[\"3d8a5d08-bac5-11ec-b935-0242ac1c0002\"] = google.colab.output.setActiveOutputArea(window[\"3d675a06-bac5-11ec-b935-0242ac1c0002\"]);\n",
              "//# sourceURL=js_e735108464"
            ]
          },
          "metadata": {}
        },
        {
          "output_type": "display_data",
          "data": {
            "text/plain": [
              "<IPython.core.display.Javascript object>"
            ],
            "application/javascript": [
              "window[\"3d8d67fa-bac5-11ec-b935-0242ac1c0002\"] = google.colab.output.getActiveOutputArea();\n",
              "//# sourceURL=js_6fd44865b1"
            ]
          },
          "metadata": {}
        },
        {
          "output_type": "display_data",
          "data": {
            "text/plain": [
              "<IPython.core.display.Javascript object>"
            ],
            "application/javascript": [
              "window[\"3d8df0b2-bac5-11ec-b935-0242ac1c0002\"] = document.querySelector(\"#id2-0-0\");\n",
              "//# sourceURL=js_e60716bedb"
            ]
          },
          "metadata": {}
        },
        {
          "output_type": "display_data",
          "data": {
            "text/plain": [
              "<IPython.core.display.Javascript object>"
            ],
            "application/javascript": [
              "window[\"3d8e99cc-bac5-11ec-b935-0242ac1c0002\"] = google.colab.output.setActiveOutputArea(window[\"3d8df0b2-bac5-11ec-b935-0242ac1c0002\"]);\n",
              "//# sourceURL=js_66d0e997bd"
            ]
          },
          "metadata": {}
        },
        {
          "output_type": "display_data",
          "data": {
            "text/plain": [
              "<IPython.core.display.Javascript object>"
            ],
            "application/javascript": [
              "window[\"3dc8a586-bac5-11ec-b935-0242ac1c0002\"] = google.colab.output.setActiveOutputArea(window[\"3d8d67fa-bac5-11ec-b935-0242ac1c0002\"]);\n",
              "//# sourceURL=js_78e1d3e169"
            ]
          },
          "metadata": {}
        },
        {
          "output_type": "display_data",
          "data": {
            "text/plain": [
              "<IPython.core.display.Javascript object>"
            ],
            "application/javascript": [
              "window[\"3dcb7c16-bac5-11ec-b935-0242ac1c0002\"] = google.colab.output.getActiveOutputArea();\n",
              "//# sourceURL=js_b224249aae"
            ]
          },
          "metadata": {}
        },
        {
          "output_type": "display_data",
          "data": {
            "text/plain": [
              "<IPython.core.display.Javascript object>"
            ],
            "application/javascript": [
              "window[\"3dcbf51a-bac5-11ec-b935-0242ac1c0002\"] = document.querySelector(\"#id2-0-0\");\n",
              "//# sourceURL=js_70598988fd"
            ]
          },
          "metadata": {}
        },
        {
          "output_type": "display_data",
          "data": {
            "text/plain": [
              "<IPython.core.display.Javascript object>"
            ],
            "application/javascript": [
              "window[\"3dcc67a2-bac5-11ec-b935-0242ac1c0002\"] = google.colab.output.setActiveOutputArea(window[\"3dcbf51a-bac5-11ec-b935-0242ac1c0002\"]);\n",
              "//# sourceURL=js_00e2982b95"
            ]
          },
          "metadata": {}
        },
        {
          "output_type": "display_data",
          "data": {
            "text/plain": [
              "<IPython.core.display.Javascript object>"
            ],
            "application/javascript": [
              "window[\"3df07516-bac5-11ec-b935-0242ac1c0002\"] = google.colab.output.setActiveOutputArea(window[\"3dcb7c16-bac5-11ec-b935-0242ac1c0002\"]);\n",
              "//# sourceURL=js_3886bcc611"
            ]
          },
          "metadata": {}
        },
        {
          "output_type": "display_data",
          "data": {
            "text/plain": [
              "<IPython.core.display.Javascript object>"
            ],
            "application/javascript": [
              "window[\"3df346b0-bac5-11ec-b935-0242ac1c0002\"] = google.colab.output.getActiveOutputArea();\n",
              "//# sourceURL=js_7a0f096896"
            ]
          },
          "metadata": {}
        },
        {
          "output_type": "display_data",
          "data": {
            "text/plain": [
              "<IPython.core.display.Javascript object>"
            ],
            "application/javascript": [
              "window[\"3df3c414-bac5-11ec-b935-0242ac1c0002\"] = document.querySelector(\"#id2-0-0\");\n",
              "//# sourceURL=js_4eabea6270"
            ]
          },
          "metadata": {}
        },
        {
          "output_type": "display_data",
          "data": {
            "text/plain": [
              "<IPython.core.display.Javascript object>"
            ],
            "application/javascript": [
              "window[\"3df44088-bac5-11ec-b935-0242ac1c0002\"] = google.colab.output.setActiveOutputArea(window[\"3df3c414-bac5-11ec-b935-0242ac1c0002\"]);\n",
              "//# sourceURL=js_a3047573f4"
            ]
          },
          "metadata": {}
        },
        {
          "output_type": "display_data",
          "data": {
            "text/plain": [
              "<IPython.core.display.Javascript object>"
            ],
            "application/javascript": [
              "window[\"3e179290-bac5-11ec-b935-0242ac1c0002\"] = google.colab.output.setActiveOutputArea(window[\"3df346b0-bac5-11ec-b935-0242ac1c0002\"]);\n",
              "//# sourceURL=js_43d69f47df"
            ]
          },
          "metadata": {}
        },
        {
          "output_type": "display_data",
          "data": {
            "text/plain": [
              "<IPython.core.display.Javascript object>"
            ],
            "application/javascript": [
              "window[\"3e1a636c-bac5-11ec-b935-0242ac1c0002\"] = google.colab.output.getActiveOutputArea();\n",
              "//# sourceURL=js_4a4a11c59c"
            ]
          },
          "metadata": {}
        },
        {
          "output_type": "display_data",
          "data": {
            "text/plain": [
              "<IPython.core.display.Javascript object>"
            ],
            "application/javascript": [
              "window[\"3e1adbd0-bac5-11ec-b935-0242ac1c0002\"] = document.querySelector(\"#id2-0-0\");\n",
              "//# sourceURL=js_fa526b8fd2"
            ]
          },
          "metadata": {}
        },
        {
          "output_type": "display_data",
          "data": {
            "text/plain": [
              "<IPython.core.display.Javascript object>"
            ],
            "application/javascript": [
              "window[\"3e1b5894-bac5-11ec-b935-0242ac1c0002\"] = google.colab.output.setActiveOutputArea(window[\"3e1adbd0-bac5-11ec-b935-0242ac1c0002\"]);\n",
              "//# sourceURL=js_310e4cb4b4"
            ]
          },
          "metadata": {}
        },
        {
          "output_type": "display_data",
          "data": {
            "text/plain": [
              "<IPython.core.display.Javascript object>"
            ],
            "application/javascript": [
              "window[\"3e3d471a-bac5-11ec-b935-0242ac1c0002\"] = google.colab.output.setActiveOutputArea(window[\"3e1a636c-bac5-11ec-b935-0242ac1c0002\"]);\n",
              "//# sourceURL=js_7d930a6934"
            ]
          },
          "metadata": {}
        },
        {
          "output_type": "display_data",
          "data": {
            "text/plain": [
              "<IPython.core.display.Javascript object>"
            ],
            "application/javascript": [
              "window[\"3e409226-bac5-11ec-b935-0242ac1c0002\"] = google.colab.output.getActiveOutputArea();\n",
              "//# sourceURL=js_bccef4c8cf"
            ]
          },
          "metadata": {}
        },
        {
          "output_type": "display_data",
          "data": {
            "text/plain": [
              "<IPython.core.display.Javascript object>"
            ],
            "application/javascript": [
              "window[\"3e410436-bac5-11ec-b935-0242ac1c0002\"] = document.querySelector(\"#id2-0-0\");\n",
              "//# sourceURL=js_d6274d7537"
            ]
          },
          "metadata": {}
        },
        {
          "output_type": "display_data",
          "data": {
            "text/plain": [
              "<IPython.core.display.Javascript object>"
            ],
            "application/javascript": [
              "window[\"3e41c858-bac5-11ec-b935-0242ac1c0002\"] = google.colab.output.setActiveOutputArea(window[\"3e410436-bac5-11ec-b935-0242ac1c0002\"]);\n",
              "//# sourceURL=js_8a95ddd5dd"
            ]
          },
          "metadata": {}
        },
        {
          "output_type": "display_data",
          "data": {
            "text/plain": [
              "<IPython.core.display.Javascript object>"
            ],
            "application/javascript": [
              "window[\"3e65e882-bac5-11ec-b935-0242ac1c0002\"] = google.colab.output.setActiveOutputArea(window[\"3e409226-bac5-11ec-b935-0242ac1c0002\"]);\n",
              "//# sourceURL=js_dc9849bdaf"
            ]
          },
          "metadata": {}
        },
        {
          "output_type": "display_data",
          "data": {
            "text/plain": [
              "<IPython.core.display.Javascript object>"
            ],
            "application/javascript": [
              "window[\"3e69821c-bac5-11ec-b935-0242ac1c0002\"] = google.colab.output.getActiveOutputArea();\n",
              "//# sourceURL=js_a1a1b6cb17"
            ]
          },
          "metadata": {}
        },
        {
          "output_type": "display_data",
          "data": {
            "text/plain": [
              "<IPython.core.display.Javascript object>"
            ],
            "application/javascript": [
              "window[\"3e6a287a-bac5-11ec-b935-0242ac1c0002\"] = document.querySelector(\"#id2-0-0\");\n",
              "//# sourceURL=js_7beb350df3"
            ]
          },
          "metadata": {}
        },
        {
          "output_type": "display_data",
          "data": {
            "text/plain": [
              "<IPython.core.display.Javascript object>"
            ],
            "application/javascript": [
              "window[\"3e6b0128-bac5-11ec-b935-0242ac1c0002\"] = google.colab.output.setActiveOutputArea(window[\"3e6a287a-bac5-11ec-b935-0242ac1c0002\"]);\n",
              "//# sourceURL=js_054a72450b"
            ]
          },
          "metadata": {}
        },
        {
          "output_type": "display_data",
          "data": {
            "text/plain": [
              "<IPython.core.display.Javascript object>"
            ],
            "application/javascript": [
              "window[\"3e8e8814-bac5-11ec-b935-0242ac1c0002\"] = google.colab.output.setActiveOutputArea(window[\"3e69821c-bac5-11ec-b935-0242ac1c0002\"]);\n",
              "//# sourceURL=js_2a2f9c5f55"
            ]
          },
          "metadata": {}
        },
        {
          "output_type": "display_data",
          "data": {
            "text/plain": [
              "<IPython.core.display.Javascript object>"
            ],
            "application/javascript": [
              "window[\"3e915fb2-bac5-11ec-b935-0242ac1c0002\"] = google.colab.output.getActiveOutputArea();\n",
              "//# sourceURL=js_d57954d337"
            ]
          },
          "metadata": {}
        },
        {
          "output_type": "display_data",
          "data": {
            "text/plain": [
              "<IPython.core.display.Javascript object>"
            ],
            "application/javascript": [
              "window[\"3e91bbb0-bac5-11ec-b935-0242ac1c0002\"] = document.querySelector(\"#id2-0-0\");\n",
              "//# sourceURL=js_d403e98a2c"
            ]
          },
          "metadata": {}
        },
        {
          "output_type": "display_data",
          "data": {
            "text/plain": [
              "<IPython.core.display.Javascript object>"
            ],
            "application/javascript": [
              "window[\"3e929080-bac5-11ec-b935-0242ac1c0002\"] = google.colab.output.setActiveOutputArea(window[\"3e91bbb0-bac5-11ec-b935-0242ac1c0002\"]);\n",
              "//# sourceURL=js_ce9fc76cba"
            ]
          },
          "metadata": {}
        },
        {
          "output_type": "display_data",
          "data": {
            "text/plain": [
              "<IPython.core.display.Javascript object>"
            ],
            "application/javascript": [
              "window[\"3eb5f5ca-bac5-11ec-b935-0242ac1c0002\"] = google.colab.output.setActiveOutputArea(window[\"3e915fb2-bac5-11ec-b935-0242ac1c0002\"]);\n",
              "//# sourceURL=js_752e39a6e8"
            ]
          },
          "metadata": {}
        },
        {
          "output_type": "display_data",
          "data": {
            "text/plain": [
              "<IPython.core.display.Javascript object>"
            ],
            "application/javascript": [
              "window[\"3eb867d8-bac5-11ec-b935-0242ac1c0002\"] = google.colab.output.getActiveOutputArea();\n",
              "//# sourceURL=js_962f14374d"
            ]
          },
          "metadata": {}
        },
        {
          "output_type": "display_data",
          "data": {
            "text/plain": [
              "<IPython.core.display.Javascript object>"
            ],
            "application/javascript": [
              "window[\"3eb8bec2-bac5-11ec-b935-0242ac1c0002\"] = document.querySelector(\"#id2-0-0\");\n",
              "//# sourceURL=js_c10630aa89"
            ]
          },
          "metadata": {}
        },
        {
          "output_type": "display_data",
          "data": {
            "text/plain": [
              "<IPython.core.display.Javascript object>"
            ],
            "application/javascript": [
              "window[\"3eb9927a-bac5-11ec-b935-0242ac1c0002\"] = google.colab.output.setActiveOutputArea(window[\"3eb8bec2-bac5-11ec-b935-0242ac1c0002\"]);\n",
              "//# sourceURL=js_374bbaa222"
            ]
          },
          "metadata": {}
        },
        {
          "output_type": "display_data",
          "data": {
            "text/plain": [
              "<IPython.core.display.Javascript object>"
            ],
            "application/javascript": [
              "window[\"3edcbcdc-bac5-11ec-b935-0242ac1c0002\"] = google.colab.output.setActiveOutputArea(window[\"3eb867d8-bac5-11ec-b935-0242ac1c0002\"]);\n",
              "//# sourceURL=js_7926fb2480"
            ]
          },
          "metadata": {}
        },
        {
          "output_type": "display_data",
          "data": {
            "text/plain": [
              "<IPython.core.display.Javascript object>"
            ],
            "application/javascript": [
              "window[\"3ee009b4-bac5-11ec-b935-0242ac1c0002\"] = google.colab.output.getActiveOutputArea();\n",
              "//# sourceURL=js_b99ae2c66e"
            ]
          },
          "metadata": {}
        },
        {
          "output_type": "display_data",
          "data": {
            "text/plain": [
              "<IPython.core.display.Javascript object>"
            ],
            "application/javascript": [
              "window[\"3ee09b5e-bac5-11ec-b935-0242ac1c0002\"] = document.querySelector(\"#id2-0-0\");\n",
              "//# sourceURL=js_f468af59f7"
            ]
          },
          "metadata": {}
        },
        {
          "output_type": "display_data",
          "data": {
            "text/plain": [
              "<IPython.core.display.Javascript object>"
            ],
            "application/javascript": [
              "window[\"3ee12934-bac5-11ec-b935-0242ac1c0002\"] = google.colab.output.setActiveOutputArea(window[\"3ee09b5e-bac5-11ec-b935-0242ac1c0002\"]);\n",
              "//# sourceURL=js_4d4e4aa2d8"
            ]
          },
          "metadata": {}
        },
        {
          "output_type": "display_data",
          "data": {
            "text/plain": [
              "<IPython.core.display.Javascript object>"
            ],
            "application/javascript": [
              "window[\"3f05cb72-bac5-11ec-b935-0242ac1c0002\"] = google.colab.output.setActiveOutputArea(window[\"3ee009b4-bac5-11ec-b935-0242ac1c0002\"]);\n",
              "//# sourceURL=js_278c1cbdcb"
            ]
          },
          "metadata": {}
        },
        {
          "output_type": "display_data",
          "data": {
            "text/plain": [
              "<IPython.core.display.Javascript object>"
            ],
            "application/javascript": [
              "window[\"3f08f450-bac5-11ec-b935-0242ac1c0002\"] = google.colab.output.getActiveOutputArea();\n",
              "//# sourceURL=js_5727d56369"
            ]
          },
          "metadata": {}
        },
        {
          "output_type": "display_data",
          "data": {
            "text/plain": [
              "<IPython.core.display.Javascript object>"
            ],
            "application/javascript": [
              "window[\"3f096e1c-bac5-11ec-b935-0242ac1c0002\"] = document.querySelector(\"#id2-0-0\");\n",
              "//# sourceURL=js_8d02121e22"
            ]
          },
          "metadata": {}
        },
        {
          "output_type": "display_data",
          "data": {
            "text/plain": [
              "<IPython.core.display.Javascript object>"
            ],
            "application/javascript": [
              "window[\"3f09d0e6-bac5-11ec-b935-0242ac1c0002\"] = google.colab.output.setActiveOutputArea(window[\"3f096e1c-bac5-11ec-b935-0242ac1c0002\"]);\n",
              "//# sourceURL=js_55ace4ef63"
            ]
          },
          "metadata": {}
        },
        {
          "output_type": "display_data",
          "data": {
            "text/plain": [
              "<IPython.core.display.Javascript object>"
            ],
            "application/javascript": [
              "window[\"3f2cd438-bac5-11ec-b935-0242ac1c0002\"] = google.colab.output.setActiveOutputArea(window[\"3f08f450-bac5-11ec-b935-0242ac1c0002\"]);\n",
              "//# sourceURL=js_9c7166abba"
            ]
          },
          "metadata": {}
        },
        {
          "output_type": "display_data",
          "data": {
            "text/plain": [
              "<IPython.core.display.Javascript object>"
            ],
            "application/javascript": [
              "window[\"3f2fb52c-bac5-11ec-b935-0242ac1c0002\"] = google.colab.output.getActiveOutputArea();\n",
              "//# sourceURL=js_e97352b921"
            ]
          },
          "metadata": {}
        },
        {
          "output_type": "display_data",
          "data": {
            "text/plain": [
              "<IPython.core.display.Javascript object>"
            ],
            "application/javascript": [
              "window[\"3f3051c6-bac5-11ec-b935-0242ac1c0002\"] = document.querySelector(\"#id2-0-0\");\n",
              "//# sourceURL=js_a1bfe67ec4"
            ]
          },
          "metadata": {}
        },
        {
          "output_type": "display_data",
          "data": {
            "text/plain": [
              "<IPython.core.display.Javascript object>"
            ],
            "application/javascript": [
              "window[\"3f30cba6-bac5-11ec-b935-0242ac1c0002\"] = google.colab.output.setActiveOutputArea(window[\"3f3051c6-bac5-11ec-b935-0242ac1c0002\"]);\n",
              "//# sourceURL=js_fe54db45a0"
            ]
          },
          "metadata": {}
        },
        {
          "output_type": "display_data",
          "data": {
            "text/plain": [
              "<IPython.core.display.Javascript object>"
            ],
            "application/javascript": [
              "window[\"3f54f0c6-bac5-11ec-b935-0242ac1c0002\"] = google.colab.output.setActiveOutputArea(window[\"3f2fb52c-bac5-11ec-b935-0242ac1c0002\"]);\n",
              "//# sourceURL=js_6c9325dd91"
            ]
          },
          "metadata": {}
        },
        {
          "output_type": "display_data",
          "data": {
            "text/plain": [
              "<IPython.core.display.Javascript object>"
            ],
            "application/javascript": [
              "window[\"3f59a92c-bac5-11ec-b935-0242ac1c0002\"] = google.colab.output.getActiveOutputArea();\n",
              "//# sourceURL=js_6d5dfc9259"
            ]
          },
          "metadata": {}
        },
        {
          "output_type": "display_data",
          "data": {
            "text/plain": [
              "<IPython.core.display.Javascript object>"
            ],
            "application/javascript": [
              "window[\"3f5a48be-bac5-11ec-b935-0242ac1c0002\"] = document.querySelector(\"#id2-0-0\");\n",
              "//# sourceURL=js_250754f64f"
            ]
          },
          "metadata": {}
        },
        {
          "output_type": "display_data",
          "data": {
            "text/plain": [
              "<IPython.core.display.Javascript object>"
            ],
            "application/javascript": [
              "window[\"3f5b1d3e-bac5-11ec-b935-0242ac1c0002\"] = google.colab.output.setActiveOutputArea(window[\"3f5a48be-bac5-11ec-b935-0242ac1c0002\"]);\n",
              "//# sourceURL=js_dbb538dfd1"
            ]
          },
          "metadata": {}
        },
        {
          "output_type": "display_data",
          "data": {
            "text/plain": [
              "<IPython.core.display.Javascript object>"
            ],
            "application/javascript": [
              "window[\"3f831582-bac5-11ec-b935-0242ac1c0002\"] = google.colab.output.setActiveOutputArea(window[\"3f59a92c-bac5-11ec-b935-0242ac1c0002\"]);\n",
              "//# sourceURL=js_ddd138b856"
            ]
          },
          "metadata": {}
        },
        {
          "output_type": "display_data",
          "data": {
            "text/plain": [
              "<IPython.core.display.Javascript object>"
            ],
            "application/javascript": [
              "window[\"3f8804ca-bac5-11ec-b935-0242ac1c0002\"] = google.colab.output.getActiveOutputArea();\n",
              "//# sourceURL=js_6327efd57b"
            ]
          },
          "metadata": {}
        },
        {
          "output_type": "display_data",
          "data": {
            "text/plain": [
              "<IPython.core.display.Javascript object>"
            ],
            "application/javascript": [
              "window[\"3f888b02-bac5-11ec-b935-0242ac1c0002\"] = document.querySelector(\"#id2-0-0\");\n",
              "//# sourceURL=js_3bcaa4f83d"
            ]
          },
          "metadata": {}
        },
        {
          "output_type": "display_data",
          "data": {
            "text/plain": [
              "<IPython.core.display.Javascript object>"
            ],
            "application/javascript": [
              "window[\"3f88f9f2-bac5-11ec-b935-0242ac1c0002\"] = google.colab.output.setActiveOutputArea(window[\"3f888b02-bac5-11ec-b935-0242ac1c0002\"]);\n",
              "//# sourceURL=js_9ff10fb320"
            ]
          },
          "metadata": {}
        },
        {
          "output_type": "display_data",
          "data": {
            "text/plain": [
              "<IPython.core.display.Javascript object>"
            ],
            "application/javascript": [
              "window[\"3fadf43c-bac5-11ec-b935-0242ac1c0002\"] = google.colab.output.setActiveOutputArea(window[\"3f8804ca-bac5-11ec-b935-0242ac1c0002\"]);\n",
              "//# sourceURL=js_f02a6b697a"
            ]
          },
          "metadata": {}
        },
        {
          "output_type": "display_data",
          "data": {
            "text/plain": [
              "<IPython.core.display.Javascript object>"
            ],
            "application/javascript": [
              "window[\"3fb124d6-bac5-11ec-b935-0242ac1c0002\"] = google.colab.output.getActiveOutputArea();\n",
              "//# sourceURL=js_372247e257"
            ]
          },
          "metadata": {}
        },
        {
          "output_type": "display_data",
          "data": {
            "text/plain": [
              "<IPython.core.display.Javascript object>"
            ],
            "application/javascript": [
              "window[\"3fb1c0ee-bac5-11ec-b935-0242ac1c0002\"] = document.querySelector(\"#id2-0-0\");\n",
              "//# sourceURL=js_e6f725cb4f"
            ]
          },
          "metadata": {}
        },
        {
          "output_type": "display_data",
          "data": {
            "text/plain": [
              "<IPython.core.display.Javascript object>"
            ],
            "application/javascript": [
              "window[\"3fb245e6-bac5-11ec-b935-0242ac1c0002\"] = google.colab.output.setActiveOutputArea(window[\"3fb1c0ee-bac5-11ec-b935-0242ac1c0002\"]);\n",
              "//# sourceURL=js_737ec47511"
            ]
          },
          "metadata": {}
        },
        {
          "output_type": "display_data",
          "data": {
            "text/plain": [
              "<IPython.core.display.Javascript object>"
            ],
            "application/javascript": [
              "window[\"3fd45410-bac5-11ec-b935-0242ac1c0002\"] = google.colab.output.setActiveOutputArea(window[\"3fb124d6-bac5-11ec-b935-0242ac1c0002\"]);\n",
              "//# sourceURL=js_497372817a"
            ]
          },
          "metadata": {}
        },
        {
          "output_type": "display_data",
          "data": {
            "text/plain": [
              "<IPython.core.display.Javascript object>"
            ],
            "application/javascript": [
              "window[\"3fd94150-bac5-11ec-b935-0242ac1c0002\"] = google.colab.output.getActiveOutputArea();\n",
              "//# sourceURL=js_4be08564c3"
            ]
          },
          "metadata": {}
        },
        {
          "output_type": "display_data",
          "data": {
            "text/plain": [
              "<IPython.core.display.Javascript object>"
            ],
            "application/javascript": [
              "window[\"3fda0de2-bac5-11ec-b935-0242ac1c0002\"] = document.querySelector(\"#id2-0-0\");\n",
              "//# sourceURL=js_1e803158ee"
            ]
          },
          "metadata": {}
        },
        {
          "output_type": "display_data",
          "data": {
            "text/plain": [
              "<IPython.core.display.Javascript object>"
            ],
            "application/javascript": [
              "window[\"3fdb1548-bac5-11ec-b935-0242ac1c0002\"] = google.colab.output.setActiveOutputArea(window[\"3fda0de2-bac5-11ec-b935-0242ac1c0002\"]);\n",
              "//# sourceURL=js_66afdf8378"
            ]
          },
          "metadata": {}
        },
        {
          "output_type": "display_data",
          "data": {
            "text/plain": [
              "<IPython.core.display.Javascript object>"
            ],
            "application/javascript": [
              "window[\"3ffaf76e-bac5-11ec-b935-0242ac1c0002\"] = google.colab.output.setActiveOutputArea(window[\"3fd94150-bac5-11ec-b935-0242ac1c0002\"]);\n",
              "//# sourceURL=js_2e22598d45"
            ]
          },
          "metadata": {}
        },
        {
          "output_type": "display_data",
          "data": {
            "text/plain": [
              "<IPython.core.display.Javascript object>"
            ],
            "application/javascript": [
              "window[\"3ffdf46e-bac5-11ec-b935-0242ac1c0002\"] = google.colab.output.getActiveOutputArea();\n",
              "//# sourceURL=js_7f81bc384a"
            ]
          },
          "metadata": {}
        },
        {
          "output_type": "display_data",
          "data": {
            "text/plain": [
              "<IPython.core.display.Javascript object>"
            ],
            "application/javascript": [
              "window[\"3ffe6b9c-bac5-11ec-b935-0242ac1c0002\"] = document.querySelector(\"#id2-0-0\");\n",
              "//# sourceURL=js_62776d54cd"
            ]
          },
          "metadata": {}
        },
        {
          "output_type": "display_data",
          "data": {
            "text/plain": [
              "<IPython.core.display.Javascript object>"
            ],
            "application/javascript": [
              "window[\"3ffee0e0-bac5-11ec-b935-0242ac1c0002\"] = google.colab.output.setActiveOutputArea(window[\"3ffe6b9c-bac5-11ec-b935-0242ac1c0002\"]);\n",
              "//# sourceURL=js_a58946ff89"
            ]
          },
          "metadata": {}
        },
        {
          "output_type": "display_data",
          "data": {
            "text/plain": [
              "<IPython.core.display.Javascript object>"
            ],
            "application/javascript": [
              "window[\"4022b592-bac5-11ec-b935-0242ac1c0002\"] = google.colab.output.setActiveOutputArea(window[\"3ffdf46e-bac5-11ec-b935-0242ac1c0002\"]);\n",
              "//# sourceURL=js_8ffae45db4"
            ]
          },
          "metadata": {}
        },
        {
          "output_type": "display_data",
          "data": {
            "text/plain": [
              "<IPython.core.display.Javascript object>"
            ],
            "application/javascript": [
              "window[\"40256274-bac5-11ec-b935-0242ac1c0002\"] = google.colab.output.getActiveOutputArea();\n",
              "//# sourceURL=js_0f9712d934"
            ]
          },
          "metadata": {}
        },
        {
          "output_type": "display_data",
          "data": {
            "text/plain": [
              "<IPython.core.display.Javascript object>"
            ],
            "application/javascript": [
              "window[\"4025bb70-bac5-11ec-b935-0242ac1c0002\"] = document.querySelector(\"#id2-0-0\");\n",
              "//# sourceURL=js_64175ff154"
            ]
          },
          "metadata": {}
        },
        {
          "output_type": "display_data",
          "data": {
            "text/plain": [
              "<IPython.core.display.Javascript object>"
            ],
            "application/javascript": [
              "window[\"4026800a-bac5-11ec-b935-0242ac1c0002\"] = google.colab.output.setActiveOutputArea(window[\"4025bb70-bac5-11ec-b935-0242ac1c0002\"]);\n",
              "//# sourceURL=js_0736f791a1"
            ]
          },
          "metadata": {}
        },
        {
          "output_type": "display_data",
          "data": {
            "text/plain": [
              "<IPython.core.display.Javascript object>"
            ],
            "application/javascript": [
              "window[\"405854cc-bac5-11ec-b935-0242ac1c0002\"] = google.colab.output.setActiveOutputArea(window[\"40256274-bac5-11ec-b935-0242ac1c0002\"]);\n",
              "//# sourceURL=js_63f5fb3e39"
            ]
          },
          "metadata": {}
        },
        {
          "output_type": "display_data",
          "data": {
            "text/plain": [
              "<IPython.core.display.Javascript object>"
            ],
            "application/javascript": [
              "window[\"405cb1ca-bac5-11ec-b935-0242ac1c0002\"] = google.colab.output.getActiveOutputArea();\n",
              "//# sourceURL=js_57cbc46aca"
            ]
          },
          "metadata": {}
        },
        {
          "output_type": "display_data",
          "data": {
            "text/plain": [
              "<IPython.core.display.Javascript object>"
            ],
            "application/javascript": [
              "window[\"405d6dd6-bac5-11ec-b935-0242ac1c0002\"] = document.querySelector(\"#id2-0-0\");\n",
              "//# sourceURL=js_1aba1b5cd4"
            ]
          },
          "metadata": {}
        },
        {
          "output_type": "display_data",
          "data": {
            "text/plain": [
              "<IPython.core.display.Javascript object>"
            ],
            "application/javascript": [
              "window[\"405e6998-bac5-11ec-b935-0242ac1c0002\"] = google.colab.output.setActiveOutputArea(window[\"405d6dd6-bac5-11ec-b935-0242ac1c0002\"]);\n",
              "//# sourceURL=js_124aca3534"
            ]
          },
          "metadata": {}
        },
        {
          "output_type": "display_data",
          "data": {
            "text/plain": [
              "<IPython.core.display.Javascript object>"
            ],
            "application/javascript": [
              "window[\"407dc00e-bac5-11ec-b935-0242ac1c0002\"] = google.colab.output.setActiveOutputArea(window[\"405cb1ca-bac5-11ec-b935-0242ac1c0002\"]);\n",
              "//# sourceURL=js_2c2eed9f55"
            ]
          },
          "metadata": {}
        },
        {
          "output_type": "display_data",
          "data": {
            "text/plain": [
              "<IPython.core.display.Javascript object>"
            ],
            "application/javascript": [
              "window[\"4080dd02-bac5-11ec-b935-0242ac1c0002\"] = google.colab.output.getActiveOutputArea();\n",
              "//# sourceURL=js_aad8a052df"
            ]
          },
          "metadata": {}
        },
        {
          "output_type": "display_data",
          "data": {
            "text/plain": [
              "<IPython.core.display.Javascript object>"
            ],
            "application/javascript": [
              "window[\"408152c8-bac5-11ec-b935-0242ac1c0002\"] = document.querySelector(\"#id2-0-0\");\n",
              "//# sourceURL=js_eb9f71ffb3"
            ]
          },
          "metadata": {}
        },
        {
          "output_type": "display_data",
          "data": {
            "text/plain": [
              "<IPython.core.display.Javascript object>"
            ],
            "application/javascript": [
              "window[\"4081c3ca-bac5-11ec-b935-0242ac1c0002\"] = google.colab.output.setActiveOutputArea(window[\"408152c8-bac5-11ec-b935-0242ac1c0002\"]);\n",
              "//# sourceURL=js_0959deedb7"
            ]
          },
          "metadata": {}
        },
        {
          "output_type": "display_data",
          "data": {
            "text/plain": [
              "<IPython.core.display.Javascript object>"
            ],
            "application/javascript": [
              "window[\"40a31386-bac5-11ec-b935-0242ac1c0002\"] = google.colab.output.setActiveOutputArea(window[\"4080dd02-bac5-11ec-b935-0242ac1c0002\"]);\n",
              "//# sourceURL=js_a0b052b3ab"
            ]
          },
          "metadata": {}
        },
        {
          "output_type": "display_data",
          "data": {
            "text/plain": [
              "<IPython.core.display.Javascript object>"
            ],
            "application/javascript": [
              "window[\"40a70afe-bac5-11ec-b935-0242ac1c0002\"] = google.colab.output.getActiveOutputArea();\n",
              "//# sourceURL=js_132155407e"
            ]
          },
          "metadata": {}
        },
        {
          "output_type": "display_data",
          "data": {
            "text/plain": [
              "<IPython.core.display.Javascript object>"
            ],
            "application/javascript": [
              "window[\"40a77e8a-bac5-11ec-b935-0242ac1c0002\"] = document.querySelector(\"#id2-0-0\");\n",
              "//# sourceURL=js_79c098b1ab"
            ]
          },
          "metadata": {}
        },
        {
          "output_type": "display_data",
          "data": {
            "text/plain": [
              "<IPython.core.display.Javascript object>"
            ],
            "application/javascript": [
              "window[\"40a7e5be-bac5-11ec-b935-0242ac1c0002\"] = google.colab.output.setActiveOutputArea(window[\"40a77e8a-bac5-11ec-b935-0242ac1c0002\"]);\n",
              "//# sourceURL=js_364a111e6a"
            ]
          },
          "metadata": {}
        },
        {
          "output_type": "display_data",
          "data": {
            "text/plain": [
              "<IPython.core.display.Javascript object>"
            ],
            "application/javascript": [
              "window[\"40c7d784-bac5-11ec-b935-0242ac1c0002\"] = google.colab.output.setActiveOutputArea(window[\"40a70afe-bac5-11ec-b935-0242ac1c0002\"]);\n",
              "//# sourceURL=js_0f2a760b9f"
            ]
          },
          "metadata": {}
        },
        {
          "output_type": "display_data",
          "data": {
            "text/plain": [
              "<IPython.core.display.Javascript object>"
            ],
            "application/javascript": [
              "window[\"40ca91b8-bac5-11ec-b935-0242ac1c0002\"] = google.colab.output.getActiveOutputArea();\n",
              "//# sourceURL=js_2d838750c2"
            ]
          },
          "metadata": {}
        },
        {
          "output_type": "display_data",
          "data": {
            "text/plain": [
              "<IPython.core.display.Javascript object>"
            ],
            "application/javascript": [
              "window[\"40caf572-bac5-11ec-b935-0242ac1c0002\"] = document.querySelector(\"#id2-0-0\");\n",
              "//# sourceURL=js_545677d8b9"
            ]
          },
          "metadata": {}
        },
        {
          "output_type": "display_data",
          "data": {
            "text/plain": [
              "<IPython.core.display.Javascript object>"
            ],
            "application/javascript": [
              "window[\"40cb60d4-bac5-11ec-b935-0242ac1c0002\"] = google.colab.output.setActiveOutputArea(window[\"40caf572-bac5-11ec-b935-0242ac1c0002\"]);\n",
              "//# sourceURL=js_22435c173b"
            ]
          },
          "metadata": {}
        },
        {
          "output_type": "display_data",
          "data": {
            "text/plain": [
              "<IPython.core.display.Javascript object>"
            ],
            "application/javascript": [
              "window[\"40f09426-bac5-11ec-b935-0242ac1c0002\"] = google.colab.output.setActiveOutputArea(window[\"40ca91b8-bac5-11ec-b935-0242ac1c0002\"]);\n",
              "//# sourceURL=js_d2770f77eb"
            ]
          },
          "metadata": {}
        },
        {
          "output_type": "display_data",
          "data": {
            "text/plain": [
              "<IPython.core.display.Javascript object>"
            ],
            "application/javascript": [
              "window[\"40f35594-bac5-11ec-b935-0242ac1c0002\"] = google.colab.output.getActiveOutputArea();\n",
              "//# sourceURL=js_553a8d9181"
            ]
          },
          "metadata": {}
        },
        {
          "output_type": "display_data",
          "data": {
            "text/plain": [
              "<IPython.core.display.Javascript object>"
            ],
            "application/javascript": [
              "window[\"40f3cb28-bac5-11ec-b935-0242ac1c0002\"] = document.querySelector(\"#id2-0-0\");\n",
              "//# sourceURL=js_863a353bcc"
            ]
          },
          "metadata": {}
        },
        {
          "output_type": "display_data",
          "data": {
            "text/plain": [
              "<IPython.core.display.Javascript object>"
            ],
            "application/javascript": [
              "window[\"40f43cac-bac5-11ec-b935-0242ac1c0002\"] = google.colab.output.setActiveOutputArea(window[\"40f3cb28-bac5-11ec-b935-0242ac1c0002\"]);\n",
              "//# sourceURL=js_9c49a6b22e"
            ]
          },
          "metadata": {}
        },
        {
          "output_type": "display_data",
          "data": {
            "text/plain": [
              "<IPython.core.display.Javascript object>"
            ],
            "application/javascript": [
              "window[\"41170c0a-bac5-11ec-b935-0242ac1c0002\"] = google.colab.output.setActiveOutputArea(window[\"40f35594-bac5-11ec-b935-0242ac1c0002\"]);\n",
              "//# sourceURL=js_e58bf2c057"
            ]
          },
          "metadata": {}
        },
        {
          "output_type": "display_data",
          "data": {
            "text/plain": [
              "<IPython.core.display.Javascript object>"
            ],
            "application/javascript": [
              "window[\"4119d5fc-bac5-11ec-b935-0242ac1c0002\"] = google.colab.output.getActiveOutputArea();\n",
              "//# sourceURL=js_a85f8dd397"
            ]
          },
          "metadata": {}
        },
        {
          "output_type": "display_data",
          "data": {
            "text/plain": [
              "<IPython.core.display.Javascript object>"
            ],
            "application/javascript": [
              "window[\"411a4bfe-bac5-11ec-b935-0242ac1c0002\"] = document.querySelector(\"#id2-0-0\");\n",
              "//# sourceURL=js_1c0adf5abc"
            ]
          },
          "metadata": {}
        },
        {
          "output_type": "display_data",
          "data": {
            "text/plain": [
              "<IPython.core.display.Javascript object>"
            ],
            "application/javascript": [
              "window[\"411abb02-bac5-11ec-b935-0242ac1c0002\"] = google.colab.output.setActiveOutputArea(window[\"411a4bfe-bac5-11ec-b935-0242ac1c0002\"]);\n",
              "//# sourceURL=js_405237778c"
            ]
          },
          "metadata": {}
        },
        {
          "output_type": "display_data",
          "data": {
            "text/plain": [
              "<IPython.core.display.Javascript object>"
            ],
            "application/javascript": [
              "window[\"413e1214-bac5-11ec-b935-0242ac1c0002\"] = google.colab.output.setActiveOutputArea(window[\"4119d5fc-bac5-11ec-b935-0242ac1c0002\"]);\n",
              "//# sourceURL=js_9942c5f2e6"
            ]
          },
          "metadata": {}
        },
        {
          "output_type": "display_data",
          "data": {
            "text/plain": [
              "<IPython.core.display.Javascript object>"
            ],
            "application/javascript": [
              "window[\"4140cbc6-bac5-11ec-b935-0242ac1c0002\"] = google.colab.output.getActiveOutputArea();\n",
              "//# sourceURL=js_f3ea5e38f8"
            ]
          },
          "metadata": {}
        },
        {
          "output_type": "display_data",
          "data": {
            "text/plain": [
              "<IPython.core.display.Javascript object>"
            ],
            "application/javascript": [
              "window[\"414144d4-bac5-11ec-b935-0242ac1c0002\"] = document.querySelector(\"#id2-0-0\");\n",
              "//# sourceURL=js_5c182d2dfc"
            ]
          },
          "metadata": {}
        },
        {
          "output_type": "display_data",
          "data": {
            "text/plain": [
              "<IPython.core.display.Javascript object>"
            ],
            "application/javascript": [
              "window[\"4141aeec-bac5-11ec-b935-0242ac1c0002\"] = google.colab.output.setActiveOutputArea(window[\"414144d4-bac5-11ec-b935-0242ac1c0002\"]);\n",
              "//# sourceURL=js_c7ff191e22"
            ]
          },
          "metadata": {}
        },
        {
          "output_type": "display_data",
          "data": {
            "text/plain": [
              "<IPython.core.display.Javascript object>"
            ],
            "application/javascript": [
              "window[\"416641f8-bac5-11ec-b935-0242ac1c0002\"] = google.colab.output.setActiveOutputArea(window[\"4140cbc6-bac5-11ec-b935-0242ac1c0002\"]);\n",
              "//# sourceURL=js_54b350b86a"
            ]
          },
          "metadata": {}
        },
        {
          "output_type": "display_data",
          "data": {
            "text/plain": [
              "<IPython.core.display.Javascript object>"
            ],
            "application/javascript": [
              "window[\"416958ac-bac5-11ec-b935-0242ac1c0002\"] = google.colab.output.getActiveOutputArea();\n",
              "//# sourceURL=js_d26a2f3dcb"
            ]
          },
          "metadata": {}
        },
        {
          "output_type": "display_data",
          "data": {
            "text/plain": [
              "<IPython.core.display.Javascript object>"
            ],
            "application/javascript": [
              "window[\"4169ceb8-bac5-11ec-b935-0242ac1c0002\"] = document.querySelector(\"#id2-0-0\");\n",
              "//# sourceURL=js_a6830c7240"
            ]
          },
          "metadata": {}
        },
        {
          "output_type": "display_data",
          "data": {
            "text/plain": [
              "<IPython.core.display.Javascript object>"
            ],
            "application/javascript": [
              "window[\"416a36e6-bac5-11ec-b935-0242ac1c0002\"] = google.colab.output.setActiveOutputArea(window[\"4169ceb8-bac5-11ec-b935-0242ac1c0002\"]);\n",
              "//# sourceURL=js_2f1d2b9d74"
            ]
          },
          "metadata": {}
        },
        {
          "output_type": "display_data",
          "data": {
            "text/plain": [
              "<IPython.core.display.Javascript object>"
            ],
            "application/javascript": [
              "window[\"418fe5bc-bac5-11ec-b935-0242ac1c0002\"] = google.colab.output.setActiveOutputArea(window[\"416958ac-bac5-11ec-b935-0242ac1c0002\"]);\n",
              "//# sourceURL=js_52e85367e6"
            ]
          },
          "metadata": {}
        },
        {
          "output_type": "display_data",
          "data": {
            "text/plain": [
              "<IPython.core.display.Javascript object>"
            ],
            "application/javascript": [
              "window[\"4195c77a-bac5-11ec-b935-0242ac1c0002\"] = google.colab.output.getActiveOutputArea();\n",
              "//# sourceURL=js_5c3465307c"
            ]
          },
          "metadata": {}
        },
        {
          "output_type": "display_data",
          "data": {
            "text/plain": [
              "<IPython.core.display.Javascript object>"
            ],
            "application/javascript": [
              "window[\"41962ada-bac5-11ec-b935-0242ac1c0002\"] = document.querySelector(\"#id2-0-0\");\n",
              "//# sourceURL=js_2fd4365a4f"
            ]
          },
          "metadata": {}
        },
        {
          "output_type": "display_data",
          "data": {
            "text/plain": [
              "<IPython.core.display.Javascript object>"
            ],
            "application/javascript": [
              "window[\"41969f4c-bac5-11ec-b935-0242ac1c0002\"] = google.colab.output.setActiveOutputArea(window[\"41962ada-bac5-11ec-b935-0242ac1c0002\"]);\n",
              "//# sourceURL=js_eacf8ae285"
            ]
          },
          "metadata": {}
        },
        {
          "output_type": "display_data",
          "data": {
            "text/plain": [
              "<IPython.core.display.Javascript object>"
            ],
            "application/javascript": [
              "window[\"41baaa36-bac5-11ec-b935-0242ac1c0002\"] = google.colab.output.setActiveOutputArea(window[\"4195c77a-bac5-11ec-b935-0242ac1c0002\"]);\n",
              "//# sourceURL=js_62225fe333"
            ]
          },
          "metadata": {}
        },
        {
          "output_type": "display_data",
          "data": {
            "text/plain": [
              "<IPython.core.display.Javascript object>"
            ],
            "application/javascript": [
              "window[\"41c01c8c-bac5-11ec-b935-0242ac1c0002\"] = google.colab.output.getActiveOutputArea();\n",
              "//# sourceURL=js_ecade72356"
            ]
          },
          "metadata": {}
        },
        {
          "output_type": "display_data",
          "data": {
            "text/plain": [
              "<IPython.core.display.Javascript object>"
            ],
            "application/javascript": [
              "window[\"41c0d67c-bac5-11ec-b935-0242ac1c0002\"] = document.querySelector(\"#id2-0-0\");\n",
              "//# sourceURL=js_34e15a5c1c"
            ]
          },
          "metadata": {}
        },
        {
          "output_type": "display_data",
          "data": {
            "text/plain": [
              "<IPython.core.display.Javascript object>"
            ],
            "application/javascript": [
              "window[\"41c15f2a-bac5-11ec-b935-0242ac1c0002\"] = google.colab.output.setActiveOutputArea(window[\"41c0d67c-bac5-11ec-b935-0242ac1c0002\"]);\n",
              "//# sourceURL=js_56fb7db039"
            ]
          },
          "metadata": {}
        },
        {
          "output_type": "display_data",
          "data": {
            "text/plain": [
              "<IPython.core.display.Javascript object>"
            ],
            "application/javascript": [
              "window[\"41e39da6-bac5-11ec-b935-0242ac1c0002\"] = google.colab.output.setActiveOutputArea(window[\"41c01c8c-bac5-11ec-b935-0242ac1c0002\"]);\n",
              "//# sourceURL=js_ed3a65a5aa"
            ]
          },
          "metadata": {}
        },
        {
          "output_type": "display_data",
          "data": {
            "text/plain": [
              "<IPython.core.display.Javascript object>"
            ],
            "application/javascript": [
              "window[\"41e9a9b2-bac5-11ec-b935-0242ac1c0002\"] = google.colab.output.getActiveOutputArea();\n",
              "//# sourceURL=js_dbe9ab11c7"
            ]
          },
          "metadata": {}
        },
        {
          "output_type": "display_data",
          "data": {
            "text/plain": [
              "<IPython.core.display.Javascript object>"
            ],
            "application/javascript": [
              "window[\"41ea2248-bac5-11ec-b935-0242ac1c0002\"] = document.querySelector(\"#id2-0-0\");\n",
              "//# sourceURL=js_f46d97e35a"
            ]
          },
          "metadata": {}
        },
        {
          "output_type": "display_data",
          "data": {
            "text/plain": [
              "<IPython.core.display.Javascript object>"
            ],
            "application/javascript": [
              "window[\"41ea8396-bac5-11ec-b935-0242ac1c0002\"] = google.colab.output.setActiveOutputArea(window[\"41ea2248-bac5-11ec-b935-0242ac1c0002\"]);\n",
              "//# sourceURL=js_5f2a1a5579"
            ]
          },
          "metadata": {}
        },
        {
          "output_type": "display_data",
          "data": {
            "text/plain": [
              "<IPython.core.display.Javascript object>"
            ],
            "application/javascript": [
              "window[\"420deab6-bac5-11ec-b935-0242ac1c0002\"] = google.colab.output.setActiveOutputArea(window[\"41e9a9b2-bac5-11ec-b935-0242ac1c0002\"]);\n",
              "//# sourceURL=js_4b163cc0cc"
            ]
          },
          "metadata": {}
        },
        {
          "output_type": "display_data",
          "data": {
            "text/plain": [
              "<IPython.core.display.Javascript object>"
            ],
            "application/javascript": [
              "window[\"4210e5b8-bac5-11ec-b935-0242ac1c0002\"] = google.colab.output.getActiveOutputArea();\n",
              "//# sourceURL=js_15286d75fd"
            ]
          },
          "metadata": {}
        },
        {
          "output_type": "display_data",
          "data": {
            "text/plain": [
              "<IPython.core.display.Javascript object>"
            ],
            "application/javascript": [
              "window[\"42116286-bac5-11ec-b935-0242ac1c0002\"] = document.querySelector(\"#id2-0-0\");\n",
              "//# sourceURL=js_bb9e7d6a33"
            ]
          },
          "metadata": {}
        },
        {
          "output_type": "display_data",
          "data": {
            "text/plain": [
              "<IPython.core.display.Javascript object>"
            ],
            "application/javascript": [
              "window[\"4211d446-bac5-11ec-b935-0242ac1c0002\"] = google.colab.output.setActiveOutputArea(window[\"42116286-bac5-11ec-b935-0242ac1c0002\"]);\n",
              "//# sourceURL=js_c290b7d6ee"
            ]
          },
          "metadata": {}
        },
        {
          "output_type": "display_data",
          "data": {
            "text/plain": [
              "<IPython.core.display.Javascript object>"
            ],
            "application/javascript": [
              "window[\"42396d4e-bac5-11ec-b935-0242ac1c0002\"] = google.colab.output.setActiveOutputArea(window[\"4210e5b8-bac5-11ec-b935-0242ac1c0002\"]);\n",
              "//# sourceURL=js_db20bc636d"
            ]
          },
          "metadata": {}
        },
        {
          "output_type": "display_data",
          "data": {
            "text/plain": [
              "<IPython.core.display.Javascript object>"
            ],
            "application/javascript": [
              "window[\"423c5e78-bac5-11ec-b935-0242ac1c0002\"] = google.colab.output.getActiveOutputArea();\n",
              "//# sourceURL=js_15de55c827"
            ]
          },
          "metadata": {}
        },
        {
          "output_type": "display_data",
          "data": {
            "text/plain": [
              "<IPython.core.display.Javascript object>"
            ],
            "application/javascript": [
              "window[\"423cd934-bac5-11ec-b935-0242ac1c0002\"] = document.querySelector(\"#id2-0-0\");\n",
              "//# sourceURL=js_a08d5b761e"
            ]
          },
          "metadata": {}
        },
        {
          "output_type": "display_data",
          "data": {
            "text/plain": [
              "<IPython.core.display.Javascript object>"
            ],
            "application/javascript": [
              "window[\"423d512a-bac5-11ec-b935-0242ac1c0002\"] = google.colab.output.setActiveOutputArea(window[\"423cd934-bac5-11ec-b935-0242ac1c0002\"]);\n",
              "//# sourceURL=js_5f39992f9c"
            ]
          },
          "metadata": {}
        },
        {
          "output_type": "display_data",
          "data": {
            "text/plain": [
              "<IPython.core.display.Javascript object>"
            ],
            "application/javascript": [
              "window[\"425f3a24-bac5-11ec-b935-0242ac1c0002\"] = google.colab.output.setActiveOutputArea(window[\"423c5e78-bac5-11ec-b935-0242ac1c0002\"]);\n",
              "//# sourceURL=js_3f6ebbadee"
            ]
          },
          "metadata": {}
        },
        {
          "output_type": "display_data",
          "data": {
            "text/plain": [
              "<IPython.core.display.Javascript object>"
            ],
            "application/javascript": [
              "window[\"42621dc0-bac5-11ec-b935-0242ac1c0002\"] = google.colab.output.getActiveOutputArea();\n",
              "//# sourceURL=js_324f16732a"
            ]
          },
          "metadata": {}
        },
        {
          "output_type": "display_data",
          "data": {
            "text/plain": [
              "<IPython.core.display.Javascript object>"
            ],
            "application/javascript": [
              "window[\"4262919c-bac5-11ec-b935-0242ac1c0002\"] = document.querySelector(\"#id2-0-0\");\n",
              "//# sourceURL=js_3f36f93ba7"
            ]
          },
          "metadata": {}
        },
        {
          "output_type": "display_data",
          "data": {
            "text/plain": [
              "<IPython.core.display.Javascript object>"
            ],
            "application/javascript": [
              "window[\"4263073a-bac5-11ec-b935-0242ac1c0002\"] = google.colab.output.setActiveOutputArea(window[\"4262919c-bac5-11ec-b935-0242ac1c0002\"]);\n",
              "//# sourceURL=js_4150fd4cb1"
            ]
          },
          "metadata": {}
        },
        {
          "output_type": "display_data",
          "data": {
            "text/plain": [
              "<IPython.core.display.Javascript object>"
            ],
            "application/javascript": [
              "window[\"4287a888-bac5-11ec-b935-0242ac1c0002\"] = google.colab.output.setActiveOutputArea(window[\"42621dc0-bac5-11ec-b935-0242ac1c0002\"]);\n",
              "//# sourceURL=js_ce990e6480"
            ]
          },
          "metadata": {}
        },
        {
          "output_type": "display_data",
          "data": {
            "text/plain": [
              "<IPython.core.display.Javascript object>"
            ],
            "application/javascript": [
              "window[\"428a7dba-bac5-11ec-b935-0242ac1c0002\"] = google.colab.output.getActiveOutputArea();\n",
              "//# sourceURL=js_a7f7e280c6"
            ]
          },
          "metadata": {}
        },
        {
          "output_type": "display_data",
          "data": {
            "text/plain": [
              "<IPython.core.display.Javascript object>"
            ],
            "application/javascript": [
              "window[\"428b0294-bac5-11ec-b935-0242ac1c0002\"] = document.querySelector(\"#id2-0-0\");\n",
              "//# sourceURL=js_19bb3b24c3"
            ]
          },
          "metadata": {}
        },
        {
          "output_type": "display_data",
          "data": {
            "text/plain": [
              "<IPython.core.display.Javascript object>"
            ],
            "application/javascript": [
              "window[\"428b786e-bac5-11ec-b935-0242ac1c0002\"] = google.colab.output.setActiveOutputArea(window[\"428b0294-bac5-11ec-b935-0242ac1c0002\"]);\n",
              "//# sourceURL=js_d5b7d97b11"
            ]
          },
          "metadata": {}
        },
        {
          "output_type": "display_data",
          "data": {
            "text/plain": [
              "<IPython.core.display.Javascript object>"
            ],
            "application/javascript": [
              "window[\"42aeb07c-bac5-11ec-b935-0242ac1c0002\"] = google.colab.output.setActiveOutputArea(window[\"428a7dba-bac5-11ec-b935-0242ac1c0002\"]);\n",
              "//# sourceURL=js_cc9da68445"
            ]
          },
          "metadata": {}
        },
        {
          "output_type": "display_data",
          "data": {
            "text/plain": [
              "<IPython.core.display.Javascript object>"
            ],
            "application/javascript": [
              "window[\"42b28dc8-bac5-11ec-b935-0242ac1c0002\"] = google.colab.output.getActiveOutputArea();\n",
              "//# sourceURL=js_7da42ab93d"
            ]
          },
          "metadata": {}
        },
        {
          "output_type": "display_data",
          "data": {
            "text/plain": [
              "<IPython.core.display.Javascript object>"
            ],
            "application/javascript": [
              "window[\"42b2fbb4-bac5-11ec-b935-0242ac1c0002\"] = document.querySelector(\"#id2-0-0\");\n",
              "//# sourceURL=js_3b05dfe2ef"
            ]
          },
          "metadata": {}
        },
        {
          "output_type": "display_data",
          "data": {
            "text/plain": [
              "<IPython.core.display.Javascript object>"
            ],
            "application/javascript": [
              "window[\"42b3622a-bac5-11ec-b935-0242ac1c0002\"] = google.colab.output.setActiveOutputArea(window[\"42b2fbb4-bac5-11ec-b935-0242ac1c0002\"]);\n",
              "//# sourceURL=js_afa3ea0b34"
            ]
          },
          "metadata": {}
        },
        {
          "output_type": "display_data",
          "data": {
            "text/plain": [
              "<IPython.core.display.Javascript object>"
            ],
            "application/javascript": [
              "window[\"42e5f3d4-bac5-11ec-b935-0242ac1c0002\"] = google.colab.output.setActiveOutputArea(window[\"42b28dc8-bac5-11ec-b935-0242ac1c0002\"]);\n",
              "//# sourceURL=js_a105d1dfe2"
            ]
          },
          "metadata": {}
        },
        {
          "output_type": "display_data",
          "data": {
            "text/plain": [
              "<IPython.core.display.Javascript object>"
            ],
            "application/javascript": [
              "window[\"42e95466-bac5-11ec-b935-0242ac1c0002\"] = google.colab.output.getActiveOutputArea();\n",
              "//# sourceURL=js_d477bb792d"
            ]
          },
          "metadata": {}
        },
        {
          "output_type": "display_data",
          "data": {
            "text/plain": [
              "<IPython.core.display.Javascript object>"
            ],
            "application/javascript": [
              "window[\"42e9a95c-bac5-11ec-b935-0242ac1c0002\"] = document.querySelector(\"#id2-0-0\");\n",
              "//# sourceURL=js_56b2b17893"
            ]
          },
          "metadata": {}
        },
        {
          "output_type": "display_data",
          "data": {
            "text/plain": [
              "<IPython.core.display.Javascript object>"
            ],
            "application/javascript": [
              "window[\"42e9fab0-bac5-11ec-b935-0242ac1c0002\"] = google.colab.output.setActiveOutputArea(window[\"42e9a95c-bac5-11ec-b935-0242ac1c0002\"]);\n",
              "//# sourceURL=js_619ecf3974"
            ]
          },
          "metadata": {}
        },
        {
          "output_type": "display_data",
          "data": {
            "text/plain": [
              "<IPython.core.display.Javascript object>"
            ],
            "application/javascript": [
              "window[\"43120172-bac5-11ec-b935-0242ac1c0002\"] = google.colab.output.setActiveOutputArea(window[\"42e95466-bac5-11ec-b935-0242ac1c0002\"]);\n",
              "//# sourceURL=js_7170074187"
            ]
          },
          "metadata": {}
        },
        {
          "output_type": "display_data",
          "data": {
            "text/plain": [
              "<IPython.core.display.Javascript object>"
            ],
            "application/javascript": [
              "window[\"43168ae4-bac5-11ec-b935-0242ac1c0002\"] = google.colab.output.getActiveOutputArea();\n",
              "//# sourceURL=js_fccb9323b2"
            ]
          },
          "metadata": {}
        },
        {
          "output_type": "display_data",
          "data": {
            "text/plain": [
              "<IPython.core.display.Javascript object>"
            ],
            "application/javascript": [
              "window[\"4316ec0a-bac5-11ec-b935-0242ac1c0002\"] = document.querySelector(\"#id2-0-0\");\n",
              "//# sourceURL=js_4e8195042b"
            ]
          },
          "metadata": {}
        },
        {
          "output_type": "display_data",
          "data": {
            "text/plain": [
              "<IPython.core.display.Javascript object>"
            ],
            "application/javascript": [
              "window[\"43176388-bac5-11ec-b935-0242ac1c0002\"] = google.colab.output.setActiveOutputArea(window[\"4316ec0a-bac5-11ec-b935-0242ac1c0002\"]);\n",
              "//# sourceURL=js_ad72fc562f"
            ]
          },
          "metadata": {}
        },
        {
          "output_type": "display_data",
          "data": {
            "text/plain": [
              "<IPython.core.display.Javascript object>"
            ],
            "application/javascript": [
              "window[\"4339a5a6-bac5-11ec-b935-0242ac1c0002\"] = google.colab.output.setActiveOutputArea(window[\"43168ae4-bac5-11ec-b935-0242ac1c0002\"]);\n",
              "//# sourceURL=js_e0bf2762bd"
            ]
          },
          "metadata": {}
        },
        {
          "output_type": "display_data",
          "data": {
            "text/plain": [
              "<IPython.core.display.Javascript object>"
            ],
            "application/javascript": [
              "window[\"433c675a-bac5-11ec-b935-0242ac1c0002\"] = google.colab.output.getActiveOutputArea();\n",
              "//# sourceURL=js_e56ac32798"
            ]
          },
          "metadata": {}
        },
        {
          "output_type": "display_data",
          "data": {
            "text/plain": [
              "<IPython.core.display.Javascript object>"
            ],
            "application/javascript": [
              "window[\"433cd8ac-bac5-11ec-b935-0242ac1c0002\"] = document.querySelector(\"#id2-0-0\");\n",
              "//# sourceURL=js_1a58abb151"
            ]
          },
          "metadata": {}
        },
        {
          "output_type": "display_data",
          "data": {
            "text/plain": [
              "<IPython.core.display.Javascript object>"
            ],
            "application/javascript": [
              "window[\"433d410c-bac5-11ec-b935-0242ac1c0002\"] = google.colab.output.setActiveOutputArea(window[\"433cd8ac-bac5-11ec-b935-0242ac1c0002\"]);\n",
              "//# sourceURL=js_d1da07b995"
            ]
          },
          "metadata": {}
        },
        {
          "output_type": "display_data",
          "data": {
            "text/plain": [
              "<IPython.core.display.Javascript object>"
            ],
            "application/javascript": [
              "window[\"43621ebe-bac5-11ec-b935-0242ac1c0002\"] = google.colab.output.setActiveOutputArea(window[\"433c675a-bac5-11ec-b935-0242ac1c0002\"]);\n",
              "//# sourceURL=js_f02148e593"
            ]
          },
          "metadata": {}
        },
        {
          "output_type": "display_data",
          "data": {
            "text/plain": [
              "<IPython.core.display.Javascript object>"
            ],
            "application/javascript": [
              "window[\"436877b4-bac5-11ec-b935-0242ac1c0002\"] = google.colab.output.getActiveOutputArea();\n",
              "//# sourceURL=js_8b0d5699a0"
            ]
          },
          "metadata": {}
        },
        {
          "output_type": "display_data",
          "data": {
            "text/plain": [
              "<IPython.core.display.Javascript object>"
            ],
            "application/javascript": [
              "window[\"4368e3c0-bac5-11ec-b935-0242ac1c0002\"] = document.querySelector(\"#id2-0-0\");\n",
              "//# sourceURL=js_adde9f21f3"
            ]
          },
          "metadata": {}
        },
        {
          "output_type": "display_data",
          "data": {
            "text/plain": [
              "<IPython.core.display.Javascript object>"
            ],
            "application/javascript": [
              "window[\"4369680e-bac5-11ec-b935-0242ac1c0002\"] = google.colab.output.setActiveOutputArea(window[\"4368e3c0-bac5-11ec-b935-0242ac1c0002\"]);\n",
              "//# sourceURL=js_52ef0b8417"
            ]
          },
          "metadata": {}
        },
        {
          "output_type": "display_data",
          "data": {
            "text/plain": [
              "<IPython.core.display.Javascript object>"
            ],
            "application/javascript": [
              "window[\"438ce536-bac5-11ec-b935-0242ac1c0002\"] = google.colab.output.setActiveOutputArea(window[\"436877b4-bac5-11ec-b935-0242ac1c0002\"]);\n",
              "//# sourceURL=js_9bf427f48a"
            ]
          },
          "metadata": {}
        },
        {
          "output_type": "display_data",
          "data": {
            "text/plain": [
              "<IPython.core.display.Javascript object>"
            ],
            "application/javascript": [
              "window[\"43921a7e-bac5-11ec-b935-0242ac1c0002\"] = google.colab.output.getActiveOutputArea();\n",
              "//# sourceURL=js_a9300bfa8a"
            ]
          },
          "metadata": {}
        },
        {
          "output_type": "display_data",
          "data": {
            "text/plain": [
              "<IPython.core.display.Javascript object>"
            ],
            "application/javascript": [
              "window[\"4392841e-bac5-11ec-b935-0242ac1c0002\"] = document.querySelector(\"#id2-0-0\");\n",
              "//# sourceURL=js_1de9b30350"
            ]
          },
          "metadata": {}
        },
        {
          "output_type": "display_data",
          "data": {
            "text/plain": [
              "<IPython.core.display.Javascript object>"
            ],
            "application/javascript": [
              "window[\"4392ede6-bac5-11ec-b935-0242ac1c0002\"] = google.colab.output.setActiveOutputArea(window[\"4392841e-bac5-11ec-b935-0242ac1c0002\"]);\n",
              "//# sourceURL=js_02b5def30c"
            ]
          },
          "metadata": {}
        },
        {
          "output_type": "display_data",
          "data": {
            "text/plain": [
              "<IPython.core.display.Javascript object>"
            ],
            "application/javascript": [
              "window[\"43b6e5fc-bac5-11ec-b935-0242ac1c0002\"] = google.colab.output.setActiveOutputArea(window[\"43921a7e-bac5-11ec-b935-0242ac1c0002\"]);\n",
              "//# sourceURL=js_9b3488cd91"
            ]
          },
          "metadata": {}
        },
        {
          "output_type": "display_data",
          "data": {
            "text/plain": [
              "<IPython.core.display.Javascript object>"
            ],
            "application/javascript": [
              "window[\"43ba16fa-bac5-11ec-b935-0242ac1c0002\"] = google.colab.output.getActiveOutputArea();\n",
              "//# sourceURL=js_d1ce15a921"
            ]
          },
          "metadata": {}
        },
        {
          "output_type": "display_data",
          "data": {
            "text/plain": [
              "<IPython.core.display.Javascript object>"
            ],
            "application/javascript": [
              "window[\"43ba7b22-bac5-11ec-b935-0242ac1c0002\"] = document.querySelector(\"#id2-0-0\");\n",
              "//# sourceURL=js_186b293d40"
            ]
          },
          "metadata": {}
        },
        {
          "output_type": "display_data",
          "data": {
            "text/plain": [
              "<IPython.core.display.Javascript object>"
            ],
            "application/javascript": [
              "window[\"43bb458e-bac5-11ec-b935-0242ac1c0002\"] = google.colab.output.setActiveOutputArea(window[\"43ba7b22-bac5-11ec-b935-0242ac1c0002\"]);\n",
              "//# sourceURL=js_767e74c031"
            ]
          },
          "metadata": {}
        },
        {
          "output_type": "display_data",
          "data": {
            "text/plain": [
              "<IPython.core.display.Javascript object>"
            ],
            "application/javascript": [
              "window[\"43e0d894-bac5-11ec-b935-0242ac1c0002\"] = google.colab.output.setActiveOutputArea(window[\"43ba16fa-bac5-11ec-b935-0242ac1c0002\"]);\n",
              "//# sourceURL=js_3cc7a06926"
            ]
          },
          "metadata": {}
        },
        {
          "output_type": "display_data",
          "data": {
            "text/plain": [
              "<IPython.core.display.Javascript object>"
            ],
            "application/javascript": [
              "window[\"43e3d08a-bac5-11ec-b935-0242ac1c0002\"] = google.colab.output.getActiveOutputArea();\n",
              "//# sourceURL=js_5ac93f750f"
            ]
          },
          "metadata": {}
        },
        {
          "output_type": "display_data",
          "data": {
            "text/plain": [
              "<IPython.core.display.Javascript object>"
            ],
            "application/javascript": [
              "window[\"43e444fc-bac5-11ec-b935-0242ac1c0002\"] = document.querySelector(\"#id2-0-0\");\n",
              "//# sourceURL=js_3ec90b9770"
            ]
          },
          "metadata": {}
        },
        {
          "output_type": "display_data",
          "data": {
            "text/plain": [
              "<IPython.core.display.Javascript object>"
            ],
            "application/javascript": [
              "window[\"43e4b8ec-bac5-11ec-b935-0242ac1c0002\"] = google.colab.output.setActiveOutputArea(window[\"43e444fc-bac5-11ec-b935-0242ac1c0002\"]);\n",
              "//# sourceURL=js_3024a4e2d3"
            ]
          },
          "metadata": {}
        },
        {
          "output_type": "display_data",
          "data": {
            "text/plain": [
              "<IPython.core.display.Javascript object>"
            ],
            "application/javascript": [
              "window[\"440b9c1e-bac5-11ec-b935-0242ac1c0002\"] = google.colab.output.setActiveOutputArea(window[\"43e3d08a-bac5-11ec-b935-0242ac1c0002\"]);\n",
              "//# sourceURL=js_d8378a91d6"
            ]
          },
          "metadata": {}
        },
        {
          "output_type": "display_data",
          "data": {
            "text/plain": [
              "<IPython.core.display.Javascript object>"
            ],
            "application/javascript": [
              "window[\"440e69da-bac5-11ec-b935-0242ac1c0002\"] = google.colab.output.getActiveOutputArea();\n",
              "//# sourceURL=js_e7bfc626f4"
            ]
          },
          "metadata": {}
        },
        {
          "output_type": "display_data",
          "data": {
            "text/plain": [
              "<IPython.core.display.Javascript object>"
            ],
            "application/javascript": [
              "window[\"440edab4-bac5-11ec-b935-0242ac1c0002\"] = document.querySelector(\"#id2-0-0\");\n",
              "//# sourceURL=js_8281e9af89"
            ]
          },
          "metadata": {}
        },
        {
          "output_type": "display_data",
          "data": {
            "text/plain": [
              "<IPython.core.display.Javascript object>"
            ],
            "application/javascript": [
              "window[\"440f4990-bac5-11ec-b935-0242ac1c0002\"] = google.colab.output.setActiveOutputArea(window[\"440edab4-bac5-11ec-b935-0242ac1c0002\"]);\n",
              "//# sourceURL=js_47947dd250"
            ]
          },
          "metadata": {}
        },
        {
          "output_type": "display_data",
          "data": {
            "text/plain": [
              "<IPython.core.display.Javascript object>"
            ],
            "application/javascript": [
              "window[\"4432f6ec-bac5-11ec-b935-0242ac1c0002\"] = google.colab.output.setActiveOutputArea(window[\"440e69da-bac5-11ec-b935-0242ac1c0002\"]);\n",
              "//# sourceURL=js_c587a762db"
            ]
          },
          "metadata": {}
        },
        {
          "output_type": "display_data",
          "data": {
            "text/plain": [
              "<IPython.core.display.Javascript object>"
            ],
            "application/javascript": [
              "window[\"4436e9b4-bac5-11ec-b935-0242ac1c0002\"] = google.colab.output.getActiveOutputArea();\n",
              "//# sourceURL=js_607e21eeee"
            ]
          },
          "metadata": {}
        },
        {
          "output_type": "display_data",
          "data": {
            "text/plain": [
              "<IPython.core.display.Javascript object>"
            ],
            "application/javascript": [
              "window[\"4437523c-bac5-11ec-b935-0242ac1c0002\"] = document.querySelector(\"#id2-0-0\");\n",
              "//# sourceURL=js_f6c57418f2"
            ]
          },
          "metadata": {}
        },
        {
          "output_type": "display_data",
          "data": {
            "text/plain": [
              "<IPython.core.display.Javascript object>"
            ],
            "application/javascript": [
              "window[\"4437cee2-bac5-11ec-b935-0242ac1c0002\"] = google.colab.output.setActiveOutputArea(window[\"4437523c-bac5-11ec-b935-0242ac1c0002\"]);\n",
              "//# sourceURL=js_ae4164a3f2"
            ]
          },
          "metadata": {}
        },
        {
          "output_type": "display_data",
          "data": {
            "text/plain": [
              "<IPython.core.display.Javascript object>"
            ],
            "application/javascript": [
              "window[\"445ffd18-bac5-11ec-b935-0242ac1c0002\"] = google.colab.output.setActiveOutputArea(window[\"4436e9b4-bac5-11ec-b935-0242ac1c0002\"]);\n",
              "//# sourceURL=js_e4f89a1947"
            ]
          },
          "metadata": {}
        },
        {
          "output_type": "display_data",
          "data": {
            "text/plain": [
              "<IPython.core.display.Javascript object>"
            ],
            "application/javascript": [
              "window[\"446347de-bac5-11ec-b935-0242ac1c0002\"] = google.colab.output.getActiveOutputArea();\n",
              "//# sourceURL=js_b8963be85c"
            ]
          },
          "metadata": {}
        },
        {
          "output_type": "display_data",
          "data": {
            "text/plain": [
              "<IPython.core.display.Javascript object>"
            ],
            "application/javascript": [
              "window[\"4463c65a-bac5-11ec-b935-0242ac1c0002\"] = document.querySelector(\"#id2-0-0\");\n",
              "//# sourceURL=js_e8488edba6"
            ]
          },
          "metadata": {}
        },
        {
          "output_type": "display_data",
          "data": {
            "text/plain": [
              "<IPython.core.display.Javascript object>"
            ],
            "application/javascript": [
              "window[\"446440a8-bac5-11ec-b935-0242ac1c0002\"] = google.colab.output.setActiveOutputArea(window[\"4463c65a-bac5-11ec-b935-0242ac1c0002\"]);\n",
              "//# sourceURL=js_d946c1087d"
            ]
          },
          "metadata": {}
        },
        {
          "output_type": "display_data",
          "data": {
            "text/plain": [
              "<IPython.core.display.Javascript object>"
            ],
            "application/javascript": [
              "window[\"448897dc-bac5-11ec-b935-0242ac1c0002\"] = google.colab.output.setActiveOutputArea(window[\"446347de-bac5-11ec-b935-0242ac1c0002\"]);\n",
              "//# sourceURL=js_2995e1ef10"
            ]
          },
          "metadata": {}
        },
        {
          "output_type": "display_data",
          "data": {
            "text/plain": [
              "<IPython.core.display.Javascript object>"
            ],
            "application/javascript": [
              "window[\"448bcdc6-bac5-11ec-b935-0242ac1c0002\"] = google.colab.output.getActiveOutputArea();\n",
              "//# sourceURL=js_4c8e91c545"
            ]
          },
          "metadata": {}
        },
        {
          "output_type": "display_data",
          "data": {
            "text/plain": [
              "<IPython.core.display.Javascript object>"
            ],
            "application/javascript": [
              "window[\"448c46b6-bac5-11ec-b935-0242ac1c0002\"] = document.querySelector(\"#id2-0-0\");\n",
              "//# sourceURL=js_b3d92ab89b"
            ]
          },
          "metadata": {}
        },
        {
          "output_type": "display_data",
          "data": {
            "text/plain": [
              "<IPython.core.display.Javascript object>"
            ],
            "application/javascript": [
              "window[\"448cbace-bac5-11ec-b935-0242ac1c0002\"] = google.colab.output.setActiveOutputArea(window[\"448c46b6-bac5-11ec-b935-0242ac1c0002\"]);\n",
              "//# sourceURL=js_54e0da9788"
            ]
          },
          "metadata": {}
        },
        {
          "output_type": "display_data",
          "data": {
            "text/plain": [
              "<IPython.core.display.Javascript object>"
            ],
            "application/javascript": [
              "window[\"44b4502a-bac5-11ec-b935-0242ac1c0002\"] = google.colab.output.setActiveOutputArea(window[\"448bcdc6-bac5-11ec-b935-0242ac1c0002\"]);\n",
              "//# sourceURL=js_996fd885df"
            ]
          },
          "metadata": {}
        },
        {
          "output_type": "display_data",
          "data": {
            "text/plain": [
              "<IPython.core.display.Javascript object>"
            ],
            "application/javascript": [
              "window[\"44b8e518-bac5-11ec-b935-0242ac1c0002\"] = google.colab.output.getActiveOutputArea();\n",
              "//# sourceURL=js_fdaa780be1"
            ]
          },
          "metadata": {}
        },
        {
          "output_type": "display_data",
          "data": {
            "text/plain": [
              "<IPython.core.display.Javascript object>"
            ],
            "application/javascript": [
              "window[\"44b9e6ac-bac5-11ec-b935-0242ac1c0002\"] = document.querySelector(\"#id2-0-0\");\n",
              "//# sourceURL=js_4aa2645510"
            ]
          },
          "metadata": {}
        },
        {
          "output_type": "display_data",
          "data": {
            "text/plain": [
              "<IPython.core.display.Javascript object>"
            ],
            "application/javascript": [
              "window[\"44ba66f4-bac5-11ec-b935-0242ac1c0002\"] = google.colab.output.setActiveOutputArea(window[\"44b9e6ac-bac5-11ec-b935-0242ac1c0002\"]);\n",
              "//# sourceURL=js_476103aeec"
            ]
          },
          "metadata": {}
        },
        {
          "output_type": "display_data",
          "data": {
            "text/plain": [
              "<IPython.core.display.Javascript object>"
            ],
            "application/javascript": [
              "window[\"44df2c82-bac5-11ec-b935-0242ac1c0002\"] = google.colab.output.setActiveOutputArea(window[\"44b8e518-bac5-11ec-b935-0242ac1c0002\"]);\n",
              "//# sourceURL=js_ef34bf40c8"
            ]
          },
          "metadata": {}
        },
        {
          "output_type": "display_data",
          "data": {
            "text/plain": [
              "<IPython.core.display.Javascript object>"
            ],
            "application/javascript": [
              "window[\"44e1a624-bac5-11ec-b935-0242ac1c0002\"] = google.colab.output.getActiveOutputArea();\n",
              "//# sourceURL=js_2966959e6f"
            ]
          },
          "metadata": {}
        },
        {
          "output_type": "display_data",
          "data": {
            "text/plain": [
              "<IPython.core.display.Javascript object>"
            ],
            "application/javascript": [
              "window[\"44e2105a-bac5-11ec-b935-0242ac1c0002\"] = document.querySelector(\"#id2-0-0\");\n",
              "//# sourceURL=js_8a757d08e3"
            ]
          },
          "metadata": {}
        },
        {
          "output_type": "display_data",
          "data": {
            "text/plain": [
              "<IPython.core.display.Javascript object>"
            ],
            "application/javascript": [
              "window[\"44e281ca-bac5-11ec-b935-0242ac1c0002\"] = google.colab.output.setActiveOutputArea(window[\"44e2105a-bac5-11ec-b935-0242ac1c0002\"]);\n",
              "//# sourceURL=js_4aa6817a54"
            ]
          },
          "metadata": {}
        },
        {
          "output_type": "display_data",
          "data": {
            "text/plain": [
              "<IPython.core.display.Javascript object>"
            ],
            "application/javascript": [
              "window[\"4507d1b4-bac5-11ec-b935-0242ac1c0002\"] = google.colab.output.setActiveOutputArea(window[\"44e1a624-bac5-11ec-b935-0242ac1c0002\"]);\n",
              "//# sourceURL=js_48dda3ad85"
            ]
          },
          "metadata": {}
        },
        {
          "output_type": "display_data",
          "data": {
            "text/plain": [
              "<IPython.core.display.Javascript object>"
            ],
            "application/javascript": [
              "window[\"450dc736-bac5-11ec-b935-0242ac1c0002\"] = google.colab.output.getActiveOutputArea();\n",
              "//# sourceURL=js_a96c917a09"
            ]
          },
          "metadata": {}
        },
        {
          "output_type": "display_data",
          "data": {
            "text/plain": [
              "<IPython.core.display.Javascript object>"
            ],
            "application/javascript": [
              "window[\"450e3c7a-bac5-11ec-b935-0242ac1c0002\"] = document.querySelector(\"#id2-0-0\");\n",
              "//# sourceURL=js_b29c0288d6"
            ]
          },
          "metadata": {}
        },
        {
          "output_type": "display_data",
          "data": {
            "text/plain": [
              "<IPython.core.display.Javascript object>"
            ],
            "application/javascript": [
              "window[\"450ea3d6-bac5-11ec-b935-0242ac1c0002\"] = google.colab.output.setActiveOutputArea(window[\"450e3c7a-bac5-11ec-b935-0242ac1c0002\"]);\n",
              "//# sourceURL=js_b0787ff599"
            ]
          },
          "metadata": {}
        },
        {
          "output_type": "display_data",
          "data": {
            "text/plain": [
              "<IPython.core.display.Javascript object>"
            ],
            "application/javascript": [
              "window[\"4530c7c2-bac5-11ec-b935-0242ac1c0002\"] = google.colab.output.setActiveOutputArea(window[\"450dc736-bac5-11ec-b935-0242ac1c0002\"]);\n",
              "//# sourceURL=js_4e94dba492"
            ]
          },
          "metadata": {}
        },
        {
          "output_type": "display_data",
          "data": {
            "text/plain": [
              "<IPython.core.display.Javascript object>"
            ],
            "application/javascript": [
              "window[\"4533eb00-bac5-11ec-b935-0242ac1c0002\"] = google.colab.output.getActiveOutputArea();\n",
              "//# sourceURL=js_4099220fe3"
            ]
          },
          "metadata": {}
        },
        {
          "output_type": "display_data",
          "data": {
            "text/plain": [
              "<IPython.core.display.Javascript object>"
            ],
            "application/javascript": [
              "window[\"453466f2-bac5-11ec-b935-0242ac1c0002\"] = document.querySelector(\"#id2-0-0\");\n",
              "//# sourceURL=js_e66497a751"
            ]
          },
          "metadata": {}
        },
        {
          "output_type": "display_data",
          "data": {
            "text/plain": [
              "<IPython.core.display.Javascript object>"
            ],
            "application/javascript": [
              "window[\"4534e104-bac5-11ec-b935-0242ac1c0002\"] = google.colab.output.setActiveOutputArea(window[\"453466f2-bac5-11ec-b935-0242ac1c0002\"]);\n",
              "//# sourceURL=js_c2b414af3e"
            ]
          },
          "metadata": {}
        },
        {
          "output_type": "display_data",
          "data": {
            "text/plain": [
              "<IPython.core.display.Javascript object>"
            ],
            "application/javascript": [
              "window[\"455bd07a-bac5-11ec-b935-0242ac1c0002\"] = google.colab.output.setActiveOutputArea(window[\"4533eb00-bac5-11ec-b935-0242ac1c0002\"]);\n",
              "//# sourceURL=js_afb36ba087"
            ]
          },
          "metadata": {}
        },
        {
          "output_type": "display_data",
          "data": {
            "text/plain": [
              "<IPython.core.display.Javascript object>"
            ],
            "application/javascript": [
              "window[\"455eead0-bac5-11ec-b935-0242ac1c0002\"] = google.colab.output.getActiveOutputArea();\n",
              "//# sourceURL=js_ca241d6010"
            ]
          },
          "metadata": {}
        },
        {
          "output_type": "display_data",
          "data": {
            "text/plain": [
              "<IPython.core.display.Javascript object>"
            ],
            "application/javascript": [
              "window[\"455f6988-bac5-11ec-b935-0242ac1c0002\"] = document.querySelector(\"#id2-0-0\");\n",
              "//# sourceURL=js_dbaf565a7f"
            ]
          },
          "metadata": {}
        },
        {
          "output_type": "display_data",
          "data": {
            "text/plain": [
              "<IPython.core.display.Javascript object>"
            ],
            "application/javascript": [
              "window[\"455ff254-bac5-11ec-b935-0242ac1c0002\"] = google.colab.output.setActiveOutputArea(window[\"455f6988-bac5-11ec-b935-0242ac1c0002\"]);\n",
              "//# sourceURL=js_f0538c0bf2"
            ]
          },
          "metadata": {}
        },
        {
          "output_type": "display_data",
          "data": {
            "text/plain": [
              "<IPython.core.display.Javascript object>"
            ],
            "application/javascript": [
              "window[\"459547b0-bac5-11ec-b935-0242ac1c0002\"] = google.colab.output.setActiveOutputArea(window[\"455eead0-bac5-11ec-b935-0242ac1c0002\"]);\n",
              "//# sourceURL=js_911d86b2a7"
            ]
          },
          "metadata": {}
        },
        {
          "output_type": "display_data",
          "data": {
            "text/plain": [
              "<IPython.core.display.Javascript object>"
            ],
            "application/javascript": [
              "window[\"4598596e-bac5-11ec-b935-0242ac1c0002\"] = google.colab.output.getActiveOutputArea();\n",
              "//# sourceURL=js_e8bbcb5f56"
            ]
          },
          "metadata": {}
        },
        {
          "output_type": "display_data",
          "data": {
            "text/plain": [
              "<IPython.core.display.Javascript object>"
            ],
            "application/javascript": [
              "window[\"45997fba-bac5-11ec-b935-0242ac1c0002\"] = document.querySelector(\"#id2-0-0\");\n",
              "//# sourceURL=js_92557f3c2d"
            ]
          },
          "metadata": {}
        },
        {
          "output_type": "display_data",
          "data": {
            "text/plain": [
              "<IPython.core.display.Javascript object>"
            ],
            "application/javascript": [
              "window[\"4599f544-bac5-11ec-b935-0242ac1c0002\"] = google.colab.output.setActiveOutputArea(window[\"45997fba-bac5-11ec-b935-0242ac1c0002\"]);\n",
              "//# sourceURL=js_59e8f3ec54"
            ]
          },
          "metadata": {}
        },
        {
          "output_type": "display_data",
          "data": {
            "text/plain": [
              "<IPython.core.display.Javascript object>"
            ],
            "application/javascript": [
              "window[\"45bf0226-bac5-11ec-b935-0242ac1c0002\"] = google.colab.output.setActiveOutputArea(window[\"4598596e-bac5-11ec-b935-0242ac1c0002\"]);\n",
              "//# sourceURL=js_63b2616524"
            ]
          },
          "metadata": {}
        },
        {
          "output_type": "display_data",
          "data": {
            "text/plain": [
              "<IPython.core.display.Javascript object>"
            ],
            "application/javascript": [
              "window[\"45c2080e-bac5-11ec-b935-0242ac1c0002\"] = google.colab.output.getActiveOutputArea();\n",
              "//# sourceURL=js_9a628357e4"
            ]
          },
          "metadata": {}
        },
        {
          "output_type": "display_data",
          "data": {
            "text/plain": [
              "<IPython.core.display.Javascript object>"
            ],
            "application/javascript": [
              "window[\"45c28536-bac5-11ec-b935-0242ac1c0002\"] = document.querySelector(\"#id2-0-0\");\n",
              "//# sourceURL=js_0310fb62e8"
            ]
          },
          "metadata": {}
        },
        {
          "output_type": "display_data",
          "data": {
            "text/plain": [
              "<IPython.core.display.Javascript object>"
            ],
            "application/javascript": [
              "window[\"45c2f3e0-bac5-11ec-b935-0242ac1c0002\"] = google.colab.output.setActiveOutputArea(window[\"45c28536-bac5-11ec-b935-0242ac1c0002\"]);\n",
              "//# sourceURL=js_8d22dfb601"
            ]
          },
          "metadata": {}
        },
        {
          "output_type": "display_data",
          "data": {
            "text/plain": [
              "<IPython.core.display.Javascript object>"
            ],
            "application/javascript": [
              "window[\"45eb5c7c-bac5-11ec-b935-0242ac1c0002\"] = google.colab.output.setActiveOutputArea(window[\"45c2080e-bac5-11ec-b935-0242ac1c0002\"]);\n",
              "//# sourceURL=js_5bba9b59b1"
            ]
          },
          "metadata": {}
        },
        {
          "output_type": "display_data",
          "data": {
            "text/plain": [
              "<IPython.core.display.Javascript object>"
            ],
            "application/javascript": [
              "window[\"45ee50bc-bac5-11ec-b935-0242ac1c0002\"] = google.colab.output.getActiveOutputArea();\n",
              "//# sourceURL=js_b460838267"
            ]
          },
          "metadata": {}
        },
        {
          "output_type": "display_data",
          "data": {
            "text/plain": [
              "<IPython.core.display.Javascript object>"
            ],
            "application/javascript": [
              "window[\"45eec916-bac5-11ec-b935-0242ac1c0002\"] = document.querySelector(\"#id2-0-0\");\n",
              "//# sourceURL=js_b21852a320"
            ]
          },
          "metadata": {}
        },
        {
          "output_type": "display_data",
          "data": {
            "text/plain": [
              "<IPython.core.display.Javascript object>"
            ],
            "application/javascript": [
              "window[\"45ef3f90-bac5-11ec-b935-0242ac1c0002\"] = google.colab.output.setActiveOutputArea(window[\"45eec916-bac5-11ec-b935-0242ac1c0002\"]);\n",
              "//# sourceURL=js_9e0460899d"
            ]
          },
          "metadata": {}
        },
        {
          "output_type": "display_data",
          "data": {
            "text/plain": [
              "<IPython.core.display.Javascript object>"
            ],
            "application/javascript": [
              "window[\"461411d0-bac5-11ec-b935-0242ac1c0002\"] = google.colab.output.setActiveOutputArea(window[\"45ee50bc-bac5-11ec-b935-0242ac1c0002\"]);\n",
              "//# sourceURL=js_4aa25c1c24"
            ]
          },
          "metadata": {}
        },
        {
          "output_type": "display_data",
          "data": {
            "text/plain": [
              "<IPython.core.display.Javascript object>"
            ],
            "application/javascript": [
              "window[\"46170b42-bac5-11ec-b935-0242ac1c0002\"] = google.colab.output.getActiveOutputArea();\n",
              "//# sourceURL=js_5311b4058f"
            ]
          },
          "metadata": {}
        },
        {
          "output_type": "display_data",
          "data": {
            "text/plain": [
              "<IPython.core.display.Javascript object>"
            ],
            "application/javascript": [
              "window[\"461793e6-bac5-11ec-b935-0242ac1c0002\"] = document.querySelector(\"#id2-0-0\");\n",
              "//# sourceURL=js_8a297eb244"
            ]
          },
          "metadata": {}
        },
        {
          "output_type": "display_data",
          "data": {
            "text/plain": [
              "<IPython.core.display.Javascript object>"
            ],
            "application/javascript": [
              "window[\"46180fc4-bac5-11ec-b935-0242ac1c0002\"] = google.colab.output.setActiveOutputArea(window[\"461793e6-bac5-11ec-b935-0242ac1c0002\"]);\n",
              "//# sourceURL=js_9e0bb342fa"
            ]
          },
          "metadata": {}
        },
        {
          "output_type": "display_data",
          "data": {
            "text/plain": [
              "<IPython.core.display.Javascript object>"
            ],
            "application/javascript": [
              "window[\"463b18ac-bac5-11ec-b935-0242ac1c0002\"] = google.colab.output.setActiveOutputArea(window[\"46170b42-bac5-11ec-b935-0242ac1c0002\"]);\n",
              "//# sourceURL=js_8afd220647"
            ]
          },
          "metadata": {}
        },
        {
          "output_type": "display_data",
          "data": {
            "text/plain": [
              "<IPython.core.display.Javascript object>"
            ],
            "application/javascript": [
              "window[\"463e1480-bac5-11ec-b935-0242ac1c0002\"] = google.colab.output.getActiveOutputArea();\n",
              "//# sourceURL=js_17ac405378"
            ]
          },
          "metadata": {}
        },
        {
          "output_type": "display_data",
          "data": {
            "text/plain": [
              "<IPython.core.display.Javascript object>"
            ],
            "application/javascript": [
              "window[\"463e8d0c-bac5-11ec-b935-0242ac1c0002\"] = document.querySelector(\"#id2-0-0\");\n",
              "//# sourceURL=js_afe6a7b7cc"
            ]
          },
          "metadata": {}
        },
        {
          "output_type": "display_data",
          "data": {
            "text/plain": [
              "<IPython.core.display.Javascript object>"
            ],
            "application/javascript": [
              "window[\"463f03b8-bac5-11ec-b935-0242ac1c0002\"] = google.colab.output.setActiveOutputArea(window[\"463e8d0c-bac5-11ec-b935-0242ac1c0002\"]);\n",
              "//# sourceURL=js_f521c90610"
            ]
          },
          "metadata": {}
        },
        {
          "output_type": "display_data",
          "data": {
            "text/plain": [
              "<IPython.core.display.Javascript object>"
            ],
            "application/javascript": [
              "window[\"46641fc2-bac5-11ec-b935-0242ac1c0002\"] = google.colab.output.setActiveOutputArea(window[\"463e1480-bac5-11ec-b935-0242ac1c0002\"]);\n",
              "//# sourceURL=js_26c9b2e1da"
            ]
          },
          "metadata": {}
        },
        {
          "output_type": "display_data",
          "data": {
            "text/plain": [
              "<IPython.core.display.Javascript object>"
            ],
            "application/javascript": [
              "window[\"4666f422-bac5-11ec-b935-0242ac1c0002\"] = google.colab.output.getActiveOutputArea();\n",
              "//# sourceURL=js_aac204f9c9"
            ]
          },
          "metadata": {}
        },
        {
          "output_type": "display_data",
          "data": {
            "text/plain": [
              "<IPython.core.display.Javascript object>"
            ],
            "application/javascript": [
              "window[\"46677960-bac5-11ec-b935-0242ac1c0002\"] = document.querySelector(\"#id2-0-0\");\n",
              "//# sourceURL=js_ea850449ec"
            ]
          },
          "metadata": {}
        },
        {
          "output_type": "display_data",
          "data": {
            "text/plain": [
              "<IPython.core.display.Javascript object>"
            ],
            "application/javascript": [
              "window[\"466813e8-bac5-11ec-b935-0242ac1c0002\"] = google.colab.output.setActiveOutputArea(window[\"46677960-bac5-11ec-b935-0242ac1c0002\"]);\n",
              "//# sourceURL=js_688b1f1321"
            ]
          },
          "metadata": {}
        },
        {
          "output_type": "display_data",
          "data": {
            "text/plain": [
              "<IPython.core.display.Javascript object>"
            ],
            "application/javascript": [
              "window[\"468d6756-bac5-11ec-b935-0242ac1c0002\"] = google.colab.output.setActiveOutputArea(window[\"4666f422-bac5-11ec-b935-0242ac1c0002\"]);\n",
              "//# sourceURL=js_293867e076"
            ]
          },
          "metadata": {}
        },
        {
          "output_type": "display_data",
          "data": {
            "text/plain": [
              "<IPython.core.display.Javascript object>"
            ],
            "application/javascript": [
              "window[\"46921cf6-bac5-11ec-b935-0242ac1c0002\"] = google.colab.output.getActiveOutputArea();\n",
              "//# sourceURL=js_b7e07063f2"
            ]
          },
          "metadata": {}
        },
        {
          "output_type": "display_data",
          "data": {
            "text/plain": [
              "<IPython.core.display.Javascript object>"
            ],
            "application/javascript": [
              "window[\"469305ee-bac5-11ec-b935-0242ac1c0002\"] = document.querySelector(\"#id2-0-0\");\n",
              "//# sourceURL=js_8ead8fdf99"
            ]
          },
          "metadata": {}
        },
        {
          "output_type": "display_data",
          "data": {
            "text/plain": [
              "<IPython.core.display.Javascript object>"
            ],
            "application/javascript": [
              "window[\"469371b4-bac5-11ec-b935-0242ac1c0002\"] = google.colab.output.setActiveOutputArea(window[\"469305ee-bac5-11ec-b935-0242ac1c0002\"]);\n",
              "//# sourceURL=js_f676b280cc"
            ]
          },
          "metadata": {}
        },
        {
          "output_type": "display_data",
          "data": {
            "text/plain": [
              "<IPython.core.display.Javascript object>"
            ],
            "application/javascript": [
              "window[\"46b5b45e-bac5-11ec-b935-0242ac1c0002\"] = google.colab.output.setActiveOutputArea(window[\"46921cf6-bac5-11ec-b935-0242ac1c0002\"]);\n",
              "//# sourceURL=js_46c39fdbe7"
            ]
          },
          "metadata": {}
        },
        {
          "output_type": "display_data",
          "data": {
            "text/plain": [
              "<IPython.core.display.Javascript object>"
            ],
            "application/javascript": [
              "window[\"46b88152-bac5-11ec-b935-0242ac1c0002\"] = google.colab.output.getActiveOutputArea();\n",
              "//# sourceURL=js_e8e19e2e15"
            ]
          },
          "metadata": {}
        },
        {
          "output_type": "display_data",
          "data": {
            "text/plain": [
              "<IPython.core.display.Javascript object>"
            ],
            "application/javascript": [
              "window[\"46b8f45c-bac5-11ec-b935-0242ac1c0002\"] = document.querySelector(\"#id2-0-0\");\n",
              "//# sourceURL=js_5621a9a69f"
            ]
          },
          "metadata": {}
        },
        {
          "output_type": "display_data",
          "data": {
            "text/plain": [
              "<IPython.core.display.Javascript object>"
            ],
            "application/javascript": [
              "window[\"46b96040-bac5-11ec-b935-0242ac1c0002\"] = google.colab.output.setActiveOutputArea(window[\"46b8f45c-bac5-11ec-b935-0242ac1c0002\"]);\n",
              "//# sourceURL=js_a04fc80cc4"
            ]
          },
          "metadata": {}
        },
        {
          "output_type": "display_data",
          "data": {
            "text/plain": [
              "<Figure size 432x288 with 1 Axes>"
            ],
            "image/png": "[encoded data removed]"
          },
          "metadata": {
            "needs_background": "light"
          }
        },
        {
          "output_type": "display_data",
          "data": {
            "text/plain": [
              "<IPython.core.display.Javascript object>"
            ],
            "application/javascript": [
              "window[\"46e0b1f4-bac5-11ec-b935-0242ac1c0002\"] = google.colab.output.setActiveOutputArea(window[\"46b88152-bac5-11ec-b935-0242ac1c0002\"]);\n",
              "//# sourceURL=js_02841d8679"
            ]
          },
          "metadata": {}
        },
        {
          "output_type": "stream",
          "name": "stdout",
          "text": [
            "Total reward: -0.8\n"
          ]
        }
      ]
    },
    {
      "cell_type": "code",
      "source": [
        "class q_learning:\n",
        "\n",
        "  def __init__(self):\n",
        "    self.env = DeterGridEnvironment()\n",
        "    self.env.reset()\n",
        "    self.agent = RandomAgent(self.env)\n",
        "    self.q_values_tar=np.zeros((16,4))\n",
        "    self.q_values =np.zeros((16,4))\n",
        "    self.totalreward=[]\n",
        "    self.stepstaken=[]\n",
        "    self.epsilondecay=[]\n",
        "    self.epsilon=1\n",
        "    self.lr=0.2\n",
        "    self.df=0.9\n",
        "    self.decay=0.99885            #ep 0.001 - 0.99885              # 2000 - 0.9978 #6000 - 0.9993\n",
        "    self.r1_got = False\n",
        "    self.r3_got = False\n",
        "    self.gamma = 0.99\n",
        "\n",
        "  def reset(self):\n",
        "    self.env.agent_pos=[0,0]\n",
        "    self.env.timestep=0\n",
        "    self.done1=False\n",
        "    self.action=0\n",
        "    self.state=0\n",
        "    self.reward=0   \n",
        "    self.stepno=0\n",
        "    self.rewardsum=0\n",
        "    self.r1_got = False\n",
        "    self.r3_got = False\n",
        "\n",
        "  # for training\n",
        "  def action1(self,state1,epsilon,old_state):\n",
        "    \n",
        "    if np.random.rand()>epsilon:\n",
        "      old_state_t = torch.as_tensor(old_state,dtype=torch.float32)\n",
        "      return np.argmax(online_net.forward(old_state_t).tolist())\n",
        "    else:\n",
        "      return np.random.randint(4)\n",
        "  \n",
        "  # for evalution\n",
        "  def action2(self,state1,epsilon,old_state):\n",
        "\n",
        "    old_state_t = torch.as_tensor(old_state,dtype=torch.float32)\n",
        "    return np.argmax(online_net.forward(old_state_t).tolist())\n",
        "  \n",
        "  def takeaction(self,action):\n",
        "    if action == 0:  #Down\n",
        "        self.env.agent_pos[0] += 1\n",
        "    elif action == 1:  #Up\n",
        "        self.env.agent_pos[0] -= 1\n",
        "    elif action == 2:  #Right\n",
        "        self.env.agent_pos[1] += 1\n",
        "    elif action == 3:  #Left\n",
        "        self.env.agent_pos[1] -= 1\n",
        "    self.env.agent_pos = np.clip(self.env.agent_pos, 0, 3)\n",
        "    \n",
        "    if (self.env.agent_pos == self.env.goal_pos).all():\n",
        "        self.reward = 1\n",
        "    elif (self.env.agent_pos == self.env.r1).all():\n",
        "        if self.r1_got == False:\n",
        "          self.reward =0.4\n",
        "          self.r1_got = True\n",
        "        else:\n",
        "          self.reward = -0.5 #0  \n",
        "    elif (self.env.agent_pos == self.env.r2).all():\n",
        "        self.reward =-0.8 \n",
        "    elif (self.env.agent_pos == self.env.r3).all():\n",
        "        if self.r3_got == False:\n",
        "          self.reward =0.4\n",
        "          self.r3_got = True\n",
        "        else:\n",
        "          self.reward = -0.5 #0\n",
        "    else:\n",
        "        self.reward = -0.5 #0\n",
        "\n",
        "    self.env.timestep+=1\n",
        "    self.stepno+=1\n",
        "\n",
        "    return(self.env.agent_pos,self.reward)\n",
        "  \n",
        "  def training(self):\n",
        "\n",
        "    count_step = 1\n",
        "    for episode in range(6000):\n",
        "      self.reset()\n",
        "      while not self.done1:\n",
        "        \n",
        "        ###\n",
        "        old_state = self.get_agent_pos()\n",
        "        ###\n",
        "        action=self.action1(self.state,self.epsilon,old_state)\n",
        "        \n",
        "        self.env.agent_pos, reward = self.takeaction(action)\n",
        "        newstate=4*self.env.agent_pos[0]+self.env.agent_pos[1]  #state update\n",
        "        \n",
        "        self.state=newstate\n",
        "        self.rewardsum+=reward\n",
        "\n",
        "        \n",
        "        \n",
        "        if self.env.timestep >= self.env.max_timesteps:\n",
        "          self.done1 = True\n",
        "        elif (self.env.agent_pos == self.env.goal_pos).all():\n",
        "          self.done1 = True\n",
        "\n",
        "        ###\n",
        "        new_state = self.get_agent_pos()\n",
        "        ###\n",
        "        \n",
        "        if self.done1 == True:\n",
        "          done_i = 1\n",
        "        else:\n",
        "          done_i = 0\n",
        "\n",
        "        trans = (old_state,action,reward,done_i,new_state)\n",
        "        replay_buffer.append(trans)\n",
        "\n",
        "        if len(replay_buffer) > 550:\n",
        "          # sample random batch\n",
        "          rand_trans = random.sample(replay_buffer, 500)\n",
        "\n",
        "          # convert to array\n",
        "          obs_arr = np.array([t[0] for t in rand_trans])\n",
        "          act_arr = np.array([t[1] for t in rand_trans])\n",
        "          rew_arr = np.array([t[2] for t in rand_trans])\n",
        "          don_arr = np.array([t[3] for t in rand_trans])\n",
        "          nobs_arr = np.array([t[4] for t in rand_trans])\n",
        "\n",
        "          # convert to pytorch array\n",
        "          obs_t = torch.as_tensor(obs_arr,dtype=torch.float32)\n",
        "          act_t = torch.as_tensor(act_arr,dtype=torch.int64).unsqueeze(-1)\n",
        "          rew_t = torch.as_tensor(rew_arr,dtype=torch.float32).unsqueeze(-1)\n",
        "          don_t = torch.as_tensor(don_arr,dtype=torch.int64).unsqueeze(-1)\n",
        "          nobs_t = torch.as_tensor(nobs_arr,dtype=torch.float32)\n",
        "\n",
        "          #compute target\n",
        "          with torch.no_grad():\n",
        "            target_q_value_t = target_net.forward(nobs_t)\n",
        "          max_target_q_value = target_q_value_t.max(dim=1,keepdim=True)[0]            \n",
        "          target = rew_t + self.gamma*(1-don_t)*max_target_q_value\n",
        "\n",
        "          # get prediction\n",
        "          q_value_t = online_net.forward(obs_t)\n",
        "          action_q_value_t = torch.gather(input=q_value_t,dim=1,index=act_t)\n",
        "\n",
        "          # compute loss\n",
        "          loss = nn.functional.smooth_l1_loss(action_q_value_t,target)\n",
        "\n",
        "          # gradient discent\n",
        "          optimizer.zero_grad()\n",
        "          loss.backward()\n",
        "          optimizer.step()\n",
        "\n",
        "        count_step +=1\n",
        "        #match online net to target net every few time\n",
        "        if count_step % 500 == 0: #50\n",
        "          target_net.load_state_dict(online_net.state_dict())\n",
        "          count_step = 1\n",
        "            \n",
        "\n",
        "      if episode % 500 == 0:\n",
        "        print('episode = ',episode,'total_reward = ',self.rewardsum)\n",
        "      \n",
        "      self.stepstaken.append(self.stepno)\n",
        "      self.totalreward.append(self.rewardsum)\n",
        "      self.epsilondecay.append(self.epsilon)\n",
        "      self.epsilon*=self.decay\n",
        " \n",
        "  \n",
        "  def get_agent_pos(self):\n",
        "\n",
        "    pos = np.zeros((4,4))      \n",
        "    for row in range(4):\n",
        "      for col in range(4):\n",
        "        if (row == self.env.agent_pos[0] and col == self.env.agent_pos[1]):\n",
        "          pos[row,col] = 1\n",
        "      \n",
        "    pos = pos.flatten()\n",
        "    return pos\n",
        " \n",
        "  def evaluation(self):\n",
        "    self.stepstaken=[]\n",
        "    self.totalreward=[]\n",
        "    for episode in range(10):\n",
        "      self.reset()\n",
        "      while not self.done1:\n",
        "        ###\n",
        "        old_state = self.get_agent_pos()\n",
        "        ###\n",
        "        action=self.action2(self.state,self.epsilon,old_state)\n",
        "        \n",
        "        self.env.agent_pos, reward = self.takeaction(action)\n",
        "        newstate=4*self.env.agent_pos[0]+self.env.agent_pos[1]  #state update\n",
        "        \n",
        "        self.state=newstate\n",
        "\n",
        "        self.rewardsum+=reward\n",
        "        \n",
        "        if self.env.timestep >= self.env.max_timesteps:\n",
        "          self.done1 = True\n",
        "        elif (self.env.agent_pos == self.env.goal_pos).all():\n",
        "          self.done1 = True\n",
        "\n",
        "      self.stepstaken.append(self.stepno)\n",
        "      self.totalreward.append(self.rewardsum)\n",
        "    "
      ],
      "metadata": {
        "id": "G9fLq5_dYup3"
      },
      "execution_count": 8,
      "outputs": []
    },
    {
      "cell_type": "code",
      "source": [
        ""
      ],
      "metadata": {
        "id": "B4Nd0oOYZJiE"
      },
      "execution_count": 8,
      "outputs": []
    },
    {
      "cell_type": "code",
      "source": [
        ""
      ],
      "metadata": {
        "id": "4erQzJscZJny"
      },
      "execution_count": 8,
      "outputs": []
    },
    {
      "cell_type": "code",
      "source": [
        "def QLimplemetation():\n",
        "    print('Implementing Q learning:\\n')\n",
        "    table1=q_learning()\n",
        "    table1.training()\n",
        "\n",
        "    plot1 = plt.figure(1)\n",
        "    plt.xlabel('Episodes')\n",
        "    plt.title('DQN learning results after training for deterministic environment')\n",
        "    plt.plot(table1.totalreward)\n",
        "    plt.plot(table1.stepstaken)\n",
        "    plt.legend(['Reward per episode','Steps per episode'],loc='best')\n",
        "\n",
        "    plot2 = plt.figure(2)\n",
        "    plt.plot(table1.epsilondecay)\n",
        "    plt.xlabel('Episodes')\n",
        "    plt.ylabel('Epsilon')\n",
        "    \n",
        "    print('Q table values after evaluation:')\n",
        "    table1.evaluation()\n",
        "\n",
        "    plot3=plt.figure(3)\n",
        "    plt.xlabel('Episodes')\n",
        "    plt.title('DQN learning results after evaluation for deterministic environment:')\n",
        "    plt.plot(table1.totalreward)\n",
        "    plt.plot(table1.stepstaken)\n",
        "    plt.legend(['Reward per episode','Steps per episode'],loc='best')\n",
        "    plt.show()\n"
      ],
      "metadata": {
        "id": "ASMDs19vjhG1"
      },
      "execution_count": 9,
      "outputs": []
    },
    {
      "cell_type": "code",
      "source": [
        "if __name__ == \"__main__\":\n",
        "  QLimplemetation()\n",
        "  # sarsaimplementation()"
      ],
      "metadata": {
        "colab": {
          "base_uri": "https://localhost:8080/",
          "height": 1000
        },
        "id": "l4Zv-wB5h5dn",
        "outputId": "2d61bf49-67f8-4d0f-e8c2-b19444dabeff"
      },
      "execution_count": 10,
      "outputs": [
        {
          "output_type": "stream",
          "name": "stdout",
          "text": [
            "Implementing Q learning:\n",
            "\n",
            "episode =  0 total_reward =  -5.5\n",
            "episode =  500 total_reward =  -1.2000000000000002\n",
            "episode =  1000 total_reward =  -1.1\n",
            "episode =  1500 total_reward =  -0.19999999999999996\n",
            "episode =  2000 total_reward =  0.30000000000000004\n",
            "episode =  2500 total_reward =  0.30000000000000004\n",
            "episode =  3000 total_reward =  0.30000000000000004\n",
            "episode =  3500 total_reward =  -0.7000000000000002\n",
            "episode =  4000 total_reward =  0.30000000000000004\n",
            "episode =  4500 total_reward =  0.30000000000000004\n",
            "episode =  5000 total_reward =  0.30000000000000004\n",
            "episode =  5500 total_reward =  0.30000000000000004\n",
            "Q table values after evaluation:\n"
          ]
        },
        {
          "output_type": "display_data",
          "data": {
            "text/plain": [
              "<Figure size 432x288 with 1 Axes>"
            ],
            "image/png": "[encoded data removed]"
          },
          "metadata": {
            "needs_background": "light"
          }
        },
        {
          "output_type": "display_data",
          "data": {
            "text/plain": [
              "<Figure size 432x288 with 1 Axes>"
            ],
            "image/png": "[encoded data removed]"
          },
          "metadata": {
            "needs_background": "light"
          }
        },
        {
          "output_type": "display_data",
          "data": {
            "text/plain": [
              "<Figure size 432x288 with 1 Axes>"
            ],
            "image/png": "[encoded data removed]"
          },
          "metadata": {
            "needs_background": "light"
          }
        }
      ]
    }
  ]
}