{
  "nbformat": 4,
  "nbformat_minor": 0,
  "metadata": {
    "colab": {
      "name": "pritisma_affanali_assignment2_part3_1.ipynb",
      "provenance": [],
      "collapsed_sections": []
    },
    "kernelspec": {
      "name": "python3",
      "display_name": "Python 3"
    },
    "language_info": {
      "name": "python"
    }
  },
  "cells": [
    {
      "cell_type": "code",
      "execution_count": 1,
      "metadata": {
        "colab": {
          "base_uri": "https://localhost:8080/"
        },
        "id": "NIXRkbxUTUy9",
        "outputId": "2c74a408-1cb3-4ab9-88c6-41e013d78556"
      },
      "outputs": [
        {
          "output_type": "stream",
          "name": "stdout",
          "text": [
            "Requirement already satisfied: gym in /usr/local/lib/python3.7/dist-packages (0.17.3)\n",
            "Requirement already satisfied: scipy in /usr/local/lib/python3.7/dist-packages (from gym) (1.4.1)\n",
            "Requirement already satisfied: pyglet<=1.5.0,>=1.4.0 in /usr/local/lib/python3.7/dist-packages (from gym) (1.5.0)\n",
            "Requirement already satisfied: cloudpickle<1.7.0,>=1.2.0 in /usr/local/lib/python3.7/dist-packages (from gym) (1.3.0)\n",
            "Requirement already satisfied: numpy>=1.10.4 in /usr/local/lib/python3.7/dist-packages (from gym) (1.21.5)\n",
            "Requirement already satisfied: future in /usr/local/lib/python3.7/dist-packages (from pyglet<=1.5.0,>=1.4.0->gym) (0.16.0)\n"
          ]
        }
      ],
      "source": [
        "#I certify that the code and data in this assignment were generated independently, using only the tools and resources defined in the course and that I did not receive any external help, coaching or contributions during the production of this work\n",
        "!pip install gym"
      ]
    },
    {
      "cell_type": "code",
      "source": [
        "import numpy as np\n",
        "import matplotlib.pyplot as plt\n",
        "import gym\n",
        "from gym import spaces\n",
        "from google.colab import widgets\n",
        "import time\n",
        "from torch import nn\n",
        "import torch\n",
        "from collections import deque\n",
        "import random"
      ],
      "metadata": {
        "id": "hh6gBXUGTX5y"
      },
      "execution_count": 2,
      "outputs": []
    },
    {
      "cell_type": "code",
      "source": [
        "###\n",
        "class Network(nn.Module):\n",
        "  def __init__(self,env):\n",
        "    super(Network, self).__init__()\n",
        "    my_features = 16\n",
        "    self.net = nn.Sequential(nn.Linear(my_features, 64), nn.ReLU(),nn.Linear(64, 64), nn.ReLU(),nn.Linear(64,4))\n",
        "  \n",
        "  def forward(self,x):\n",
        "    return self.net(x)\n",
        "  \n",
        "  def act(self,obs):\n",
        "    pass   \n",
        "###"
      ],
      "metadata": {
        "id": "t2zrURhlO-wB"
      },
      "execution_count": 3,
      "outputs": []
    },
    {
      "cell_type": "code",
      "source": [
        "class DeterGridEnvironment(gym.Env):            #Deterministic enviroment\n",
        "    metadata = { 'render.modes': [] }\n",
        "    \n",
        "    def __init__(self):\n",
        "        self.observation_space = spaces.Discrete(16)  #12\n",
        "        self.action_space = spaces.Discrete(4)   #4\n",
        "        # self.max_timesteps = 25   #10\n",
        "        self.max_timesteps = 25 #25  # 7\n",
        "\n",
        "    def reset(self):\n",
        "        self.timestep = 0\n",
        "        self.reward=0\n",
        "        self.agent_pos = [0, 0]\n",
        "        self.goal_pos = [3, 3]\n",
        "        self.r1=[0,2]\n",
        "        self.r2=[1,1]\n",
        "        self.r3=[1,3]\n",
        "        self.state = np.zeros((4,4))\n",
        "        self.state[tuple(self.agent_pos)] = 1\n",
        "        self.state[tuple(self.goal_pos)] = 0.0\n",
        "        self.state[tuple(self.r1)] = 0.0\n",
        "        self.state[tuple(self.r2)] = 0.0\n",
        "        self.state[tuple(self.r3)] = 0.0\n",
        "        observation = self.state.flatten()\n",
        "        return observation\n",
        "    \n",
        "    def step(self, action):\n",
        "        self.state = np.random.choice(self.observation_space.n)\n",
        "        if action == 0:  #Down\n",
        "          self.agent_pos[0] += 1\n",
        "        if action == 1:  #Up\n",
        "          self.agent_pos[0] -= 1\n",
        "        if action == 2:  #Right\n",
        "          self.agent_pos[1] += 1\n",
        "        if action == 3:  #Left\n",
        "          self.agent_pos[1] -= 1\n",
        "          \n",
        "        self.agent_pos = np.clip(self.agent_pos, 0, 3)\n",
        "        self.state = np.zeros((4,4))\n",
        "        self.state[tuple(self.agent_pos)] = 1\n",
        "        self.state[tuple(self.goal_pos)] = 0.0\n",
        "        self.state[tuple(self.r1)] = 0.0\n",
        "        self.state[tuple(self.r2)] = 0.0\n",
        "        self.state[tuple(self.r3)] = 0.0\n",
        "        observation = self.state.flatten()\n",
        "        \n",
        "        \n",
        "        if (self.agent_pos == self.goal_pos).all():\n",
        "          self.reward += 1\n",
        "          #print('Goal Reached: +100')\n",
        "        elif (self.agent_pos == self.r1).all():\n",
        "          self.reward +=0.4\n",
        "        elif (self.agent_pos == self.r2).all():\n",
        "          self.reward +=-0.8\n",
        "        elif (self.agent_pos == self.r3).all():\n",
        "          self.reward +=0.4\n",
        "        \n",
        "        self.timestep += 1\n",
        "        if self.timestep >= self.max_timesteps:\n",
        "          done = True\n",
        "        elif (self.agent_pos == self.goal_pos).all():\n",
        "          done = True\n",
        "        else:\n",
        "          done = False \n",
        "        info = {}\n",
        "        #print(observation)\n",
        "        return observation, self.reward, done, info\n",
        "\n",
        "    ###\n",
        "    def get_agent_pos(self):\n",
        "      \n",
        "      pos = np.zeros((4,4)) \n",
        "      for row in range(4):\n",
        "        for col in range(4):\n",
        "          if (row == self.agent_pos[0] and col == self.agent_pos[1]):\n",
        "            pos[row,col] = 1\n",
        "      \n",
        "      pos = pos.flatten()\n",
        "      return pos\n",
        "    ###\n",
        "    def render(self):\n",
        "        plt.imshow(self.state)"
      ],
      "metadata": {
        "id": "tByX1mONTaSz"
      },
      "execution_count": 4,
      "outputs": []
    },
    {
      "cell_type": "code",
      "source": [
        "###\n",
        "online_net = Network(DeterGridEnvironment)\n",
        "target_net = Network(DeterGridEnvironment)\n",
        "\n",
        "# declare replay buffer\n",
        "replay_buffer = deque(maxlen=50000)\n",
        "\n",
        "# assign the same parameters of online net to target net\n",
        "target_net.load_state_dict(online_net.state_dict())\n",
        "\n",
        "# define optimizer\n",
        "optimizer = torch.optim.Adam(online_net.parameters(), lr=0.005)\n",
        "###"
      ],
      "metadata": {
        "id": "B6qkyq3gQ7mk"
      },
      "execution_count": 5,
      "outputs": []
    },
    {
      "cell_type": "code",
      "source": [
        "class RandomAgent:\n",
        "  def __init__(self, env):\n",
        "    self.env = env\n",
        "    self.observation_space = env.observation_space\n",
        "    self.action_space = env.action_space\n",
        "\n",
        "  def step(self, observation):\n",
        "    return np.random.choice(self.action_space.n)"
      ],
      "metadata": {
        "id": "P8j5dZ-FTdIX"
      },
      "execution_count": 6,
      "outputs": []
    },
    {
      "cell_type": "code",
      "source": [
        "env = DeterGridEnvironment()\n",
        "agent = RandomAgent(env)\n",
        "\n",
        "obs = env.reset()\n",
        "done = False\n",
        "\n",
        "output_grid = widgets.Grid(1, 1)\n",
        "with output_grid.output_to(0, 0):\n",
        "  env.render()\n",
        "\n",
        "###\n",
        "# while not done:\n",
        "for i in range(100):\n",
        "\n",
        "###\n",
        "  action = agent.step(obs)\n",
        "  ###\n",
        "  old_state = env.get_agent_pos()\n",
        "  ###\n",
        "  obs, reward, done, info = env.step(action)\n",
        "  ###\n",
        "  new_state = env.get_agent_pos()\n",
        "  # initialize buffer\n",
        "  done_i = int(done == True) \n",
        "  trans = (old_state,action,reward,done_i,new_state)\n",
        "  replay_buffer.append(trans)\n",
        "  ###\n",
        "  \n",
        "  with output_grid.output_to(0, 0):\n",
        "    output_grid.clear_cell()\n",
        "    env.render()\n",
        "  ###\n",
        "  if done:\n",
        "    env.reset()\n",
        "  ###\n",
        "print('Total reward:', env.reward)"
      ],
      "metadata": {
        "colab": {
          "base_uri": "https://localhost:8080/",
          "height": 290
        },
        "id": "776pvfCqTgty",
        "outputId": "3a917b72-2233-4548-c7c2-61cc10dbedc8"
      },
      "execution_count": 7,
      "outputs": [
        {
          "output_type": "display_data",
          "data": {
            "text/plain": [
              "<IPython.core.display.HTML object>"
            ],
            "text/html": [
              "<style>\n",
              "       table#id2, #id2 > tbody > tr > th, #id2 > tbody > tr > td {\n",
              "         border: 1px solid lightgray;\n",
              "         border-collapse:collapse;\n",
              "         \n",
              "        }</style>"
            ]
          },
          "metadata": {}
        },
        {
          "output_type": "display_data",
          "data": {
            "text/plain": [
              "<IPython.core.display.HTML object>"
            ],
            "text/html": [
              "<table id=id2><tr><td id=id2-0-0></td></tr></table>"
            ]
          },
          "metadata": {}
        },
        {
          "output_type": "display_data",
          "data": {
            "text/plain": [
              "<IPython.core.display.Javascript object>"
            ],
            "application/javascript": [
              "window[\"24250450-bacd-11ec-a125-0242ac1c0002\"] = google.colab.output.getActiveOutputArea();\n",
              "//# sourceURL=js_c3e97c8edb"
            ]
          },
          "metadata": {}
        },
        {
          "output_type": "display_data",
          "data": {
            "text/plain": [
              "<IPython.core.display.Javascript object>"
            ],
            "application/javascript": [
              "window[\"2425cac0-bacd-11ec-a125-0242ac1c0002\"] = document.querySelector(\"#id2-0-0\");\n",
              "//# sourceURL=js_c272b13c3b"
            ]
          },
          "metadata": {}
        },
        {
          "output_type": "display_data",
          "data": {
            "text/plain": [
              "<IPython.core.display.Javascript object>"
            ],
            "application/javascript": [
              "window[\"242696c6-bacd-11ec-a125-0242ac1c0002\"] = google.colab.output.setActiveOutputArea(window[\"2425cac0-bacd-11ec-a125-0242ac1c0002\"]);\n",
              "//# sourceURL=js_0ced44a1cc"
            ]
          },
          "metadata": {}
        },
        {
          "output_type": "display_data",
          "data": {
            "text/plain": [
              "<IPython.core.display.Javascript object>"
            ],
            "application/javascript": [
              "window[\"2451e5f6-bacd-11ec-a125-0242ac1c0002\"] = google.colab.output.setActiveOutputArea(window[\"24250450-bacd-11ec-a125-0242ac1c0002\"]);\n",
              "//# sourceURL=js_9661314c24"
            ]
          },
          "metadata": {}
        },
        {
          "output_type": "display_data",
          "data": {
            "text/plain": [
              "<IPython.core.display.Javascript object>"
            ],
            "application/javascript": [
              "window[\"2454fdfe-bacd-11ec-a125-0242ac1c0002\"] = google.colab.output.getActiveOutputArea();\n",
              "//# sourceURL=js_36b2880193"
            ]
          },
          "metadata": {}
        },
        {
          "output_type": "display_data",
          "data": {
            "text/plain": [
              "<IPython.core.display.Javascript object>"
            ],
            "application/javascript": [
              "window[\"24555b0a-bacd-11ec-a125-0242ac1c0002\"] = document.querySelector(\"#id2-0-0\");\n",
              "//# sourceURL=js_5cd7b18d89"
            ]
          },
          "metadata": {}
        },
        {
          "output_type": "display_data",
          "data": {
            "text/plain": [
              "<IPython.core.display.Javascript object>"
            ],
            "application/javascript": [
              "window[\"2455bbcc-bacd-11ec-a125-0242ac1c0002\"] = google.colab.output.setActiveOutputArea(window[\"24555b0a-bacd-11ec-a125-0242ac1c0002\"]);\n",
              "//# sourceURL=js_5b89a568ff"
            ]
          },
          "metadata": {}
        },
        {
          "output_type": "display_data",
          "data": {
            "text/plain": [
              "<IPython.core.display.Javascript object>"
            ],
            "application/javascript": [
              "window[\"246ec78e-bacd-11ec-a125-0242ac1c0002\"] = google.colab.output.setActiveOutputArea(window[\"2454fdfe-bacd-11ec-a125-0242ac1c0002\"]);\n",
              "//# sourceURL=js_ef2cc1c441"
            ]
          },
          "metadata": {}
        },
        {
          "output_type": "display_data",
          "data": {
            "text/plain": [
              "<IPython.core.display.Javascript object>"
            ],
            "application/javascript": [
              "window[\"2471256a-bacd-11ec-a125-0242ac1c0002\"] = google.colab.output.getActiveOutputArea();\n",
              "//# sourceURL=js_f5fbe7c0ab"
            ]
          },
          "metadata": {}
        },
        {
          "output_type": "display_data",
          "data": {
            "text/plain": [
              "<IPython.core.display.Javascript object>"
            ],
            "application/javascript": [
              "window[\"2471a2b0-bacd-11ec-a125-0242ac1c0002\"] = document.querySelector(\"#id2-0-0\");\n",
              "//# sourceURL=js_01fc077261"
            ]
          },
          "metadata": {}
        },
        {
          "output_type": "display_data",
          "data": {
            "text/plain": [
              "<IPython.core.display.Javascript object>"
            ],
            "application/javascript": [
              "window[\"247216e6-bacd-11ec-a125-0242ac1c0002\"] = google.colab.output.setActiveOutputArea(window[\"2471a2b0-bacd-11ec-a125-0242ac1c0002\"]);\n",
              "//# sourceURL=js_df661ce8a1"
            ]
          },
          "metadata": {}
        },
        {
          "output_type": "display_data",
          "data": {
            "text/plain": [
              "<IPython.core.display.Javascript object>"
            ],
            "application/javascript": [
              "window[\"248c8f62-bacd-11ec-a125-0242ac1c0002\"] = google.colab.output.setActiveOutputArea(window[\"2471256a-bacd-11ec-a125-0242ac1c0002\"]);\n",
              "//# sourceURL=js_b22113358c"
            ]
          },
          "metadata": {}
        },
        {
          "output_type": "display_data",
          "data": {
            "text/plain": [
              "<IPython.core.display.Javascript object>"
            ],
            "application/javascript": [
              "window[\"248f6156-bacd-11ec-a125-0242ac1c0002\"] = google.colab.output.getActiveOutputArea();\n",
              "//# sourceURL=js_e2682fee48"
            ]
          },
          "metadata": {}
        },
        {
          "output_type": "display_data",
          "data": {
            "text/plain": [
              "<IPython.core.display.Javascript object>"
            ],
            "application/javascript": [
              "window[\"248fc8bc-bacd-11ec-a125-0242ac1c0002\"] = document.querySelector(\"#id2-0-0\");\n",
              "//# sourceURL=js_8b39e9433d"
            ]
          },
          "metadata": {}
        },
        {
          "output_type": "display_data",
          "data": {
            "text/plain": [
              "<IPython.core.display.Javascript object>"
            ],
            "application/javascript": [
              "window[\"249019c0-bacd-11ec-a125-0242ac1c0002\"] = google.colab.output.setActiveOutputArea(window[\"248fc8bc-bacd-11ec-a125-0242ac1c0002\"]);\n",
              "//# sourceURL=js_1f35057d6d"
            ]
          },
          "metadata": {}
        },
        {
          "output_type": "display_data",
          "data": {
            "text/plain": [
              "<IPython.core.display.Javascript object>"
            ],
            "application/javascript": [
              "window[\"24aa7284-bacd-11ec-a125-0242ac1c0002\"] = google.colab.output.setActiveOutputArea(window[\"248f6156-bacd-11ec-a125-0242ac1c0002\"]);\n",
              "//# sourceURL=js_67e8e674a5"
            ]
          },
          "metadata": {}
        },
        {
          "output_type": "display_data",
          "data": {
            "text/plain": [
              "<IPython.core.display.Javascript object>"
            ],
            "application/javascript": [
              "window[\"24ae67c2-bacd-11ec-a125-0242ac1c0002\"] = google.colab.output.getActiveOutputArea();\n",
              "//# sourceURL=js_39b5772619"
            ]
          },
          "metadata": {}
        },
        {
          "output_type": "display_data",
          "data": {
            "text/plain": [
              "<IPython.core.display.Javascript object>"
            ],
            "application/javascript": [
              "window[\"24aecd7a-bacd-11ec-a125-0242ac1c0002\"] = document.querySelector(\"#id2-0-0\");\n",
              "//# sourceURL=js_40aba3706f"
            ]
          },
          "metadata": {}
        },
        {
          "output_type": "display_data",
          "data": {
            "text/plain": [
              "<IPython.core.display.Javascript object>"
            ],
            "application/javascript": [
              "window[\"24af3634-bacd-11ec-a125-0242ac1c0002\"] = google.colab.output.setActiveOutputArea(window[\"24aecd7a-bacd-11ec-a125-0242ac1c0002\"]);\n",
              "//# sourceURL=js_f84e1c4050"
            ]
          },
          "metadata": {}
        },
        {
          "output_type": "display_data",
          "data": {
            "text/plain": [
              "<IPython.core.display.Javascript object>"
            ],
            "application/javascript": [
              "window[\"24c6f8fa-bacd-11ec-a125-0242ac1c0002\"] = google.colab.output.setActiveOutputArea(window[\"24ae67c2-bacd-11ec-a125-0242ac1c0002\"]);\n",
              "//# sourceURL=js_16a2ff4ade"
            ]
          },
          "metadata": {}
        },
        {
          "output_type": "display_data",
          "data": {
            "text/plain": [
              "<IPython.core.display.Javascript object>"
            ],
            "application/javascript": [
              "window[\"24c9371e-bacd-11ec-a125-0242ac1c0002\"] = google.colab.output.getActiveOutputArea();\n",
              "//# sourceURL=js_4e2372f08f"
            ]
          },
          "metadata": {}
        },
        {
          "output_type": "display_data",
          "data": {
            "text/plain": [
              "<IPython.core.display.Javascript object>"
            ],
            "application/javascript": [
              "window[\"24c9a488-bacd-11ec-a125-0242ac1c0002\"] = document.querySelector(\"#id2-0-0\");\n",
              "//# sourceURL=js_8c26615bb8"
            ]
          },
          "metadata": {}
        },
        {
          "output_type": "display_data",
          "data": {
            "text/plain": [
              "<IPython.core.display.Javascript object>"
            ],
            "application/javascript": [
              "window[\"24ca0630-bacd-11ec-a125-0242ac1c0002\"] = google.colab.output.setActiveOutputArea(window[\"24c9a488-bacd-11ec-a125-0242ac1c0002\"]);\n",
              "//# sourceURL=js_86564107ec"
            ]
          },
          "metadata": {}
        },
        {
          "output_type": "display_data",
          "data": {
            "text/plain": [
              "<IPython.core.display.Javascript object>"
            ],
            "application/javascript": [
              "window[\"24e1f128-bacd-11ec-a125-0242ac1c0002\"] = google.colab.output.setActiveOutputArea(window[\"24c9371e-bacd-11ec-a125-0242ac1c0002\"]);\n",
              "//# sourceURL=js_d5c27029ad"
            ]
          },
          "metadata": {}
        },
        {
          "output_type": "display_data",
          "data": {
            "text/plain": [
              "<IPython.core.display.Javascript object>"
            ],
            "application/javascript": [
              "window[\"24e414c6-bacd-11ec-a125-0242ac1c0002\"] = google.colab.output.getActiveOutputArea();\n",
              "//# sourceURL=js_974c7f216f"
            ]
          },
          "metadata": {}
        },
        {
          "output_type": "display_data",
          "data": {
            "text/plain": [
              "<IPython.core.display.Javascript object>"
            ],
            "application/javascript": [
              "window[\"24e477f4-bacd-11ec-a125-0242ac1c0002\"] = document.querySelector(\"#id2-0-0\");\n",
              "//# sourceURL=js_bd264eae23"
            ]
          },
          "metadata": {}
        },
        {
          "output_type": "display_data",
          "data": {
            "text/plain": [
              "<IPython.core.display.Javascript object>"
            ],
            "application/javascript": [
              "window[\"24e4dc08-bacd-11ec-a125-0242ac1c0002\"] = google.colab.output.setActiveOutputArea(window[\"24e477f4-bacd-11ec-a125-0242ac1c0002\"]);\n",
              "//# sourceURL=js_e9eb9e1a80"
            ]
          },
          "metadata": {}
        },
        {
          "output_type": "display_data",
          "data": {
            "text/plain": [
              "<IPython.core.display.Javascript object>"
            ],
            "application/javascript": [
              "window[\"24fcafc2-bacd-11ec-a125-0242ac1c0002\"] = google.colab.output.setActiveOutputArea(window[\"24e414c6-bacd-11ec-a125-0242ac1c0002\"]);\n",
              "//# sourceURL=js_7a0b73ac92"
            ]
          },
          "metadata": {}
        },
        {
          "output_type": "display_data",
          "data": {
            "text/plain": [
              "<IPython.core.display.Javascript object>"
            ],
            "application/javascript": [
              "window[\"24ffd210-bacd-11ec-a125-0242ac1c0002\"] = google.colab.output.getActiveOutputArea();\n",
              "//# sourceURL=js_10c1ddfe06"
            ]
          },
          "metadata": {}
        },
        {
          "output_type": "display_data",
          "data": {
            "text/plain": [
              "<IPython.core.display.Javascript object>"
            ],
            "application/javascript": [
              "window[\"25003b7e-bacd-11ec-a125-0242ac1c0002\"] = document.querySelector(\"#id2-0-0\");\n",
              "//# sourceURL=js_e1df6979b2"
            ]
          },
          "metadata": {}
        },
        {
          "output_type": "display_data",
          "data": {
            "text/plain": [
              "<IPython.core.display.Javascript object>"
            ],
            "application/javascript": [
              "window[\"2500aeec-bacd-11ec-a125-0242ac1c0002\"] = google.colab.output.setActiveOutputArea(window[\"25003b7e-bacd-11ec-a125-0242ac1c0002\"]);\n",
              "//# sourceURL=js_a5be6a3de6"
            ]
          },
          "metadata": {}
        },
        {
          "output_type": "display_data",
          "data": {
            "text/plain": [
              "<IPython.core.display.Javascript object>"
            ],
            "application/javascript": [
              "window[\"25272072-bacd-11ec-a125-0242ac1c0002\"] = google.colab.output.setActiveOutputArea(window[\"24ffd210-bacd-11ec-a125-0242ac1c0002\"]);\n",
              "//# sourceURL=js_acacee5d52"
            ]
          },
          "metadata": {}
        },
        {
          "output_type": "display_data",
          "data": {
            "text/plain": [
              "<IPython.core.display.Javascript object>"
            ],
            "application/javascript": [
              "window[\"25298222-bacd-11ec-a125-0242ac1c0002\"] = google.colab.output.getActiveOutputArea();\n",
              "//# sourceURL=js_4aba806997"
            ]
          },
          "metadata": {}
        },
        {
          "output_type": "display_data",
          "data": {
            "text/plain": [
              "<IPython.core.display.Javascript object>"
            ],
            "application/javascript": [
              "window[\"2529eadc-bacd-11ec-a125-0242ac1c0002\"] = document.querySelector(\"#id2-0-0\");\n",
              "//# sourceURL=js_8f6300ec48"
            ]
          },
          "metadata": {}
        },
        {
          "output_type": "display_data",
          "data": {
            "text/plain": [
              "<IPython.core.display.Javascript object>"
            ],
            "application/javascript": [
              "window[\"252a5440-bacd-11ec-a125-0242ac1c0002\"] = google.colab.output.setActiveOutputArea(window[\"2529eadc-bacd-11ec-a125-0242ac1c0002\"]);\n",
              "//# sourceURL=js_6fe4cc639a"
            ]
          },
          "metadata": {}
        },
        {
          "output_type": "display_data",
          "data": {
            "text/plain": [
              "<IPython.core.display.Javascript object>"
            ],
            "application/javascript": [
              "window[\"2545f8d0-bacd-11ec-a125-0242ac1c0002\"] = google.colab.output.setActiveOutputArea(window[\"25298222-bacd-11ec-a125-0242ac1c0002\"]);\n",
              "//# sourceURL=js_ce2f05886a"
            ]
          },
          "metadata": {}
        },
        {
          "output_type": "display_data",
          "data": {
            "text/plain": [
              "<IPython.core.display.Javascript object>"
            ],
            "application/javascript": [
              "window[\"2548f29c-bacd-11ec-a125-0242ac1c0002\"] = google.colab.output.getActiveOutputArea();\n",
              "//# sourceURL=js_d2325d62fa"
            ]
          },
          "metadata": {}
        },
        {
          "output_type": "display_data",
          "data": {
            "text/plain": [
              "<IPython.core.display.Javascript object>"
            ],
            "application/javascript": [
              "window[\"25494dbe-bacd-11ec-a125-0242ac1c0002\"] = document.querySelector(\"#id2-0-0\");\n",
              "//# sourceURL=js_7d8a7abb01"
            ]
          },
          "metadata": {}
        },
        {
          "output_type": "display_data",
          "data": {
            "text/plain": [
              "<IPython.core.display.Javascript object>"
            ],
            "application/javascript": [
              "window[\"254a4d40-bacd-11ec-a125-0242ac1c0002\"] = google.colab.output.setActiveOutputArea(window[\"25494dbe-bacd-11ec-a125-0242ac1c0002\"]);\n",
              "//# sourceURL=js_0fc29c98ba"
            ]
          },
          "metadata": {}
        },
        {
          "output_type": "display_data",
          "data": {
            "text/plain": [
              "<IPython.core.display.Javascript object>"
            ],
            "application/javascript": [
              "window[\"256413b0-bacd-11ec-a125-0242ac1c0002\"] = google.colab.output.setActiveOutputArea(window[\"2548f29c-bacd-11ec-a125-0242ac1c0002\"]);\n",
              "//# sourceURL=js_9726d44064"
            ]
          },
          "metadata": {}
        },
        {
          "output_type": "display_data",
          "data": {
            "text/plain": [
              "<IPython.core.display.Javascript object>"
            ],
            "application/javascript": [
              "window[\"256689d8-bacd-11ec-a125-0242ac1c0002\"] = google.colab.output.getActiveOutputArea();\n",
              "//# sourceURL=js_473ba76226"
            ]
          },
          "metadata": {}
        },
        {
          "output_type": "display_data",
          "data": {
            "text/plain": [
              "<IPython.core.display.Javascript object>"
            ],
            "application/javascript": [
              "window[\"2566d726-bacd-11ec-a125-0242ac1c0002\"] = document.querySelector(\"#id2-0-0\");\n",
              "//# sourceURL=js_96a4520bed"
            ]
          },
          "metadata": {}
        },
        {
          "output_type": "display_data",
          "data": {
            "text/plain": [
              "<IPython.core.display.Javascript object>"
            ],
            "application/javascript": [
              "window[\"25671c4a-bacd-11ec-a125-0242ac1c0002\"] = google.colab.output.setActiveOutputArea(window[\"2566d726-bacd-11ec-a125-0242ac1c0002\"]);\n",
              "//# sourceURL=js_b91d0fb32c"
            ]
          },
          "metadata": {}
        },
        {
          "output_type": "display_data",
          "data": {
            "text/plain": [
              "<IPython.core.display.Javascript object>"
            ],
            "application/javascript": [
              "window[\"257f510c-bacd-11ec-a125-0242ac1c0002\"] = google.colab.output.setActiveOutputArea(window[\"256689d8-bacd-11ec-a125-0242ac1c0002\"]);\n",
              "//# sourceURL=js_d50328e1e5"
            ]
          },
          "metadata": {}
        },
        {
          "output_type": "display_data",
          "data": {
            "text/plain": [
              "<IPython.core.display.Javascript object>"
            ],
            "application/javascript": [
              "window[\"25818f6c-bacd-11ec-a125-0242ac1c0002\"] = google.colab.output.getActiveOutputArea();\n",
              "//# sourceURL=js_5929810b30"
            ]
          },
          "metadata": {}
        },
        {
          "output_type": "display_data",
          "data": {
            "text/plain": [
              "<IPython.core.display.Javascript object>"
            ],
            "application/javascript": [
              "window[\"2581f128-bacd-11ec-a125-0242ac1c0002\"] = document.querySelector(\"#id2-0-0\");\n",
              "//# sourceURL=js_52251058a1"
            ]
          },
          "metadata": {}
        },
        {
          "output_type": "display_data",
          "data": {
            "text/plain": [
              "<IPython.core.display.Javascript object>"
            ],
            "application/javascript": [
              "window[\"2582514a-bacd-11ec-a125-0242ac1c0002\"] = google.colab.output.setActiveOutputArea(window[\"2581f128-bacd-11ec-a125-0242ac1c0002\"]);\n",
              "//# sourceURL=js_bfb0a368b0"
            ]
          },
          "metadata": {}
        },
        {
          "output_type": "display_data",
          "data": {
            "text/plain": [
              "<IPython.core.display.Javascript object>"
            ],
            "application/javascript": [
              "window[\"259b196e-bacd-11ec-a125-0242ac1c0002\"] = google.colab.output.setActiveOutputArea(window[\"25818f6c-bacd-11ec-a125-0242ac1c0002\"]);\n",
              "//# sourceURL=js_b08767f8a2"
            ]
          },
          "metadata": {}
        },
        {
          "output_type": "display_data",
          "data": {
            "text/plain": [
              "<IPython.core.display.Javascript object>"
            ],
            "application/javascript": [
              "window[\"259d5634-bacd-11ec-a125-0242ac1c0002\"] = google.colab.output.getActiveOutputArea();\n",
              "//# sourceURL=js_acc4dd0d93"
            ]
          },
          "metadata": {}
        },
        {
          "output_type": "display_data",
          "data": {
            "text/plain": [
              "<IPython.core.display.Javascript object>"
            ],
            "application/javascript": [
              "window[\"259db872-bacd-11ec-a125-0242ac1c0002\"] = document.querySelector(\"#id2-0-0\");\n",
              "//# sourceURL=js_c61315fea0"
            ]
          },
          "metadata": {}
        },
        {
          "output_type": "display_data",
          "data": {
            "text/plain": [
              "<IPython.core.display.Javascript object>"
            ],
            "application/javascript": [
              "window[\"259e17cc-bacd-11ec-a125-0242ac1c0002\"] = google.colab.output.setActiveOutputArea(window[\"259db872-bacd-11ec-a125-0242ac1c0002\"]);\n",
              "//# sourceURL=js_09febe3fdb"
            ]
          },
          "metadata": {}
        },
        {
          "output_type": "display_data",
          "data": {
            "text/plain": [
              "<IPython.core.display.Javascript object>"
            ],
            "application/javascript": [
              "window[\"25c2dc88-bacd-11ec-a125-0242ac1c0002\"] = google.colab.output.setActiveOutputArea(window[\"259d5634-bacd-11ec-a125-0242ac1c0002\"]);\n",
              "//# sourceURL=js_9bdad9621d"
            ]
          },
          "metadata": {}
        },
        {
          "output_type": "display_data",
          "data": {
            "text/plain": [
              "<IPython.core.display.Javascript object>"
            ],
            "application/javascript": [
              "window[\"25c622c6-bacd-11ec-a125-0242ac1c0002\"] = google.colab.output.getActiveOutputArea();\n",
              "//# sourceURL=js_fb81e6b606"
            ]
          },
          "metadata": {}
        },
        {
          "output_type": "display_data",
          "data": {
            "text/plain": [
              "<IPython.core.display.Javascript object>"
            ],
            "application/javascript": [
              "window[\"25c68df6-bacd-11ec-a125-0242ac1c0002\"] = document.querySelector(\"#id2-0-0\");\n",
              "//# sourceURL=js_9c7042f650"
            ]
          },
          "metadata": {}
        },
        {
          "output_type": "display_data",
          "data": {
            "text/plain": [
              "<IPython.core.display.Javascript object>"
            ],
            "application/javascript": [
              "window[\"25c6fce6-bacd-11ec-a125-0242ac1c0002\"] = google.colab.output.setActiveOutputArea(window[\"25c68df6-bacd-11ec-a125-0242ac1c0002\"]);\n",
              "//# sourceURL=js_96979981f7"
            ]
          },
          "metadata": {}
        },
        {
          "output_type": "display_data",
          "data": {
            "text/plain": [
              "<IPython.core.display.Javascript object>"
            ],
            "application/javascript": [
              "window[\"25f3a71e-bacd-11ec-a125-0242ac1c0002\"] = google.colab.output.setActiveOutputArea(window[\"25c622c6-bacd-11ec-a125-0242ac1c0002\"]);\n",
              "//# sourceURL=js_65103a8568"
            ]
          },
          "metadata": {}
        },
        {
          "output_type": "display_data",
          "data": {
            "text/plain": [
              "<IPython.core.display.Javascript object>"
            ],
            "application/javascript": [
              "window[\"25f792b6-bacd-11ec-a125-0242ac1c0002\"] = google.colab.output.getActiveOutputArea();\n",
              "//# sourceURL=js_df1ed30285"
            ]
          },
          "metadata": {}
        },
        {
          "output_type": "display_data",
          "data": {
            "text/plain": [
              "<IPython.core.display.Javascript object>"
            ],
            "application/javascript": [
              "window[\"25f84490-bacd-11ec-a125-0242ac1c0002\"] = document.querySelector(\"#id2-0-0\");\n",
              "//# sourceURL=js_819c53755c"
            ]
          },
          "metadata": {}
        },
        {
          "output_type": "display_data",
          "data": {
            "text/plain": [
              "<IPython.core.display.Javascript object>"
            ],
            "application/javascript": [
              "window[\"25f8e7ce-bacd-11ec-a125-0242ac1c0002\"] = google.colab.output.setActiveOutputArea(window[\"25f84490-bacd-11ec-a125-0242ac1c0002\"]);\n",
              "//# sourceURL=js_294c9fdac7"
            ]
          },
          "metadata": {}
        },
        {
          "output_type": "display_data",
          "data": {
            "text/plain": [
              "<IPython.core.display.Javascript object>"
            ],
            "application/javascript": [
              "window[\"261fe0c2-bacd-11ec-a125-0242ac1c0002\"] = google.colab.output.setActiveOutputArea(window[\"25f792b6-bacd-11ec-a125-0242ac1c0002\"]);\n",
              "//# sourceURL=js_f42813b135"
            ]
          },
          "metadata": {}
        },
        {
          "output_type": "display_data",
          "data": {
            "text/plain": [
              "<IPython.core.display.Javascript object>"
            ],
            "application/javascript": [
              "window[\"26248230-bacd-11ec-a125-0242ac1c0002\"] = google.colab.output.getActiveOutputArea();\n",
              "//# sourceURL=js_e043e12958"
            ]
          },
          "metadata": {}
        },
        {
          "output_type": "display_data",
          "data": {
            "text/plain": [
              "<IPython.core.display.Javascript object>"
            ],
            "application/javascript": [
              "window[\"2624fe68-bacd-11ec-a125-0242ac1c0002\"] = document.querySelector(\"#id2-0-0\");\n",
              "//# sourceURL=js_0fd99ea94a"
            ]
          },
          "metadata": {}
        },
        {
          "output_type": "display_data",
          "data": {
            "text/plain": [
              "<IPython.core.display.Javascript object>"
            ],
            "application/javascript": [
              "window[\"26256da8-bacd-11ec-a125-0242ac1c0002\"] = google.colab.output.setActiveOutputArea(window[\"2624fe68-bacd-11ec-a125-0242ac1c0002\"]);\n",
              "//# sourceURL=js_d1c215d0e8"
            ]
          },
          "metadata": {}
        },
        {
          "output_type": "display_data",
          "data": {
            "text/plain": [
              "<IPython.core.display.Javascript object>"
            ],
            "application/javascript": [
              "window[\"264d7884-bacd-11ec-a125-0242ac1c0002\"] = google.colab.output.setActiveOutputArea(window[\"26248230-bacd-11ec-a125-0242ac1c0002\"]);\n",
              "//# sourceURL=js_e66310403a"
            ]
          },
          "metadata": {}
        },
        {
          "output_type": "display_data",
          "data": {
            "text/plain": [
              "<IPython.core.display.Javascript object>"
            ],
            "application/javascript": [
              "window[\"26519496-bacd-11ec-a125-0242ac1c0002\"] = google.colab.output.getActiveOutputArea();\n",
              "//# sourceURL=js_564e2e4b0b"
            ]
          },
          "metadata": {}
        },
        {
          "output_type": "display_data",
          "data": {
            "text/plain": [
              "<IPython.core.display.Javascript object>"
            ],
            "application/javascript": [
              "window[\"265279c4-bacd-11ec-a125-0242ac1c0002\"] = document.querySelector(\"#id2-0-0\");\n",
              "//# sourceURL=js_be8897451a"
            ]
          },
          "metadata": {}
        },
        {
          "output_type": "display_data",
          "data": {
            "text/plain": [
              "<IPython.core.display.Javascript object>"
            ],
            "application/javascript": [
              "window[\"2653bce4-bacd-11ec-a125-0242ac1c0002\"] = google.colab.output.setActiveOutputArea(window[\"265279c4-bacd-11ec-a125-0242ac1c0002\"]);\n",
              "//# sourceURL=js_98fd6495e5"
            ]
          },
          "metadata": {}
        },
        {
          "output_type": "display_data",
          "data": {
            "text/plain": [
              "<IPython.core.display.Javascript object>"
            ],
            "application/javascript": [
              "window[\"267d8344-bacd-11ec-a125-0242ac1c0002\"] = google.colab.output.setActiveOutputArea(window[\"26519496-bacd-11ec-a125-0242ac1c0002\"]);\n",
              "//# sourceURL=js_2872778e6e"
            ]
          },
          "metadata": {}
        },
        {
          "output_type": "display_data",
          "data": {
            "text/plain": [
              "<IPython.core.display.Javascript object>"
            ],
            "application/javascript": [
              "window[\"268376f0-bacd-11ec-a125-0242ac1c0002\"] = google.colab.output.getActiveOutputArea();\n",
              "//# sourceURL=js_6de2deb9ef"
            ]
          },
          "metadata": {}
        },
        {
          "output_type": "display_data",
          "data": {
            "text/plain": [
              "<IPython.core.display.Javascript object>"
            ],
            "application/javascript": [
              "window[\"2684b6e6-bacd-11ec-a125-0242ac1c0002\"] = document.querySelector(\"#id2-0-0\");\n",
              "//# sourceURL=js_7aa90f5e3d"
            ]
          },
          "metadata": {}
        },
        {
          "output_type": "display_data",
          "data": {
            "text/plain": [
              "<IPython.core.display.Javascript object>"
            ],
            "application/javascript": [
              "window[\"2685e80e-bacd-11ec-a125-0242ac1c0002\"] = google.colab.output.setActiveOutputArea(window[\"2684b6e6-bacd-11ec-a125-0242ac1c0002\"]);\n",
              "//# sourceURL=js_57cefd8f15"
            ]
          },
          "metadata": {}
        },
        {
          "output_type": "display_data",
          "data": {
            "text/plain": [
              "<IPython.core.display.Javascript object>"
            ],
            "application/javascript": [
              "window[\"26bf49fa-bacd-11ec-a125-0242ac1c0002\"] = google.colab.output.setActiveOutputArea(window[\"268376f0-bacd-11ec-a125-0242ac1c0002\"]);\n",
              "//# sourceURL=js_6f52529f93"
            ]
          },
          "metadata": {}
        },
        {
          "output_type": "display_data",
          "data": {
            "text/plain": [
              "<IPython.core.display.Javascript object>"
            ],
            "application/javascript": [
              "window[\"26c49e00-bacd-11ec-a125-0242ac1c0002\"] = google.colab.output.getActiveOutputArea();\n",
              "//# sourceURL=js_9505741900"
            ]
          },
          "metadata": {}
        },
        {
          "output_type": "display_data",
          "data": {
            "text/plain": [
              "<IPython.core.display.Javascript object>"
            ],
            "application/javascript": [
              "window[\"26c57a3c-bacd-11ec-a125-0242ac1c0002\"] = document.querySelector(\"#id2-0-0\");\n",
              "//# sourceURL=js_a34361b76d"
            ]
          },
          "metadata": {}
        },
        {
          "output_type": "display_data",
          "data": {
            "text/plain": [
              "<IPython.core.display.Javascript object>"
            ],
            "application/javascript": [
              "window[\"26c672fc-bacd-11ec-a125-0242ac1c0002\"] = google.colab.output.setActiveOutputArea(window[\"26c57a3c-bacd-11ec-a125-0242ac1c0002\"]);\n",
              "//# sourceURL=js_251d6e4e72"
            ]
          },
          "metadata": {}
        },
        {
          "output_type": "display_data",
          "data": {
            "text/plain": [
              "<IPython.core.display.Javascript object>"
            ],
            "application/javascript": [
              "window[\"26f85b14-bacd-11ec-a125-0242ac1c0002\"] = google.colab.output.setActiveOutputArea(window[\"26c49e00-bacd-11ec-a125-0242ac1c0002\"]);\n",
              "//# sourceURL=js_a40a2c41f1"
            ]
          },
          "metadata": {}
        },
        {
          "output_type": "display_data",
          "data": {
            "text/plain": [
              "<IPython.core.display.Javascript object>"
            ],
            "application/javascript": [
              "window[\"26fc1218-bacd-11ec-a125-0242ac1c0002\"] = google.colab.output.getActiveOutputArea();\n",
              "//# sourceURL=js_da2de32a23"
            ]
          },
          "metadata": {}
        },
        {
          "output_type": "display_data",
          "data": {
            "text/plain": [
              "<IPython.core.display.Javascript object>"
            ],
            "application/javascript": [
              "window[\"26fd9f02-bacd-11ec-a125-0242ac1c0002\"] = document.querySelector(\"#id2-0-0\");\n",
              "//# sourceURL=js_5f0999c56b"
            ]
          },
          "metadata": {}
        },
        {
          "output_type": "display_data",
          "data": {
            "text/plain": [
              "<IPython.core.display.Javascript object>"
            ],
            "application/javascript": [
              "window[\"26fdea66-bacd-11ec-a125-0242ac1c0002\"] = google.colab.output.setActiveOutputArea(window[\"26fd9f02-bacd-11ec-a125-0242ac1c0002\"]);\n",
              "//# sourceURL=js_3e9f7b1110"
            ]
          },
          "metadata": {}
        },
        {
          "output_type": "display_data",
          "data": {
            "text/plain": [
              "<IPython.core.display.Javascript object>"
            ],
            "application/javascript": [
              "window[\"2733c60e-bacd-11ec-a125-0242ac1c0002\"] = google.colab.output.setActiveOutputArea(window[\"26fc1218-bacd-11ec-a125-0242ac1c0002\"]);\n",
              "//# sourceURL=js_2bef8e57bf"
            ]
          },
          "metadata": {}
        },
        {
          "output_type": "display_data",
          "data": {
            "text/plain": [
              "<IPython.core.display.Javascript object>"
            ],
            "application/javascript": [
              "window[\"27364956-bacd-11ec-a125-0242ac1c0002\"] = google.colab.output.getActiveOutputArea();\n",
              "//# sourceURL=js_9303abdfd6"
            ]
          },
          "metadata": {}
        },
        {
          "output_type": "display_data",
          "data": {
            "text/plain": [
              "<IPython.core.display.Javascript object>"
            ],
            "application/javascript": [
              "window[\"27369a8c-bacd-11ec-a125-0242ac1c0002\"] = document.querySelector(\"#id2-0-0\");\n",
              "//# sourceURL=js_02029806b9"
            ]
          },
          "metadata": {}
        },
        {
          "output_type": "display_data",
          "data": {
            "text/plain": [
              "<IPython.core.display.Javascript object>"
            ],
            "application/javascript": [
              "window[\"2736f1da-bacd-11ec-a125-0242ac1c0002\"] = google.colab.output.setActiveOutputArea(window[\"27369a8c-bacd-11ec-a125-0242ac1c0002\"]);\n",
              "//# sourceURL=js_27d03cc9c8"
            ]
          },
          "metadata": {}
        },
        {
          "output_type": "display_data",
          "data": {
            "text/plain": [
              "<IPython.core.display.Javascript object>"
            ],
            "application/javascript": [
              "window[\"275dc828-bacd-11ec-a125-0242ac1c0002\"] = google.colab.output.setActiveOutputArea(window[\"27364956-bacd-11ec-a125-0242ac1c0002\"]);\n",
              "//# sourceURL=js_eb59f81fc2"
            ]
          },
          "metadata": {}
        },
        {
          "output_type": "display_data",
          "data": {
            "text/plain": [
              "<IPython.core.display.Javascript object>"
            ],
            "application/javascript": [
              "window[\"27606574-bacd-11ec-a125-0242ac1c0002\"] = google.colab.output.getActiveOutputArea();\n",
              "//# sourceURL=js_28622c6dc8"
            ]
          },
          "metadata": {}
        },
        {
          "output_type": "display_data",
          "data": {
            "text/plain": [
              "<IPython.core.display.Javascript object>"
            ],
            "application/javascript": [
              "window[\"2760befc-bacd-11ec-a125-0242ac1c0002\"] = document.querySelector(\"#id2-0-0\");\n",
              "//# sourceURL=js_01bc42d150"
            ]
          },
          "metadata": {}
        },
        {
          "output_type": "display_data",
          "data": {
            "text/plain": [
              "<IPython.core.display.Javascript object>"
            ],
            "application/javascript": [
              "window[\"27614160-bacd-11ec-a125-0242ac1c0002\"] = google.colab.output.setActiveOutputArea(window[\"2760befc-bacd-11ec-a125-0242ac1c0002\"]);\n",
              "//# sourceURL=js_a036e97ea0"
            ]
          },
          "metadata": {}
        },
        {
          "output_type": "display_data",
          "data": {
            "text/plain": [
              "<IPython.core.display.Javascript object>"
            ],
            "application/javascript": [
              "window[\"27950dce-bacd-11ec-a125-0242ac1c0002\"] = google.colab.output.setActiveOutputArea(window[\"27606574-bacd-11ec-a125-0242ac1c0002\"]);\n",
              "//# sourceURL=js_49b8d9b435"
            ]
          },
          "metadata": {}
        },
        {
          "output_type": "display_data",
          "data": {
            "text/plain": [
              "<IPython.core.display.Javascript object>"
            ],
            "application/javascript": [
              "window[\"2798d36e-bacd-11ec-a125-0242ac1c0002\"] = google.colab.output.getActiveOutputArea();\n",
              "//# sourceURL=js_3c77d03839"
            ]
          },
          "metadata": {}
        },
        {
          "output_type": "display_data",
          "data": {
            "text/plain": [
              "<IPython.core.display.Javascript object>"
            ],
            "application/javascript": [
              "window[\"2799e880-bacd-11ec-a125-0242ac1c0002\"] = document.querySelector(\"#id2-0-0\");\n",
              "//# sourceURL=js_9ffc66fb82"
            ]
          },
          "metadata": {}
        },
        {
          "output_type": "display_data",
          "data": {
            "text/plain": [
              "<IPython.core.display.Javascript object>"
            ],
            "application/javascript": [
              "window[\"279a6e5e-bacd-11ec-a125-0242ac1c0002\"] = google.colab.output.setActiveOutputArea(window[\"2799e880-bacd-11ec-a125-0242ac1c0002\"]);\n",
              "//# sourceURL=js_27672e93ac"
            ]
          },
          "metadata": {}
        },
        {
          "output_type": "display_data",
          "data": {
            "text/plain": [
              "<IPython.core.display.Javascript object>"
            ],
            "application/javascript": [
              "window[\"27c2b09e-bacd-11ec-a125-0242ac1c0002\"] = google.colab.output.setActiveOutputArea(window[\"2798d36e-bacd-11ec-a125-0242ac1c0002\"]);\n",
              "//# sourceURL=js_c09bdcfebb"
            ]
          },
          "metadata": {}
        },
        {
          "output_type": "display_data",
          "data": {
            "text/plain": [
              "<IPython.core.display.Javascript object>"
            ],
            "application/javascript": [
              "window[\"27c771ec-bacd-11ec-a125-0242ac1c0002\"] = google.colab.output.getActiveOutputArea();\n",
              "//# sourceURL=js_4a18ce7a84"
            ]
          },
          "metadata": {}
        },
        {
          "output_type": "display_data",
          "data": {
            "text/plain": [
              "<IPython.core.display.Javascript object>"
            ],
            "application/javascript": [
              "window[\"27c7e618-bacd-11ec-a125-0242ac1c0002\"] = document.querySelector(\"#id2-0-0\");\n",
              "//# sourceURL=js_5755fb567c"
            ]
          },
          "metadata": {}
        },
        {
          "output_type": "display_data",
          "data": {
            "text/plain": [
              "<IPython.core.display.Javascript object>"
            ],
            "application/javascript": [
              "window[\"27c91e52-bacd-11ec-a125-0242ac1c0002\"] = google.colab.output.setActiveOutputArea(window[\"27c7e618-bacd-11ec-a125-0242ac1c0002\"]);\n",
              "//# sourceURL=js_685dc27d81"
            ]
          },
          "metadata": {}
        },
        {
          "output_type": "display_data",
          "data": {
            "text/plain": [
              "<IPython.core.display.Javascript object>"
            ],
            "application/javascript": [
              "window[\"27ee8e94-bacd-11ec-a125-0242ac1c0002\"] = google.colab.output.setActiveOutputArea(window[\"27c771ec-bacd-11ec-a125-0242ac1c0002\"]);\n",
              "//# sourceURL=js_2621c63523"
            ]
          },
          "metadata": {}
        },
        {
          "output_type": "display_data",
          "data": {
            "text/plain": [
              "<IPython.core.display.Javascript object>"
            ],
            "application/javascript": [
              "window[\"27f2cafe-bacd-11ec-a125-0242ac1c0002\"] = google.colab.output.getActiveOutputArea();\n",
              "//# sourceURL=js_7780bb1994"
            ]
          },
          "metadata": {}
        },
        {
          "output_type": "display_data",
          "data": {
            "text/plain": [
              "<IPython.core.display.Javascript object>"
            ],
            "application/javascript": [
              "window[\"27f3369c-bacd-11ec-a125-0242ac1c0002\"] = document.querySelector(\"#id2-0-0\");\n",
              "//# sourceURL=js_aa240703aa"
            ]
          },
          "metadata": {}
        },
        {
          "output_type": "display_data",
          "data": {
            "text/plain": [
              "<IPython.core.display.Javascript object>"
            ],
            "application/javascript": [
              "window[\"27f3f51e-bacd-11ec-a125-0242ac1c0002\"] = google.colab.output.setActiveOutputArea(window[\"27f3369c-bacd-11ec-a125-0242ac1c0002\"]);\n",
              "//# sourceURL=js_831c3b6bd8"
            ]
          },
          "metadata": {}
        },
        {
          "output_type": "display_data",
          "data": {
            "text/plain": [
              "<IPython.core.display.Javascript object>"
            ],
            "application/javascript": [
              "window[\"281b7738-bacd-11ec-a125-0242ac1c0002\"] = google.colab.output.setActiveOutputArea(window[\"27f2cafe-bacd-11ec-a125-0242ac1c0002\"]);\n",
              "//# sourceURL=js_e52a6ce277"
            ]
          },
          "metadata": {}
        },
        {
          "output_type": "display_data",
          "data": {
            "text/plain": [
              "<IPython.core.display.Javascript object>"
            ],
            "application/javascript": [
              "window[\"281fc0fe-bacd-11ec-a125-0242ac1c0002\"] = google.colab.output.getActiveOutputArea();\n",
              "//# sourceURL=js_d93afb504e"
            ]
          },
          "metadata": {}
        },
        {
          "output_type": "display_data",
          "data": {
            "text/plain": [
              "<IPython.core.display.Javascript object>"
            ],
            "application/javascript": [
              "window[\"282059d8-bacd-11ec-a125-0242ac1c0002\"] = document.querySelector(\"#id2-0-0\");\n",
              "//# sourceURL=js_e954c77e15"
            ]
          },
          "metadata": {}
        },
        {
          "output_type": "display_data",
          "data": {
            "text/plain": [
              "<IPython.core.display.Javascript object>"
            ],
            "application/javascript": [
              "window[\"28211ff8-bacd-11ec-a125-0242ac1c0002\"] = google.colab.output.setActiveOutputArea(window[\"282059d8-bacd-11ec-a125-0242ac1c0002\"]);\n",
              "//# sourceURL=js_0f48e88289"
            ]
          },
          "metadata": {}
        },
        {
          "output_type": "display_data",
          "data": {
            "text/plain": [
              "<IPython.core.display.Javascript object>"
            ],
            "application/javascript": [
              "window[\"2846d84c-bacd-11ec-a125-0242ac1c0002\"] = google.colab.output.setActiveOutputArea(window[\"281fc0fe-bacd-11ec-a125-0242ac1c0002\"]);\n",
              "//# sourceURL=js_dc8a012446"
            ]
          },
          "metadata": {}
        },
        {
          "output_type": "display_data",
          "data": {
            "text/plain": [
              "<IPython.core.display.Javascript object>"
            ],
            "application/javascript": [
              "window[\"284c056a-bacd-11ec-a125-0242ac1c0002\"] = google.colab.output.getActiveOutputArea();\n",
              "//# sourceURL=js_dfc53e0984"
            ]
          },
          "metadata": {}
        },
        {
          "output_type": "display_data",
          "data": {
            "text/plain": [
              "<IPython.core.display.Javascript object>"
            ],
            "application/javascript": [
              "window[\"284cf592-bacd-11ec-a125-0242ac1c0002\"] = document.querySelector(\"#id2-0-0\");\n",
              "//# sourceURL=js_98bac85448"
            ]
          },
          "metadata": {}
        },
        {
          "output_type": "display_data",
          "data": {
            "text/plain": [
              "<IPython.core.display.Javascript object>"
            ],
            "application/javascript": [
              "window[\"284df7c6-bacd-11ec-a125-0242ac1c0002\"] = google.colab.output.setActiveOutputArea(window[\"284cf592-bacd-11ec-a125-0242ac1c0002\"]);\n",
              "//# sourceURL=js_1943182229"
            ]
          },
          "metadata": {}
        },
        {
          "output_type": "display_data",
          "data": {
            "text/plain": [
              "<IPython.core.display.Javascript object>"
            ],
            "application/javascript": [
              "window[\"28778208-bacd-11ec-a125-0242ac1c0002\"] = google.colab.output.setActiveOutputArea(window[\"284c056a-bacd-11ec-a125-0242ac1c0002\"]);\n",
              "//# sourceURL=js_b333ab1d64"
            ]
          },
          "metadata": {}
        },
        {
          "output_type": "display_data",
          "data": {
            "text/plain": [
              "<IPython.core.display.Javascript object>"
            ],
            "application/javascript": [
              "window[\"287d1614-bacd-11ec-a125-0242ac1c0002\"] = google.colab.output.getActiveOutputArea();\n",
              "//# sourceURL=js_817965d877"
            ]
          },
          "metadata": {}
        },
        {
          "output_type": "display_data",
          "data": {
            "text/plain": [
              "<IPython.core.display.Javascript object>"
            ],
            "application/javascript": [
              "window[\"287d869e-bacd-11ec-a125-0242ac1c0002\"] = document.querySelector(\"#id2-0-0\");\n",
              "//# sourceURL=js_dae7decd55"
            ]
          },
          "metadata": {}
        },
        {
          "output_type": "display_data",
          "data": {
            "text/plain": [
              "<IPython.core.display.Javascript object>"
            ],
            "application/javascript": [
              "window[\"287ea682-bacd-11ec-a125-0242ac1c0002\"] = google.colab.output.setActiveOutputArea(window[\"287d869e-bacd-11ec-a125-0242ac1c0002\"]);\n",
              "//# sourceURL=js_88206656bf"
            ]
          },
          "metadata": {}
        },
        {
          "output_type": "display_data",
          "data": {
            "text/plain": [
              "<IPython.core.display.Javascript object>"
            ],
            "application/javascript": [
              "window[\"28aad324-bacd-11ec-a125-0242ac1c0002\"] = google.colab.output.setActiveOutputArea(window[\"287d1614-bacd-11ec-a125-0242ac1c0002\"]);\n",
              "//# sourceURL=js_08f7e1336a"
            ]
          },
          "metadata": {}
        },
        {
          "output_type": "display_data",
          "data": {
            "text/plain": [
              "<IPython.core.display.Javascript object>"
            ],
            "application/javascript": [
              "window[\"28aed96a-bacd-11ec-a125-0242ac1c0002\"] = google.colab.output.getActiveOutputArea();\n",
              "//# sourceURL=js_12e2cec413"
            ]
          },
          "metadata": {}
        },
        {
          "output_type": "display_data",
          "data": {
            "text/plain": [
              "<IPython.core.display.Javascript object>"
            ],
            "application/javascript": [
              "window[\"28af36a8-bacd-11ec-a125-0242ac1c0002\"] = document.querySelector(\"#id2-0-0\");\n",
              "//# sourceURL=js_f6afc2d694"
            ]
          },
          "metadata": {}
        },
        {
          "output_type": "display_data",
          "data": {
            "text/plain": [
              "<IPython.core.display.Javascript object>"
            ],
            "application/javascript": [
              "window[\"28af9fee-bacd-11ec-a125-0242ac1c0002\"] = google.colab.output.setActiveOutputArea(window[\"28af36a8-bacd-11ec-a125-0242ac1c0002\"]);\n",
              "//# sourceURL=js_df566f1807"
            ]
          },
          "metadata": {}
        },
        {
          "output_type": "display_data",
          "data": {
            "text/plain": [
              "<IPython.core.display.Javascript object>"
            ],
            "application/javascript": [
              "window[\"28eb9ce2-bacd-11ec-a125-0242ac1c0002\"] = google.colab.output.setActiveOutputArea(window[\"28aed96a-bacd-11ec-a125-0242ac1c0002\"]);\n",
              "//# sourceURL=js_06a8b98940"
            ]
          },
          "metadata": {}
        },
        {
          "output_type": "display_data",
          "data": {
            "text/plain": [
              "<IPython.core.display.Javascript object>"
            ],
            "application/javascript": [
              "window[\"28f06d44-bacd-11ec-a125-0242ac1c0002\"] = google.colab.output.getActiveOutputArea();\n",
              "//# sourceURL=js_78fab8bb71"
            ]
          },
          "metadata": {}
        },
        {
          "output_type": "display_data",
          "data": {
            "text/plain": [
              "<IPython.core.display.Javascript object>"
            ],
            "application/javascript": [
              "window[\"28f116b8-bacd-11ec-a125-0242ac1c0002\"] = document.querySelector(\"#id2-0-0\");\n",
              "//# sourceURL=js_8dce6ddca3"
            ]
          },
          "metadata": {}
        },
        {
          "output_type": "display_data",
          "data": {
            "text/plain": [
              "<IPython.core.display.Javascript object>"
            ],
            "application/javascript": [
              "window[\"28f1aa24-bacd-11ec-a125-0242ac1c0002\"] = google.colab.output.setActiveOutputArea(window[\"28f116b8-bacd-11ec-a125-0242ac1c0002\"]);\n",
              "//# sourceURL=js_27bbd2ea50"
            ]
          },
          "metadata": {}
        },
        {
          "output_type": "display_data",
          "data": {
            "text/plain": [
              "<IPython.core.display.Javascript object>"
            ],
            "application/javascript": [
              "window[\"292a1f58-bacd-11ec-a125-0242ac1c0002\"] = google.colab.output.setActiveOutputArea(window[\"28f06d44-bacd-11ec-a125-0242ac1c0002\"]);\n",
              "//# sourceURL=js_91322441d8"
            ]
          },
          "metadata": {}
        },
        {
          "output_type": "display_data",
          "data": {
            "text/plain": [
              "<IPython.core.display.Javascript object>"
            ],
            "application/javascript": [
              "window[\"292f1a94-bacd-11ec-a125-0242ac1c0002\"] = google.colab.output.getActiveOutputArea();\n",
              "//# sourceURL=js_55bfd5105a"
            ]
          },
          "metadata": {}
        },
        {
          "output_type": "display_data",
          "data": {
            "text/plain": [
              "<IPython.core.display.Javascript object>"
            ],
            "application/javascript": [
              "window[\"292fd4e8-bacd-11ec-a125-0242ac1c0002\"] = document.querySelector(\"#id2-0-0\");\n",
              "//# sourceURL=js_fdf6f80f3e"
            ]
          },
          "metadata": {}
        },
        {
          "output_type": "display_data",
          "data": {
            "text/plain": [
              "<IPython.core.display.Javascript object>"
            ],
            "application/javascript": [
              "window[\"29323a44-bacd-11ec-a125-0242ac1c0002\"] = google.colab.output.setActiveOutputArea(window[\"292fd4e8-bacd-11ec-a125-0242ac1c0002\"]);\n",
              "//# sourceURL=js_7b8b2b0df8"
            ]
          },
          "metadata": {}
        },
        {
          "output_type": "display_data",
          "data": {
            "text/plain": [
              "<IPython.core.display.Javascript object>"
            ],
            "application/javascript": [
              "window[\"2975fbc6-bacd-11ec-a125-0242ac1c0002\"] = google.colab.output.setActiveOutputArea(window[\"292f1a94-bacd-11ec-a125-0242ac1c0002\"]);\n",
              "//# sourceURL=js_154f3ef32d"
            ]
          },
          "metadata": {}
        },
        {
          "output_type": "display_data",
          "data": {
            "text/plain": [
              "<IPython.core.display.Javascript object>"
            ],
            "application/javascript": [
              "window[\"297ae5b4-bacd-11ec-a125-0242ac1c0002\"] = google.colab.output.getActiveOutputArea();\n",
              "//# sourceURL=js_3319cd7f3f"
            ]
          },
          "metadata": {}
        },
        {
          "output_type": "display_data",
          "data": {
            "text/plain": [
              "<IPython.core.display.Javascript object>"
            ],
            "application/javascript": [
              "window[\"297d2d4c-bacd-11ec-a125-0242ac1c0002\"] = document.querySelector(\"#id2-0-0\");\n",
              "//# sourceURL=js_f43757184f"
            ]
          },
          "metadata": {}
        },
        {
          "output_type": "display_data",
          "data": {
            "text/plain": [
              "<IPython.core.display.Javascript object>"
            ],
            "application/javascript": [
              "window[\"297e122a-bacd-11ec-a125-0242ac1c0002\"] = google.colab.output.setActiveOutputArea(window[\"297d2d4c-bacd-11ec-a125-0242ac1c0002\"]);\n",
              "//# sourceURL=js_a916c6cd8f"
            ]
          },
          "metadata": {}
        },
        {
          "output_type": "display_data",
          "data": {
            "text/plain": [
              "<IPython.core.display.Javascript object>"
            ],
            "application/javascript": [
              "window[\"29a7afc2-bacd-11ec-a125-0242ac1c0002\"] = google.colab.output.setActiveOutputArea(window[\"297ae5b4-bacd-11ec-a125-0242ac1c0002\"]);\n",
              "//# sourceURL=js_7887541121"
            ]
          },
          "metadata": {}
        },
        {
          "output_type": "display_data",
          "data": {
            "text/plain": [
              "<IPython.core.display.Javascript object>"
            ],
            "application/javascript": [
              "window[\"29ab222e-bacd-11ec-a125-0242ac1c0002\"] = google.colab.output.getActiveOutputArea();\n",
              "//# sourceURL=js_eaaf1214d3"
            ]
          },
          "metadata": {}
        },
        {
          "output_type": "display_data",
          "data": {
            "text/plain": [
              "<IPython.core.display.Javascript object>"
            ],
            "application/javascript": [
              "window[\"29ac106c-bacd-11ec-a125-0242ac1c0002\"] = document.querySelector(\"#id2-0-0\");\n",
              "//# sourceURL=js_18f7e033c0"
            ]
          },
          "metadata": {}
        },
        {
          "output_type": "display_data",
          "data": {
            "text/plain": [
              "<IPython.core.display.Javascript object>"
            ],
            "application/javascript": [
              "window[\"29ac809c-bacd-11ec-a125-0242ac1c0002\"] = google.colab.output.setActiveOutputArea(window[\"29ac106c-bacd-11ec-a125-0242ac1c0002\"]);\n",
              "//# sourceURL=js_4c17041993"
            ]
          },
          "metadata": {}
        },
        {
          "output_type": "display_data",
          "data": {
            "text/plain": [
              "<IPython.core.display.Javascript object>"
            ],
            "application/javascript": [
              "window[\"29e145d4-bacd-11ec-a125-0242ac1c0002\"] = google.colab.output.setActiveOutputArea(window[\"29ab222e-bacd-11ec-a125-0242ac1c0002\"]);\n",
              "//# sourceURL=js_584343b950"
            ]
          },
          "metadata": {}
        },
        {
          "output_type": "display_data",
          "data": {
            "text/plain": [
              "<IPython.core.display.Javascript object>"
            ],
            "application/javascript": [
              "window[\"29e639a4-bacd-11ec-a125-0242ac1c0002\"] = google.colab.output.getActiveOutputArea();\n",
              "//# sourceURL=js_0994e4e858"
            ]
          },
          "metadata": {}
        },
        {
          "output_type": "display_data",
          "data": {
            "text/plain": [
              "<IPython.core.display.Javascript object>"
            ],
            "application/javascript": [
              "window[\"29e71ae0-bacd-11ec-a125-0242ac1c0002\"] = document.querySelector(\"#id2-0-0\");\n",
              "//# sourceURL=js_a70e211f60"
            ]
          },
          "metadata": {}
        },
        {
          "output_type": "display_data",
          "data": {
            "text/plain": [
              "<IPython.core.display.Javascript object>"
            ],
            "application/javascript": [
              "window[\"29e78476-bacd-11ec-a125-0242ac1c0002\"] = google.colab.output.setActiveOutputArea(window[\"29e71ae0-bacd-11ec-a125-0242ac1c0002\"]);\n",
              "//# sourceURL=js_c81f72fda7"
            ]
          },
          "metadata": {}
        },
        {
          "output_type": "display_data",
          "data": {
            "text/plain": [
              "<IPython.core.display.Javascript object>"
            ],
            "application/javascript": [
              "window[\"2a267406-bacd-11ec-a125-0242ac1c0002\"] = google.colab.output.setActiveOutputArea(window[\"29e639a4-bacd-11ec-a125-0242ac1c0002\"]);\n",
              "//# sourceURL=js_09083090dc"
            ]
          },
          "metadata": {}
        },
        {
          "output_type": "display_data",
          "data": {
            "text/plain": [
              "<IPython.core.display.Javascript object>"
            ],
            "application/javascript": [
              "window[\"2a2bd2e8-bacd-11ec-a125-0242ac1c0002\"] = google.colab.output.getActiveOutputArea();\n",
              "//# sourceURL=js_6be187269b"
            ]
          },
          "metadata": {}
        },
        {
          "output_type": "display_data",
          "data": {
            "text/plain": [
              "<IPython.core.display.Javascript object>"
            ],
            "application/javascript": [
              "window[\"2a2c2f18-bacd-11ec-a125-0242ac1c0002\"] = document.querySelector(\"#id2-0-0\");\n",
              "//# sourceURL=js_9a90062051"
            ]
          },
          "metadata": {}
        },
        {
          "output_type": "display_data",
          "data": {
            "text/plain": [
              "<IPython.core.display.Javascript object>"
            ],
            "application/javascript": [
              "window[\"2a2c9052-bacd-11ec-a125-0242ac1c0002\"] = google.colab.output.setActiveOutputArea(window[\"2a2c2f18-bacd-11ec-a125-0242ac1c0002\"]);\n",
              "//# sourceURL=js_f70997f6b2"
            ]
          },
          "metadata": {}
        },
        {
          "output_type": "display_data",
          "data": {
            "text/plain": [
              "<IPython.core.display.Javascript object>"
            ],
            "application/javascript": [
              "window[\"2a63d558-bacd-11ec-a125-0242ac1c0002\"] = google.colab.output.setActiveOutputArea(window[\"2a2bd2e8-bacd-11ec-a125-0242ac1c0002\"]);\n",
              "//# sourceURL=js_9cfbd68858"
            ]
          },
          "metadata": {}
        },
        {
          "output_type": "display_data",
          "data": {
            "text/plain": [
              "<IPython.core.display.Javascript object>"
            ],
            "application/javascript": [
              "window[\"2a69ad52-bacd-11ec-a125-0242ac1c0002\"] = google.colab.output.getActiveOutputArea();\n",
              "//# sourceURL=js_d62c59dc0c"
            ]
          },
          "metadata": {}
        },
        {
          "output_type": "display_data",
          "data": {
            "text/plain": [
              "<IPython.core.display.Javascript object>"
            ],
            "application/javascript": [
              "window[\"2a6a6c1a-bacd-11ec-a125-0242ac1c0002\"] = document.querySelector(\"#id2-0-0\");\n",
              "//# sourceURL=js_867ed323e8"
            ]
          },
          "metadata": {}
        },
        {
          "output_type": "display_data",
          "data": {
            "text/plain": [
              "<IPython.core.display.Javascript object>"
            ],
            "application/javascript": [
              "window[\"2a6ba97c-bacd-11ec-a125-0242ac1c0002\"] = google.colab.output.setActiveOutputArea(window[\"2a6a6c1a-bacd-11ec-a125-0242ac1c0002\"]);\n",
              "//# sourceURL=js_dea08e72b0"
            ]
          },
          "metadata": {}
        },
        {
          "output_type": "display_data",
          "data": {
            "text/plain": [
              "<IPython.core.display.Javascript object>"
            ],
            "application/javascript": [
              "window[\"2a945f8e-bacd-11ec-a125-0242ac1c0002\"] = google.colab.output.setActiveOutputArea(window[\"2a69ad52-bacd-11ec-a125-0242ac1c0002\"]);\n",
              "//# sourceURL=js_541c8e77d1"
            ]
          },
          "metadata": {}
        },
        {
          "output_type": "display_data",
          "data": {
            "text/plain": [
              "<IPython.core.display.Javascript object>"
            ],
            "application/javascript": [
              "window[\"2a9883e8-bacd-11ec-a125-0242ac1c0002\"] = google.colab.output.getActiveOutputArea();\n",
              "//# sourceURL=js_5855e7aac1"
            ]
          },
          "metadata": {}
        },
        {
          "output_type": "display_data",
          "data": {
            "text/plain": [
              "<IPython.core.display.Javascript object>"
            ],
            "application/javascript": [
              "window[\"2a98ec8e-bacd-11ec-a125-0242ac1c0002\"] = document.querySelector(\"#id2-0-0\");\n",
              "//# sourceURL=js_a7f151a398"
            ]
          },
          "metadata": {}
        },
        {
          "output_type": "display_data",
          "data": {
            "text/plain": [
              "<IPython.core.display.Javascript object>"
            ],
            "application/javascript": [
              "window[\"2a99b326-bacd-11ec-a125-0242ac1c0002\"] = google.colab.output.setActiveOutputArea(window[\"2a98ec8e-bacd-11ec-a125-0242ac1c0002\"]);\n",
              "//# sourceURL=js_94d802372e"
            ]
          },
          "metadata": {}
        },
        {
          "output_type": "display_data",
          "data": {
            "text/plain": [
              "<IPython.core.display.Javascript object>"
            ],
            "application/javascript": [
              "window[\"2acbe6e8-bacd-11ec-a125-0242ac1c0002\"] = google.colab.output.setActiveOutputArea(window[\"2a9883e8-bacd-11ec-a125-0242ac1c0002\"]);\n",
              "//# sourceURL=js_2b9c29c520"
            ]
          },
          "metadata": {}
        },
        {
          "output_type": "display_data",
          "data": {
            "text/plain": [
              "<IPython.core.display.Javascript object>"
            ],
            "application/javascript": [
              "window[\"2ad1e138-bacd-11ec-a125-0242ac1c0002\"] = google.colab.output.getActiveOutputArea();\n",
              "//# sourceURL=js_40bff5641e"
            ]
          },
          "metadata": {}
        },
        {
          "output_type": "display_data",
          "data": {
            "text/plain": [
              "<IPython.core.display.Javascript object>"
            ],
            "application/javascript": [
              "window[\"2ad34f0a-bacd-11ec-a125-0242ac1c0002\"] = document.querySelector(\"#id2-0-0\");\n",
              "//# sourceURL=js_d208dedd4f"
            ]
          },
          "metadata": {}
        },
        {
          "output_type": "display_data",
          "data": {
            "text/plain": [
              "<IPython.core.display.Javascript object>"
            ],
            "application/javascript": [
              "window[\"2ad42010-bacd-11ec-a125-0242ac1c0002\"] = google.colab.output.setActiveOutputArea(window[\"2ad34f0a-bacd-11ec-a125-0242ac1c0002\"]);\n",
              "//# sourceURL=js_52c3766c82"
            ]
          },
          "metadata": {}
        },
        {
          "output_type": "display_data",
          "data": {
            "text/plain": [
              "<IPython.core.display.Javascript object>"
            ],
            "application/javascript": [
              "window[\"2afec766-bacd-11ec-a125-0242ac1c0002\"] = google.colab.output.setActiveOutputArea(window[\"2ad1e138-bacd-11ec-a125-0242ac1c0002\"]);\n",
              "//# sourceURL=js_28eec337d0"
            ]
          },
          "metadata": {}
        },
        {
          "output_type": "display_data",
          "data": {
            "text/plain": [
              "<IPython.core.display.Javascript object>"
            ],
            "application/javascript": [
              "window[\"2b02497c-bacd-11ec-a125-0242ac1c0002\"] = google.colab.output.getActiveOutputArea();\n",
              "//# sourceURL=js_f0a3d1525e"
            ]
          },
          "metadata": {}
        },
        {
          "output_type": "display_data",
          "data": {
            "text/plain": [
              "<IPython.core.display.Javascript object>"
            ],
            "application/javascript": [
              "window[\"2b02a99e-bacd-11ec-a125-0242ac1c0002\"] = document.querySelector(\"#id2-0-0\");\n",
              "//# sourceURL=js_be78099a8d"
            ]
          },
          "metadata": {}
        },
        {
          "output_type": "display_data",
          "data": {
            "text/plain": [
              "<IPython.core.display.Javascript object>"
            ],
            "application/javascript": [
              "window[\"2b030aa6-bacd-11ec-a125-0242ac1c0002\"] = google.colab.output.setActiveOutputArea(window[\"2b02a99e-bacd-11ec-a125-0242ac1c0002\"]);\n",
              "//# sourceURL=js_7627ffde68"
            ]
          },
          "metadata": {}
        },
        {
          "output_type": "display_data",
          "data": {
            "text/plain": [
              "<IPython.core.display.Javascript object>"
            ],
            "application/javascript": [
              "window[\"2b2fc3c0-bacd-11ec-a125-0242ac1c0002\"] = google.colab.output.setActiveOutputArea(window[\"2b02497c-bacd-11ec-a125-0242ac1c0002\"]);\n",
              "//# sourceURL=js_26258a3c5b"
            ]
          },
          "metadata": {}
        },
        {
          "output_type": "display_data",
          "data": {
            "text/plain": [
              "<IPython.core.display.Javascript object>"
            ],
            "application/javascript": [
              "window[\"2b35efc0-bacd-11ec-a125-0242ac1c0002\"] = google.colab.output.getActiveOutputArea();\n",
              "//# sourceURL=js_07df90043a"
            ]
          },
          "metadata": {}
        },
        {
          "output_type": "display_data",
          "data": {
            "text/plain": [
              "<IPython.core.display.Javascript object>"
            ],
            "application/javascript": [
              "window[\"2b37b0da-bacd-11ec-a125-0242ac1c0002\"] = document.querySelector(\"#id2-0-0\");\n",
              "//# sourceURL=js_ea4b1e772a"
            ]
          },
          "metadata": {}
        },
        {
          "output_type": "display_data",
          "data": {
            "text/plain": [
              "<IPython.core.display.Javascript object>"
            ],
            "application/javascript": [
              "window[\"2b3894aa-bacd-11ec-a125-0242ac1c0002\"] = google.colab.output.setActiveOutputArea(window[\"2b37b0da-bacd-11ec-a125-0242ac1c0002\"]);\n",
              "//# sourceURL=js_792ca6f083"
            ]
          },
          "metadata": {}
        },
        {
          "output_type": "display_data",
          "data": {
            "text/plain": [
              "<IPython.core.display.Javascript object>"
            ],
            "application/javascript": [
              "window[\"2b76dd1e-bacd-11ec-a125-0242ac1c0002\"] = google.colab.output.setActiveOutputArea(window[\"2b35efc0-bacd-11ec-a125-0242ac1c0002\"]);\n",
              "//# sourceURL=js_115ed711dc"
            ]
          },
          "metadata": {}
        },
        {
          "output_type": "display_data",
          "data": {
            "text/plain": [
              "<IPython.core.display.Javascript object>"
            ],
            "application/javascript": [
              "window[\"2b7bd0e4-bacd-11ec-a125-0242ac1c0002\"] = google.colab.output.getActiveOutputArea();\n",
              "//# sourceURL=js_b6f0d3007f"
            ]
          },
          "metadata": {}
        },
        {
          "output_type": "display_data",
          "data": {
            "text/plain": [
              "<IPython.core.display.Javascript object>"
            ],
            "application/javascript": [
              "window[\"2b7c41c8-bacd-11ec-a125-0242ac1c0002\"] = document.querySelector(\"#id2-0-0\");\n",
              "//# sourceURL=js_90fb4b8d1c"
            ]
          },
          "metadata": {}
        },
        {
          "output_type": "display_data",
          "data": {
            "text/plain": [
              "<IPython.core.display.Javascript object>"
            ],
            "application/javascript": [
              "window[\"2b7daa18-bacd-11ec-a125-0242ac1c0002\"] = google.colab.output.setActiveOutputArea(window[\"2b7c41c8-bacd-11ec-a125-0242ac1c0002\"]);\n",
              "//# sourceURL=js_72e7fb25b3"
            ]
          },
          "metadata": {}
        },
        {
          "output_type": "display_data",
          "data": {
            "text/plain": [
              "<IPython.core.display.Javascript object>"
            ],
            "application/javascript": [
              "window[\"2bae6f7c-bacd-11ec-a125-0242ac1c0002\"] = google.colab.output.setActiveOutputArea(window[\"2b7bd0e4-bacd-11ec-a125-0242ac1c0002\"]);\n",
              "//# sourceURL=js_7ae6fb9664"
            ]
          },
          "metadata": {}
        },
        {
          "output_type": "display_data",
          "data": {
            "text/plain": [
              "<IPython.core.display.Javascript object>"
            ],
            "application/javascript": [
              "window[\"2bb44762-bacd-11ec-a125-0242ac1c0002\"] = google.colab.output.getActiveOutputArea();\n",
              "//# sourceURL=js_76545911a3"
            ]
          },
          "metadata": {}
        },
        {
          "output_type": "display_data",
          "data": {
            "text/plain": [
              "<IPython.core.display.Javascript object>"
            ],
            "application/javascript": [
              "window[\"2bb4f9be-bacd-11ec-a125-0242ac1c0002\"] = document.querySelector(\"#id2-0-0\");\n",
              "//# sourceURL=js_db1998f515"
            ]
          },
          "metadata": {}
        },
        {
          "output_type": "display_data",
          "data": {
            "text/plain": [
              "<IPython.core.display.Javascript object>"
            ],
            "application/javascript": [
              "window[\"2bb60598-bacd-11ec-a125-0242ac1c0002\"] = google.colab.output.setActiveOutputArea(window[\"2bb4f9be-bacd-11ec-a125-0242ac1c0002\"]);\n",
              "//# sourceURL=js_4cdde44de7"
            ]
          },
          "metadata": {}
        },
        {
          "output_type": "display_data",
          "data": {
            "text/plain": [
              "<IPython.core.display.Javascript object>"
            ],
            "application/javascript": [
              "window[\"2bec0dd2-bacd-11ec-a125-0242ac1c0002\"] = google.colab.output.setActiveOutputArea(window[\"2bb44762-bacd-11ec-a125-0242ac1c0002\"]);\n",
              "//# sourceURL=js_326df8853f"
            ]
          },
          "metadata": {}
        },
        {
          "output_type": "display_data",
          "data": {
            "text/plain": [
              "<IPython.core.display.Javascript object>"
            ],
            "application/javascript": [
              "window[\"2bf14f18-bacd-11ec-a125-0242ac1c0002\"] = google.colab.output.getActiveOutputArea();\n",
              "//# sourceURL=js_799fdf645e"
            ]
          },
          "metadata": {}
        },
        {
          "output_type": "display_data",
          "data": {
            "text/plain": [
              "<IPython.core.display.Javascript object>"
            ],
            "application/javascript": [
              "window[\"2bf1c880-bacd-11ec-a125-0242ac1c0002\"] = document.querySelector(\"#id2-0-0\");\n",
              "//# sourceURL=js_691029d642"
            ]
          },
          "metadata": {}
        },
        {
          "output_type": "display_data",
          "data": {
            "text/plain": [
              "<IPython.core.display.Javascript object>"
            ],
            "application/javascript": [
              "window[\"2bf47814-bacd-11ec-a125-0242ac1c0002\"] = google.colab.output.setActiveOutputArea(window[\"2bf1c880-bacd-11ec-a125-0242ac1c0002\"]);\n",
              "//# sourceURL=js_f310f7431e"
            ]
          },
          "metadata": {}
        },
        {
          "output_type": "display_data",
          "data": {
            "text/plain": [
              "<IPython.core.display.Javascript object>"
            ],
            "application/javascript": [
              "window[\"2c2a051a-bacd-11ec-a125-0242ac1c0002\"] = google.colab.output.setActiveOutputArea(window[\"2bf14f18-bacd-11ec-a125-0242ac1c0002\"]);\n",
              "//# sourceURL=js_befaad3a5a"
            ]
          },
          "metadata": {}
        },
        {
          "output_type": "display_data",
          "data": {
            "text/plain": [
              "<IPython.core.display.Javascript object>"
            ],
            "application/javascript": [
              "window[\"2c30684c-bacd-11ec-a125-0242ac1c0002\"] = google.colab.output.getActiveOutputArea();\n",
              "//# sourceURL=js_8ad9aa8baf"
            ]
          },
          "metadata": {}
        },
        {
          "output_type": "display_data",
          "data": {
            "text/plain": [
              "<IPython.core.display.Javascript object>"
            ],
            "application/javascript": [
              "window[\"2c312ea8-bacd-11ec-a125-0242ac1c0002\"] = document.querySelector(\"#id2-0-0\");\n",
              "//# sourceURL=js_a86e4aee73"
            ]
          },
          "metadata": {}
        },
        {
          "output_type": "display_data",
          "data": {
            "text/plain": [
              "<IPython.core.display.Javascript object>"
            ],
            "application/javascript": [
              "window[\"2c326ba6-bacd-11ec-a125-0242ac1c0002\"] = google.colab.output.setActiveOutputArea(window[\"2c312ea8-bacd-11ec-a125-0242ac1c0002\"]);\n",
              "//# sourceURL=js_59fcc4f4d9"
            ]
          },
          "metadata": {}
        },
        {
          "output_type": "display_data",
          "data": {
            "text/plain": [
              "<IPython.core.display.Javascript object>"
            ],
            "application/javascript": [
              "window[\"2c5a56fc-bacd-11ec-a125-0242ac1c0002\"] = google.colab.output.setActiveOutputArea(window[\"2c30684c-bacd-11ec-a125-0242ac1c0002\"]);\n",
              "//# sourceURL=js_7d88077da4"
            ]
          },
          "metadata": {}
        },
        {
          "output_type": "display_data",
          "data": {
            "text/plain": [
              "<IPython.core.display.Javascript object>"
            ],
            "application/javascript": [
              "window[\"2c62352a-bacd-11ec-a125-0242ac1c0002\"] = google.colab.output.getActiveOutputArea();\n",
              "//# sourceURL=js_7f97ea4328"
            ]
          },
          "metadata": {}
        },
        {
          "output_type": "display_data",
          "data": {
            "text/plain": [
              "<IPython.core.display.Javascript object>"
            ],
            "application/javascript": [
              "window[\"2c62dcd2-bacd-11ec-a125-0242ac1c0002\"] = document.querySelector(\"#id2-0-0\");\n",
              "//# sourceURL=js_d799281104"
            ]
          },
          "metadata": {}
        },
        {
          "output_type": "display_data",
          "data": {
            "text/plain": [
              "<IPython.core.display.Javascript object>"
            ],
            "application/javascript": [
              "window[\"2c63d5ba-bacd-11ec-a125-0242ac1c0002\"] = google.colab.output.setActiveOutputArea(window[\"2c62dcd2-bacd-11ec-a125-0242ac1c0002\"]);\n",
              "//# sourceURL=js_219e21e9b3"
            ]
          },
          "metadata": {}
        },
        {
          "output_type": "display_data",
          "data": {
            "text/plain": [
              "<IPython.core.display.Javascript object>"
            ],
            "application/javascript": [
              "window[\"2cb085d6-bacd-11ec-a125-0242ac1c0002\"] = google.colab.output.setActiveOutputArea(window[\"2c62352a-bacd-11ec-a125-0242ac1c0002\"]);\n",
              "//# sourceURL=js_7816941b62"
            ]
          },
          "metadata": {}
        },
        {
          "output_type": "display_data",
          "data": {
            "text/plain": [
              "<IPython.core.display.Javascript object>"
            ],
            "application/javascript": [
              "window[\"2cb57226-bacd-11ec-a125-0242ac1c0002\"] = google.colab.output.getActiveOutputArea();\n",
              "//# sourceURL=js_6a554628d1"
            ]
          },
          "metadata": {}
        },
        {
          "output_type": "display_data",
          "data": {
            "text/plain": [
              "<IPython.core.display.Javascript object>"
            ],
            "application/javascript": [
              "window[\"2cb5e882-bacd-11ec-a125-0242ac1c0002\"] = document.querySelector(\"#id2-0-0\");\n",
              "//# sourceURL=js_d3966a36a7"
            ]
          },
          "metadata": {}
        },
        {
          "output_type": "display_data",
          "data": {
            "text/plain": [
              "<IPython.core.display.Javascript object>"
            ],
            "application/javascript": [
              "window[\"2cb79060-bacd-11ec-a125-0242ac1c0002\"] = google.colab.output.setActiveOutputArea(window[\"2cb5e882-bacd-11ec-a125-0242ac1c0002\"]);\n",
              "//# sourceURL=js_7683b59c50"
            ]
          },
          "metadata": {}
        },
        {
          "output_type": "display_data",
          "data": {
            "text/plain": [
              "<IPython.core.display.Javascript object>"
            ],
            "application/javascript": [
              "window[\"2cf39330-bacd-11ec-a125-0242ac1c0002\"] = google.colab.output.setActiveOutputArea(window[\"2cb57226-bacd-11ec-a125-0242ac1c0002\"]);\n",
              "//# sourceURL=js_ab168ac4db"
            ]
          },
          "metadata": {}
        },
        {
          "output_type": "display_data",
          "data": {
            "text/plain": [
              "<IPython.core.display.Javascript object>"
            ],
            "application/javascript": [
              "window[\"2cf85f96-bacd-11ec-a125-0242ac1c0002\"] = google.colab.output.getActiveOutputArea();\n",
              "//# sourceURL=js_1f38e27403"
            ]
          },
          "metadata": {}
        },
        {
          "output_type": "display_data",
          "data": {
            "text/plain": [
              "<IPython.core.display.Javascript object>"
            ],
            "application/javascript": [
              "window[\"2cf97372-bacd-11ec-a125-0242ac1c0002\"] = document.querySelector(\"#id2-0-0\");\n",
              "//# sourceURL=js_7b7b492a61"
            ]
          },
          "metadata": {}
        },
        {
          "output_type": "display_data",
          "data": {
            "text/plain": [
              "<IPython.core.display.Javascript object>"
            ],
            "application/javascript": [
              "window[\"2cfafeae-bacd-11ec-a125-0242ac1c0002\"] = google.colab.output.setActiveOutputArea(window[\"2cf97372-bacd-11ec-a125-0242ac1c0002\"]);\n",
              "//# sourceURL=js_3129e09396"
            ]
          },
          "metadata": {}
        },
        {
          "output_type": "display_data",
          "data": {
            "text/plain": [
              "<IPython.core.display.Javascript object>"
            ],
            "application/javascript": [
              "window[\"2d39ab90-bacd-11ec-a125-0242ac1c0002\"] = google.colab.output.setActiveOutputArea(window[\"2cf85f96-bacd-11ec-a125-0242ac1c0002\"]);\n",
              "//# sourceURL=js_7971cdc1e9"
            ]
          },
          "metadata": {}
        },
        {
          "output_type": "display_data",
          "data": {
            "text/plain": [
              "<IPython.core.display.Javascript object>"
            ],
            "application/javascript": [
              "window[\"2d3ef960-bacd-11ec-a125-0242ac1c0002\"] = google.colab.output.getActiveOutputArea();\n",
              "//# sourceURL=js_c731867189"
            ]
          },
          "metadata": {}
        },
        {
          "output_type": "display_data",
          "data": {
            "text/plain": [
              "<IPython.core.display.Javascript object>"
            ],
            "application/javascript": [
              "window[\"2d409a22-bacd-11ec-a125-0242ac1c0002\"] = document.querySelector(\"#id2-0-0\");\n",
              "//# sourceURL=js_3de7413ae6"
            ]
          },
          "metadata": {}
        },
        {
          "output_type": "display_data",
          "data": {
            "text/plain": [
              "<IPython.core.display.Javascript object>"
            ],
            "application/javascript": [
              "window[\"2d414422-bacd-11ec-a125-0242ac1c0002\"] = google.colab.output.setActiveOutputArea(window[\"2d409a22-bacd-11ec-a125-0242ac1c0002\"]);\n",
              "//# sourceURL=js_9aaf9afc05"
            ]
          },
          "metadata": {}
        },
        {
          "output_type": "display_data",
          "data": {
            "text/plain": [
              "<IPython.core.display.Javascript object>"
            ],
            "application/javascript": [
              "window[\"2d70f97e-bacd-11ec-a125-0242ac1c0002\"] = google.colab.output.setActiveOutputArea(window[\"2d3ef960-bacd-11ec-a125-0242ac1c0002\"]);\n",
              "//# sourceURL=js_5922ba2380"
            ]
          },
          "metadata": {}
        },
        {
          "output_type": "display_data",
          "data": {
            "text/plain": [
              "<IPython.core.display.Javascript object>"
            ],
            "application/javascript": [
              "window[\"2d763970-bacd-11ec-a125-0242ac1c0002\"] = google.colab.output.getActiveOutputArea();\n",
              "//# sourceURL=js_329d212dc4"
            ]
          },
          "metadata": {}
        },
        {
          "output_type": "display_data",
          "data": {
            "text/plain": [
              "<IPython.core.display.Javascript object>"
            ],
            "application/javascript": [
              "window[\"2d790a60-bacd-11ec-a125-0242ac1c0002\"] = document.querySelector(\"#id2-0-0\");\n",
              "//# sourceURL=js_c0545404ed"
            ]
          },
          "metadata": {}
        },
        {
          "output_type": "display_data",
          "data": {
            "text/plain": [
              "<IPython.core.display.Javascript object>"
            ],
            "application/javascript": [
              "window[\"2d79b956-bacd-11ec-a125-0242ac1c0002\"] = google.colab.output.setActiveOutputArea(window[\"2d790a60-bacd-11ec-a125-0242ac1c0002\"]);\n",
              "//# sourceURL=js_1894b35ad2"
            ]
          },
          "metadata": {}
        },
        {
          "output_type": "display_data",
          "data": {
            "text/plain": [
              "<IPython.core.display.Javascript object>"
            ],
            "application/javascript": [
              "window[\"2da7d1ce-bacd-11ec-a125-0242ac1c0002\"] = google.colab.output.setActiveOutputArea(window[\"2d763970-bacd-11ec-a125-0242ac1c0002\"]);\n",
              "//# sourceURL=js_faebd137f6"
            ]
          },
          "metadata": {}
        },
        {
          "output_type": "display_data",
          "data": {
            "text/plain": [
              "<IPython.core.display.Javascript object>"
            ],
            "application/javascript": [
              "window[\"2daf59d0-bacd-11ec-a125-0242ac1c0002\"] = google.colab.output.getActiveOutputArea();\n",
              "//# sourceURL=js_f1dee816df"
            ]
          },
          "metadata": {}
        },
        {
          "output_type": "display_data",
          "data": {
            "text/plain": [
              "<IPython.core.display.Javascript object>"
            ],
            "application/javascript": [
              "window[\"2dafa0fc-bacd-11ec-a125-0242ac1c0002\"] = document.querySelector(\"#id2-0-0\");\n",
              "//# sourceURL=js_15dd34b2f4"
            ]
          },
          "metadata": {}
        },
        {
          "output_type": "display_data",
          "data": {
            "text/plain": [
              "<IPython.core.display.Javascript object>"
            ],
            "application/javascript": [
              "window[\"2db18854-bacd-11ec-a125-0242ac1c0002\"] = google.colab.output.setActiveOutputArea(window[\"2dafa0fc-bacd-11ec-a125-0242ac1c0002\"]);\n",
              "//# sourceURL=js_2168cca84e"
            ]
          },
          "metadata": {}
        },
        {
          "output_type": "display_data",
          "data": {
            "text/plain": [
              "<IPython.core.display.Javascript object>"
            ],
            "application/javascript": [
              "window[\"2deff4ea-bacd-11ec-a125-0242ac1c0002\"] = google.colab.output.setActiveOutputArea(window[\"2daf59d0-bacd-11ec-a125-0242ac1c0002\"]);\n",
              "//# sourceURL=js_ca928c450b"
            ]
          },
          "metadata": {}
        },
        {
          "output_type": "display_data",
          "data": {
            "text/plain": [
              "<IPython.core.display.Javascript object>"
            ],
            "application/javascript": [
              "window[\"2df6ed22-bacd-11ec-a125-0242ac1c0002\"] = google.colab.output.getActiveOutputArea();\n",
              "//# sourceURL=js_eb70b2175b"
            ]
          },
          "metadata": {}
        },
        {
          "output_type": "display_data",
          "data": {
            "text/plain": [
              "<IPython.core.display.Javascript object>"
            ],
            "application/javascript": [
              "window[\"2df8282c-bacd-11ec-a125-0242ac1c0002\"] = document.querySelector(\"#id2-0-0\");\n",
              "//# sourceURL=js_f3df45f921"
            ]
          },
          "metadata": {}
        },
        {
          "output_type": "display_data",
          "data": {
            "text/plain": [
              "<IPython.core.display.Javascript object>"
            ],
            "application/javascript": [
              "window[\"2df8c93a-bacd-11ec-a125-0242ac1c0002\"] = google.colab.output.setActiveOutputArea(window[\"2df8282c-bacd-11ec-a125-0242ac1c0002\"]);\n",
              "//# sourceURL=js_c7cb81f367"
            ]
          },
          "metadata": {}
        },
        {
          "output_type": "display_data",
          "data": {
            "text/plain": [
              "<IPython.core.display.Javascript object>"
            ],
            "application/javascript": [
              "window[\"2e38f2c6-bacd-11ec-a125-0242ac1c0002\"] = google.colab.output.setActiveOutputArea(window[\"2df6ed22-bacd-11ec-a125-0242ac1c0002\"]);\n",
              "//# sourceURL=js_c384e56713"
            ]
          },
          "metadata": {}
        },
        {
          "output_type": "display_data",
          "data": {
            "text/plain": [
              "<IPython.core.display.Javascript object>"
            ],
            "application/javascript": [
              "window[\"2e3e2afc-bacd-11ec-a125-0242ac1c0002\"] = google.colab.output.getActiveOutputArea();\n",
              "//# sourceURL=js_ed294310ab"
            ]
          },
          "metadata": {}
        },
        {
          "output_type": "display_data",
          "data": {
            "text/plain": [
              "<IPython.core.display.Javascript object>"
            ],
            "application/javascript": [
              "window[\"2e3eb558-bacd-11ec-a125-0242ac1c0002\"] = document.querySelector(\"#id2-0-0\");\n",
              "//# sourceURL=js_e8aac3df0b"
            ]
          },
          "metadata": {}
        },
        {
          "output_type": "display_data",
          "data": {
            "text/plain": [
              "<IPython.core.display.Javascript object>"
            ],
            "application/javascript": [
              "window[\"2e3f8b04-bacd-11ec-a125-0242ac1c0002\"] = google.colab.output.setActiveOutputArea(window[\"2e3eb558-bacd-11ec-a125-0242ac1c0002\"]);\n",
              "//# sourceURL=js_f9ba89e968"
            ]
          },
          "metadata": {}
        },
        {
          "output_type": "display_data",
          "data": {
            "text/plain": [
              "<IPython.core.display.Javascript object>"
            ],
            "application/javascript": [
              "window[\"2e57ba8a-bacd-11ec-a125-0242ac1c0002\"] = google.colab.output.setActiveOutputArea(window[\"2e3e2afc-bacd-11ec-a125-0242ac1c0002\"]);\n",
              "//# sourceURL=js_06d8f6ed1b"
            ]
          },
          "metadata": {}
        },
        {
          "output_type": "display_data",
          "data": {
            "text/plain": [
              "<IPython.core.display.Javascript object>"
            ],
            "application/javascript": [
              "window[\"2e59c794-bacd-11ec-a125-0242ac1c0002\"] = google.colab.output.getActiveOutputArea();\n",
              "//# sourceURL=js_3c5115c5fe"
            ]
          },
          "metadata": {}
        },
        {
          "output_type": "display_data",
          "data": {
            "text/plain": [
              "<IPython.core.display.Javascript object>"
            ],
            "application/javascript": [
              "window[\"2e5a2af4-bacd-11ec-a125-0242ac1c0002\"] = document.querySelector(\"#id2-0-0\");\n",
              "//# sourceURL=js_6f52bf1d70"
            ]
          },
          "metadata": {}
        },
        {
          "output_type": "display_data",
          "data": {
            "text/plain": [
              "<IPython.core.display.Javascript object>"
            ],
            "application/javascript": [
              "window[\"2e5a87ec-bacd-11ec-a125-0242ac1c0002\"] = google.colab.output.setActiveOutputArea(window[\"2e5a2af4-bacd-11ec-a125-0242ac1c0002\"]);\n",
              "//# sourceURL=js_2c09da1439"
            ]
          },
          "metadata": {}
        },
        {
          "output_type": "display_data",
          "data": {
            "text/plain": [
              "<IPython.core.display.Javascript object>"
            ],
            "application/javascript": [
              "window[\"2e76baca-bacd-11ec-a125-0242ac1c0002\"] = google.colab.output.setActiveOutputArea(window[\"2e59c794-bacd-11ec-a125-0242ac1c0002\"]);\n",
              "//# sourceURL=js_6b9b5ada8b"
            ]
          },
          "metadata": {}
        },
        {
          "output_type": "display_data",
          "data": {
            "text/plain": [
              "<IPython.core.display.Javascript object>"
            ],
            "application/javascript": [
              "window[\"2e791a5e-bacd-11ec-a125-0242ac1c0002\"] = google.colab.output.getActiveOutputArea();\n",
              "//# sourceURL=js_dc4ceb4e1b"
            ]
          },
          "metadata": {}
        },
        {
          "output_type": "display_data",
          "data": {
            "text/plain": [
              "<IPython.core.display.Javascript object>"
            ],
            "application/javascript": [
              "window[\"2e797788-bacd-11ec-a125-0242ac1c0002\"] = document.querySelector(\"#id2-0-0\");\n",
              "//# sourceURL=js_ca5c44d7db"
            ]
          },
          "metadata": {}
        },
        {
          "output_type": "display_data",
          "data": {
            "text/plain": [
              "<IPython.core.display.Javascript object>"
            ],
            "application/javascript": [
              "window[\"2e79ccd8-bacd-11ec-a125-0242ac1c0002\"] = google.colab.output.setActiveOutputArea(window[\"2e797788-bacd-11ec-a125-0242ac1c0002\"]);\n",
              "//# sourceURL=js_db4556c9be"
            ]
          },
          "metadata": {}
        },
        {
          "output_type": "display_data",
          "data": {
            "text/plain": [
              "<IPython.core.display.Javascript object>"
            ],
            "application/javascript": [
              "window[\"2e917180-bacd-11ec-a125-0242ac1c0002\"] = google.colab.output.setActiveOutputArea(window[\"2e791a5e-bacd-11ec-a125-0242ac1c0002\"]);\n",
              "//# sourceURL=js_82691830f2"
            ]
          },
          "metadata": {}
        },
        {
          "output_type": "display_data",
          "data": {
            "text/plain": [
              "<IPython.core.display.Javascript object>"
            ],
            "application/javascript": [
              "window[\"2e9634d6-bacd-11ec-a125-0242ac1c0002\"] = google.colab.output.getActiveOutputArea();\n",
              "//# sourceURL=js_56dcceb96d"
            ]
          },
          "metadata": {}
        },
        {
          "output_type": "display_data",
          "data": {
            "text/plain": [
              "<IPython.core.display.Javascript object>"
            ],
            "application/javascript": [
              "window[\"2e968ee0-bacd-11ec-a125-0242ac1c0002\"] = document.querySelector(\"#id2-0-0\");\n",
              "//# sourceURL=js_6d24a37d91"
            ]
          },
          "metadata": {}
        },
        {
          "output_type": "display_data",
          "data": {
            "text/plain": [
              "<IPython.core.display.Javascript object>"
            ],
            "application/javascript": [
              "window[\"2e9700aa-bacd-11ec-a125-0242ac1c0002\"] = google.colab.output.setActiveOutputArea(window[\"2e968ee0-bacd-11ec-a125-0242ac1c0002\"]);\n",
              "//# sourceURL=js_11f3549b8a"
            ]
          },
          "metadata": {}
        },
        {
          "output_type": "display_data",
          "data": {
            "text/plain": [
              "<IPython.core.display.Javascript object>"
            ],
            "application/javascript": [
              "window[\"2eafe480-bacd-11ec-a125-0242ac1c0002\"] = google.colab.output.setActiveOutputArea(window[\"2e9634d6-bacd-11ec-a125-0242ac1c0002\"]);\n",
              "//# sourceURL=js_be32ccc45c"
            ]
          },
          "metadata": {}
        },
        {
          "output_type": "display_data",
          "data": {
            "text/plain": [
              "<IPython.core.display.Javascript object>"
            ],
            "application/javascript": [
              "window[\"2eb1e942-bacd-11ec-a125-0242ac1c0002\"] = google.colab.output.getActiveOutputArea();\n",
              "//# sourceURL=js_0c891236e4"
            ]
          },
          "metadata": {}
        },
        {
          "output_type": "display_data",
          "data": {
            "text/plain": [
              "<IPython.core.display.Javascript object>"
            ],
            "application/javascript": [
              "window[\"2eb24964-bacd-11ec-a125-0242ac1c0002\"] = document.querySelector(\"#id2-0-0\");\n",
              "//# sourceURL=js_8aafefeb11"
            ]
          },
          "metadata": {}
        },
        {
          "output_type": "display_data",
          "data": {
            "text/plain": [
              "<IPython.core.display.Javascript object>"
            ],
            "application/javascript": [
              "window[\"2eb2a1c0-bacd-11ec-a125-0242ac1c0002\"] = google.colab.output.setActiveOutputArea(window[\"2eb24964-bacd-11ec-a125-0242ac1c0002\"]);\n",
              "//# sourceURL=js_1023939733"
            ]
          },
          "metadata": {}
        },
        {
          "output_type": "display_data",
          "data": {
            "text/plain": [
              "<IPython.core.display.Javascript object>"
            ],
            "application/javascript": [
              "window[\"2ecd048e-bacd-11ec-a125-0242ac1c0002\"] = google.colab.output.setActiveOutputArea(window[\"2eb1e942-bacd-11ec-a125-0242ac1c0002\"]);\n",
              "//# sourceURL=js_cf68b978e1"
            ]
          },
          "metadata": {}
        },
        {
          "output_type": "display_data",
          "data": {
            "text/plain": [
              "<IPython.core.display.Javascript object>"
            ],
            "application/javascript": [
              "window[\"2ecfe5dc-bacd-11ec-a125-0242ac1c0002\"] = google.colab.output.getActiveOutputArea();\n",
              "//# sourceURL=js_50da5c2dc0"
            ]
          },
          "metadata": {}
        },
        {
          "output_type": "display_data",
          "data": {
            "text/plain": [
              "<IPython.core.display.Javascript object>"
            ],
            "application/javascript": [
              "window[\"2ed0404a-bacd-11ec-a125-0242ac1c0002\"] = document.querySelector(\"#id2-0-0\");\n",
              "//# sourceURL=js_3c7ec6b4eb"
            ]
          },
          "metadata": {}
        },
        {
          "output_type": "display_data",
          "data": {
            "text/plain": [
              "<IPython.core.display.Javascript object>"
            ],
            "application/javascript": [
              "window[\"2ed09ab8-bacd-11ec-a125-0242ac1c0002\"] = google.colab.output.setActiveOutputArea(window[\"2ed0404a-bacd-11ec-a125-0242ac1c0002\"]);\n",
              "//# sourceURL=js_3c735d12bb"
            ]
          },
          "metadata": {}
        },
        {
          "output_type": "display_data",
          "data": {
            "text/plain": [
              "<IPython.core.display.Javascript object>"
            ],
            "application/javascript": [
              "window[\"2ee918b8-bacd-11ec-a125-0242ac1c0002\"] = google.colab.output.setActiveOutputArea(window[\"2ecfe5dc-bacd-11ec-a125-0242ac1c0002\"]);\n",
              "//# sourceURL=js_cedaa53b77"
            ]
          },
          "metadata": {}
        },
        {
          "output_type": "display_data",
          "data": {
            "text/plain": [
              "<IPython.core.display.Javascript object>"
            ],
            "application/javascript": [
              "window[\"2eeb524a-bacd-11ec-a125-0242ac1c0002\"] = google.colab.output.getActiveOutputArea();\n",
              "//# sourceURL=js_3ccc816035"
            ]
          },
          "metadata": {}
        },
        {
          "output_type": "display_data",
          "data": {
            "text/plain": [
              "<IPython.core.display.Javascript object>"
            ],
            "application/javascript": [
              "window[\"2eebb104-bacd-11ec-a125-0242ac1c0002\"] = document.querySelector(\"#id2-0-0\");\n",
              "//# sourceURL=js_62de7c1aaf"
            ]
          },
          "metadata": {}
        },
        {
          "output_type": "display_data",
          "data": {
            "text/plain": [
              "<IPython.core.display.Javascript object>"
            ],
            "application/javascript": [
              "window[\"2eec0d84-bacd-11ec-a125-0242ac1c0002\"] = google.colab.output.setActiveOutputArea(window[\"2eebb104-bacd-11ec-a125-0242ac1c0002\"]);\n",
              "//# sourceURL=js_c8c9441c5f"
            ]
          },
          "metadata": {}
        },
        {
          "output_type": "display_data",
          "data": {
            "text/plain": [
              "<IPython.core.display.Javascript object>"
            ],
            "application/javascript": [
              "window[\"2f04c0a4-bacd-11ec-a125-0242ac1c0002\"] = google.colab.output.setActiveOutputArea(window[\"2eeb524a-bacd-11ec-a125-0242ac1c0002\"]);\n",
              "//# sourceURL=js_bfa559a2e8"
            ]
          },
          "metadata": {}
        },
        {
          "output_type": "display_data",
          "data": {
            "text/plain": [
              "<IPython.core.display.Javascript object>"
            ],
            "application/javascript": [
              "window[\"2f06c7f0-bacd-11ec-a125-0242ac1c0002\"] = google.colab.output.getActiveOutputArea();\n",
              "//# sourceURL=js_4ae0471070"
            ]
          },
          "metadata": {}
        },
        {
          "output_type": "display_data",
          "data": {
            "text/plain": [
              "<IPython.core.display.Javascript object>"
            ],
            "application/javascript": [
              "window[\"2f0727ae-bacd-11ec-a125-0242ac1c0002\"] = document.querySelector(\"#id2-0-0\");\n",
              "//# sourceURL=js_a636dca017"
            ]
          },
          "metadata": {}
        },
        {
          "output_type": "display_data",
          "data": {
            "text/plain": [
              "<IPython.core.display.Javascript object>"
            ],
            "application/javascript": [
              "window[\"2f077fc4-bacd-11ec-a125-0242ac1c0002\"] = google.colab.output.setActiveOutputArea(window[\"2f0727ae-bacd-11ec-a125-0242ac1c0002\"]);\n",
              "//# sourceURL=js_d99aec0109"
            ]
          },
          "metadata": {}
        },
        {
          "output_type": "display_data",
          "data": {
            "text/plain": [
              "<IPython.core.display.Javascript object>"
            ],
            "application/javascript": [
              "window[\"2f21672c-bacd-11ec-a125-0242ac1c0002\"] = google.colab.output.setActiveOutputArea(window[\"2f06c7f0-bacd-11ec-a125-0242ac1c0002\"]);\n",
              "//# sourceURL=js_acf233e623"
            ]
          },
          "metadata": {}
        },
        {
          "output_type": "display_data",
          "data": {
            "text/plain": [
              "<IPython.core.display.Javascript object>"
            ],
            "application/javascript": [
              "window[\"2f251656-bacd-11ec-a125-0242ac1c0002\"] = google.colab.output.getActiveOutputArea();\n",
              "//# sourceURL=js_a810ecbcfd"
            ]
          },
          "metadata": {}
        },
        {
          "output_type": "display_data",
          "data": {
            "text/plain": [
              "<IPython.core.display.Javascript object>"
            ],
            "application/javascript": [
              "window[\"2f256e94-bacd-11ec-a125-0242ac1c0002\"] = document.querySelector(\"#id2-0-0\");\n",
              "//# sourceURL=js_92252f493f"
            ]
          },
          "metadata": {}
        },
        {
          "output_type": "display_data",
          "data": {
            "text/plain": [
              "<IPython.core.display.Javascript object>"
            ],
            "application/javascript": [
              "window[\"2f25cd58-bacd-11ec-a125-0242ac1c0002\"] = google.colab.output.setActiveOutputArea(window[\"2f256e94-bacd-11ec-a125-0242ac1c0002\"]);\n",
              "//# sourceURL=js_7a08f643d5"
            ]
          },
          "metadata": {}
        },
        {
          "output_type": "display_data",
          "data": {
            "text/plain": [
              "<IPython.core.display.Javascript object>"
            ],
            "application/javascript": [
              "window[\"2f426aee-bacd-11ec-a125-0242ac1c0002\"] = google.colab.output.setActiveOutputArea(window[\"2f251656-bacd-11ec-a125-0242ac1c0002\"]);\n",
              "//# sourceURL=js_16c0433dea"
            ]
          },
          "metadata": {}
        },
        {
          "output_type": "display_data",
          "data": {
            "text/plain": [
              "<IPython.core.display.Javascript object>"
            ],
            "application/javascript": [
              "window[\"2f46dea8-bacd-11ec-a125-0242ac1c0002\"] = google.colab.output.getActiveOutputArea();\n",
              "//# sourceURL=js_b16973cdb6"
            ]
          },
          "metadata": {}
        },
        {
          "output_type": "display_data",
          "data": {
            "text/plain": [
              "<IPython.core.display.Javascript object>"
            ],
            "application/javascript": [
              "window[\"2f47703e-bacd-11ec-a125-0242ac1c0002\"] = document.querySelector(\"#id2-0-0\");\n",
              "//# sourceURL=js_87c3718229"
            ]
          },
          "metadata": {}
        },
        {
          "output_type": "display_data",
          "data": {
            "text/plain": [
              "<IPython.core.display.Javascript object>"
            ],
            "application/javascript": [
              "window[\"2f47c99e-bacd-11ec-a125-0242ac1c0002\"] = google.colab.output.setActiveOutputArea(window[\"2f47703e-bacd-11ec-a125-0242ac1c0002\"]);\n",
              "//# sourceURL=js_268b94220a"
            ]
          },
          "metadata": {}
        },
        {
          "output_type": "display_data",
          "data": {
            "text/plain": [
              "<IPython.core.display.Javascript object>"
            ],
            "application/javascript": [
              "window[\"2f716646-bacd-11ec-a125-0242ac1c0002\"] = google.colab.output.setActiveOutputArea(window[\"2f46dea8-bacd-11ec-a125-0242ac1c0002\"]);\n",
              "//# sourceURL=js_e6ed03cb5f"
            ]
          },
          "metadata": {}
        },
        {
          "output_type": "display_data",
          "data": {
            "text/plain": [
              "<IPython.core.display.Javascript object>"
            ],
            "application/javascript": [
              "window[\"2f7604c6-bacd-11ec-a125-0242ac1c0002\"] = google.colab.output.getActiveOutputArea();\n",
              "//# sourceURL=js_7ffb46b20f"
            ]
          },
          "metadata": {}
        },
        {
          "output_type": "display_data",
          "data": {
            "text/plain": [
              "<IPython.core.display.Javascript object>"
            ],
            "application/javascript": [
              "window[\"2f766bbe-bacd-11ec-a125-0242ac1c0002\"] = document.querySelector(\"#id2-0-0\");\n",
              "//# sourceURL=js_2f8805e211"
            ]
          },
          "metadata": {}
        },
        {
          "output_type": "display_data",
          "data": {
            "text/plain": [
              "<IPython.core.display.Javascript object>"
            ],
            "application/javascript": [
              "window[\"2f76d2ac-bacd-11ec-a125-0242ac1c0002\"] = google.colab.output.setActiveOutputArea(window[\"2f766bbe-bacd-11ec-a125-0242ac1c0002\"]);\n",
              "//# sourceURL=js_3b2c114f30"
            ]
          },
          "metadata": {}
        },
        {
          "output_type": "display_data",
          "data": {
            "text/plain": [
              "<IPython.core.display.Javascript object>"
            ],
            "application/javascript": [
              "window[\"2f8efa44-bacd-11ec-a125-0242ac1c0002\"] = google.colab.output.setActiveOutputArea(window[\"2f7604c6-bacd-11ec-a125-0242ac1c0002\"]);\n",
              "//# sourceURL=js_e086d8d8a9"
            ]
          },
          "metadata": {}
        },
        {
          "output_type": "display_data",
          "data": {
            "text/plain": [
              "<IPython.core.display.Javascript object>"
            ],
            "application/javascript": [
              "window[\"2f911716-bacd-11ec-a125-0242ac1c0002\"] = google.colab.output.getActiveOutputArea();\n",
              "//# sourceURL=js_255f935d5e"
            ]
          },
          "metadata": {}
        },
        {
          "output_type": "display_data",
          "data": {
            "text/plain": [
              "<IPython.core.display.Javascript object>"
            ],
            "application/javascript": [
              "window[\"2f916716-bacd-11ec-a125-0242ac1c0002\"] = document.querySelector(\"#id2-0-0\");\n",
              "//# sourceURL=js_64b9b7045b"
            ]
          },
          "metadata": {}
        },
        {
          "output_type": "display_data",
          "data": {
            "text/plain": [
              "<IPython.core.display.Javascript object>"
            ],
            "application/javascript": [
              "window[\"2f91bb94-bacd-11ec-a125-0242ac1c0002\"] = google.colab.output.setActiveOutputArea(window[\"2f916716-bacd-11ec-a125-0242ac1c0002\"]);\n",
              "//# sourceURL=js_82177c607a"
            ]
          },
          "metadata": {}
        },
        {
          "output_type": "display_data",
          "data": {
            "text/plain": [
              "<IPython.core.display.Javascript object>"
            ],
            "application/javascript": [
              "window[\"2fac5512-bacd-11ec-a125-0242ac1c0002\"] = google.colab.output.setActiveOutputArea(window[\"2f911716-bacd-11ec-a125-0242ac1c0002\"]);\n",
              "//# sourceURL=js_a78f961f8d"
            ]
          },
          "metadata": {}
        },
        {
          "output_type": "display_data",
          "data": {
            "text/plain": [
              "<IPython.core.display.Javascript object>"
            ],
            "application/javascript": [
              "window[\"2fb08b82-bacd-11ec-a125-0242ac1c0002\"] = google.colab.output.getActiveOutputArea();\n",
              "//# sourceURL=js_f215665186"
            ]
          },
          "metadata": {}
        },
        {
          "output_type": "display_data",
          "data": {
            "text/plain": [
              "<IPython.core.display.Javascript object>"
            ],
            "application/javascript": [
              "window[\"2fb0dba0-bacd-11ec-a125-0242ac1c0002\"] = document.querySelector(\"#id2-0-0\");\n",
              "//# sourceURL=js_05b2c29319"
            ]
          },
          "metadata": {}
        },
        {
          "output_type": "display_data",
          "data": {
            "text/plain": [
              "<IPython.core.display.Javascript object>"
            ],
            "application/javascript": [
              "window[\"2fb13ae6-bacd-11ec-a125-0242ac1c0002\"] = google.colab.output.setActiveOutputArea(window[\"2fb0dba0-bacd-11ec-a125-0242ac1c0002\"]);\n",
              "//# sourceURL=js_47dfb7b33e"
            ]
          },
          "metadata": {}
        },
        {
          "output_type": "display_data",
          "data": {
            "text/plain": [
              "<IPython.core.display.Javascript object>"
            ],
            "application/javascript": [
              "window[\"2fcb0afc-bacd-11ec-a125-0242ac1c0002\"] = google.colab.output.setActiveOutputArea(window[\"2fb08b82-bacd-11ec-a125-0242ac1c0002\"]);\n",
              "//# sourceURL=js_356cbde756"
            ]
          },
          "metadata": {}
        },
        {
          "output_type": "display_data",
          "data": {
            "text/plain": [
              "<IPython.core.display.Javascript object>"
            ],
            "application/javascript": [
              "window[\"2fcfd7c6-bacd-11ec-a125-0242ac1c0002\"] = google.colab.output.getActiveOutputArea();\n",
              "//# sourceURL=js_135308ca75"
            ]
          },
          "metadata": {}
        },
        {
          "output_type": "display_data",
          "data": {
            "text/plain": [
              "<IPython.core.display.Javascript object>"
            ],
            "application/javascript": [
              "window[\"2fd05192-bacd-11ec-a125-0242ac1c0002\"] = document.querySelector(\"#id2-0-0\");\n",
              "//# sourceURL=js_3b275df0ee"
            ]
          },
          "metadata": {}
        },
        {
          "output_type": "display_data",
          "data": {
            "text/plain": [
              "<IPython.core.display.Javascript object>"
            ],
            "application/javascript": [
              "window[\"2fd0c7d0-bacd-11ec-a125-0242ac1c0002\"] = google.colab.output.setActiveOutputArea(window[\"2fd05192-bacd-11ec-a125-0242ac1c0002\"]);\n",
              "//# sourceURL=js_7fe50a9b96"
            ]
          },
          "metadata": {}
        },
        {
          "output_type": "display_data",
          "data": {
            "text/plain": [
              "<IPython.core.display.Javascript object>"
            ],
            "application/javascript": [
              "window[\"2fea9fb6-bacd-11ec-a125-0242ac1c0002\"] = google.colab.output.setActiveOutputArea(window[\"2fcfd7c6-bacd-11ec-a125-0242ac1c0002\"]);\n",
              "//# sourceURL=js_06349d461c"
            ]
          },
          "metadata": {}
        },
        {
          "output_type": "display_data",
          "data": {
            "text/plain": [
              "<IPython.core.display.Javascript object>"
            ],
            "application/javascript": [
              "window[\"2fed664c-bacd-11ec-a125-0242ac1c0002\"] = google.colab.output.getActiveOutputArea();\n",
              "//# sourceURL=js_fa8433cc48"
            ]
          },
          "metadata": {}
        },
        {
          "output_type": "display_data",
          "data": {
            "text/plain": [
              "<IPython.core.display.Javascript object>"
            ],
            "application/javascript": [
              "window[\"2fedd1b8-bacd-11ec-a125-0242ac1c0002\"] = document.querySelector(\"#id2-0-0\");\n",
              "//# sourceURL=js_6787b989ca"
            ]
          },
          "metadata": {}
        },
        {
          "output_type": "display_data",
          "data": {
            "text/plain": [
              "<IPython.core.display.Javascript object>"
            ],
            "application/javascript": [
              "window[\"2fee2f78-bacd-11ec-a125-0242ac1c0002\"] = google.colab.output.setActiveOutputArea(window[\"2fedd1b8-bacd-11ec-a125-0242ac1c0002\"]);\n",
              "//# sourceURL=js_b04587fa3c"
            ]
          },
          "metadata": {}
        },
        {
          "output_type": "display_data",
          "data": {
            "text/plain": [
              "<IPython.core.display.Javascript object>"
            ],
            "application/javascript": [
              "window[\"3008871a-bacd-11ec-a125-0242ac1c0002\"] = google.colab.output.setActiveOutputArea(window[\"2fed664c-bacd-11ec-a125-0242ac1c0002\"]);\n",
              "//# sourceURL=js_92831c9b89"
            ]
          },
          "metadata": {}
        },
        {
          "output_type": "display_data",
          "data": {
            "text/plain": [
              "<IPython.core.display.Javascript object>"
            ],
            "application/javascript": [
              "window[\"300c8a86-bacd-11ec-a125-0242ac1c0002\"] = google.colab.output.getActiveOutputArea();\n",
              "//# sourceURL=js_1b99516150"
            ]
          },
          "metadata": {}
        },
        {
          "output_type": "display_data",
          "data": {
            "text/plain": [
              "<IPython.core.display.Javascript object>"
            ],
            "application/javascript": [
              "window[\"300cec7e-bacd-11ec-a125-0242ac1c0002\"] = document.querySelector(\"#id2-0-0\");\n",
              "//# sourceURL=js_d2ed2cca3e"
            ]
          },
          "metadata": {}
        },
        {
          "output_type": "display_data",
          "data": {
            "text/plain": [
              "<IPython.core.display.Javascript object>"
            ],
            "application/javascript": [
              "window[\"300d36f2-bacd-11ec-a125-0242ac1c0002\"] = google.colab.output.setActiveOutputArea(window[\"300cec7e-bacd-11ec-a125-0242ac1c0002\"]);\n",
              "//# sourceURL=js_f7e991e9ca"
            ]
          },
          "metadata": {}
        },
        {
          "output_type": "display_data",
          "data": {
            "text/plain": [
              "<IPython.core.display.Javascript object>"
            ],
            "application/javascript": [
              "window[\"3028dfa6-bacd-11ec-a125-0242ac1c0002\"] = google.colab.output.setActiveOutputArea(window[\"300c8a86-bacd-11ec-a125-0242ac1c0002\"]);\n",
              "//# sourceURL=js_43156e077e"
            ]
          },
          "metadata": {}
        },
        {
          "output_type": "display_data",
          "data": {
            "text/plain": [
              "<IPython.core.display.Javascript object>"
            ],
            "application/javascript": [
              "window[\"302b0e66-bacd-11ec-a125-0242ac1c0002\"] = google.colab.output.getActiveOutputArea();\n",
              "//# sourceURL=js_fc5252c1b8"
            ]
          },
          "metadata": {}
        },
        {
          "output_type": "display_data",
          "data": {
            "text/plain": [
              "<IPython.core.display.Javascript object>"
            ],
            "application/javascript": [
              "window[\"302b6cee-bacd-11ec-a125-0242ac1c0002\"] = document.querySelector(\"#id2-0-0\");\n",
              "//# sourceURL=js_a2385eece3"
            ]
          },
          "metadata": {}
        },
        {
          "output_type": "display_data",
          "data": {
            "text/plain": [
              "<IPython.core.display.Javascript object>"
            ],
            "application/javascript": [
              "window[\"302bd4e0-bacd-11ec-a125-0242ac1c0002\"] = google.colab.output.setActiveOutputArea(window[\"302b6cee-bacd-11ec-a125-0242ac1c0002\"]);\n",
              "//# sourceURL=js_eb50d5b9b3"
            ]
          },
          "metadata": {}
        },
        {
          "output_type": "display_data",
          "data": {
            "text/plain": [
              "<IPython.core.display.Javascript object>"
            ],
            "application/javascript": [
              "window[\"3045e75e-bacd-11ec-a125-0242ac1c0002\"] = google.colab.output.setActiveOutputArea(window[\"302b0e66-bacd-11ec-a125-0242ac1c0002\"]);\n",
              "//# sourceURL=js_d0f296b6e5"
            ]
          },
          "metadata": {}
        },
        {
          "output_type": "display_data",
          "data": {
            "text/plain": [
              "<IPython.core.display.Javascript object>"
            ],
            "application/javascript": [
              "window[\"3047f72e-bacd-11ec-a125-0242ac1c0002\"] = google.colab.output.getActiveOutputArea();\n",
              "//# sourceURL=js_b2c69c5caf"
            ]
          },
          "metadata": {}
        },
        {
          "output_type": "display_data",
          "data": {
            "text/plain": [
              "<IPython.core.display.Javascript object>"
            ],
            "application/javascript": [
              "window[\"304857aa-bacd-11ec-a125-0242ac1c0002\"] = document.querySelector(\"#id2-0-0\");\n",
              "//# sourceURL=js_d15128dcf3"
            ]
          },
          "metadata": {}
        },
        {
          "output_type": "display_data",
          "data": {
            "text/plain": [
              "<IPython.core.display.Javascript object>"
            ],
            "application/javascript": [
              "window[\"3048b0d8-bacd-11ec-a125-0242ac1c0002\"] = google.colab.output.setActiveOutputArea(window[\"304857aa-bacd-11ec-a125-0242ac1c0002\"]);\n",
              "//# sourceURL=js_0f90d4267b"
            ]
          },
          "metadata": {}
        },
        {
          "output_type": "display_data",
          "data": {
            "text/plain": [
              "<IPython.core.display.Javascript object>"
            ],
            "application/javascript": [
              "window[\"3062b370-bacd-11ec-a125-0242ac1c0002\"] = google.colab.output.setActiveOutputArea(window[\"3047f72e-bacd-11ec-a125-0242ac1c0002\"]);\n",
              "//# sourceURL=js_b2094ae381"
            ]
          },
          "metadata": {}
        },
        {
          "output_type": "display_data",
          "data": {
            "text/plain": [
              "<IPython.core.display.Javascript object>"
            ],
            "application/javascript": [
              "window[\"3064f950-bacd-11ec-a125-0242ac1c0002\"] = google.colab.output.getActiveOutputArea();\n",
              "//# sourceURL=js_92a5356389"
            ]
          },
          "metadata": {}
        },
        {
          "output_type": "display_data",
          "data": {
            "text/plain": [
              "<IPython.core.display.Javascript object>"
            ],
            "application/javascript": [
              "window[\"30655756-bacd-11ec-a125-0242ac1c0002\"] = document.querySelector(\"#id2-0-0\");\n",
              "//# sourceURL=js_f5a36c9aac"
            ]
          },
          "metadata": {}
        },
        {
          "output_type": "display_data",
          "data": {
            "text/plain": [
              "<IPython.core.display.Javascript object>"
            ],
            "application/javascript": [
              "window[\"3065b318-bacd-11ec-a125-0242ac1c0002\"] = google.colab.output.setActiveOutputArea(window[\"30655756-bacd-11ec-a125-0242ac1c0002\"]);\n",
              "//# sourceURL=js_b18bb0a3d0"
            ]
          },
          "metadata": {}
        },
        {
          "output_type": "display_data",
          "data": {
            "text/plain": [
              "<IPython.core.display.Javascript object>"
            ],
            "application/javascript": [
              "window[\"307f7302-bacd-11ec-a125-0242ac1c0002\"] = google.colab.output.setActiveOutputArea(window[\"3064f950-bacd-11ec-a125-0242ac1c0002\"]);\n",
              "//# sourceURL=js_e244f3c9ee"
            ]
          },
          "metadata": {}
        },
        {
          "output_type": "display_data",
          "data": {
            "text/plain": [
              "<IPython.core.display.Javascript object>"
            ],
            "application/javascript": [
              "window[\"3081b14e-bacd-11ec-a125-0242ac1c0002\"] = google.colab.output.getActiveOutputArea();\n",
              "//# sourceURL=js_32512e06cb"
            ]
          },
          "metadata": {}
        },
        {
          "output_type": "display_data",
          "data": {
            "text/plain": [
              "<IPython.core.display.Javascript object>"
            ],
            "application/javascript": [
              "window[\"308205fe-bacd-11ec-a125-0242ac1c0002\"] = document.querySelector(\"#id2-0-0\");\n",
              "//# sourceURL=js_ec82875e8b"
            ]
          },
          "metadata": {}
        },
        {
          "output_type": "display_data",
          "data": {
            "text/plain": [
              "<IPython.core.display.Javascript object>"
            ],
            "application/javascript": [
              "window[\"308264b8-bacd-11ec-a125-0242ac1c0002\"] = google.colab.output.setActiveOutputArea(window[\"308205fe-bacd-11ec-a125-0242ac1c0002\"]);\n",
              "//# sourceURL=js_5b7290ec37"
            ]
          },
          "metadata": {}
        },
        {
          "output_type": "display_data",
          "data": {
            "text/plain": [
              "<IPython.core.display.Javascript object>"
            ],
            "application/javascript": [
              "window[\"309bf25c-bacd-11ec-a125-0242ac1c0002\"] = google.colab.output.setActiveOutputArea(window[\"3081b14e-bacd-11ec-a125-0242ac1c0002\"]);\n",
              "//# sourceURL=js_a2c7ead316"
            ]
          },
          "metadata": {}
        },
        {
          "output_type": "display_data",
          "data": {
            "text/plain": [
              "<IPython.core.display.Javascript object>"
            ],
            "application/javascript": [
              "window[\"309dfa16-bacd-11ec-a125-0242ac1c0002\"] = google.colab.output.getActiveOutputArea();\n",
              "//# sourceURL=js_102cb2e752"
            ]
          },
          "metadata": {}
        },
        {
          "output_type": "display_data",
          "data": {
            "text/plain": [
              "<IPython.core.display.Javascript object>"
            ],
            "application/javascript": [
              "window[\"309e54e8-bacd-11ec-a125-0242ac1c0002\"] = document.querySelector(\"#id2-0-0\");\n",
              "//# sourceURL=js_267a2533a7"
            ]
          },
          "metadata": {}
        },
        {
          "output_type": "display_data",
          "data": {
            "text/plain": [
              "<IPython.core.display.Javascript object>"
            ],
            "application/javascript": [
              "window[\"309eae5c-bacd-11ec-a125-0242ac1c0002\"] = google.colab.output.setActiveOutputArea(window[\"309e54e8-bacd-11ec-a125-0242ac1c0002\"]);\n",
              "//# sourceURL=js_c7f285313c"
            ]
          },
          "metadata": {}
        },
        {
          "output_type": "display_data",
          "data": {
            "text/plain": [
              "<IPython.core.display.Javascript object>"
            ],
            "application/javascript": [
              "window[\"30bb0d72-bacd-11ec-a125-0242ac1c0002\"] = google.colab.output.setActiveOutputArea(window[\"309dfa16-bacd-11ec-a125-0242ac1c0002\"]);\n",
              "//# sourceURL=js_515cdd1369"
            ]
          },
          "metadata": {}
        },
        {
          "output_type": "display_data",
          "data": {
            "text/plain": [
              "<IPython.core.display.Javascript object>"
            ],
            "application/javascript": [
              "window[\"30beaf0e-bacd-11ec-a125-0242ac1c0002\"] = google.colab.output.getActiveOutputArea();\n",
              "//# sourceURL=js_7698f833fd"
            ]
          },
          "metadata": {}
        },
        {
          "output_type": "display_data",
          "data": {
            "text/plain": [
              "<IPython.core.display.Javascript object>"
            ],
            "application/javascript": [
              "window[\"30bf46ee-bacd-11ec-a125-0242ac1c0002\"] = document.querySelector(\"#id2-0-0\");\n",
              "//# sourceURL=js_e712713956"
            ]
          },
          "metadata": {}
        },
        {
          "output_type": "display_data",
          "data": {
            "text/plain": [
              "<IPython.core.display.Javascript object>"
            ],
            "application/javascript": [
              "window[\"30bf9da6-bacd-11ec-a125-0242ac1c0002\"] = google.colab.output.setActiveOutputArea(window[\"30bf46ee-bacd-11ec-a125-0242ac1c0002\"]);\n",
              "//# sourceURL=js_6482bc1d48"
            ]
          },
          "metadata": {}
        },
        {
          "output_type": "display_data",
          "data": {
            "text/plain": [
              "<IPython.core.display.Javascript object>"
            ],
            "application/javascript": [
              "window[\"30d78d62-bacd-11ec-a125-0242ac1c0002\"] = google.colab.output.setActiveOutputArea(window[\"30beaf0e-bacd-11ec-a125-0242ac1c0002\"]);\n",
              "//# sourceURL=js_7cace67f1f"
            ]
          },
          "metadata": {}
        },
        {
          "output_type": "display_data",
          "data": {
            "text/plain": [
              "<IPython.core.display.Javascript object>"
            ],
            "application/javascript": [
              "window[\"30da3fd0-bacd-11ec-a125-0242ac1c0002\"] = google.colab.output.getActiveOutputArea();\n",
              "//# sourceURL=js_f811f9e564"
            ]
          },
          "metadata": {}
        },
        {
          "output_type": "display_data",
          "data": {
            "text/plain": [
              "<IPython.core.display.Javascript object>"
            ],
            "application/javascript": [
              "window[\"30da97be-bacd-11ec-a125-0242ac1c0002\"] = document.querySelector(\"#id2-0-0\");\n",
              "//# sourceURL=js_0a0f0f1800"
            ]
          },
          "metadata": {}
        },
        {
          "output_type": "display_data",
          "data": {
            "text/plain": [
              "<IPython.core.display.Javascript object>"
            ],
            "application/javascript": [
              "window[\"30daf114-bacd-11ec-a125-0242ac1c0002\"] = google.colab.output.setActiveOutputArea(window[\"30da97be-bacd-11ec-a125-0242ac1c0002\"]);\n",
              "//# sourceURL=js_7e172da2b9"
            ]
          },
          "metadata": {}
        },
        {
          "output_type": "display_data",
          "data": {
            "text/plain": [
              "<IPython.core.display.Javascript object>"
            ],
            "application/javascript": [
              "window[\"30f41fcc-bacd-11ec-a125-0242ac1c0002\"] = google.colab.output.setActiveOutputArea(window[\"30da3fd0-bacd-11ec-a125-0242ac1c0002\"]);\n",
              "//# sourceURL=js_1862db46ba"
            ]
          },
          "metadata": {}
        },
        {
          "output_type": "display_data",
          "data": {
            "text/plain": [
              "<IPython.core.display.Javascript object>"
            ],
            "application/javascript": [
              "window[\"30f63a5a-bacd-11ec-a125-0242ac1c0002\"] = google.colab.output.getActiveOutputArea();\n",
              "//# sourceURL=js_d10655c6bf"
            ]
          },
          "metadata": {}
        },
        {
          "output_type": "display_data",
          "data": {
            "text/plain": [
              "<IPython.core.display.Javascript object>"
            ],
            "application/javascript": [
              "window[\"30f693ba-bacd-11ec-a125-0242ac1c0002\"] = document.querySelector(\"#id2-0-0\");\n",
              "//# sourceURL=js_3c73b5cb23"
            ]
          },
          "metadata": {}
        },
        {
          "output_type": "display_data",
          "data": {
            "text/plain": [
              "<IPython.core.display.Javascript object>"
            ],
            "application/javascript": [
              "window[\"30f6f01c-bacd-11ec-a125-0242ac1c0002\"] = google.colab.output.setActiveOutputArea(window[\"30f693ba-bacd-11ec-a125-0242ac1c0002\"]);\n",
              "//# sourceURL=js_6ff3ed0ee8"
            ]
          },
          "metadata": {}
        },
        {
          "output_type": "display_data",
          "data": {
            "text/plain": [
              "<IPython.core.display.Javascript object>"
            ],
            "application/javascript": [
              "window[\"310fbaca-bacd-11ec-a125-0242ac1c0002\"] = google.colab.output.setActiveOutputArea(window[\"30f63a5a-bacd-11ec-a125-0242ac1c0002\"]);\n",
              "//# sourceURL=js_09c44adb8e"
            ]
          },
          "metadata": {}
        },
        {
          "output_type": "display_data",
          "data": {
            "text/plain": [
              "<IPython.core.display.Javascript object>"
            ],
            "application/javascript": [
              "window[\"3111bf28-bacd-11ec-a125-0242ac1c0002\"] = google.colab.output.getActiveOutputArea();\n",
              "//# sourceURL=js_485f47467a"
            ]
          },
          "metadata": {}
        },
        {
          "output_type": "display_data",
          "data": {
            "text/plain": [
              "<IPython.core.display.Javascript object>"
            ],
            "application/javascript": [
              "window[\"311225e4-bacd-11ec-a125-0242ac1c0002\"] = document.querySelector(\"#id2-0-0\");\n",
              "//# sourceURL=js_ac2639fc56"
            ]
          },
          "metadata": {}
        },
        {
          "output_type": "display_data",
          "data": {
            "text/plain": [
              "<IPython.core.display.Javascript object>"
            ],
            "application/javascript": [
              "window[\"31127f44-bacd-11ec-a125-0242ac1c0002\"] = google.colab.output.setActiveOutputArea(window[\"311225e4-bacd-11ec-a125-0242ac1c0002\"]);\n",
              "//# sourceURL=js_76cfd0a2ac"
            ]
          },
          "metadata": {}
        },
        {
          "output_type": "display_data",
          "data": {
            "text/plain": [
              "<IPython.core.display.Javascript object>"
            ],
            "application/javascript": [
              "window[\"312cba6c-bacd-11ec-a125-0242ac1c0002\"] = google.colab.output.setActiveOutputArea(window[\"3111bf28-bacd-11ec-a125-0242ac1c0002\"]);\n",
              "//# sourceURL=js_c017fb0ac5"
            ]
          },
          "metadata": {}
        },
        {
          "output_type": "display_data",
          "data": {
            "text/plain": [
              "<IPython.core.display.Javascript object>"
            ],
            "application/javascript": [
              "window[\"312ec532-bacd-11ec-a125-0242ac1c0002\"] = google.colab.output.getActiveOutputArea();\n",
              "//# sourceURL=js_088aa2e15f"
            ]
          },
          "metadata": {}
        },
        {
          "output_type": "display_data",
          "data": {
            "text/plain": [
              "<IPython.core.display.Javascript object>"
            ],
            "application/javascript": [
              "window[\"312f21b2-bacd-11ec-a125-0242ac1c0002\"] = document.querySelector(\"#id2-0-0\");\n",
              "//# sourceURL=js_56539299e3"
            ]
          },
          "metadata": {}
        },
        {
          "output_type": "display_data",
          "data": {
            "text/plain": [
              "<IPython.core.display.Javascript object>"
            ],
            "application/javascript": [
              "window[\"312f7cac-bacd-11ec-a125-0242ac1c0002\"] = google.colab.output.setActiveOutputArea(window[\"312f21b2-bacd-11ec-a125-0242ac1c0002\"]);\n",
              "//# sourceURL=js_2187e5719a"
            ]
          },
          "metadata": {}
        },
        {
          "output_type": "display_data",
          "data": {
            "text/plain": [
              "<IPython.core.display.Javascript object>"
            ],
            "application/javascript": [
              "window[\"3157818e-bacd-11ec-a125-0242ac1c0002\"] = google.colab.output.setActiveOutputArea(window[\"312ec532-bacd-11ec-a125-0242ac1c0002\"]);\n",
              "//# sourceURL=js_b2f10459bb"
            ]
          },
          "metadata": {}
        },
        {
          "output_type": "display_data",
          "data": {
            "text/plain": [
              "<IPython.core.display.Javascript object>"
            ],
            "application/javascript": [
              "window[\"3159b9a4-bacd-11ec-a125-0242ac1c0002\"] = google.colab.output.getActiveOutputArea();\n",
              "//# sourceURL=js_941df2a91b"
            ]
          },
          "metadata": {}
        },
        {
          "output_type": "display_data",
          "data": {
            "text/plain": [
              "<IPython.core.display.Javascript object>"
            ],
            "application/javascript": [
              "window[\"315a2286-bacd-11ec-a125-0242ac1c0002\"] = document.querySelector(\"#id2-0-0\");\n",
              "//# sourceURL=js_f19fd4d807"
            ]
          },
          "metadata": {}
        },
        {
          "output_type": "display_data",
          "data": {
            "text/plain": [
              "<IPython.core.display.Javascript object>"
            ],
            "application/javascript": [
              "window[\"315a6872-bacd-11ec-a125-0242ac1c0002\"] = google.colab.output.setActiveOutputArea(window[\"315a2286-bacd-11ec-a125-0242ac1c0002\"]);\n",
              "//# sourceURL=js_060e7e128d"
            ]
          },
          "metadata": {}
        },
        {
          "output_type": "display_data",
          "data": {
            "text/plain": [
              "<IPython.core.display.Javascript object>"
            ],
            "application/javascript": [
              "window[\"31766482-bacd-11ec-a125-0242ac1c0002\"] = google.colab.output.setActiveOutputArea(window[\"3159b9a4-bacd-11ec-a125-0242ac1c0002\"]);\n",
              "//# sourceURL=js_9f864d2893"
            ]
          },
          "metadata": {}
        },
        {
          "output_type": "display_data",
          "data": {
            "text/plain": [
              "<IPython.core.display.Javascript object>"
            ],
            "application/javascript": [
              "window[\"31787506-bacd-11ec-a125-0242ac1c0002\"] = google.colab.output.getActiveOutputArea();\n",
              "//# sourceURL=js_dc60d66cc4"
            ]
          },
          "metadata": {}
        },
        {
          "output_type": "display_data",
          "data": {
            "text/plain": [
              "<IPython.core.display.Javascript object>"
            ],
            "application/javascript": [
              "window[\"3178d190-bacd-11ec-a125-0242ac1c0002\"] = document.querySelector(\"#id2-0-0\");\n",
              "//# sourceURL=js_75d6da1d52"
            ]
          },
          "metadata": {}
        },
        {
          "output_type": "display_data",
          "data": {
            "text/plain": [
              "<IPython.core.display.Javascript object>"
            ],
            "application/javascript": [
              "window[\"317929f6-bacd-11ec-a125-0242ac1c0002\"] = google.colab.output.setActiveOutputArea(window[\"3178d190-bacd-11ec-a125-0242ac1c0002\"]);\n",
              "//# sourceURL=js_520b2a9d40"
            ]
          },
          "metadata": {}
        },
        {
          "output_type": "display_data",
          "data": {
            "text/plain": [
              "<IPython.core.display.Javascript object>"
            ],
            "application/javascript": [
              "window[\"319348c2-bacd-11ec-a125-0242ac1c0002\"] = google.colab.output.setActiveOutputArea(window[\"31787506-bacd-11ec-a125-0242ac1c0002\"]);\n",
              "//# sourceURL=js_d627e7937b"
            ]
          },
          "metadata": {}
        },
        {
          "output_type": "display_data",
          "data": {
            "text/plain": [
              "<IPython.core.display.Javascript object>"
            ],
            "application/javascript": [
              "window[\"31955504-bacd-11ec-a125-0242ac1c0002\"] = google.colab.output.getActiveOutputArea();\n",
              "//# sourceURL=js_9f7378e637"
            ]
          },
          "metadata": {}
        },
        {
          "output_type": "display_data",
          "data": {
            "text/plain": [
              "<IPython.core.display.Javascript object>"
            ],
            "application/javascript": [
              "window[\"3195b15c-bacd-11ec-a125-0242ac1c0002\"] = document.querySelector(\"#id2-0-0\");\n",
              "//# sourceURL=js_3939263bfc"
            ]
          },
          "metadata": {}
        },
        {
          "output_type": "display_data",
          "data": {
            "text/plain": [
              "<IPython.core.display.Javascript object>"
            ],
            "application/javascript": [
              "window[\"31960e4a-bacd-11ec-a125-0242ac1c0002\"] = google.colab.output.setActiveOutputArea(window[\"3195b15c-bacd-11ec-a125-0242ac1c0002\"]);\n",
              "//# sourceURL=js_ec923aef44"
            ]
          },
          "metadata": {}
        },
        {
          "output_type": "display_data",
          "data": {
            "text/plain": [
              "<IPython.core.display.Javascript object>"
            ],
            "application/javascript": [
              "window[\"31b0a958-bacd-11ec-a125-0242ac1c0002\"] = google.colab.output.setActiveOutputArea(window[\"31955504-bacd-11ec-a125-0242ac1c0002\"]);\n",
              "//# sourceURL=js_0e6faa5cd4"
            ]
          },
          "metadata": {}
        },
        {
          "output_type": "display_data",
          "data": {
            "text/plain": [
              "<IPython.core.display.Javascript object>"
            ],
            "application/javascript": [
              "window[\"31b32b10-bacd-11ec-a125-0242ac1c0002\"] = google.colab.output.getActiveOutputArea();\n",
              "//# sourceURL=js_bcf074fdc2"
            ]
          },
          "metadata": {}
        },
        {
          "output_type": "display_data",
          "data": {
            "text/plain": [
              "<IPython.core.display.Javascript object>"
            ],
            "application/javascript": [
              "window[\"31b390c8-bacd-11ec-a125-0242ac1c0002\"] = document.querySelector(\"#id2-0-0\");\n",
              "//# sourceURL=js_6d32c4b6c9"
            ]
          },
          "metadata": {}
        },
        {
          "output_type": "display_data",
          "data": {
            "text/plain": [
              "<IPython.core.display.Javascript object>"
            ],
            "application/javascript": [
              "window[\"31b3f5ae-bacd-11ec-a125-0242ac1c0002\"] = google.colab.output.setActiveOutputArea(window[\"31b390c8-bacd-11ec-a125-0242ac1c0002\"]);\n",
              "//# sourceURL=js_f9b6dbcd9c"
            ]
          },
          "metadata": {}
        },
        {
          "output_type": "display_data",
          "data": {
            "text/plain": [
              "<IPython.core.display.Javascript object>"
            ],
            "application/javascript": [
              "window[\"31cdd32a-bacd-11ec-a125-0242ac1c0002\"] = google.colab.output.setActiveOutputArea(window[\"31b32b10-bacd-11ec-a125-0242ac1c0002\"]);\n",
              "//# sourceURL=js_9239bf0343"
            ]
          },
          "metadata": {}
        },
        {
          "output_type": "display_data",
          "data": {
            "text/plain": [
              "<IPython.core.display.Javascript object>"
            ],
            "application/javascript": [
              "window[\"31d0c6e8-bacd-11ec-a125-0242ac1c0002\"] = google.colab.output.getActiveOutputArea();\n",
              "//# sourceURL=js_4ee3c8eb13"
            ]
          },
          "metadata": {}
        },
        {
          "output_type": "display_data",
          "data": {
            "text/plain": [
              "<IPython.core.display.Javascript object>"
            ],
            "application/javascript": [
              "window[\"31d14032-bacd-11ec-a125-0242ac1c0002\"] = document.querySelector(\"#id2-0-0\");\n",
              "//# sourceURL=js_e2a653925c"
            ]
          },
          "metadata": {}
        },
        {
          "output_type": "display_data",
          "data": {
            "text/plain": [
              "<IPython.core.display.Javascript object>"
            ],
            "application/javascript": [
              "window[\"31d1a932-bacd-11ec-a125-0242ac1c0002\"] = google.colab.output.setActiveOutputArea(window[\"31d14032-bacd-11ec-a125-0242ac1c0002\"]);\n",
              "//# sourceURL=js_c0b9cf5506"
            ]
          },
          "metadata": {}
        },
        {
          "output_type": "display_data",
          "data": {
            "text/plain": [
              "<IPython.core.display.Javascript object>"
            ],
            "application/javascript": [
              "window[\"31ef3e02-bacd-11ec-a125-0242ac1c0002\"] = google.colab.output.setActiveOutputArea(window[\"31d0c6e8-bacd-11ec-a125-0242ac1c0002\"]);\n",
              "//# sourceURL=js_9ea6165cf6"
            ]
          },
          "metadata": {}
        },
        {
          "output_type": "display_data",
          "data": {
            "text/plain": [
              "<IPython.core.display.Javascript object>"
            ],
            "application/javascript": [
              "window[\"31f17f96-bacd-11ec-a125-0242ac1c0002\"] = google.colab.output.getActiveOutputArea();\n",
              "//# sourceURL=js_48445f0bfb"
            ]
          },
          "metadata": {}
        },
        {
          "output_type": "display_data",
          "data": {
            "text/plain": [
              "<IPython.core.display.Javascript object>"
            ],
            "application/javascript": [
              "window[\"31f1dd24-bacd-11ec-a125-0242ac1c0002\"] = document.querySelector(\"#id2-0-0\");\n",
              "//# sourceURL=js_4b459cd18f"
            ]
          },
          "metadata": {}
        },
        {
          "output_type": "display_data",
          "data": {
            "text/plain": [
              "<IPython.core.display.Javascript object>"
            ],
            "application/javascript": [
              "window[\"31f231ca-bacd-11ec-a125-0242ac1c0002\"] = google.colab.output.setActiveOutputArea(window[\"31f1dd24-bacd-11ec-a125-0242ac1c0002\"]);\n",
              "//# sourceURL=js_e5f69ef51e"
            ]
          },
          "metadata": {}
        },
        {
          "output_type": "display_data",
          "data": {
            "text/plain": [
              "<IPython.core.display.Javascript object>"
            ],
            "application/javascript": [
              "window[\"320dc58e-bacd-11ec-a125-0242ac1c0002\"] = google.colab.output.setActiveOutputArea(window[\"31f17f96-bacd-11ec-a125-0242ac1c0002\"]);\n",
              "//# sourceURL=js_386b99eb67"
            ]
          },
          "metadata": {}
        },
        {
          "output_type": "display_data",
          "data": {
            "text/plain": [
              "<IPython.core.display.Javascript object>"
            ],
            "application/javascript": [
              "window[\"32118520-bacd-11ec-a125-0242ac1c0002\"] = google.colab.output.getActiveOutputArea();\n",
              "//# sourceURL=js_fc2d69ace7"
            ]
          },
          "metadata": {}
        },
        {
          "output_type": "display_data",
          "data": {
            "text/plain": [
              "<IPython.core.display.Javascript object>"
            ],
            "application/javascript": [
              "window[\"32124c26-bacd-11ec-a125-0242ac1c0002\"] = document.querySelector(\"#id2-0-0\");\n",
              "//# sourceURL=js_5701fae6d0"
            ]
          },
          "metadata": {}
        },
        {
          "output_type": "display_data",
          "data": {
            "text/plain": [
              "<IPython.core.display.Javascript object>"
            ],
            "application/javascript": [
              "window[\"3212fedc-bacd-11ec-a125-0242ac1c0002\"] = google.colab.output.setActiveOutputArea(window[\"32124c26-bacd-11ec-a125-0242ac1c0002\"]);\n",
              "//# sourceURL=js_bc768afef8"
            ]
          },
          "metadata": {}
        },
        {
          "output_type": "display_data",
          "data": {
            "text/plain": [
              "<IPython.core.display.Javascript object>"
            ],
            "application/javascript": [
              "window[\"322ca990-bacd-11ec-a125-0242ac1c0002\"] = google.colab.output.setActiveOutputArea(window[\"32118520-bacd-11ec-a125-0242ac1c0002\"]);\n",
              "//# sourceURL=js_7e2519392c"
            ]
          },
          "metadata": {}
        },
        {
          "output_type": "display_data",
          "data": {
            "text/plain": [
              "<IPython.core.display.Javascript object>"
            ],
            "application/javascript": [
              "window[\"322f3a20-bacd-11ec-a125-0242ac1c0002\"] = google.colab.output.getActiveOutputArea();\n",
              "//# sourceURL=js_88073ec52e"
            ]
          },
          "metadata": {}
        },
        {
          "output_type": "display_data",
          "data": {
            "text/plain": [
              "<IPython.core.display.Javascript object>"
            ],
            "application/javascript": [
              "window[\"322f8ce6-bacd-11ec-a125-0242ac1c0002\"] = document.querySelector(\"#id2-0-0\");\n",
              "//# sourceURL=js_592b1b0a24"
            ]
          },
          "metadata": {}
        },
        {
          "output_type": "display_data",
          "data": {
            "text/plain": [
              "<IPython.core.display.Javascript object>"
            ],
            "application/javascript": [
              "window[\"322fef9c-bacd-11ec-a125-0242ac1c0002\"] = google.colab.output.setActiveOutputArea(window[\"322f8ce6-bacd-11ec-a125-0242ac1c0002\"]);\n",
              "//# sourceURL=js_b1fb486f02"
            ]
          },
          "metadata": {}
        },
        {
          "output_type": "display_data",
          "data": {
            "text/plain": [
              "<IPython.core.display.Javascript object>"
            ],
            "application/javascript": [
              "window[\"324a51f2-bacd-11ec-a125-0242ac1c0002\"] = google.colab.output.setActiveOutputArea(window[\"322f3a20-bacd-11ec-a125-0242ac1c0002\"]);\n",
              "//# sourceURL=js_2b95bcf067"
            ]
          },
          "metadata": {}
        },
        {
          "output_type": "display_data",
          "data": {
            "text/plain": [
              "<IPython.core.display.Javascript object>"
            ],
            "application/javascript": [
              "window[\"324c76bc-bacd-11ec-a125-0242ac1c0002\"] = google.colab.output.getActiveOutputArea();\n",
              "//# sourceURL=js_88e958e442"
            ]
          },
          "metadata": {}
        },
        {
          "output_type": "display_data",
          "data": {
            "text/plain": [
              "<IPython.core.display.Javascript object>"
            ],
            "application/javascript": [
              "window[\"324cd8d2-bacd-11ec-a125-0242ac1c0002\"] = document.querySelector(\"#id2-0-0\");\n",
              "//# sourceURL=js_e4dc44cf5a"
            ]
          },
          "metadata": {}
        },
        {
          "output_type": "display_data",
          "data": {
            "text/plain": [
              "<IPython.core.display.Javascript object>"
            ],
            "application/javascript": [
              "window[\"324d3b4c-bacd-11ec-a125-0242ac1c0002\"] = google.colab.output.setActiveOutputArea(window[\"324cd8d2-bacd-11ec-a125-0242ac1c0002\"]);\n",
              "//# sourceURL=js_459f43d5cc"
            ]
          },
          "metadata": {}
        },
        {
          "output_type": "display_data",
          "data": {
            "text/plain": [
              "<IPython.core.display.Javascript object>"
            ],
            "application/javascript": [
              "window[\"3268aa12-bacd-11ec-a125-0242ac1c0002\"] = google.colab.output.setActiveOutputArea(window[\"324c76bc-bacd-11ec-a125-0242ac1c0002\"]);\n",
              "//# sourceURL=js_b5b10a5f67"
            ]
          },
          "metadata": {}
        },
        {
          "output_type": "display_data",
          "data": {
            "text/plain": [
              "<IPython.core.display.Javascript object>"
            ],
            "application/javascript": [
              "window[\"326ad6a2-bacd-11ec-a125-0242ac1c0002\"] = google.colab.output.getActiveOutputArea();\n",
              "//# sourceURL=js_888282b8fc"
            ]
          },
          "metadata": {}
        },
        {
          "output_type": "display_data",
          "data": {
            "text/plain": [
              "<IPython.core.display.Javascript object>"
            ],
            "application/javascript": [
              "window[\"326b31ba-bacd-11ec-a125-0242ac1c0002\"] = document.querySelector(\"#id2-0-0\");\n",
              "//# sourceURL=js_5e6f4d6ca4"
            ]
          },
          "metadata": {}
        },
        {
          "output_type": "display_data",
          "data": {
            "text/plain": [
              "<IPython.core.display.Javascript object>"
            ],
            "application/javascript": [
              "window[\"326b9b50-bacd-11ec-a125-0242ac1c0002\"] = google.colab.output.setActiveOutputArea(window[\"326b31ba-bacd-11ec-a125-0242ac1c0002\"]);\n",
              "//# sourceURL=js_9184da37d5"
            ]
          },
          "metadata": {}
        },
        {
          "output_type": "display_data",
          "data": {
            "text/plain": [
              "<IPython.core.display.Javascript object>"
            ],
            "application/javascript": [
              "window[\"3288f0d8-bacd-11ec-a125-0242ac1c0002\"] = google.colab.output.setActiveOutputArea(window[\"326ad6a2-bacd-11ec-a125-0242ac1c0002\"]);\n",
              "//# sourceURL=js_d7901387e3"
            ]
          },
          "metadata": {}
        },
        {
          "output_type": "display_data",
          "data": {
            "text/plain": [
              "<IPython.core.display.Javascript object>"
            ],
            "application/javascript": [
              "window[\"328de700-bacd-11ec-a125-0242ac1c0002\"] = google.colab.output.getActiveOutputArea();\n",
              "//# sourceURL=js_ad068ae24d"
            ]
          },
          "metadata": {}
        },
        {
          "output_type": "display_data",
          "data": {
            "text/plain": [
              "<IPython.core.display.Javascript object>"
            ],
            "application/javascript": [
              "window[\"328e611c-bacd-11ec-a125-0242ac1c0002\"] = document.querySelector(\"#id2-0-0\");\n",
              "//# sourceURL=js_1d3b36f193"
            ]
          },
          "metadata": {}
        },
        {
          "output_type": "display_data",
          "data": {
            "text/plain": [
              "<IPython.core.display.Javascript object>"
            ],
            "application/javascript": [
              "window[\"328f4730-bacd-11ec-a125-0242ac1c0002\"] = google.colab.output.setActiveOutputArea(window[\"328e611c-bacd-11ec-a125-0242ac1c0002\"]);\n",
              "//# sourceURL=js_46c3de8afa"
            ]
          },
          "metadata": {}
        },
        {
          "output_type": "display_data",
          "data": {
            "text/plain": [
              "<IPython.core.display.Javascript object>"
            ],
            "application/javascript": [
              "window[\"32aa3392-bacd-11ec-a125-0242ac1c0002\"] = google.colab.output.setActiveOutputArea(window[\"328de700-bacd-11ec-a125-0242ac1c0002\"]);\n",
              "//# sourceURL=js_70744777de"
            ]
          },
          "metadata": {}
        },
        {
          "output_type": "display_data",
          "data": {
            "text/plain": [
              "<IPython.core.display.Javascript object>"
            ],
            "application/javascript": [
              "window[\"32ae90f4-bacd-11ec-a125-0242ac1c0002\"] = google.colab.output.getActiveOutputArea();\n",
              "//# sourceURL=js_9965b4ac25"
            ]
          },
          "metadata": {}
        },
        {
          "output_type": "display_data",
          "data": {
            "text/plain": [
              "<IPython.core.display.Javascript object>"
            ],
            "application/javascript": [
              "window[\"32aee05e-bacd-11ec-a125-0242ac1c0002\"] = document.querySelector(\"#id2-0-0\");\n",
              "//# sourceURL=js_b8f31a1d43"
            ]
          },
          "metadata": {}
        },
        {
          "output_type": "display_data",
          "data": {
            "text/plain": [
              "<IPython.core.display.Javascript object>"
            ],
            "application/javascript": [
              "window[\"32af42d8-bacd-11ec-a125-0242ac1c0002\"] = google.colab.output.setActiveOutputArea(window[\"32aee05e-bacd-11ec-a125-0242ac1c0002\"]);\n",
              "//# sourceURL=js_567c6e58bf"
            ]
          },
          "metadata": {}
        },
        {
          "output_type": "display_data",
          "data": {
            "text/plain": [
              "<IPython.core.display.Javascript object>"
            ],
            "application/javascript": [
              "window[\"32caed44-bacd-11ec-a125-0242ac1c0002\"] = google.colab.output.setActiveOutputArea(window[\"32ae90f4-bacd-11ec-a125-0242ac1c0002\"]);\n",
              "//# sourceURL=js_20f1c479ba"
            ]
          },
          "metadata": {}
        },
        {
          "output_type": "display_data",
          "data": {
            "text/plain": [
              "<IPython.core.display.Javascript object>"
            ],
            "application/javascript": [
              "window[\"32cd1baa-bacd-11ec-a125-0242ac1c0002\"] = google.colab.output.getActiveOutputArea();\n",
              "//# sourceURL=js_a1dba0f6d1"
            ]
          },
          "metadata": {}
        },
        {
          "output_type": "display_data",
          "data": {
            "text/plain": [
              "<IPython.core.display.Javascript object>"
            ],
            "application/javascript": [
              "window[\"32cd807c-bacd-11ec-a125-0242ac1c0002\"] = document.querySelector(\"#id2-0-0\");\n",
              "//# sourceURL=js_c64bf50c73"
            ]
          },
          "metadata": {}
        },
        {
          "output_type": "display_data",
          "data": {
            "text/plain": [
              "<IPython.core.display.Javascript object>"
            ],
            "application/javascript": [
              "window[\"32cdec06-bacd-11ec-a125-0242ac1c0002\"] = google.colab.output.setActiveOutputArea(window[\"32cd807c-bacd-11ec-a125-0242ac1c0002\"]);\n",
              "//# sourceURL=js_c36500cb1f"
            ]
          },
          "metadata": {}
        },
        {
          "output_type": "display_data",
          "data": {
            "text/plain": [
              "<IPython.core.display.Javascript object>"
            ],
            "application/javascript": [
              "window[\"32e929e4-bacd-11ec-a125-0242ac1c0002\"] = google.colab.output.setActiveOutputArea(window[\"32cd1baa-bacd-11ec-a125-0242ac1c0002\"]);\n",
              "//# sourceURL=js_80677d235a"
            ]
          },
          "metadata": {}
        },
        {
          "output_type": "display_data",
          "data": {
            "text/plain": [
              "<IPython.core.display.Javascript object>"
            ],
            "application/javascript": [
              "window[\"32eb71ea-bacd-11ec-a125-0242ac1c0002\"] = google.colab.output.getActiveOutputArea();\n",
              "//# sourceURL=js_96255d6c27"
            ]
          },
          "metadata": {}
        },
        {
          "output_type": "display_data",
          "data": {
            "text/plain": [
              "<IPython.core.display.Javascript object>"
            ],
            "application/javascript": [
              "window[\"32ebddf6-bacd-11ec-a125-0242ac1c0002\"] = document.querySelector(\"#id2-0-0\");\n",
              "//# sourceURL=js_f8d2540012"
            ]
          },
          "metadata": {}
        },
        {
          "output_type": "display_data",
          "data": {
            "text/plain": [
              "<IPython.core.display.Javascript object>"
            ],
            "application/javascript": [
              "window[\"32ec3738-bacd-11ec-a125-0242ac1c0002\"] = google.colab.output.setActiveOutputArea(window[\"32ebddf6-bacd-11ec-a125-0242ac1c0002\"]);\n",
              "//# sourceURL=js_467cdbfba7"
            ]
          },
          "metadata": {}
        },
        {
          "output_type": "display_data",
          "data": {
            "text/plain": [
              "<IPython.core.display.Javascript object>"
            ],
            "application/javascript": [
              "window[\"33064f06-bacd-11ec-a125-0242ac1c0002\"] = google.colab.output.setActiveOutputArea(window[\"32eb71ea-bacd-11ec-a125-0242ac1c0002\"]);\n",
              "//# sourceURL=js_7a53c4d770"
            ]
          },
          "metadata": {}
        },
        {
          "output_type": "display_data",
          "data": {
            "text/plain": [
              "<IPython.core.display.Javascript object>"
            ],
            "application/javascript": [
              "window[\"33087dda-bacd-11ec-a125-0242ac1c0002\"] = google.colab.output.getActiveOutputArea();\n",
              "//# sourceURL=js_2fc227de1e"
            ]
          },
          "metadata": {}
        },
        {
          "output_type": "display_data",
          "data": {
            "text/plain": [
              "<IPython.core.display.Javascript object>"
            ],
            "application/javascript": [
              "window[\"3308ddf2-bacd-11ec-a125-0242ac1c0002\"] = document.querySelector(\"#id2-0-0\");\n",
              "//# sourceURL=js_1700e91711"
            ]
          },
          "metadata": {}
        },
        {
          "output_type": "display_data",
          "data": {
            "text/plain": [
              "<IPython.core.display.Javascript object>"
            ],
            "application/javascript": [
              "window[\"33094742-bacd-11ec-a125-0242ac1c0002\"] = google.colab.output.setActiveOutputArea(window[\"3308ddf2-bacd-11ec-a125-0242ac1c0002\"]);\n",
              "//# sourceURL=js_e0f50edaae"
            ]
          },
          "metadata": {}
        },
        {
          "output_type": "display_data",
          "data": {
            "text/plain": [
              "<IPython.core.display.Javascript object>"
            ],
            "application/javascript": [
              "window[\"33275156-bacd-11ec-a125-0242ac1c0002\"] = google.colab.output.setActiveOutputArea(window[\"33087dda-bacd-11ec-a125-0242ac1c0002\"]);\n",
              "//# sourceURL=js_0019d95267"
            ]
          },
          "metadata": {}
        },
        {
          "output_type": "display_data",
          "data": {
            "text/plain": [
              "<IPython.core.display.Javascript object>"
            ],
            "application/javascript": [
              "window[\"3329c7a6-bacd-11ec-a125-0242ac1c0002\"] = google.colab.output.getActiveOutputArea();\n",
              "//# sourceURL=js_102401c840"
            ]
          },
          "metadata": {}
        },
        {
          "output_type": "display_data",
          "data": {
            "text/plain": [
              "<IPython.core.display.Javascript object>"
            ],
            "application/javascript": [
              "window[\"332a32b8-bacd-11ec-a125-0242ac1c0002\"] = document.querySelector(\"#id2-0-0\");\n",
              "//# sourceURL=js_4c7011e607"
            ]
          },
          "metadata": {}
        },
        {
          "output_type": "display_data",
          "data": {
            "text/plain": [
              "<IPython.core.display.Javascript object>"
            ],
            "application/javascript": [
              "window[\"332a9a82-bacd-11ec-a125-0242ac1c0002\"] = google.colab.output.setActiveOutputArea(window[\"332a32b8-bacd-11ec-a125-0242ac1c0002\"]);\n",
              "//# sourceURL=js_d9f41c4f86"
            ]
          },
          "metadata": {}
        },
        {
          "output_type": "display_data",
          "data": {
            "text/plain": [
              "<IPython.core.display.Javascript object>"
            ],
            "application/javascript": [
              "window[\"3352502c-bacd-11ec-a125-0242ac1c0002\"] = google.colab.output.setActiveOutputArea(window[\"3329c7a6-bacd-11ec-a125-0242ac1c0002\"]);\n",
              "//# sourceURL=js_fb6405c2f0"
            ]
          },
          "metadata": {}
        },
        {
          "output_type": "display_data",
          "data": {
            "text/plain": [
              "<IPython.core.display.Javascript object>"
            ],
            "application/javascript": [
              "window[\"3354f9ee-bacd-11ec-a125-0242ac1c0002\"] = google.colab.output.getActiveOutputArea();\n",
              "//# sourceURL=js_59db4d084e"
            ]
          },
          "metadata": {}
        },
        {
          "output_type": "display_data",
          "data": {
            "text/plain": [
              "<IPython.core.display.Javascript object>"
            ],
            "application/javascript": [
              "window[\"33555ea2-bacd-11ec-a125-0242ac1c0002\"] = document.querySelector(\"#id2-0-0\");\n",
              "//# sourceURL=js_a94ed50f1c"
            ]
          },
          "metadata": {}
        },
        {
          "output_type": "display_data",
          "data": {
            "text/plain": [
              "<IPython.core.display.Javascript object>"
            ],
            "application/javascript": [
              "window[\"3355c982-bacd-11ec-a125-0242ac1c0002\"] = google.colab.output.setActiveOutputArea(window[\"33555ea2-bacd-11ec-a125-0242ac1c0002\"]);\n",
              "//# sourceURL=js_a9d92555cf"
            ]
          },
          "metadata": {}
        },
        {
          "output_type": "display_data",
          "data": {
            "text/plain": [
              "<IPython.core.display.Javascript object>"
            ],
            "application/javascript": [
              "window[\"3370b56c-bacd-11ec-a125-0242ac1c0002\"] = google.colab.output.setActiveOutputArea(window[\"3354f9ee-bacd-11ec-a125-0242ac1c0002\"]);\n",
              "//# sourceURL=js_f40e056e58"
            ]
          },
          "metadata": {}
        },
        {
          "output_type": "display_data",
          "data": {
            "text/plain": [
              "<IPython.core.display.Javascript object>"
            ],
            "application/javascript": [
              "window[\"3372e6a2-bacd-11ec-a125-0242ac1c0002\"] = google.colab.output.getActiveOutputArea();\n",
              "//# sourceURL=js_ac602582d0"
            ]
          },
          "metadata": {}
        },
        {
          "output_type": "display_data",
          "data": {
            "text/plain": [
              "<IPython.core.display.Javascript object>"
            ],
            "application/javascript": [
              "window[\"337340e8-bacd-11ec-a125-0242ac1c0002\"] = document.querySelector(\"#id2-0-0\");\n",
              "//# sourceURL=js_5caca5e42a"
            ]
          },
          "metadata": {}
        },
        {
          "output_type": "display_data",
          "data": {
            "text/plain": [
              "<IPython.core.display.Javascript object>"
            ],
            "application/javascript": [
              "window[\"3373aa24-bacd-11ec-a125-0242ac1c0002\"] = google.colab.output.setActiveOutputArea(window[\"337340e8-bacd-11ec-a125-0242ac1c0002\"]);\n",
              "//# sourceURL=js_ccc0ad4515"
            ]
          },
          "metadata": {}
        },
        {
          "output_type": "display_data",
          "data": {
            "text/plain": [
              "<IPython.core.display.Javascript object>"
            ],
            "application/javascript": [
              "window[\"338e50fe-bacd-11ec-a125-0242ac1c0002\"] = google.colab.output.setActiveOutputArea(window[\"3372e6a2-bacd-11ec-a125-0242ac1c0002\"]);\n",
              "//# sourceURL=js_43b21f0cff"
            ]
          },
          "metadata": {}
        },
        {
          "output_type": "display_data",
          "data": {
            "text/plain": [
              "<IPython.core.display.Javascript object>"
            ],
            "application/javascript": [
              "window[\"3390c578-bacd-11ec-a125-0242ac1c0002\"] = google.colab.output.getActiveOutputArea();\n",
              "//# sourceURL=js_d4540955b0"
            ]
          },
          "metadata": {}
        },
        {
          "output_type": "display_data",
          "data": {
            "text/plain": [
              "<IPython.core.display.Javascript object>"
            ],
            "application/javascript": [
              "window[\"33912b62-bacd-11ec-a125-0242ac1c0002\"] = document.querySelector(\"#id2-0-0\");\n",
              "//# sourceURL=js_14e5f89b8d"
            ]
          },
          "metadata": {}
        },
        {
          "output_type": "display_data",
          "data": {
            "text/plain": [
              "<IPython.core.display.Javascript object>"
            ],
            "application/javascript": [
              "window[\"33919354-bacd-11ec-a125-0242ac1c0002\"] = google.colab.output.setActiveOutputArea(window[\"33912b62-bacd-11ec-a125-0242ac1c0002\"]);\n",
              "//# sourceURL=js_5b0ab969fd"
            ]
          },
          "metadata": {}
        },
        {
          "output_type": "display_data",
          "data": {
            "text/plain": [
              "<IPython.core.display.Javascript object>"
            ],
            "application/javascript": [
              "window[\"33ad533c-bacd-11ec-a125-0242ac1c0002\"] = google.colab.output.setActiveOutputArea(window[\"3390c578-bacd-11ec-a125-0242ac1c0002\"]);\n",
              "//# sourceURL=js_c4c7ff8dbb"
            ]
          },
          "metadata": {}
        },
        {
          "output_type": "display_data",
          "data": {
            "text/plain": [
              "<IPython.core.display.Javascript object>"
            ],
            "application/javascript": [
              "window[\"33b1964a-bacd-11ec-a125-0242ac1c0002\"] = google.colab.output.getActiveOutputArea();\n",
              "//# sourceURL=js_3b71e85278"
            ]
          },
          "metadata": {}
        },
        {
          "output_type": "display_data",
          "data": {
            "text/plain": [
              "<IPython.core.display.Javascript object>"
            ],
            "application/javascript": [
              "window[\"33b20e7c-bacd-11ec-a125-0242ac1c0002\"] = document.querySelector(\"#id2-0-0\");\n",
              "//# sourceURL=js_6406243920"
            ]
          },
          "metadata": {}
        },
        {
          "output_type": "display_data",
          "data": {
            "text/plain": [
              "<IPython.core.display.Javascript object>"
            ],
            "application/javascript": [
              "window[\"33b27718-bacd-11ec-a125-0242ac1c0002\"] = google.colab.output.setActiveOutputArea(window[\"33b20e7c-bacd-11ec-a125-0242ac1c0002\"]);\n",
              "//# sourceURL=js_dcc5c32e31"
            ]
          },
          "metadata": {}
        },
        {
          "output_type": "display_data",
          "data": {
            "text/plain": [
              "<IPython.core.display.Javascript object>"
            ],
            "application/javascript": [
              "window[\"33cef0be-bacd-11ec-a125-0242ac1c0002\"] = google.colab.output.setActiveOutputArea(window[\"33b1964a-bacd-11ec-a125-0242ac1c0002\"]);\n",
              "//# sourceURL=js_1a93d8f767"
            ]
          },
          "metadata": {}
        },
        {
          "output_type": "display_data",
          "data": {
            "text/plain": [
              "<IPython.core.display.Javascript object>"
            ],
            "application/javascript": [
              "window[\"33d14206-bacd-11ec-a125-0242ac1c0002\"] = google.colab.output.getActiveOutputArea();\n",
              "//# sourceURL=js_23ea777c77"
            ]
          },
          "metadata": {}
        },
        {
          "output_type": "display_data",
          "data": {
            "text/plain": [
              "<IPython.core.display.Javascript object>"
            ],
            "application/javascript": [
              "window[\"33d1ad68-bacd-11ec-a125-0242ac1c0002\"] = document.querySelector(\"#id2-0-0\");\n",
              "//# sourceURL=js_2904d79dbd"
            ]
          },
          "metadata": {}
        },
        {
          "output_type": "display_data",
          "data": {
            "text/plain": [
              "<IPython.core.display.Javascript object>"
            ],
            "application/javascript": [
              "window[\"33d211cc-bacd-11ec-a125-0242ac1c0002\"] = google.colab.output.setActiveOutputArea(window[\"33d1ad68-bacd-11ec-a125-0242ac1c0002\"]);\n",
              "//# sourceURL=js_80d3e47fbf"
            ]
          },
          "metadata": {}
        },
        {
          "output_type": "display_data",
          "data": {
            "text/plain": [
              "<IPython.core.display.Javascript object>"
            ],
            "application/javascript": [
              "window[\"33ee1566-bacd-11ec-a125-0242ac1c0002\"] = google.colab.output.setActiveOutputArea(window[\"33d14206-bacd-11ec-a125-0242ac1c0002\"]);\n",
              "//# sourceURL=js_5ca5d8b029"
            ]
          },
          "metadata": {}
        },
        {
          "output_type": "display_data",
          "data": {
            "text/plain": [
              "<IPython.core.display.Javascript object>"
            ],
            "application/javascript": [
              "window[\"33f014ce-bacd-11ec-a125-0242ac1c0002\"] = google.colab.output.getActiveOutputArea();\n",
              "//# sourceURL=js_fec978803a"
            ]
          },
          "metadata": {}
        },
        {
          "output_type": "display_data",
          "data": {
            "text/plain": [
              "<IPython.core.display.Javascript object>"
            ],
            "application/javascript": [
              "window[\"33f05b78-bacd-11ec-a125-0242ac1c0002\"] = document.querySelector(\"#id2-0-0\");\n",
              "//# sourceURL=js_6c954ecce5"
            ]
          },
          "metadata": {}
        },
        {
          "output_type": "display_data",
          "data": {
            "text/plain": [
              "<IPython.core.display.Javascript object>"
            ],
            "application/javascript": [
              "window[\"33f0ad44-bacd-11ec-a125-0242ac1c0002\"] = google.colab.output.setActiveOutputArea(window[\"33f05b78-bacd-11ec-a125-0242ac1c0002\"]);\n",
              "//# sourceURL=js_c29cad9f74"
            ]
          },
          "metadata": {}
        },
        {
          "output_type": "display_data",
          "data": {
            "text/plain": [
              "<IPython.core.display.Javascript object>"
            ],
            "application/javascript": [
              "window[\"340b7048-bacd-11ec-a125-0242ac1c0002\"] = google.colab.output.setActiveOutputArea(window[\"33f014ce-bacd-11ec-a125-0242ac1c0002\"]);\n",
              "//# sourceURL=js_3cb5039fd3"
            ]
          },
          "metadata": {}
        },
        {
          "output_type": "display_data",
          "data": {
            "text/plain": [
              "<IPython.core.display.Javascript object>"
            ],
            "application/javascript": [
              "window[\"340df070-bacd-11ec-a125-0242ac1c0002\"] = google.colab.output.getActiveOutputArea();\n",
              "//# sourceURL=js_766729e231"
            ]
          },
          "metadata": {}
        },
        {
          "output_type": "display_data",
          "data": {
            "text/plain": [
              "<IPython.core.display.Javascript object>"
            ],
            "application/javascript": [
              "window[\"340e55e2-bacd-11ec-a125-0242ac1c0002\"] = document.querySelector(\"#id2-0-0\");\n",
              "//# sourceURL=js_70cf3fd4d4"
            ]
          },
          "metadata": {}
        },
        {
          "output_type": "display_data",
          "data": {
            "text/plain": [
              "<IPython.core.display.Javascript object>"
            ],
            "application/javascript": [
              "window[\"340eac22-bacd-11ec-a125-0242ac1c0002\"] = google.colab.output.setActiveOutputArea(window[\"340e55e2-bacd-11ec-a125-0242ac1c0002\"]);\n",
              "//# sourceURL=js_eaa574964a"
            ]
          },
          "metadata": {}
        },
        {
          "output_type": "display_data",
          "data": {
            "text/plain": [
              "<IPython.core.display.Javascript object>"
            ],
            "application/javascript": [
              "window[\"342a270e-bacd-11ec-a125-0242ac1c0002\"] = google.colab.output.setActiveOutputArea(window[\"340df070-bacd-11ec-a125-0242ac1c0002\"]);\n",
              "//# sourceURL=js_b6a2d8bfc1"
            ]
          },
          "metadata": {}
        },
        {
          "output_type": "display_data",
          "data": {
            "text/plain": [
              "<IPython.core.display.Javascript object>"
            ],
            "application/javascript": [
              "window[\"342c6a00-bacd-11ec-a125-0242ac1c0002\"] = google.colab.output.getActiveOutputArea();\n",
              "//# sourceURL=js_0e61cbb73f"
            ]
          },
          "metadata": {}
        },
        {
          "output_type": "display_data",
          "data": {
            "text/plain": [
              "<IPython.core.display.Javascript object>"
            ],
            "application/javascript": [
              "window[\"342cce64-bacd-11ec-a125-0242ac1c0002\"] = document.querySelector(\"#id2-0-0\");\n",
              "//# sourceURL=js_4cb5905986"
            ]
          },
          "metadata": {}
        },
        {
          "output_type": "display_data",
          "data": {
            "text/plain": [
              "<IPython.core.display.Javascript object>"
            ],
            "application/javascript": [
              "window[\"342d29cc-bacd-11ec-a125-0242ac1c0002\"] = google.colab.output.setActiveOutputArea(window[\"342cce64-bacd-11ec-a125-0242ac1c0002\"]);\n",
              "//# sourceURL=js_99831ae917"
            ]
          },
          "metadata": {}
        },
        {
          "output_type": "display_data",
          "data": {
            "text/plain": [
              "<Figure size 432x288 with 1 Axes>"
            ],
            "image/png": "[encoded data removed]"
          },
          "metadata": {
            "needs_background": "light"
          }
        },
        {
          "output_type": "display_data",
          "data": {
            "text/plain": [
              "<IPython.core.display.Javascript object>"
            ],
            "application/javascript": [
              "window[\"344891bc-bacd-11ec-a125-0242ac1c0002\"] = google.colab.output.setActiveOutputArea(window[\"342c6a00-bacd-11ec-a125-0242ac1c0002\"]);\n",
              "//# sourceURL=js_d8a60a27fe"
            ]
          },
          "metadata": {}
        },
        {
          "output_type": "stream",
          "name": "stdout",
          "text": [
            "Total reward: -2.4000000000000004\n"
          ]
        }
      ]
    },
    {
      "cell_type": "code",
      "source": [
        "class ddqn_learning:\n",
        "\n",
        "  def __init__(self):\n",
        "    self.env = DeterGridEnvironment()\n",
        "    self.env.reset()\n",
        "    self.agent = RandomAgent(self.env)\n",
        "    self.q_values_tar=np.zeros((16,4))\n",
        "    self.q_values =np.zeros((16,4))\n",
        "    self.totalreward=[]\n",
        "    self.stepstaken=[]\n",
        "    self.epsilondecay=[]\n",
        "    self.epsilon=1\n",
        "    self.lr=0.2\n",
        "    self.df=0.9\n",
        "    self.decay=0.99885              # 2000 - 0.9978 #6000 - 0.9993\n",
        "    self.r1_got = False\n",
        "    self.r3_got = False\n",
        "    self.tow = 0.9\n",
        "    self.gamma = 0.99\n",
        "\n",
        "  def reset(self):\n",
        "    self.env.agent_pos=[0,0]\n",
        "    self.env.timestep=0\n",
        "    self.done1=False\n",
        "    self.action=0\n",
        "    self.state=0\n",
        "    self.reward=0   \n",
        "    self.stepno=0\n",
        "    self.rewardsum=0\n",
        "    self.r1_got = False\n",
        "    self.r3_got = False\n",
        "\n",
        "  # for training\n",
        "  def action1(self,state1,epsilon,old_state):\n",
        "    \n",
        "    if np.random.rand()>epsilon:\n",
        "      old_state_t = torch.as_tensor(old_state,dtype=torch.float32)\n",
        "      return np.argmax(online_net.forward(old_state_t).tolist())\n",
        "    else:\n",
        "      return np.random.randint(4)\n",
        "  \n",
        "  # for evalution\n",
        "  def action2(self,state1,epsilon,old_state):\n",
        "\n",
        "    old_state_t = torch.as_tensor(old_state,dtype=torch.float32)\n",
        "    return np.argmax(online_net.forward(old_state_t).tolist())\n",
        "  \n",
        "  def takeaction(self,action):\n",
        "    if action == 0:  #Down\n",
        "        self.env.agent_pos[0] += 1\n",
        "    elif action == 1:  #Up\n",
        "        self.env.agent_pos[0] -= 1\n",
        "    elif action == 2:  #Right\n",
        "        self.env.agent_pos[1] += 1\n",
        "    elif action == 3:  #Left\n",
        "        self.env.agent_pos[1] -= 1\n",
        "    self.env.agent_pos = np.clip(self.env.agent_pos, 0, 3)\n",
        "    \n",
        "    if (self.env.agent_pos == self.env.goal_pos).all():\n",
        "        self.reward = 1\n",
        "    elif (self.env.agent_pos == self.env.r1).all():\n",
        "        if self.r1_got == False:\n",
        "          self.reward =0.4\n",
        "          self.r1_got = True\n",
        "        else:\n",
        "          self.reward = -0.5 #0  \n",
        "    elif (self.env.agent_pos == self.env.r2).all():\n",
        "        self.reward =-0.8 \n",
        "    elif (self.env.agent_pos == self.env.r3).all():\n",
        "        if self.r3_got == False:\n",
        "          self.reward =0.4\n",
        "          self.r3_got = True\n",
        "        else:\n",
        "          self.reward = -0.5 #0\n",
        "    else:\n",
        "        self.reward = -0.5 #0\n",
        "\n",
        "    self.env.timestep+=1\n",
        "    self.stepno+=1\n",
        "\n",
        "    return(self.env.agent_pos,self.reward)\n",
        "  \n",
        "  def training(self):\n",
        "\n",
        "    count_step = 1\n",
        "    for episode in range(6000):\n",
        "      self.reset()\n",
        "      while not self.done1:\n",
        "        \n",
        "        ###\n",
        "        old_state = self.get_agent_pos()\n",
        "        ###\n",
        "        action=self.action1(self.state,self.epsilon,old_state)\n",
        "        \n",
        "        self.env.agent_pos, reward = self.takeaction(action)\n",
        "        newstate=4*self.env.agent_pos[0]+self.env.agent_pos[1]  #state update\n",
        "        \n",
        "        self.state=newstate\n",
        "        self.rewardsum+=reward\n",
        "\n",
        "        \n",
        "        \n",
        "        if self.env.timestep >= self.env.max_timesteps:\n",
        "          self.done1 = True\n",
        "        elif (self.env.agent_pos == self.env.goal_pos).all():\n",
        "          self.done1 = True\n",
        "\n",
        "        ###\n",
        "        new_state = self.get_agent_pos()\n",
        "        ###\n",
        "        \n",
        "        if self.done1 == True:\n",
        "          done_i = 1\n",
        "        else:\n",
        "          done_i = 0\n",
        "\n",
        "        trans = (old_state,action,reward,done_i,new_state)\n",
        "        replay_buffer.append(trans)\n",
        "\n",
        "        if len(replay_buffer) > 550:\n",
        "          # sample random batch\n",
        "          rand_trans = random.sample(replay_buffer, 500)\n",
        "\n",
        "          # convert to array\n",
        "          obs_arr = np.array([t[0] for t in rand_trans])\n",
        "          act_arr = np.array([t[1] for t in rand_trans])\n",
        "          rew_arr = np.array([t[2] for t in rand_trans])\n",
        "          don_arr = np.array([t[3] for t in rand_trans])\n",
        "          nobs_arr = np.array([t[4] for t in rand_trans])\n",
        "\n",
        "          # convert to pytorch array\n",
        "          obs_t = torch.as_tensor(obs_arr,dtype=torch.float32)\n",
        "          act_t = torch.as_tensor(act_arr,dtype=torch.int64).unsqueeze(-1)\n",
        "          rew_t = torch.as_tensor(rew_arr,dtype=torch.float32).unsqueeze(-1)\n",
        "          don_t = torch.as_tensor(don_arr,dtype=torch.int64).unsqueeze(-1)\n",
        "          nobs_t = torch.as_tensor(nobs_arr,dtype=torch.float32)\n",
        "\n",
        "          # evalute online net \n",
        "          with torch.no_grad():\n",
        "            online_for_target_q = online_net.forward(nobs_t)\n",
        "          # evalute target net\n",
        "          with torch.no_grad():\n",
        "            target_q_value_t_arr = target_net.forward(nobs_t)\n",
        "\n",
        "          # find argmax of online net and use it to get q value in target net\n",
        "          iter = 0\n",
        "          target_q_value_arr = []\n",
        "          for ten in online_for_target_q:\n",
        "            action_argmax = torch.argmax(ten).item()\n",
        "            target_q_value_argmax = target_q_value_t_arr[iter,action_argmax]\n",
        "            target_q_value_arr.append(target_q_value_argmax)   \n",
        "            iter +=1\n",
        "\n",
        "          target_q_value_t = torch.as_tensor(np.array(target_q_value_t_arr),dtype=torch.float32)\n",
        "          target = rew_t + self.gamma*target_q_value_t\n",
        "\n",
        "          # get prediction\n",
        "          q_value_t = online_net.forward(obs_t)\n",
        "          action_q_value_t = torch.gather(input=q_value_t,dim=1,index=act_t)\n",
        "\n",
        "          # compute loss\n",
        "          loss = nn.functional.smooth_l1_loss(action_q_value_t,target)\n",
        "\n",
        "          # gradient discent\n",
        "          optimizer.zero_grad()\n",
        "          loss.backward()\n",
        "          optimizer.step()\n",
        "\n",
        "        count_step +=1\n",
        "        #match online net to target net every few time\n",
        "        if count_step % 500 == 0:\n",
        "          target_net.load_state_dict(online_net.state_dict())\n",
        "          count_step = 1\n",
        "            \n",
        "\n",
        "      if episode % 500 == 0:\n",
        "        print('episode = ',episode,'total_reward = ',self.rewardsum)\n",
        "      \n",
        "      self.stepstaken.append(self.stepno)\n",
        "      self.totalreward.append(self.rewardsum)\n",
        "      self.epsilondecay.append(self.epsilon)\n",
        "      self.epsilon*=self.decay\n",
        " \n",
        "  \n",
        "  def get_agent_pos(self):\n",
        "\n",
        "    pos = np.zeros((4,4)) \n",
        "      \n",
        "    for row in range(4):\n",
        "      for col in range(4):\n",
        "        if (row == self.env.agent_pos[0] and col == self.env.agent_pos[1]):\n",
        "          pos[row,col] = 1\n",
        "      \n",
        "    pos = pos.flatten()\n",
        "    return pos\n",
        "    # pos = np.array([0,0,0,0,0,0,0,0,0,0,0,0,0,0,0,0])   \n",
        "    # agent_pos = 4*self.env.agent_pos[0] + self.env.agent_pos[1]\n",
        "    # pos[int(agent_pos)] = 1.0\n",
        "    # # print(pos)\n",
        "    # return pos\n",
        " \n",
        "  def evaluation(self):\n",
        "    self.stepstaken=[]\n",
        "    self.totalreward=[]\n",
        "    for episode in range(10):\n",
        "      self.reset()\n",
        "      while not self.done1:\n",
        "        ###\n",
        "        old_state = self.get_agent_pos()\n",
        "        # print(old_state)\n",
        "        ###\n",
        "        action=self.action2(self.state,self.epsilon,old_state)\n",
        "        \n",
        "        self.env.agent_pos, reward = self.takeaction(action)\n",
        "        newstate=4*self.env.agent_pos[0]+self.env.agent_pos[1]  #state update\n",
        "        \n",
        "        self.state=newstate\n",
        "\n",
        "        self.rewardsum+=reward\n",
        "\n",
        "        # print(self.q_value)\n",
        "        \n",
        "        if self.env.timestep >= self.env.max_timesteps:\n",
        "          self.done1 = True\n",
        "        elif (self.env.agent_pos == self.env.goal_pos).all():\n",
        "          self.done1 = True\n",
        "\n",
        "      self.stepstaken.append(self.stepno)\n",
        "      self.totalreward.append(self.rewardsum)\n",
        "    "
      ],
      "metadata": {
        "id": "G9fLq5_dYup3"
      },
      "execution_count": 8,
      "outputs": []
    },
    {
      "cell_type": "code",
      "source": [
        ""
      ],
      "metadata": {
        "id": "B4Nd0oOYZJiE"
      },
      "execution_count": 8,
      "outputs": []
    },
    {
      "cell_type": "code",
      "source": [
        ""
      ],
      "metadata": {
        "id": "4erQzJscZJny"
      },
      "execution_count": 8,
      "outputs": []
    },
    {
      "cell_type": "code",
      "source": [
        "def ddqnLimplemetation():\n",
        "    print('Implementing Q learning:\\n')\n",
        "    table1=ddqn_learning()\n",
        "    table1.training()\n",
        "    #print('Q table values after training:')\n",
        "    #print(table1.q_values)\n",
        "\n",
        "    plot1 = plt.figure(1)\n",
        "    plt.xlabel('Episodes')\n",
        "    plt.title('Double DQN learning results after training for deterministic environment')\n",
        "    plt.plot(table1.totalreward)\n",
        "    plt.plot(table1.stepstaken)\n",
        "    plt.legend(['Reward per episode','Steps per episode'],loc='best')\n",
        "\n",
        "    plot2 = plt.figure(2)\n",
        "    plt.plot(table1.epsilondecay)\n",
        "    plt.xlabel('Episodes')\n",
        "    plt.ylabel('Epsilon')\n",
        "    #print(table1.q_values)\n",
        "    \n",
        "    print('Q table values after evaluation:')\n",
        "    table1.evaluation()\n",
        "\n",
        "    plot3=plt.figure(3)\n",
        "    plt.xlabel('Episodes')\n",
        "    plt.title('Double DQN learning results after evaluation for deterministic environment:')\n",
        "    plt.plot(table1.totalreward)\n",
        "    plt.plot(table1.stepstaken)\n",
        "    plt.legend(['Reward per episode','Steps per episode'],loc='best')\n",
        "    plt.show()\n"
      ],
      "metadata": {
        "id": "ASMDs19vjhG1"
      },
      "execution_count": 9,
      "outputs": []
    },
    {
      "cell_type": "code",
      "source": [
        "if __name__ == \"__main__\":\n",
        "  ddqnLimplemetation()\n",
        "  "
      ],
      "metadata": {
        "colab": {
          "base_uri": "https://localhost:8080/",
          "height": 1000
        },
        "id": "l4Zv-wB5h5dn",
        "outputId": "e9e13fce-9a56-46f2-84bd-80457b15ed28"
      },
      "execution_count": 10,
      "outputs": [
        {
          "output_type": "stream",
          "name": "stdout",
          "text": [
            "Implementing Q learning:\n",
            "\n",
            "episode =  0 total_reward =  -6.1\n"
          ]
        },
        {
          "output_type": "stream",
          "name": "stderr",
          "text": [
            "/usr/local/lib/python3.7/dist-packages/ipykernel_launcher.py:162: UserWarning: Using a target size (torch.Size([500, 4])) that is different to the input size (torch.Size([500, 1])). This will likely lead to incorrect results due to broadcasting. Please ensure they have the same size.\n"
          ]
        },
        {
          "output_type": "stream",
          "name": "stdout",
          "text": [
            "episode =  500 total_reward =  -7.5\n",
            "episode =  1000 total_reward =  -1.2000000000000002\n",
            "episode =  1500 total_reward =  -0.7000000000000002\n",
            "episode =  2000 total_reward =  0.30000000000000004\n",
            "episode =  2500 total_reward =  -0.7000000000000002\n",
            "episode =  3000 total_reward =  0.30000000000000004\n",
            "episode =  3500 total_reward =  0.30000000000000004\n",
            "episode =  4000 total_reward =  0.30000000000000004\n",
            "episode =  4500 total_reward =  0.30000000000000004\n",
            "episode =  5000 total_reward =  0.30000000000000004\n",
            "episode =  5500 total_reward =  0.30000000000000004\n",
            "Q table values after evaluation:\n"
          ]
        },
        {
          "output_type": "display_data",
          "data": {
            "text/plain": [
              "<Figure size 432x288 with 1 Axes>"
            ],
            "image/png": "[encoded data removed]"
          },
          "metadata": {
            "needs_background": "light"
          }
        },
        {
          "output_type": "display_data",
          "data": {
            "text/plain": [
              "<Figure size 432x288 with 1 Axes>"
            ],
            "image/png": "[encoded data removed]"
          },
          "metadata": {
            "needs_background": "light"
          }
        },
        {
          "output_type": "display_data",
          "data": {
            "text/plain": [
              "<Figure size 432x288 with 1 Axes>"
            ],
            "image/png": "[encoded data removed]"
          },
          "metadata": {
            "needs_background": "light"
          }
        }
      ]
    }
  ]
}