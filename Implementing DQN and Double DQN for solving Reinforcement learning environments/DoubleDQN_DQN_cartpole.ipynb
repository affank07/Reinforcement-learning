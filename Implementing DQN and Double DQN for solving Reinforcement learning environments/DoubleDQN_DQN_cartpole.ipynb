{
  "nbformat": 4,
  "nbformat_minor": 0,
  "metadata": {
    "colab": {
      "name": "DoubleDQN_DQN_cartpole.ipynb",
      "provenance": [],
      "collapsed_sections": []
    },
    "kernelspec": {
      "name": "python3",
      "display_name": "Python 3"
    },
    "language_info": {
      "name": "python"
    }
  },
  "cells": [
    {
      "cell_type": "markdown",
      "source": [
        "###ACADEMIC INTEGRIY STATEMENT\n",
        "\n",
        "I certify that the code and data in this assignment were generated independently, using only the tools and resources defined in the course and that I did not receive any external help, coaching or contributions during the production of this work"
      ],
      "metadata": {
        "id": "SAnNQxW7YD3z"
      }
    },
    {
      "cell_type": "code",
      "execution_count": null,
      "metadata": {
        "colab": {
          "base_uri": "https://localhost:8080/"
        },
        "id": "7PtQqYSYZ7q_",
        "outputId": "4ae59116-d131-4c4a-b2c3-9800a8c6b6a2"
      },
      "outputs": [
        {
          "output_type": "stream",
          "name": "stdout",
          "text": [
            "Reading package lists... Done\n",
            "Building dependency tree       \n",
            "Reading state information... Done\n",
            "Suggested packages:\n",
            "  libgle3\n",
            "The following NEW packages will be installed:\n",
            "  python-opengl\n",
            "0 upgraded, 1 newly installed, 0 to remove and 39 not upgraded.\n",
            "Need to get 496 kB of archives.\n",
            "After this operation, 5,416 kB of additional disk space will be used.\n",
            "Get:1 http://archive.ubuntu.com/ubuntu bionic/universe amd64 python-opengl all 3.1.0+dfsg-1 [496 kB]\n",
            "Fetched 496 kB in 0s (1,908 kB/s)\n",
            "Selecting previously unselected package python-opengl.\n",
            "(Reading database ... 155455 files and directories currently installed.)\n",
            "Preparing to unpack .../python-opengl_3.1.0+dfsg-1_all.deb ...\n",
            "Unpacking python-opengl (3.1.0+dfsg-1) ...\n",
            "Setting up python-opengl (3.1.0+dfsg-1) ...\n",
            "Reading package lists... Done\n",
            "Building dependency tree       \n",
            "Reading state information... Done\n",
            "The following NEW packages will be installed:\n",
            "  xvfb\n",
            "0 upgraded, 1 newly installed, 0 to remove and 39 not upgraded.\n",
            "Need to get 784 kB of archives.\n",
            "After this operation, 2,271 kB of additional disk space will be used.\n",
            "Get:1 http://archive.ubuntu.com/ubuntu bionic-updates/universe amd64 xvfb amd64 2:1.19.6-1ubuntu4.10 [784 kB]\n",
            "Fetched 784 kB in 0s (3,175 kB/s)\n",
            "Selecting previously unselected package xvfb.\n",
            "(Reading database ... 157810 files and directories currently installed.)\n",
            "Preparing to unpack .../xvfb_2%3a1.19.6-1ubuntu4.10_amd64.deb ...\n",
            "Unpacking xvfb (2:1.19.6-1ubuntu4.10) ...\n",
            "Setting up xvfb (2:1.19.6-1ubuntu4.10) ...\n",
            "Processing triggers for man-db (2.8.3-2ubuntu0.1) ...\n"
          ]
        }
      ],
      "source": [
        "!apt-get install python-opengl -y\n",
        "!apt install xvfb -y"
      ]
    },
    {
      "cell_type": "code",
      "source": [
        "import urllib.request\n",
        "urllib.request.urlretrieve('http://www.atarimania.com/roms/Roms.rar','Roms.rar')\n",
        "!pip install unrar\n",
        "!unrar x Roms.rar\n",
        "!mkdir rars\n",
        "!mv HC\\ ROMS.zip   rars\n",
        "!mv ROMS.zip  rars\n",
        "!python -m atari_py.import_roms rars"
      ],
      "metadata": {
        "id": "nbVgde1BfJyH"
      },
      "execution_count": null,
      "outputs": []
    },
    {
      "cell_type": "code",
      "source": [
        "!pip install gym\n",
        "!pip install pyvirtualdisplay\n",
        "!pip install piglet\n",
        "!pip install pyglet"
      ],
      "metadata": {
        "id": "i-tqyKJfaEOc",
        "colab": {
          "base_uri": "https://localhost:8080/"
        },
        "outputId": "78713a48-da3f-4445-b1b9-42793384566e"
      },
      "execution_count": null,
      "outputs": [
        {
          "output_type": "stream",
          "name": "stdout",
          "text": [
            "Requirement already satisfied: gym in /usr/local/lib/python3.7/dist-packages (0.17.3)\n",
            "Requirement already satisfied: scipy in /usr/local/lib/python3.7/dist-packages (from gym) (1.4.1)\n",
            "Requirement already satisfied: pyglet<=1.5.0,>=1.4.0 in /usr/local/lib/python3.7/dist-packages (from gym) (1.5.0)\n",
            "Requirement already satisfied: numpy>=1.10.4 in /usr/local/lib/python3.7/dist-packages (from gym) (1.21.5)\n",
            "Requirement already satisfied: cloudpickle<1.7.0,>=1.2.0 in /usr/local/lib/python3.7/dist-packages (from gym) (1.3.0)\n",
            "Requirement already satisfied: future in /usr/local/lib/python3.7/dist-packages (from pyglet<=1.5.0,>=1.4.0->gym) (0.16.0)\n",
            "Collecting pyvirtualdisplay\n",
            "  Downloading PyVirtualDisplay-3.0-py3-none-any.whl (15 kB)\n",
            "Installing collected packages: pyvirtualdisplay\n",
            "Successfully installed pyvirtualdisplay-3.0\n",
            "Collecting piglet\n",
            "  Downloading piglet-1.0.0-py2.py3-none-any.whl (2.2 kB)\n",
            "Collecting piglet-templates\n",
            "  Downloading piglet_templates-1.2.0-py3-none-any.whl (67 kB)\n",
            "\u001b[K     |████████████████████████████████| 67 kB 1.8 MB/s \n",
            "\u001b[?25hRequirement already satisfied: astunparse in /usr/local/lib/python3.7/dist-packages (from piglet-templates->piglet) (1.6.3)\n",
            "Requirement already satisfied: attrs in /usr/local/lib/python3.7/dist-packages (from piglet-templates->piglet) (21.4.0)\n",
            "Requirement already satisfied: pyparsing in /usr/local/lib/python3.7/dist-packages (from piglet-templates->piglet) (3.0.8)\n",
            "Requirement already satisfied: markupsafe in /usr/local/lib/python3.7/dist-packages (from piglet-templates->piglet) (2.0.1)\n",
            "Requirement already satisfied: wheel<1.0,>=0.23.0 in /usr/local/lib/python3.7/dist-packages (from astunparse->piglet-templates->piglet) (0.37.1)\n",
            "Requirement already satisfied: six<2.0,>=1.6.1 in /usr/local/lib/python3.7/dist-packages (from astunparse->piglet-templates->piglet) (1.15.0)\n",
            "Installing collected packages: piglet-templates, piglet\n",
            "Successfully installed piglet-1.0.0 piglet-templates-1.2.0\n",
            "Requirement already satisfied: pyglet in /usr/local/lib/python3.7/dist-packages (1.5.0)\n",
            "Requirement already satisfied: future in /usr/local/lib/python3.7/dist-packages (from pyglet) (0.16.0)\n"
          ]
        }
      ]
    },
    {
      "cell_type": "code",
      "source": [
        "import pyglet\n",
        "\n",
        "import gym\n",
        "import matplotlib.pyplot as plt\n",
        "from gym import wrappers\n",
        "from gym import logger as gymlogger\n",
        "from gym import spaces\n",
        "from gym.wrappers import Monitor\n",
        "\n",
        "import numpy as np\n",
        "import random\n",
        "import time\n",
        "from enum import Enum\n",
        "import matplotlib\n",
        "import matplotlib.pyplot as plt\n",
        "from google.colab import widgets\n",
        "import math\n",
        "import glob\n",
        "import io\n",
        "import base64\n",
        "from IPython.display import HTML\n",
        "from IPython import display as ipythondisplay\n",
        "from IPython.display import clear_output\n",
        "\n",
        "gymlogger.set_level(40)\n",
        "\n",
        "%matplotlib inline"
      ],
      "metadata": {
        "id": "pDLjrvFraJx9"
      },
      "execution_count": null,
      "outputs": []
    },
    {
      "cell_type": "code",
      "source": [
        "import numpy as np\n",
        "import matplotlib.pyplot as plt\n",
        "import gym\n",
        "from gym import spaces\n",
        "from google.colab import widgets\n",
        "import time\n",
        "from torch import nn\n",
        "import torch\n",
        "from collections import deque\n",
        "import random"
      ],
      "metadata": {
        "id": "wjF9dbzXKrqG"
      },
      "execution_count": null,
      "outputs": []
    },
    {
      "cell_type": "code",
      "source": [
        "from pyvirtualdisplay import Display\n",
        "display = Display(visible=0, size=(1400, 900))\n",
        "display.start()"
      ],
      "metadata": {
        "colab": {
          "base_uri": "https://localhost:8080/"
        },
        "id": "qYc1Mc5uaL33",
        "outputId": "32942200-bc6f-440e-8b0c-5e46414bc5d4"
      },
      "execution_count": null,
      "outputs": [
        {
          "output_type": "execute_result",
          "data": {
            "text/plain": [
              "<pyvirtualdisplay.display.Display at 0x7f4a4e475c90>"
            ]
          },
          "metadata": {},
          "execution_count": 6
        }
      ]
    },
    {
      "cell_type": "code",
      "source": [
        "import os\n",
        "if type(os.environ.get(\"DISPLAY\")) is not str or len(os.environ.get(\"DISPLAY\"))==0:\n",
        "    !bash ../xvfb start\n",
        "    %env DISPLAY=:1"
      ],
      "metadata": {
        "id": "7af6kdqRaWA9"
      },
      "execution_count": null,
      "outputs": []
    },
    {
      "cell_type": "code",
      "source": [
        "def show_video():\n",
        "  mp4list = glob.glob('video/*.mp4')\n",
        "  if len(mp4list) > 0:\n",
        "    mp4 = mp4list[0]\n",
        "    video = io.open(mp4, 'r+b').read()\n",
        "    encoded = base64.b64encode(video)\n",
        "    ipythondisplay.display(HTML(data='''<video alt=\"test\" autoplay \n",
        "                loop controls style=\"height: 400px;\">\n",
        "                <source src=\"data:video/mp4;base64,{0}\" type=\"video/mp4\" />\n",
        "             </video>'''.format(encoded.decode('ascii'))))\n",
        "  else: \n",
        "    print(\"Could not find video\")\n",
        "    \n",
        "\n",
        "def wrap_env(env):\n",
        "  env = Monitor(env, './video', force=True)\n",
        "  return env"
      ],
      "metadata": {
        "id": "UDMDnuppaf-e"
      },
      "execution_count": null,
      "outputs": []
    },
    {
      "cell_type": "code",
      "source": [
        "env1 = gym.make('CartPole-v1')\n",
        "env1.reset()\n",
        "plt.imshow(env1.render('rgb_array'))\n",
        "print(env1.action_space)\n",
        "print(env1.observation_space)"
      ],
      "metadata": {
        "colab": {
          "base_uri": "https://localhost:8080/",
          "height": 304
        },
        "id": "jWdp7Km8aiyZ",
        "outputId": "0d13a35c-b4a1-4a10-a652-a3a3e1edf892"
      },
      "execution_count": null,
      "outputs": [
        {
          "output_type": "stream",
          "name": "stdout",
          "text": [
            "Discrete(2)\n",
            "Box(-3.4028234663852886e+38, 3.4028234663852886e+38, (4,), float32)\n"
          ]
        },
        {
          "output_type": "display_data",
          "data": {
            "text/plain": [
              "<Figure size 432x288 with 1 Axes>"
            ],
            "image/png": "[encoded data removed]"
          },
          "metadata": {
            "needs_background": "light"
          }
        }
      ]
    },
    {
      "cell_type": "code",
      "source": [
        "# for DQN\n",
        "class Network(nn.Module):\n",
        "  def __init__(self,env, states, action):\n",
        "    super(Network, self).__init__()\n",
        "    self.net = nn.Sequential(nn.Linear(states, 32), nn.ReLU(),nn.Linear(32, 32), nn.ReLU(),nn.Linear(32, action))\n",
        "  \n",
        "  def forward(self,x):\n",
        "    return self.net(x)\n",
        "  \n",
        "  def act(self,obs):\n",
        "    pass   \n",
        "\n",
        "# for Double DQN\n",
        "class Network_ddqn(nn.Module):\n",
        "  def __init__(self,env, states, action):\n",
        "    super(Network, self).__init__()\n",
        "    self.net = nn.Sequential(nn.Linear(states, 32), nn.ReLU(),nn.Linear(32, 32), nn.ReLU(),nn.Linear(32, action))\n",
        "  \n",
        "  def forward(self,x):\n",
        "    return self.net(x)\n",
        "  \n",
        "  def act(self,obs):\n",
        "    pass       \n",
        "###"
      ],
      "metadata": {
        "id": "oOF9SSVkRRl2"
      },
      "execution_count": null,
      "outputs": []
    },
    {
      "cell_type": "code",
      "source": [
        "env = gym.make('CartPole-v1')"
      ],
      "metadata": {
        "id": "mEZ9ph1IRyvR"
      },
      "execution_count": null,
      "outputs": []
    },
    {
      "cell_type": "code",
      "source": [
        "class RandomAgent:\n",
        "  def __init__(self, env):\n",
        "    self.env = env\n",
        "    self.observation_space = env.observation_space\n",
        "    self.action_space = env.action_space\n",
        "\n",
        "  def step(self, observation):\n",
        "    return np.random.choice(self.action_space.n)"
      ],
      "metadata": {
        "id": "2Ccwwid7kOyj"
      },
      "execution_count": null,
      "outputs": []
    },
    {
      "cell_type": "code",
      "source": [
        "### For DQN\n",
        "online_net = Network(env, env.observation_space.shape[0], env.action_space.n)\n",
        "target_net = Network(env, env.observation_space.shape[0], env.action_space.n)\n",
        "\n",
        "# declare replay buffer\n",
        "replay_buffer = deque(maxlen=5000)\n",
        "\n",
        "# assign the same parameters of online net to target net\n",
        "target_net.load_state_dict(online_net.state_dict())\n",
        "\n",
        "# define optimizer\n",
        "optimizer = torch.optim.Adam(online_net.parameters(), lr=0.001) # 0.005\n"
      ],
      "metadata": {
        "id": "VSRdTjWZkY3Z"
      },
      "execution_count": null,
      "outputs": []
    },
    {
      "cell_type": "code",
      "source": [
        "# episodes=100\n",
        "\n",
        "# for episode in range(episodes):\n",
        "#     old_state = env.reset()\n",
        "#     done = False\n",
        "#     total = 0\n",
        "#     while not done:\n",
        "#         # Sample random actions\n",
        "#         action = env.action_space.sample()\n",
        "#         # Take action and extract results\n",
        "#         new_state, reward, done, _ = env.step(action)\n",
        "#         total += reward\n",
        "#         done_i = int(done == True) \n",
        "#         trans = (old_state,action,reward,done_i,new_state)\n",
        "#         replay_buffer.append(trans)\n",
        "#         old_state=new_state\n",
        "#         if done:\n",
        "#             break\n",
        "# print(len(replay_buffer))"
      ],
      "metadata": {
        "id": "NPR3x7T2sN0i"
      },
      "execution_count": null,
      "outputs": []
    },
    {
      "cell_type": "code",
      "source": [
        "class q_learning:\n",
        "\n",
        "  def __init__(self,env):\n",
        "    self.env = env\n",
        "    self.env.reset()\n",
        "    self.agent = RandomAgent(self.env)\n",
        "    self.q_values_tar=np.zeros((env.observation_space.shape[0],env.action_space.n))\n",
        "    self.q_values =np.zeros((env.observation_space.shape[0],env.action_space.n))\n",
        "    self.totalreward=[]\n",
        "    self.stepstaken=[]\n",
        "    self.stepno=0\n",
        "    self.epsilondecay=[]\n",
        "    self.epsilon=1\n",
        "    self.lr=0.001\n",
        "    self.gamma=0.9\n",
        "    self.decay=0.99655           #ep 0.001 - 0.99885              # 2000 - 0.9978 #6000 - 0.9993\n",
        "    self.rewardsum=0\n",
        "    # self.r1_got = False\n",
        "    # self.r3_got = False\n",
        "\n",
        "  # for training\n",
        "  def action1(self,old_state,epsilon):\n",
        "    \n",
        "    if np.random.rand()>epsilon:\n",
        "      old_state_t = torch.as_tensor(old_state,dtype=torch.float32)\n",
        "      #print(online_net.forward(old_state_t).tolist())\n",
        "      return np.argmax(online_net.forward(old_state_t).tolist())\n",
        "    else:\n",
        "      return np.random.randint(env.action_space.n)\n",
        "  \n",
        "  # for evalution\n",
        "  def action2(self,old_state,epsilon):\n",
        "\n",
        "    old_state_t = torch.as_tensor(old_state,dtype=torch.float32)\n",
        "    return np.argmax(online_net.forward(old_state_t).tolist())\n",
        "\n",
        "  def training(self):\n",
        "    \n",
        "    count_step = 1\n",
        "    for episode in range(2000):\n",
        "      self.rewardsum = 0\n",
        "      old_state = env.reset()\n",
        "      done = False\n",
        "      self.stepno=0\n",
        "      while not done:\n",
        "        action=self.action1(old_state,self.epsilon)\n",
        "        new_state, reward, done, info = env.step(action)\n",
        "        self.rewardsum+=reward\n",
        "\n",
        "        \n",
        "        if done == True:\n",
        "          done_i = 1\n",
        "        else:\n",
        "          done_i = 0\n",
        "        trans = (old_state,action,reward,done_i,new_state)\n",
        "        old_state=new_state\n",
        "        replay_buffer.append(trans)\n",
        "        count_step +=1\n",
        "\n",
        "        if len(replay_buffer) > 130:\n",
        "          rand_trans = random.sample(replay_buffer, 128)\n",
        "          obs_arr = np.array([t[0] for t in rand_trans])\n",
        "          act_arr = np.array([t[1] for t in rand_trans])\n",
        "          rew_arr = np.array([t[2] for t in rand_trans])\n",
        "          don_arr = np.array([t[3] for t in rand_trans])\n",
        "          nobs_arr = np.array([t[4] for t in rand_trans])\n",
        "\n",
        "          # convert to pytorch array\n",
        "          obs_t = torch.as_tensor(obs_arr,dtype=torch.float32)\n",
        "          act_t = torch.as_tensor(act_arr,dtype=torch.int64).unsqueeze(-1)\n",
        "          rew_t = torch.as_tensor(rew_arr,dtype=torch.float32).unsqueeze(-1)\n",
        "          don_t = torch.as_tensor(don_arr,dtype=torch.int64).unsqueeze(-1)\n",
        "          nobs_t = torch.as_tensor(nobs_arr,dtype=torch.float32)\n",
        "\n",
        "          #compute target\n",
        "          with torch.no_grad():\n",
        "            target_q_value_t = target_net.forward(nobs_t)\n",
        "          max_target_q_value = target_q_value_t.max(dim=1,keepdim=True)[0]            \n",
        "          target = rew_t + self.gamma*(1-don_t)*max_target_q_value\n",
        "\n",
        "          # get prediction\n",
        "          q_value_t = online_net.forward(obs_t)\n",
        "          action_q_value_t = torch.gather(input=q_value_t,dim=1,index=act_t)\n",
        "\n",
        "          # compute loss\n",
        "          loss = nn.functional.smooth_l1_loss(action_q_value_t,target)\n",
        "\n",
        "          # gradient discent\n",
        "          optimizer.zero_grad()\n",
        "          loss.backward()\n",
        "          optimizer.step()\n",
        "\n",
        "        #match online net to target net every few time\n",
        "        if count_step % 1000 == 0: #50\n",
        "          target_net.load_state_dict(online_net.state_dict())\n",
        "          count_step = 1\n",
        "            \n",
        "\n",
        "      if episode % 100 == 0:\n",
        "        print('episode = ',episode,'total_reward = ',self.rewardsum)\n",
        "      \n",
        "      self.stepstaken.append(self.stepno)\n",
        "      self.totalreward.append(self.rewardsum)\n",
        "      average_reward=0\n",
        "      if episode>10:\n",
        "        for i in range(10):\n",
        "          average_reward+=self.totalreward[episode-i]\n",
        "      if (average_reward/10)>=460:\n",
        "        break\n",
        "      self.epsilondecay.append(self.epsilon)\n",
        "      self.epsilon*=self.decay\n",
        "\n",
        "  def evaluation(self):\n",
        "    self.stepstaken=[]\n",
        "    self.totalreward=[]\n",
        "    for episode in range(10):\n",
        "      self.rewardsum = 0\n",
        "      old_state = env.reset()\n",
        "      done = False\n",
        "      self.stepno=0\n",
        "      while not done:\n",
        "\n",
        "        # get current/old state\n",
        "        #old_state = observation\n",
        "        \n",
        "        # choose action based on e-greedy        \n",
        "        action=self.action2(old_state,self.epsilon)\n",
        "        \n",
        "        # take step\n",
        "        new_observation, rew, done, info = env.step(action)\n",
        "        \n",
        "        #get reward based on reward function\n",
        "        reward = rew\n",
        "        \n",
        "        self.rewardsum+=reward\n",
        "        self.stepno+=1\n",
        "\n",
        "        self.done1 = done\n",
        "\n",
        "        # pass new observation as old observation for next iteration\n",
        "        old_state = new_observation\n",
        "\n",
        "      self.stepstaken.append(self.stepno)\n",
        "      self.totalreward.append(self.rewardsum)"
      ],
      "metadata": {
        "id": "TOXF95ISytID"
      },
      "execution_count": null,
      "outputs": []
    },
    {
      "cell_type": "code",
      "source": [
        "class ddqn_learning:\n",
        "\n",
        "  def __init__(self,env):\n",
        "    self.env = env\n",
        "    self.env.reset()\n",
        "    self.agent = RandomAgent(self.env)\n",
        "    self.q_values_tar=np.zeros((env.observation_space.shape[0],env.action_space.n))\n",
        "    self.q_values =np.zeros((env.observation_space.shape[0],env.action_space.n))\n",
        "    self.totalreward=[]\n",
        "    self.stepstaken=[]\n",
        "    self.stepno=0\n",
        "    self.epsilondecay=[]\n",
        "    self.epsilon=1\n",
        "    self.lr=0.001\n",
        "    self.gamma=0.9\n",
        "    self.decay=0.99655           #ep 0.001 - 0.99885              # 2000 - 0.9978 #6000 - 0.9993\n",
        "    self.rewardsum=0\n",
        "    # self.r1_got = False\n",
        "    # self.r3_got = False\n",
        "\n",
        "  # for training\n",
        "  def action1(self,old_state,epsilon):\n",
        "    \n",
        "    if np.random.rand()>epsilon:\n",
        "      old_state_t = torch.as_tensor(old_state,dtype=torch.float32)\n",
        "      #print(online_net.forward(old_state_t).tolist())\n",
        "      return np.argmax(online_net.forward(old_state_t).tolist())\n",
        "    else:\n",
        "      return np.random.randint(env.action_space.n)\n",
        "  \n",
        "  # for evalution\n",
        "  def action2(self,old_state,epsilon):\n",
        "\n",
        "    old_state_t = torch.as_tensor(old_state,dtype=torch.float32)\n",
        "    return np.argmax(online_net.forward(old_state_t).tolist())\n",
        "\n",
        "  def training(self):\n",
        "    \n",
        "    count_step = 1\n",
        "    for episode in range(2000):\n",
        "      self.rewardsum = 0\n",
        "      old_state = env.reset()\n",
        "      done = False\n",
        "      self.stepno=0\n",
        "      while not done:\n",
        "        action=self.action1(old_state,self.epsilon)\n",
        "        new_state, reward, done, info = env.step(action)\n",
        "        self.rewardsum+=reward\n",
        "\n",
        "        \n",
        "        if done == True:\n",
        "          done_i = 1\n",
        "        else:\n",
        "          done_i = 0\n",
        "        trans = (old_state,action,reward,done_i,new_state)\n",
        "        old_state=new_state\n",
        "        replay_buffer.append(trans)\n",
        "        count_step +=1\n",
        "\n",
        "        if len(replay_buffer) > 130:\n",
        "          rand_trans = random.sample(replay_buffer, 128)\n",
        "          obs_arr = np.array([t[0] for t in rand_trans])\n",
        "          act_arr = np.array([t[1] for t in rand_trans])\n",
        "          rew_arr = np.array([t[2] for t in rand_trans])\n",
        "          don_arr = np.array([t[3] for t in rand_trans])\n",
        "          nobs_arr = np.array([t[4] for t in rand_trans])\n",
        "\n",
        "          # convert to pytorch array\n",
        "          obs_t = torch.as_tensor(obs_arr,dtype=torch.float32)\n",
        "          act_t = torch.as_tensor(act_arr,dtype=torch.int64).unsqueeze(-1)\n",
        "          rew_t = torch.as_tensor(rew_arr,dtype=torch.float32).unsqueeze(-1)\n",
        "          don_t = torch.as_tensor(don_arr,dtype=torch.int64).unsqueeze(-1)\n",
        "          nobs_t = torch.as_tensor(nobs_arr,dtype=torch.float32)\n",
        "\n",
        "          #compute target\n",
        "          with torch.no_grad():\n",
        "            online_for_target_q = online_net.forward(nobs_t)\n",
        "          # evalute target net\n",
        "          with torch.no_grad():\n",
        "            target_q_value_t_arr = target_net.forward(nobs_t)\n",
        "\n",
        "          # find argmax of online net and use it to get q value in target net\n",
        "          iter = 0\n",
        "          target_q_value_arr = []\n",
        "          for ten in online_for_target_q:\n",
        "            action_argmax = torch.argmax(ten).item()\n",
        "            target_q_value_argmax = target_q_value_t_arr[iter,action_argmax]\n",
        "            target_q_value_arr.append(target_q_value_argmax)   \n",
        "            # print('iter',iter)\n",
        "            # print('online net q values: ',ten)\n",
        "            # print('online argmax action: ',action_argmax)\n",
        "            # print('target net action from online argmax action',target_q_value_argmax)\n",
        "            # print('array to be used to compute target',target_q_value_arr)\n",
        "            iter +=1\n",
        "\n",
        "          target_q_value_t = torch.as_tensor(np.array(target_q_value_t_arr),dtype=torch.float32)\n",
        "          target = rew_t + self.gamma*target_q_value_t\n",
        "\n",
        "          # get prediction\n",
        "          q_value_t = online_net.forward(obs_t)\n",
        "          action_q_value_t = torch.gather(input=q_value_t,dim=1,index=act_t)\n",
        "\n",
        "          # compute loss\n",
        "          loss = nn.functional.smooth_l1_loss(action_q_value_t,target)\n",
        "\n",
        "          # gradient discent\n",
        "          optimizer.zero_grad()\n",
        "          loss.backward()\n",
        "          optimizer.step()\n",
        "\n",
        "        #match online net to target net every few time\n",
        "        if count_step % 1000 == 0: #50\n",
        "          target_net.load_state_dict(online_net.state_dict())\n",
        "          count_step = 1\n",
        "            \n",
        "\n",
        "      if episode % 100 == 0:\n",
        "        print('episode = ',episode,'total_reward = ',self.rewardsum)\n",
        "      \n",
        "      self.stepstaken.append(self.stepno)\n",
        "      self.totalreward.append(self.rewardsum)\n",
        "      average_reward=0\n",
        "      if episode>10:\n",
        "        for i in range(10):\n",
        "          average_reward+=self.totalreward[episode-i]\n",
        "      if (average_reward/10)>=460:\n",
        "        break\n",
        "      self.epsilondecay.append(self.epsilon)\n",
        "      self.epsilon*=self.decay\n",
        "\n",
        "  def evaluation(self):\n",
        "    self.stepstaken=[]\n",
        "    self.totalreward=[]\n",
        "    for episode in range(10):\n",
        "      self.rewardsum = 0\n",
        "      old_state = env.reset()\n",
        "      done = False\n",
        "      self.stepno=0\n",
        "      while not done:\n",
        "\n",
        "        # get current/old state\n",
        "        #old_state = observation\n",
        "        \n",
        "        # choose action based on e-greedy        \n",
        "        action=self.action2(old_state,self.epsilon)\n",
        "        \n",
        "        # take step\n",
        "        new_observation, rew, done, info = env.step(action)\n",
        "        \n",
        "        #get reward based on reward function\n",
        "        reward = rew\n",
        "        \n",
        "        self.rewardsum+=reward\n",
        "        self.stepno+=1\n",
        "\n",
        "        self.done1 = done\n",
        "\n",
        "        # pass new observation as old observation for next iteration\n",
        "        old_state = new_observation\n",
        "\n",
        "      self.stepstaken.append(self.stepno)\n",
        "      self.totalreward.append(self.rewardsum)"
      ],
      "metadata": {
        "id": "N6hmPNjjNROI"
      },
      "execution_count": null,
      "outputs": []
    },
    {
      "cell_type": "code",
      "source": [
        "def QLimplemetation():\n",
        "    print('Implementing DQN learning:\\n')\n",
        "    table1=q_learning(env)\n",
        "    table1.training()\n",
        "\n",
        "    print('Implementing Double DQN learning:\\n')\n",
        "    table2=ddqn_learning(env)\n",
        "    table2.training()\n",
        "\n",
        "    plot1 = plt.figure(1)\n",
        "    plt.xlabel('Episodes')\n",
        "    plt.title('DQN learning results after training for Cartpole')\n",
        "    plt.plot(table1.totalreward)\n",
        "    # plt.plot(table1.stepstaken)\n",
        "    # plt.legend(['Reward per episode','Steps per episode'],loc='best')\n",
        "\n",
        "    plot2 = plt.figure(2)\n",
        "    plt.xlabel('Episodes')\n",
        "    plt.title('Double DQN learning results during training for for Cartpole')\n",
        "    plt.plot(table2.totalreward)\n",
        "\n",
        "    plot3 = plt.figure(3)\n",
        "    plt.xlabel('Episodes')\n",
        "    plt.title('Compare between DQN and Double DQN during training for for Cartpole')\n",
        "    plt.plot(table1.totalreward)\n",
        "    plt.plot(table2.totalreward)\n",
        "    plt.legend(['DQN','Double DQN'],loc='best')\n",
        "\n",
        "    plot4 = plt.figure(4)\n",
        "    plt.plot(table1.epsilondecay)\n",
        "    plt.xlabel('Episodes')\n",
        "    plt.ylabel('Epsilon decay for DQN')\n",
        "\n",
        "    plot5 = plt.figure(5)\n",
        "    plt.plot(table2.epsilondecay)\n",
        "    plt.xlabel('Episodes')\n",
        "    plt.ylabel('Epsilon decay for Double DQN')\n",
        "\n",
        "    print('Evaluation results:')\n",
        "    table1.evaluation()\n",
        "    table2.evaluation()\n",
        "\n",
        "    plot6=plt.figure(6)\n",
        "    plt.xlabel('Episodes')\n",
        "    plt.title('Compare between DQN and Double DQN during evaluation for for Cartpole:')\n",
        "    plt.plot(table1.totalreward)\n",
        "    plt.plot(table2.totalreward)\n",
        "    plt.legend(['DQN','Double DQN'],loc='best')\n",
        "    # plt.plot(table1.stepstaken)\n",
        "    # plt.legend(['Reward per episode','Steps per episode'],loc='best')\n",
        "    plt.show()\n"
      ],
      "metadata": {
        "id": "xmveAMgT408V"
      },
      "execution_count": null,
      "outputs": []
    },
    {
      "cell_type": "code",
      "source": [
        "if __name__ == \"__main__\":\n",
        "  QLimplemetation()"
      ],
      "metadata": {
        "id": "YQC2Ubs-_GXU",
        "colab": {
          "base_uri": "https://localhost:8080/",
          "height": 1000
        },
        "outputId": "06f2249d-7016-4493-e1f0-7719132595ef"
      },
      "execution_count": null,
      "outputs": [
        {
          "output_type": "stream",
          "name": "stdout",
          "text": [
            "Implementing DQN learning:\n",
            "\n",
            "episode =  0 total_reward =  16.0\n",
            "episode =  100 total_reward =  55.0\n",
            "episode =  200 total_reward =  13.0\n",
            "episode =  300 total_reward =  25.0\n",
            "episode =  400 total_reward =  109.0\n",
            "episode =  500 total_reward =  253.0\n",
            "episode =  600 total_reward =  118.0\n",
            "episode =  700 total_reward =  163.0\n",
            "episode =  800 total_reward =  132.0\n",
            "episode =  900 total_reward =  177.0\n",
            "episode =  1000 total_reward =  125.0\n",
            "episode =  1100 total_reward =  97.0\n",
            "episode =  1200 total_reward =  367.0\n",
            "episode =  1300 total_reward =  97.0\n",
            "episode =  1400 total_reward =  91.0\n",
            "episode =  1500 total_reward =  273.0\n",
            "Implementing Double DQN learning:\n",
            "\n",
            "episode =  0 total_reward =  13.0\n"
          ]
        },
        {
          "output_type": "stream",
          "name": "stderr",
          "text": [
            "/usr/local/lib/python3.7/dist-packages/ipykernel_launcher.py:104: UserWarning: Using a target size (torch.Size([128, 2])) that is different to the input size (torch.Size([128, 1])). This will likely lead to incorrect results due to broadcasting. Please ensure they have the same size.\n"
          ]
        },
        {
          "output_type": "stream",
          "name": "stdout",
          "text": [
            "episode =  100 total_reward =  61.0\n",
            "episode =  200 total_reward =  262.0\n",
            "episode =  300 total_reward =  48.0\n",
            "episode =  400 total_reward =  10.0\n",
            "episode =  500 total_reward =  12.0\n",
            "episode =  600 total_reward =  80.0\n",
            "episode =  700 total_reward =  301.0\n",
            "episode =  800 total_reward =  105.0\n",
            "episode =  900 total_reward =  111.0\n",
            "episode =  1000 total_reward =  98.0\n",
            "episode =  1100 total_reward =  61.0\n",
            "episode =  1200 total_reward =  125.0\n",
            "episode =  1300 total_reward =  140.0\n",
            "episode =  1400 total_reward =  150.0\n",
            "episode =  1500 total_reward =  175.0\n",
            "episode =  1600 total_reward =  158.0\n",
            "episode =  1700 total_reward =  142.0\n",
            "episode =  1800 total_reward =  146.0\n",
            "episode =  1900 total_reward =  187.0\n",
            "Evaluation results:\n"
          ]
        },
        {
          "output_type": "display_data",
          "data": {
            "text/plain": [
              "<Figure size 432x288 with 1 Axes>"
            ],
            "image/png": "[encoded data removed]"
          },
          "metadata": {
            "needs_background": "light"
          }
        },
        {
          "output_type": "display_data",
          "data": {
            "text/plain": [
              "<Figure size 432x288 with 1 Axes>"
            ],
            "image/png": "[encoded data removed]"
          },
          "metadata": {
            "needs_background": "light"
          }
        },
        {
          "output_type": "display_data",
          "data": {
            "text/plain": [
              "<Figure size 432x288 with 1 Axes>"
            ],
            "image/png": "[encoded data removed]"
          },
          "metadata": {
            "needs_background": "light"
          }
        },
        {
          "output_type": "display_data",
          "data": {
            "text/plain": [
              "<Figure size 432x288 with 1 Axes>"
            ],
            "image/png": "[encoded data removed]"
          },
          "metadata": {
            "needs_background": "light"
          }
        },
        {
          "output_type": "display_data",
          "data": {
            "text/plain": [
              "<Figure size 432x288 with 1 Axes>"
            ],
            "image/png": "[encoded data removed]"
          },
          "metadata": {
            "needs_background": "light"
          }
        },
        {
          "output_type": "display_data",
          "data": {
            "text/plain": [
              "<Figure size 432x288 with 1 Axes>"
            ],
            "image/png": "[encoded data removed]"
          },
          "metadata": {
            "needs_background": "light"
          }
        }
      ]
    },
    {
      "cell_type": "code",
      "source": [
        ""
      ],
      "metadata": {
        "id": "GD-VVPewGL2n"
      },
      "execution_count": null,
      "outputs": []
    }
  ]
}