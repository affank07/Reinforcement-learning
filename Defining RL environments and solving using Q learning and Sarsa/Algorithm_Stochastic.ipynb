{
  "nbformat": 4,
  "nbformat_minor": 0,
  "metadata": {
    "colab": {
      "name": "Algorithm_Stochastic.ipynb",
      "provenance": [],
      "collapsed_sections": []
    },
    "kernelspec": {
      "name": "python3",
      "display_name": "Python 3"
    },
    "language_info": {
      "name": "python"
    }
  },
  "cells": [
    {
      "cell_type": "code",
      "execution_count": 1,
      "metadata": {
        "colab": {
          "base_uri": "https://localhost:8080/"
        },
        "id": "Vpm9LZrQ-uNK",
        "outputId": "81ca0b2e-55ab-4dca-e7c5-eb6e8629b147"
      },
      "outputs": [
        {
          "output_type": "stream",
          "name": "stdout",
          "text": [
            "Requirement already satisfied: gym in /usr/local/lib/python3.7/dist-packages (0.17.3)\n",
            "Requirement already satisfied: scipy in /usr/local/lib/python3.7/dist-packages (from gym) (1.4.1)\n",
            "Requirement already satisfied: pyglet<=1.5.0,>=1.4.0 in /usr/local/lib/python3.7/dist-packages (from gym) (1.5.0)\n",
            "Requirement already satisfied: numpy>=1.10.4 in /usr/local/lib/python3.7/dist-packages (from gym) (1.21.5)\n",
            "Requirement already satisfied: cloudpickle<1.7.0,>=1.2.0 in /usr/local/lib/python3.7/dist-packages (from gym) (1.3.0)\n",
            "Requirement already satisfied: future in /usr/local/lib/python3.7/dist-packages (from pyglet<=1.5.0,>=1.4.0->gym) (0.16.0)\n"
          ]
        }
      ],
      "source": [
        "#I certify that the code and data in this assignment were generated independently, using only the tools and resources defined in the course and that I did not receive any external help, coaching or contributions during the production of this work\n",
        "!pip install gym"
      ]
    },
    {
      "cell_type": "code",
      "source": [
        "import numpy as np\n",
        "import matplotlib.pyplot as plt\n",
        "import gym\n",
        "from gym import spaces\n",
        "from google.colab import widgets\n",
        "import time"
      ],
      "metadata": {
        "id": "Nzjg0igp-087"
      },
      "execution_count": 2,
      "outputs": []
    },
    {
      "cell_type": "code",
      "source": [
        "class StoGridEnvironment(gym.Env):            # stochastic enviroment\n",
        "    metadata = { 'render.modes': [] }\n",
        "    \n",
        "    def __init__(self):\n",
        "        self.observation_space = spaces.Discrete(16)  #12\n",
        "        self.action_space = spaces.Discrete(4)   #4\n",
        "        self.max_timesteps = 25   #10\n",
        "\n",
        "    def reset(self):\n",
        "        self.timestep = 0\n",
        "        self.reward=0\n",
        "        self.agent_pos = [0, 0]\n",
        "        self.goal_pos = [3, 3]\n",
        "        self.r1=[0,2]\n",
        "        self.r2=[1,1]\n",
        "        self.r3=[1,3]\n",
        "        self.r4=[3,0]\n",
        "        self.state = np.zeros((4,4))\n",
        "        self.state[tuple(self.agent_pos)] = 1\n",
        "        self.state[tuple(self.goal_pos)] = 0.75\n",
        "        self.state[tuple(self.r1)] = 0.5\n",
        "        self.state[tuple(self.r2)] = 0.25\n",
        "        self.state[tuple(self.r3)] = 0.5\n",
        "        self.state[tuple(self.r4)] = 0.5\n",
        "        observation = self.state.flatten()\n",
        "        return observation\n",
        "    \n",
        "    def step(self, action):\n",
        "        self.state = np.random.choice(self.observation_space.n)\n",
        "        a=[+1,-1]\n",
        "        if action == 0:  #Down (95% down, 5% up)\n",
        "          self.agent_pos[0] = self.agent_pos[0] +np.random.choice(a,p=[0.95,0.05])\n",
        "          #print('Down')\n",
        "        if action == 1:  #Up  (95% up, 5% down)\n",
        "          self.agent_pos[0]= self.agent_pos[0] -np.random.choice(a,p=[0.95,0.05])\n",
        "          #print('Up')\n",
        "        if action == 2:  #Right (95% right, 5% left)\n",
        "          self.agent_pos[1] = self.agent_pos[1] +np.random.choice(a,p=[0.95,0.05])\n",
        "          #print('Right')\n",
        "        if action == 3:  #Left (95% left, 5% right)\n",
        "          self.agent_pos[1] = self.agent_pos[1] -np.random.choice(a,p=[0.95,0.05])\n",
        "          #print('left')\n",
        "          \n",
        "        self.agent_pos = np.clip(self.agent_pos, 0, 3)\n",
        "        self.state = np.zeros((4,4))\n",
        "        self.state[tuple(self.agent_pos)] = 1\n",
        "        self.state[tuple(self.goal_pos)] = 0.75\n",
        "        self.state[tuple(self.r1)] = 0.5\n",
        "        self.state[tuple(self.r2)] = 0.25\n",
        "        self.state[tuple(self.r3)] = 0.5\n",
        "        self.state[tuple(self.r4)] = 0.5\n",
        "        observation = self.state.flatten()\n",
        "        \n",
        "        \n",
        "        if (self.agent_pos == self.goal_pos).all():\n",
        "          self.reward += 100\n",
        "          print('Goal Reached: +100')\n",
        "        elif (self.agent_pos == self.r1).all():\n",
        "          self.reward +=1\n",
        "          print('Got a gold: +1')\n",
        "        elif (self.agent_pos == self.r2).all():\n",
        "          self.reward -=2\n",
        "          print('Bandits: -2')\n",
        "        elif (self.agent_pos == self.r3).all():\n",
        "          self.reward +=1\n",
        "          print('Got a gold: +1')\n",
        "        elif (self.agent_pos == self.r4).all():\n",
        "          self.reward +=1\n",
        "          print('Got a gold: +1')   \n",
        "\n",
        "        \n",
        "        self.timestep += 1\n",
        "        if self.timestep >= self.max_timesteps:\n",
        "          done = True\n",
        "        elif (self.agent_pos == self.goal_pos).all():\n",
        "          done = True\n",
        "        else:\n",
        "          done = False \n",
        "        info = {}\n",
        "        \n",
        "        return observation, self.reward, done, info\n",
        "\n",
        "    def render(self):\n",
        "        plt.imshow(self.state)"
      ],
      "metadata": {
        "id": "HnHnzhTD-4XP"
      },
      "execution_count": 3,
      "outputs": []
    },
    {
      "cell_type": "code",
      "source": [
        "class RandomAgent:\n",
        "  def __init__(self, env):\n",
        "    self.env = env\n",
        "    self.observation_space = env.observation_space\n",
        "    self.action_space = env.action_space\n",
        "\n",
        "  def step(self, observation):\n",
        "    return np.random.choice(self.action_space.n)"
      ],
      "metadata": {
        "id": "6gdVg6cf_Pne"
      },
      "execution_count": 4,
      "outputs": []
    },
    {
      "cell_type": "code",
      "source": [
        "env = StoGridEnvironment()\n",
        "agent = RandomAgent(env)\n",
        "\n",
        "obs = env.reset()\n",
        "done = False\n",
        "\n",
        "output_grid = widgets.Grid(1, 1)\n",
        "with output_grid.output_to(0, 0):\n",
        "  env.render()\n",
        "\n",
        "\n",
        "while not done:\n",
        "  action = agent.step(obs)\n",
        "  obs, reward, done, info = env.step(action)\n",
        "  with output_grid.output_to(0, 0):\n",
        "    output_grid.clear_cell()\n",
        "    env.render()\n",
        "  time.sleep(1)\n",
        "print('Total reward:', env.reward)"
      ],
      "metadata": {
        "colab": {
          "base_uri": "https://localhost:8080/",
          "height": 377
        },
        "id": "mvYsb7Xn-9RR",
        "outputId": "f30b3e7c-bc6f-47aa-b22e-ba7e42cab32a"
      },
      "execution_count": null,
      "outputs": [
        {
          "output_type": "display_data",
          "data": {
            "text/html": [
              "<style>\n",
              "       table#id4, #id4 > tbody > tr > th, #id4 > tbody > tr > td {\n",
              "         border: 1px solid lightgray;\n",
              "         border-collapse:collapse;\n",
              "         \n",
              "        }</style>"
            ],
            "text/plain": [
              "<IPython.core.display.HTML object>"
            ]
          },
          "metadata": {}
        },
        {
          "output_type": "display_data",
          "data": {
            "text/html": [
              "<table id=id4><tr><td id=id4-0-0></td></tr></table>"
            ],
            "text/plain": [
              "<IPython.core.display.HTML object>"
            ]
          },
          "metadata": {}
        },
        {
          "output_type": "display_data",
          "data": {
            "application/javascript": [
              "window[\"3ce4b8e4-9d15-11ec-9d75-0242ac1c0002\"] = google.colab.output.getActiveOutputArea();\n",
              "//# sourceURL=js_c8625ad6a0"
            ],
            "text/plain": [
              "<IPython.core.display.Javascript object>"
            ]
          },
          "metadata": {}
        },
        {
          "output_type": "display_data",
          "data": {
            "application/javascript": [
              "window[\"3ce5092a-9d15-11ec-9d75-0242ac1c0002\"] = document.querySelector(\"#id4-0-0\");\n",
              "//# sourceURL=js_f3527b6fb1"
            ],
            "text/plain": [
              "<IPython.core.display.Javascript object>"
            ]
          },
          "metadata": {}
        },
        {
          "output_type": "display_data",
          "data": {
            "application/javascript": [
              "window[\"3ce54bd8-9d15-11ec-9d75-0242ac1c0002\"] = google.colab.output.setActiveOutputArea(window[\"3ce5092a-9d15-11ec-9d75-0242ac1c0002\"]);\n",
              "//# sourceURL=js_13fa048576"
            ],
            "text/plain": [
              "<IPython.core.display.Javascript object>"
            ]
          },
          "metadata": {}
        },
        {
          "output_type": "display_data",
          "data": {
            "application/javascript": [
              "window[\"3cf939cc-9d15-11ec-9d75-0242ac1c0002\"] = google.colab.output.setActiveOutputArea(window[\"3ce4b8e4-9d15-11ec-9d75-0242ac1c0002\"]);\n",
              "//# sourceURL=js_87a8aadfb7"
            ],
            "text/plain": [
              "<IPython.core.display.Javascript object>"
            ]
          },
          "metadata": {}
        },
        {
          "output_type": "display_data",
          "data": {
            "application/javascript": [
              "window[\"3cfae2c2-9d15-11ec-9d75-0242ac1c0002\"] = google.colab.output.getActiveOutputArea();\n",
              "//# sourceURL=js_db98551dc1"
            ],
            "text/plain": [
              "<IPython.core.display.Javascript object>"
            ]
          },
          "metadata": {}
        },
        {
          "output_type": "display_data",
          "data": {
            "application/javascript": [
              "window[\"3cfb284a-9d15-11ec-9d75-0242ac1c0002\"] = document.querySelector(\"#id4-0-0\");\n",
              "//# sourceURL=js_97e7147407"
            ],
            "text/plain": [
              "<IPython.core.display.Javascript object>"
            ]
          },
          "metadata": {}
        },
        {
          "output_type": "display_data",
          "data": {
            "application/javascript": [
              "window[\"3cfb6e0e-9d15-11ec-9d75-0242ac1c0002\"] = google.colab.output.setActiveOutputArea(window[\"3cfb284a-9d15-11ec-9d75-0242ac1c0002\"]);\n",
              "//# sourceURL=js_ab9c8f9d8f"
            ],
            "text/plain": [
              "<IPython.core.display.Javascript object>"
            ]
          },
          "metadata": {}
        },
        {
          "output_type": "display_data",
          "data": {
            "application/javascript": [
              "window[\"3d0ead66-9d15-11ec-9d75-0242ac1c0002\"] = google.colab.output.setActiveOutputArea(window[\"3cfae2c2-9d15-11ec-9d75-0242ac1c0002\"]);\n",
              "//# sourceURL=js_097e3425e1"
            ],
            "text/plain": [
              "<IPython.core.display.Javascript object>"
            ]
          },
          "metadata": {}
        },
        {
          "output_type": "display_data",
          "data": {
            "application/javascript": [
              "window[\"3da907ee-9d15-11ec-9d75-0242ac1c0002\"] = google.colab.output.getActiveOutputArea();\n",
              "//# sourceURL=js_fcab3d2742"
            ],
            "text/plain": [
              "<IPython.core.display.Javascript object>"
            ]
          },
          "metadata": {}
        },
        {
          "output_type": "display_data",
          "data": {
            "application/javascript": [
              "window[\"3da95118-9d15-11ec-9d75-0242ac1c0002\"] = document.querySelector(\"#id4-0-0\");\n",
              "//# sourceURL=js_835fad6c3b"
            ],
            "text/plain": [
              "<IPython.core.display.Javascript object>"
            ]
          },
          "metadata": {}
        },
        {
          "output_type": "display_data",
          "data": {
            "application/javascript": [
              "window[\"3da9affa-9d15-11ec-9d75-0242ac1c0002\"] = google.colab.output.setActiveOutputArea(window[\"3da95118-9d15-11ec-9d75-0242ac1c0002\"]);\n",
              "//# sourceURL=js_39db2e46e2"
            ],
            "text/plain": [
              "<IPython.core.display.Javascript object>"
            ]
          },
          "metadata": {}
        },
        {
          "output_type": "display_data",
          "data": {
            "application/javascript": [
              "window[\"3dbf858c-9d15-11ec-9d75-0242ac1c0002\"] = google.colab.output.setActiveOutputArea(window[\"3da907ee-9d15-11ec-9d75-0242ac1c0002\"]);\n",
              "//# sourceURL=js_c5b32677c4"
            ],
            "text/plain": [
              "<IPython.core.display.Javascript object>"
            ]
          },
          "metadata": {}
        },
        {
          "output_type": "display_data",
          "data": {
            "application/javascript": [
              "window[\"3e5a1aca-9d15-11ec-9d75-0242ac1c0002\"] = google.colab.output.getActiveOutputArea();\n",
              "//# sourceURL=js_6d8dfa56f7"
            ],
            "text/plain": [
              "<IPython.core.display.Javascript object>"
            ]
          },
          "metadata": {}
        },
        {
          "output_type": "display_data",
          "data": {
            "application/javascript": [
              "window[\"3e5aa62a-9d15-11ec-9d75-0242ac1c0002\"] = document.querySelector(\"#id4-0-0\");\n",
              "//# sourceURL=js_15d23e9ffb"
            ],
            "text/plain": [
              "<IPython.core.display.Javascript object>"
            ]
          },
          "metadata": {}
        },
        {
          "output_type": "display_data",
          "data": {
            "application/javascript": [
              "window[\"3e5b0c5a-9d15-11ec-9d75-0242ac1c0002\"] = google.colab.output.setActiveOutputArea(window[\"3e5aa62a-9d15-11ec-9d75-0242ac1c0002\"]);\n",
              "//# sourceURL=js_64fb6bcd39"
            ],
            "text/plain": [
              "<IPython.core.display.Javascript object>"
            ]
          },
          "metadata": {}
        },
        {
          "output_type": "display_data",
          "data": {
            "application/javascript": [
              "window[\"3e6fa6ba-9d15-11ec-9d75-0242ac1c0002\"] = google.colab.output.setActiveOutputArea(window[\"3e5a1aca-9d15-11ec-9d75-0242ac1c0002\"]);\n",
              "//# sourceURL=js_7e01e89696"
            ],
            "text/plain": [
              "<IPython.core.display.Javascript object>"
            ]
          },
          "metadata": {}
        },
        {
          "output_type": "display_data",
          "data": {
            "application/javascript": [
              "window[\"3f09eaae-9d15-11ec-9d75-0242ac1c0002\"] = google.colab.output.getActiveOutputArea();\n",
              "//# sourceURL=js_bc068931eb"
            ],
            "text/plain": [
              "<IPython.core.display.Javascript object>"
            ]
          },
          "metadata": {}
        },
        {
          "output_type": "display_data",
          "data": {
            "application/javascript": [
              "window[\"3f0a364e-9d15-11ec-9d75-0242ac1c0002\"] = document.querySelector(\"#id4-0-0\");\n",
              "//# sourceURL=js_e4ee1bf5fb"
            ],
            "text/plain": [
              "<IPython.core.display.Javascript object>"
            ]
          },
          "metadata": {}
        },
        {
          "output_type": "display_data",
          "data": {
            "application/javascript": [
              "window[\"3f0a802c-9d15-11ec-9d75-0242ac1c0002\"] = google.colab.output.setActiveOutputArea(window[\"3f0a364e-9d15-11ec-9d75-0242ac1c0002\"]);\n",
              "//# sourceURL=js_b4f643bf90"
            ],
            "text/plain": [
              "<IPython.core.display.Javascript object>"
            ]
          },
          "metadata": {}
        },
        {
          "output_type": "display_data",
          "data": {
            "application/javascript": [
              "window[\"3f2d14d4-9d15-11ec-9d75-0242ac1c0002\"] = google.colab.output.setActiveOutputArea(window[\"3f09eaae-9d15-11ec-9d75-0242ac1c0002\"]);\n",
              "//# sourceURL=js_3e56967ef9"
            ],
            "text/plain": [
              "<IPython.core.display.Javascript object>"
            ]
          },
          "metadata": {}
        },
        {
          "output_type": "display_data",
          "data": {
            "application/javascript": [
              "window[\"3fc8d248-9d15-11ec-9d75-0242ac1c0002\"] = google.colab.output.getActiveOutputArea();\n",
              "//# sourceURL=js_509964f11d"
            ],
            "text/plain": [
              "<IPython.core.display.Javascript object>"
            ]
          },
          "metadata": {}
        },
        {
          "output_type": "display_data",
          "data": {
            "application/javascript": [
              "window[\"3fc94ba6-9d15-11ec-9d75-0242ac1c0002\"] = document.querySelector(\"#id4-0-0\");\n",
              "//# sourceURL=js_14fb722490"
            ],
            "text/plain": [
              "<IPython.core.display.Javascript object>"
            ]
          },
          "metadata": {}
        },
        {
          "output_type": "display_data",
          "data": {
            "application/javascript": [
              "window[\"3fc9a42a-9d15-11ec-9d75-0242ac1c0002\"] = google.colab.output.setActiveOutputArea(window[\"3fc94ba6-9d15-11ec-9d75-0242ac1c0002\"]);\n",
              "//# sourceURL=js_00dbe7116c"
            ],
            "text/plain": [
              "<IPython.core.display.Javascript object>"
            ]
          },
          "metadata": {}
        },
        {
          "output_type": "display_data",
          "data": {
            "application/javascript": [
              "window[\"3feb237a-9d15-11ec-9d75-0242ac1c0002\"] = google.colab.output.setActiveOutputArea(window[\"3fc8d248-9d15-11ec-9d75-0242ac1c0002\"]);\n",
              "//# sourceURL=js_a6429bee2d"
            ],
            "text/plain": [
              "<IPython.core.display.Javascript object>"
            ]
          },
          "metadata": {}
        },
        {
          "output_type": "stream",
          "name": "stdout",
          "text": [
            "Bandits: -2\n"
          ]
        },
        {
          "output_type": "display_data",
          "data": {
            "application/javascript": [
              "window[\"4087b6ea-9d15-11ec-9d75-0242ac1c0002\"] = google.colab.output.getActiveOutputArea();\n",
              "//# sourceURL=js_10cfbdadb9"
            ],
            "text/plain": [
              "<IPython.core.display.Javascript object>"
            ]
          },
          "metadata": {}
        },
        {
          "output_type": "display_data",
          "data": {
            "application/javascript": [
              "window[\"4088b892-9d15-11ec-9d75-0242ac1c0002\"] = document.querySelector(\"#id4-0-0\");\n",
              "//# sourceURL=js_95fefa9336"
            ],
            "text/plain": [
              "<IPython.core.display.Javascript object>"
            ]
          },
          "metadata": {}
        },
        {
          "output_type": "display_data",
          "data": {
            "application/javascript": [
              "window[\"40899140-9d15-11ec-9d75-0242ac1c0002\"] = google.colab.output.setActiveOutputArea(window[\"4088b892-9d15-11ec-9d75-0242ac1c0002\"]);\n",
              "//# sourceURL=js_5c241629f9"
            ],
            "text/plain": [
              "<IPython.core.display.Javascript object>"
            ]
          },
          "metadata": {}
        },
        {
          "output_type": "display_data",
          "data": {
            "application/javascript": [
              "window[\"40a94170-9d15-11ec-9d75-0242ac1c0002\"] = google.colab.output.setActiveOutputArea(window[\"4087b6ea-9d15-11ec-9d75-0242ac1c0002\"]);\n",
              "//# sourceURL=js_753e92f05d"
            ],
            "text/plain": [
              "<IPython.core.display.Javascript object>"
            ]
          },
          "metadata": {}
        },
        {
          "output_type": "display_data",
          "data": {
            "application/javascript": [
              "window[\"41459fac-9d15-11ec-9d75-0242ac1c0002\"] = google.colab.output.getActiveOutputArea();\n",
              "//# sourceURL=js_bb49d02df7"
            ],
            "text/plain": [
              "<IPython.core.display.Javascript object>"
            ]
          },
          "metadata": {}
        },
        {
          "output_type": "display_data",
          "data": {
            "application/javascript": [
              "window[\"4146762a-9d15-11ec-9d75-0242ac1c0002\"] = document.querySelector(\"#id4-0-0\");\n",
              "//# sourceURL=js_46232cb99e"
            ],
            "text/plain": [
              "<IPython.core.display.Javascript object>"
            ]
          },
          "metadata": {}
        },
        {
          "output_type": "display_data",
          "data": {
            "application/javascript": [
              "window[\"41474d20-9d15-11ec-9d75-0242ac1c0002\"] = google.colab.output.setActiveOutputArea(window[\"4146762a-9d15-11ec-9d75-0242ac1c0002\"]);\n",
              "//# sourceURL=js_ce5c7f8cb2"
            ],
            "text/plain": [
              "<IPython.core.display.Javascript object>"
            ]
          },
          "metadata": {}
        },
        {
          "output_type": "display_data",
          "data": {
            "application/javascript": [
              "window[\"417fa9a4-9d15-11ec-9d75-0242ac1c0002\"] = google.colab.output.setActiveOutputArea(window[\"41459fac-9d15-11ec-9d75-0242ac1c0002\"]);\n",
              "//# sourceURL=js_b96b5465e3"
            ],
            "text/plain": [
              "<IPython.core.display.Javascript object>"
            ]
          },
          "metadata": {}
        },
        {
          "output_type": "display_data",
          "data": {
            "application/javascript": [
              "window[\"421da0e6-9d15-11ec-9d75-0242ac1c0002\"] = google.colab.output.getActiveOutputArea();\n",
              "//# sourceURL=js_2556a046cc"
            ],
            "text/plain": [
              "<IPython.core.display.Javascript object>"
            ]
          },
          "metadata": {}
        },
        {
          "output_type": "display_data",
          "data": {
            "application/javascript": [
              "window[\"421e14f4-9d15-11ec-9d75-0242ac1c0002\"] = document.querySelector(\"#id4-0-0\");\n",
              "//# sourceURL=js_33b1add845"
            ],
            "text/plain": [
              "<IPython.core.display.Javascript object>"
            ]
          },
          "metadata": {}
        },
        {
          "output_type": "display_data",
          "data": {
            "application/javascript": [
              "window[\"421e61f2-9d15-11ec-9d75-0242ac1c0002\"] = google.colab.output.setActiveOutputArea(window[\"421e14f4-9d15-11ec-9d75-0242ac1c0002\"]);\n",
              "//# sourceURL=js_acaa890ec6"
            ],
            "text/plain": [
              "<IPython.core.display.Javascript object>"
            ]
          },
          "metadata": {}
        },
        {
          "output_type": "display_data",
          "data": {
            "application/javascript": [
              "window[\"42490614-9d15-11ec-9d75-0242ac1c0002\"] = google.colab.output.setActiveOutputArea(window[\"421da0e6-9d15-11ec-9d75-0242ac1c0002\"]);\n",
              "//# sourceURL=js_7349d7ac89"
            ],
            "text/plain": [
              "<IPython.core.display.Javascript object>"
            ]
          },
          "metadata": {}
        },
        {
          "output_type": "display_data",
          "data": {
            "application/javascript": [
              "window[\"42e3f28c-9d15-11ec-9d75-0242ac1c0002\"] = google.colab.output.getActiveOutputArea();\n",
              "//# sourceURL=js_58026ec260"
            ],
            "text/plain": [
              "<IPython.core.display.Javascript object>"
            ]
          },
          "metadata": {}
        },
        {
          "output_type": "display_data",
          "data": {
            "application/javascript": [
              "window[\"42e44ff2-9d15-11ec-9d75-0242ac1c0002\"] = document.querySelector(\"#id4-0-0\");\n",
              "//# sourceURL=js_b68e30c7de"
            ],
            "text/plain": [
              "<IPython.core.display.Javascript object>"
            ]
          },
          "metadata": {}
        },
        {
          "output_type": "display_data",
          "data": {
            "application/javascript": [
              "window[\"42e4946c-9d15-11ec-9d75-0242ac1c0002\"] = google.colab.output.setActiveOutputArea(window[\"42e44ff2-9d15-11ec-9d75-0242ac1c0002\"]);\n",
              "//# sourceURL=js_4c7bde062b"
            ],
            "text/plain": [
              "<IPython.core.display.Javascript object>"
            ]
          },
          "metadata": {}
        },
        {
          "output_type": "display_data",
          "data": {
            "application/javascript": [
              "window[\"42f7854a-9d15-11ec-9d75-0242ac1c0002\"] = google.colab.output.setActiveOutputArea(window[\"42e3f28c-9d15-11ec-9d75-0242ac1c0002\"]);\n",
              "//# sourceURL=js_16cf1f7a8f"
            ],
            "text/plain": [
              "<IPython.core.display.Javascript object>"
            ]
          },
          "metadata": {}
        },
        {
          "output_type": "stream",
          "name": "stdout",
          "text": [
            "Bandits: -2\n"
          ]
        },
        {
          "output_type": "display_data",
          "data": {
            "application/javascript": [
              "window[\"43924e0e-9d15-11ec-9d75-0242ac1c0002\"] = google.colab.output.getActiveOutputArea();\n",
              "//# sourceURL=js_b8af6eb234"
            ],
            "text/plain": [
              "<IPython.core.display.Javascript object>"
            ]
          },
          "metadata": {}
        },
        {
          "output_type": "display_data",
          "data": {
            "application/javascript": [
              "window[\"43929260-9d15-11ec-9d75-0242ac1c0002\"] = document.querySelector(\"#id4-0-0\");\n",
              "//# sourceURL=js_799c6b2bf2"
            ],
            "text/plain": [
              "<IPython.core.display.Javascript object>"
            ]
          },
          "metadata": {}
        },
        {
          "output_type": "display_data",
          "data": {
            "application/javascript": [
              "window[\"4392ea12-9d15-11ec-9d75-0242ac1c0002\"] = google.colab.output.setActiveOutputArea(window[\"43929260-9d15-11ec-9d75-0242ac1c0002\"]);\n",
              "//# sourceURL=js_6b565bf17d"
            ],
            "text/plain": [
              "<IPython.core.display.Javascript object>"
            ]
          },
          "metadata": {}
        },
        {
          "output_type": "display_data",
          "data": {
            "application/javascript": [
              "window[\"43a721e4-9d15-11ec-9d75-0242ac1c0002\"] = google.colab.output.setActiveOutputArea(window[\"43924e0e-9d15-11ec-9d75-0242ac1c0002\"]);\n",
              "//# sourceURL=js_5af136aa08"
            ],
            "text/plain": [
              "<IPython.core.display.Javascript object>"
            ]
          },
          "metadata": {}
        },
        {
          "output_type": "display_data",
          "data": {
            "application/javascript": [
              "window[\"4441b664-9d15-11ec-9d75-0242ac1c0002\"] = google.colab.output.getActiveOutputArea();\n",
              "//# sourceURL=js_2579f5f319"
            ],
            "text/plain": [
              "<IPython.core.display.Javascript object>"
            ]
          },
          "metadata": {}
        },
        {
          "output_type": "display_data",
          "data": {
            "application/javascript": [
              "window[\"44429750-9d15-11ec-9d75-0242ac1c0002\"] = document.querySelector(\"#id4-0-0\");\n",
              "//# sourceURL=js_5074d45add"
            ],
            "text/plain": [
              "<IPython.core.display.Javascript object>"
            ]
          },
          "metadata": {}
        },
        {
          "output_type": "display_data",
          "data": {
            "application/javascript": [
              "window[\"44432486-9d15-11ec-9d75-0242ac1c0002\"] = google.colab.output.setActiveOutputArea(window[\"44429750-9d15-11ec-9d75-0242ac1c0002\"]);\n",
              "//# sourceURL=js_90382606ae"
            ],
            "text/plain": [
              "<IPython.core.display.Javascript object>"
            ]
          },
          "metadata": {}
        },
        {
          "output_type": "display_data",
          "data": {
            "application/javascript": [
              "window[\"4458ccd2-9d15-11ec-9d75-0242ac1c0002\"] = google.colab.output.setActiveOutputArea(window[\"4441b664-9d15-11ec-9d75-0242ac1c0002\"]);\n",
              "//# sourceURL=js_e3ed639111"
            ],
            "text/plain": [
              "<IPython.core.display.Javascript object>"
            ]
          },
          "metadata": {}
        },
        {
          "output_type": "stream",
          "name": "stdout",
          "text": [
            "Bandits: -2\n"
          ]
        },
        {
          "output_type": "display_data",
          "data": {
            "application/javascript": [
              "window[\"44f55c96-9d15-11ec-9d75-0242ac1c0002\"] = google.colab.output.getActiveOutputArea();\n",
              "//# sourceURL=js_e879cd8b9f"
            ],
            "text/plain": [
              "<IPython.core.display.Javascript object>"
            ]
          },
          "metadata": {}
        },
        {
          "output_type": "display_data",
          "data": {
            "application/javascript": [
              "window[\"44f5ae6c-9d15-11ec-9d75-0242ac1c0002\"] = document.querySelector(\"#id4-0-0\");\n",
              "//# sourceURL=js_976df925e7"
            ],
            "text/plain": [
              "<IPython.core.display.Javascript object>"
            ]
          },
          "metadata": {}
        },
        {
          "output_type": "display_data",
          "data": {
            "application/javascript": [
              "window[\"44f601a0-9d15-11ec-9d75-0242ac1c0002\"] = google.colab.output.setActiveOutputArea(window[\"44f5ae6c-9d15-11ec-9d75-0242ac1c0002\"]);\n",
              "//# sourceURL=js_118ca40024"
            ],
            "text/plain": [
              "<IPython.core.display.Javascript object>"
            ]
          },
          "metadata": {}
        },
        {
          "output_type": "display_data",
          "data": {
            "application/javascript": [
              "window[\"4509a75a-9d15-11ec-9d75-0242ac1c0002\"] = google.colab.output.setActiveOutputArea(window[\"44f55c96-9d15-11ec-9d75-0242ac1c0002\"]);\n",
              "//# sourceURL=js_355077e4e5"
            ],
            "text/plain": [
              "<IPython.core.display.Javascript object>"
            ]
          },
          "metadata": {}
        },
        {
          "output_type": "display_data",
          "data": {
            "application/javascript": [
              "window[\"45a43482-9d15-11ec-9d75-0242ac1c0002\"] = google.colab.output.getActiveOutputArea();\n",
              "//# sourceURL=js_dab7489dea"
            ],
            "text/plain": [
              "<IPython.core.display.Javascript object>"
            ]
          },
          "metadata": {}
        },
        {
          "output_type": "display_data",
          "data": {
            "application/javascript": [
              "window[\"45a4d45a-9d15-11ec-9d75-0242ac1c0002\"] = document.querySelector(\"#id4-0-0\");\n",
              "//# sourceURL=js_7d062290e4"
            ],
            "text/plain": [
              "<IPython.core.display.Javascript object>"
            ]
          },
          "metadata": {}
        },
        {
          "output_type": "display_data",
          "data": {
            "application/javascript": [
              "window[\"45a576ee-9d15-11ec-9d75-0242ac1c0002\"] = google.colab.output.setActiveOutputArea(window[\"45a4d45a-9d15-11ec-9d75-0242ac1c0002\"]);\n",
              "//# sourceURL=js_fc6d15ba9f"
            ],
            "text/plain": [
              "<IPython.core.display.Javascript object>"
            ]
          },
          "metadata": {}
        },
        {
          "output_type": "display_data",
          "data": {
            "application/javascript": [
              "window[\"45ba15a4-9d15-11ec-9d75-0242ac1c0002\"] = google.colab.output.setActiveOutputArea(window[\"45a43482-9d15-11ec-9d75-0242ac1c0002\"]);\n",
              "//# sourceURL=js_64a23c0686"
            ],
            "text/plain": [
              "<IPython.core.display.Javascript object>"
            ]
          },
          "metadata": {}
        },
        {
          "output_type": "display_data",
          "data": {
            "application/javascript": [
              "window[\"46545844-9d15-11ec-9d75-0242ac1c0002\"] = google.colab.output.getActiveOutputArea();\n",
              "//# sourceURL=js_0018b3f15d"
            ],
            "text/plain": [
              "<IPython.core.display.Javascript object>"
            ]
          },
          "metadata": {}
        },
        {
          "output_type": "display_data",
          "data": {
            "application/javascript": [
              "window[\"465487f6-9d15-11ec-9d75-0242ac1c0002\"] = document.querySelector(\"#id4-0-0\");\n",
              "//# sourceURL=js_b439abca0d"
            ],
            "text/plain": [
              "<IPython.core.display.Javascript object>"
            ]
          },
          "metadata": {}
        },
        {
          "output_type": "display_data",
          "data": {
            "application/javascript": [
              "window[\"46551ec8-9d15-11ec-9d75-0242ac1c0002\"] = google.colab.output.setActiveOutputArea(window[\"465487f6-9d15-11ec-9d75-0242ac1c0002\"]);\n",
              "//# sourceURL=js_93349059be"
            ],
            "text/plain": [
              "<IPython.core.display.Javascript object>"
            ]
          },
          "metadata": {}
        },
        {
          "output_type": "display_data",
          "data": {
            "application/javascript": [
              "window[\"4667d72a-9d15-11ec-9d75-0242ac1c0002\"] = google.colab.output.setActiveOutputArea(window[\"46545844-9d15-11ec-9d75-0242ac1c0002\"]);\n",
              "//# sourceURL=js_7eead9f863"
            ],
            "text/plain": [
              "<IPython.core.display.Javascript object>"
            ]
          },
          "metadata": {}
        },
        {
          "output_type": "display_data",
          "data": {
            "application/javascript": [
              "window[\"4702db58-9d15-11ec-9d75-0242ac1c0002\"] = google.colab.output.getActiveOutputArea();\n",
              "//# sourceURL=js_e9215b5085"
            ],
            "text/plain": [
              "<IPython.core.display.Javascript object>"
            ]
          },
          "metadata": {}
        },
        {
          "output_type": "display_data",
          "data": {
            "application/javascript": [
              "window[\"470320f4-9d15-11ec-9d75-0242ac1c0002\"] = document.querySelector(\"#id4-0-0\");\n",
              "//# sourceURL=js_dc53812a77"
            ],
            "text/plain": [
              "<IPython.core.display.Javascript object>"
            ]
          },
          "metadata": {}
        },
        {
          "output_type": "display_data",
          "data": {
            "application/javascript": [
              "window[\"470370fe-9d15-11ec-9d75-0242ac1c0002\"] = google.colab.output.setActiveOutputArea(window[\"470320f4-9d15-11ec-9d75-0242ac1c0002\"]);\n",
              "//# sourceURL=js_0480d19b93"
            ],
            "text/plain": [
              "<IPython.core.display.Javascript object>"
            ]
          },
          "metadata": {}
        },
        {
          "output_type": "display_data",
          "data": {
            "application/javascript": [
              "window[\"47164152-9d15-11ec-9d75-0242ac1c0002\"] = google.colab.output.setActiveOutputArea(window[\"4702db58-9d15-11ec-9d75-0242ac1c0002\"]);\n",
              "//# sourceURL=js_10a5eae402"
            ],
            "text/plain": [
              "<IPython.core.display.Javascript object>"
            ]
          },
          "metadata": {}
        },
        {
          "output_type": "display_data",
          "data": {
            "application/javascript": [
              "window[\"47b08e92-9d15-11ec-9d75-0242ac1c0002\"] = google.colab.output.getActiveOutputArea();\n",
              "//# sourceURL=js_f62165cd10"
            ],
            "text/plain": [
              "<IPython.core.display.Javascript object>"
            ]
          },
          "metadata": {}
        },
        {
          "output_type": "display_data",
          "data": {
            "application/javascript": [
              "window[\"47b0d320-9d15-11ec-9d75-0242ac1c0002\"] = document.querySelector(\"#id4-0-0\");\n",
              "//# sourceURL=js_e461c8918b"
            ],
            "text/plain": [
              "<IPython.core.display.Javascript object>"
            ]
          },
          "metadata": {}
        },
        {
          "output_type": "display_data",
          "data": {
            "application/javascript": [
              "window[\"47b12884-9d15-11ec-9d75-0242ac1c0002\"] = google.colab.output.setActiveOutputArea(window[\"47b0d320-9d15-11ec-9d75-0242ac1c0002\"]);\n",
              "//# sourceURL=js_663bf7f874"
            ],
            "text/plain": [
              "<IPython.core.display.Javascript object>"
            ]
          },
          "metadata": {}
        },
        {
          "output_type": "display_data",
          "data": {
            "application/javascript": [
              "window[\"47c6e070-9d15-11ec-9d75-0242ac1c0002\"] = google.colab.output.setActiveOutputArea(window[\"47b08e92-9d15-11ec-9d75-0242ac1c0002\"]);\n",
              "//# sourceURL=js_8b5ddfc6b8"
            ],
            "text/plain": [
              "<IPython.core.display.Javascript object>"
            ]
          },
          "metadata": {}
        },
        {
          "output_type": "display_data",
          "data": {
            "application/javascript": [
              "window[\"48638bf0-9d15-11ec-9d75-0242ac1c0002\"] = google.colab.output.getActiveOutputArea();\n",
              "//# sourceURL=js_da6b03c46b"
            ],
            "text/plain": [
              "<IPython.core.display.Javascript object>"
            ]
          },
          "metadata": {}
        },
        {
          "output_type": "display_data",
          "data": {
            "application/javascript": [
              "window[\"4863df38-9d15-11ec-9d75-0242ac1c0002\"] = document.querySelector(\"#id4-0-0\");\n",
              "//# sourceURL=js_f7395ca255"
            ],
            "text/plain": [
              "<IPython.core.display.Javascript object>"
            ]
          },
          "metadata": {}
        },
        {
          "output_type": "display_data",
          "data": {
            "application/javascript": [
              "window[\"48645a80-9d15-11ec-9d75-0242ac1c0002\"] = google.colab.output.setActiveOutputArea(window[\"4863df38-9d15-11ec-9d75-0242ac1c0002\"]);\n",
              "//# sourceURL=js_72824634dc"
            ],
            "text/plain": [
              "<IPython.core.display.Javascript object>"
            ]
          },
          "metadata": {}
        },
        {
          "output_type": "display_data",
          "data": {
            "application/javascript": [
              "window[\"48799ce2-9d15-11ec-9d75-0242ac1c0002\"] = google.colab.output.setActiveOutputArea(window[\"48638bf0-9d15-11ec-9d75-0242ac1c0002\"]);\n",
              "//# sourceURL=js_b57cda31d5"
            ],
            "text/plain": [
              "<IPython.core.display.Javascript object>"
            ]
          },
          "metadata": {}
        },
        {
          "output_type": "display_data",
          "data": {
            "application/javascript": [
              "window[\"4914c9e2-9d15-11ec-9d75-0242ac1c0002\"] = google.colab.output.getActiveOutputArea();\n",
              "//# sourceURL=js_1e26892c5c"
            ],
            "text/plain": [
              "<IPython.core.display.Javascript object>"
            ]
          },
          "metadata": {}
        },
        {
          "output_type": "display_data",
          "data": {
            "application/javascript": [
              "window[\"4915146a-9d15-11ec-9d75-0242ac1c0002\"] = document.querySelector(\"#id4-0-0\");\n",
              "//# sourceURL=js_ebed36350a"
            ],
            "text/plain": [
              "<IPython.core.display.Javascript object>"
            ]
          },
          "metadata": {}
        },
        {
          "output_type": "display_data",
          "data": {
            "application/javascript": [
              "window[\"49156d16-9d15-11ec-9d75-0242ac1c0002\"] = google.colab.output.setActiveOutputArea(window[\"4915146a-9d15-11ec-9d75-0242ac1c0002\"]);\n",
              "//# sourceURL=js_395d1b3871"
            ],
            "text/plain": [
              "<IPython.core.display.Javascript object>"
            ]
          },
          "metadata": {}
        },
        {
          "output_type": "display_data",
          "data": {
            "application/javascript": [
              "window[\"4930e410-9d15-11ec-9d75-0242ac1c0002\"] = google.colab.output.setActiveOutputArea(window[\"4914c9e2-9d15-11ec-9d75-0242ac1c0002\"]);\n",
              "//# sourceURL=js_1f7121037d"
            ],
            "text/plain": [
              "<IPython.core.display.Javascript object>"
            ]
          },
          "metadata": {}
        },
        {
          "output_type": "display_data",
          "data": {
            "application/javascript": [
              "window[\"49cb3b96-9d15-11ec-9d75-0242ac1c0002\"] = google.colab.output.getActiveOutputArea();\n",
              "//# sourceURL=js_324525ccc5"
            ],
            "text/plain": [
              "<IPython.core.display.Javascript object>"
            ]
          },
          "metadata": {}
        },
        {
          "output_type": "display_data",
          "data": {
            "application/javascript": [
              "window[\"49cb7e9e-9d15-11ec-9d75-0242ac1c0002\"] = document.querySelector(\"#id4-0-0\");\n",
              "//# sourceURL=js_98483de5af"
            ],
            "text/plain": [
              "<IPython.core.display.Javascript object>"
            ]
          },
          "metadata": {}
        },
        {
          "output_type": "display_data",
          "data": {
            "application/javascript": [
              "window[\"49cc2790-9d15-11ec-9d75-0242ac1c0002\"] = google.colab.output.setActiveOutputArea(window[\"49cb7e9e-9d15-11ec-9d75-0242ac1c0002\"]);\n",
              "//# sourceURL=js_8e4d7b1edf"
            ],
            "text/plain": [
              "<IPython.core.display.Javascript object>"
            ]
          },
          "metadata": {}
        },
        {
          "output_type": "display_data",
          "data": {
            "application/javascript": [
              "window[\"49dece5e-9d15-11ec-9d75-0242ac1c0002\"] = google.colab.output.setActiveOutputArea(window[\"49cb3b96-9d15-11ec-9d75-0242ac1c0002\"]);\n",
              "//# sourceURL=js_c939d6c13e"
            ],
            "text/plain": [
              "<IPython.core.display.Javascript object>"
            ]
          },
          "metadata": {}
        },
        {
          "output_type": "stream",
          "name": "stdout",
          "text": [
            "Got a gold: +1\n"
          ]
        },
        {
          "output_type": "display_data",
          "data": {
            "application/javascript": [
              "window[\"4a79a6ea-9d15-11ec-9d75-0242ac1c0002\"] = google.colab.output.getActiveOutputArea();\n",
              "//# sourceURL=js_bbd760adc2"
            ],
            "text/plain": [
              "<IPython.core.display.Javascript object>"
            ]
          },
          "metadata": {}
        },
        {
          "output_type": "display_data",
          "data": {
            "application/javascript": [
              "window[\"4a7a0cd4-9d15-11ec-9d75-0242ac1c0002\"] = document.querySelector(\"#id4-0-0\");\n",
              "//# sourceURL=js_8abfa55b48"
            ],
            "text/plain": [
              "<IPython.core.display.Javascript object>"
            ]
          },
          "metadata": {}
        },
        {
          "output_type": "display_data",
          "data": {
            "application/javascript": [
              "window[\"4a7a6062-9d15-11ec-9d75-0242ac1c0002\"] = google.colab.output.setActiveOutputArea(window[\"4a7a0cd4-9d15-11ec-9d75-0242ac1c0002\"]);\n",
              "//# sourceURL=js_20475dd188"
            ],
            "text/plain": [
              "<IPython.core.display.Javascript object>"
            ]
          },
          "metadata": {}
        },
        {
          "output_type": "display_data",
          "data": {
            "application/javascript": [
              "window[\"4a8e9708-9d15-11ec-9d75-0242ac1c0002\"] = google.colab.output.setActiveOutputArea(window[\"4a79a6ea-9d15-11ec-9d75-0242ac1c0002\"]);\n",
              "//# sourceURL=js_c0123db117"
            ],
            "text/plain": [
              "<IPython.core.display.Javascript object>"
            ]
          },
          "metadata": {}
        },
        {
          "output_type": "stream",
          "name": "stdout",
          "text": [
            "Got a gold: +1\n"
          ]
        },
        {
          "output_type": "display_data",
          "data": {
            "application/javascript": [
              "window[\"4b294672-9d15-11ec-9d75-0242ac1c0002\"] = google.colab.output.getActiveOutputArea();\n",
              "//# sourceURL=js_cd7110e570"
            ],
            "text/plain": [
              "<IPython.core.display.Javascript object>"
            ]
          },
          "metadata": {}
        },
        {
          "output_type": "display_data",
          "data": {
            "application/javascript": [
              "window[\"4b29e41a-9d15-11ec-9d75-0242ac1c0002\"] = document.querySelector(\"#id4-0-0\");\n",
              "//# sourceURL=js_9e36caed3e"
            ],
            "text/plain": [
              "<IPython.core.display.Javascript object>"
            ]
          },
          "metadata": {}
        },
        {
          "output_type": "display_data",
          "data": {
            "application/javascript": [
              "window[\"4b2a4a86-9d15-11ec-9d75-0242ac1c0002\"] = google.colab.output.setActiveOutputArea(window[\"4b29e41a-9d15-11ec-9d75-0242ac1c0002\"]);\n",
              "//# sourceURL=js_f0e3ba1d9d"
            ],
            "text/plain": [
              "<IPython.core.display.Javascript object>"
            ]
          },
          "metadata": {}
        },
        {
          "output_type": "display_data",
          "data": {
            "application/javascript": [
              "window[\"4b3f49ae-9d15-11ec-9d75-0242ac1c0002\"] = google.colab.output.setActiveOutputArea(window[\"4b294672-9d15-11ec-9d75-0242ac1c0002\"]);\n",
              "//# sourceURL=js_23b6b11741"
            ],
            "text/plain": [
              "<IPython.core.display.Javascript object>"
            ]
          },
          "metadata": {}
        },
        {
          "output_type": "display_data",
          "data": {
            "application/javascript": [
              "window[\"4bd9f134-9d15-11ec-9d75-0242ac1c0002\"] = google.colab.output.getActiveOutputArea();\n",
              "//# sourceURL=js_02e66d2911"
            ],
            "text/plain": [
              "<IPython.core.display.Javascript object>"
            ]
          },
          "metadata": {}
        },
        {
          "output_type": "display_data",
          "data": {
            "application/javascript": [
              "window[\"4bda3dc4-9d15-11ec-9d75-0242ac1c0002\"] = document.querySelector(\"#id4-0-0\");\n",
              "//# sourceURL=js_8fa8e2d6f0"
            ],
            "text/plain": [
              "<IPython.core.display.Javascript object>"
            ]
          },
          "metadata": {}
        },
        {
          "output_type": "display_data",
          "data": {
            "application/javascript": [
              "window[\"4bdafc8c-9d15-11ec-9d75-0242ac1c0002\"] = google.colab.output.setActiveOutputArea(window[\"4bda3dc4-9d15-11ec-9d75-0242ac1c0002\"]);\n",
              "//# sourceURL=js_dec97cc455"
            ],
            "text/plain": [
              "<IPython.core.display.Javascript object>"
            ]
          },
          "metadata": {}
        },
        {
          "output_type": "display_data",
          "data": {
            "application/javascript": [
              "window[\"4bf05ff0-9d15-11ec-9d75-0242ac1c0002\"] = google.colab.output.setActiveOutputArea(window[\"4bd9f134-9d15-11ec-9d75-0242ac1c0002\"]);\n",
              "//# sourceURL=js_2b2854d06d"
            ],
            "text/plain": [
              "<IPython.core.display.Javascript object>"
            ]
          },
          "metadata": {}
        },
        {
          "output_type": "display_data",
          "data": {
            "application/javascript": [
              "window[\"4c8cf388-9d15-11ec-9d75-0242ac1c0002\"] = google.colab.output.getActiveOutputArea();\n",
              "//# sourceURL=js_970f4eec04"
            ],
            "text/plain": [
              "<IPython.core.display.Javascript object>"
            ]
          },
          "metadata": {}
        },
        {
          "output_type": "display_data",
          "data": {
            "application/javascript": [
              "window[\"4c8d38e8-9d15-11ec-9d75-0242ac1c0002\"] = document.querySelector(\"#id4-0-0\");\n",
              "//# sourceURL=js_b053164d3d"
            ],
            "text/plain": [
              "<IPython.core.display.Javascript object>"
            ]
          },
          "metadata": {}
        },
        {
          "output_type": "display_data",
          "data": {
            "application/javascript": [
              "window[\"4c8dcd26-9d15-11ec-9d75-0242ac1c0002\"] = google.colab.output.setActiveOutputArea(window[\"4c8d38e8-9d15-11ec-9d75-0242ac1c0002\"]);\n",
              "//# sourceURL=js_a447f15b83"
            ],
            "text/plain": [
              "<IPython.core.display.Javascript object>"
            ]
          },
          "metadata": {}
        },
        {
          "output_type": "display_data",
          "data": {
            "application/javascript": [
              "window[\"4ca1d62c-9d15-11ec-9d75-0242ac1c0002\"] = google.colab.output.setActiveOutputArea(window[\"4c8cf388-9d15-11ec-9d75-0242ac1c0002\"]);\n",
              "//# sourceURL=js_88cff9ca6e"
            ],
            "text/plain": [
              "<IPython.core.display.Javascript object>"
            ]
          },
          "metadata": {}
        },
        {
          "output_type": "display_data",
          "data": {
            "application/javascript": [
              "window[\"4d3cd88e-9d15-11ec-9d75-0242ac1c0002\"] = google.colab.output.getActiveOutputArea();\n",
              "//# sourceURL=js_80c8fcd7f2"
            ],
            "text/plain": [
              "<IPython.core.display.Javascript object>"
            ]
          },
          "metadata": {}
        },
        {
          "output_type": "display_data",
          "data": {
            "application/javascript": [
              "window[\"4d3d32de-9d15-11ec-9d75-0242ac1c0002\"] = document.querySelector(\"#id4-0-0\");\n",
              "//# sourceURL=js_f24b922e65"
            ],
            "text/plain": [
              "<IPython.core.display.Javascript object>"
            ]
          },
          "metadata": {}
        },
        {
          "output_type": "display_data",
          "data": {
            "application/javascript": [
              "window[\"4d3d85ae-9d15-11ec-9d75-0242ac1c0002\"] = google.colab.output.setActiveOutputArea(window[\"4d3d32de-9d15-11ec-9d75-0242ac1c0002\"]);\n",
              "//# sourceURL=js_4ffabed1fb"
            ],
            "text/plain": [
              "<IPython.core.display.Javascript object>"
            ]
          },
          "metadata": {}
        },
        {
          "output_type": "display_data",
          "data": {
            "application/javascript": [
              "window[\"4d523594-9d15-11ec-9d75-0242ac1c0002\"] = google.colab.output.setActiveOutputArea(window[\"4d3cd88e-9d15-11ec-9d75-0242ac1c0002\"]);\n",
              "//# sourceURL=js_bb321fae21"
            ],
            "text/plain": [
              "<IPython.core.display.Javascript object>"
            ]
          },
          "metadata": {}
        },
        {
          "output_type": "display_data",
          "data": {
            "application/javascript": [
              "window[\"4dec875c-9d15-11ec-9d75-0242ac1c0002\"] = google.colab.output.getActiveOutputArea();\n",
              "//# sourceURL=js_d85f9d9c1b"
            ],
            "text/plain": [
              "<IPython.core.display.Javascript object>"
            ]
          },
          "metadata": {}
        },
        {
          "output_type": "display_data",
          "data": {
            "application/javascript": [
              "window[\"4decce10-9d15-11ec-9d75-0242ac1c0002\"] = document.querySelector(\"#id4-0-0\");\n",
              "//# sourceURL=js_ab695208dd"
            ],
            "text/plain": [
              "<IPython.core.display.Javascript object>"
            ]
          },
          "metadata": {}
        },
        {
          "output_type": "display_data",
          "data": {
            "application/javascript": [
              "window[\"4ded434a-9d15-11ec-9d75-0242ac1c0002\"] = google.colab.output.setActiveOutputArea(window[\"4decce10-9d15-11ec-9d75-0242ac1c0002\"]);\n",
              "//# sourceURL=js_a5585eb0a6"
            ],
            "text/plain": [
              "<IPython.core.display.Javascript object>"
            ]
          },
          "metadata": {}
        },
        {
          "output_type": "display_data",
          "data": {
            "image/png": "[encoded data removed]",
            "text/plain": [
              "<Figure size 432x288 with 1 Axes>"
            ]
          },
          "metadata": {
            "needs_background": "light"
          }
        },
        {
          "output_type": "display_data",
          "data": {
            "application/javascript": [
              "window[\"4e00541c-9d15-11ec-9d75-0242ac1c0002\"] = google.colab.output.setActiveOutputArea(window[\"4dec875c-9d15-11ec-9d75-0242ac1c0002\"]);\n",
              "//# sourceURL=js_72de135ba6"
            ],
            "text/plain": [
              "<IPython.core.display.Javascript object>"
            ]
          },
          "metadata": {}
        },
        {
          "output_type": "stream",
          "name": "stdout",
          "text": [
            "Total reward: -4\n"
          ]
        }
      ]
    },
    {
      "cell_type": "code",
      "source": [
        "class q_learning:\n",
        "\n",
        "  def __init__(self):\n",
        "    self.env = StoGridEnvironment()\n",
        "    self.env.reset()\n",
        "    self.agent = RandomAgent(self.env)\n",
        "    self.q_values=np.zeros((16,4))\n",
        "    self.totalreward=[]\n",
        "    self.stepstaken=[]\n",
        "    self.epsilondecay=[]\n",
        "    self.epsilon=1\n",
        "    self.lr=0.2\n",
        "    self.df=0.9\n",
        "    self.decay=0.9954\n",
        "\n",
        "  def reset(self):\n",
        "    self.env.agent_pos=[0,0]\n",
        "    self.env.timestep=0\n",
        "    self.done1=False\n",
        "    self.action=0\n",
        "    self.state=0\n",
        "    self.reward=0   \n",
        "    self.stepno=0\n",
        "    self.rewardsum=0\n",
        "\n",
        "  def action1(self,state1,epsilon):\n",
        "    if np.random.rand()>epsilon:\n",
        "      return np.argmax(self.q_values[state1])\n",
        "    else:\n",
        "      return np.random.randint(4)\n",
        "  \n",
        "  def takeaction(self,action):\n",
        "    a=[+1,-1]\n",
        "    if action == 0:  #Down (95% down, 5% up)\n",
        "        self.env.agent_pos[0] = self.env.agent_pos[0] +np.random.choice(a,p=[0.95,0.05])\n",
        "          #print('Down')\n",
        "    if action == 1:  #Up  (95% up, 5% down)\n",
        "        self.env.agent_pos[0]= self.env.agent_pos[0] -np.random.choice(a,p=[0.95,0.05])\n",
        "          #print('Up')\n",
        "    if action == 2:  #Right (95% right, 5% left)\n",
        "        self.env.agent_pos[1] = self.env.agent_pos[1] +np.random.choice(a,p=[0.95,0.05])\n",
        "          #print('Right')\n",
        "    if action == 3:  #Left (95% left, 5% right)\n",
        "        self.env.agent_pos[1] = self.env.agent_pos[1] -np.random.choice(a,p=[0.95,0.05])\n",
        "          #print('left')\n",
        "\n",
        "    self.env.agent_pos = np.clip(self.env.agent_pos, 0, 3)\n",
        "    \n",
        "    if (self.env.agent_pos == self.env.goal_pos).all():\n",
        "        self.reward = 100\n",
        "    elif (self.env.agent_pos == self.env.r1).all():\n",
        "        self.reward =1\n",
        "    elif (self.env.agent_pos == self.env.r2).all():\n",
        "        self.reward =-2 \n",
        "    elif (self.env.agent_pos == self.env.r3).all():\n",
        "        self.reward =1\n",
        "    elif (self.env.agent_pos == self.env.r4).all():\n",
        "        self.reward =1\n",
        "    else:\n",
        "        self.reward = 0\n",
        "\n",
        "    self.env.timestep+=1\n",
        "    self.stepno+=1\n",
        "\n",
        "    return(self.env.agent_pos,self.reward)\n",
        "  \n",
        "  def training(self):\n",
        "    for episode in range(1000):\n",
        "      self.reset()\n",
        "      while not self.done1:\n",
        "        self.q_values[15]=0\n",
        "        action=self.action1(self.state,self.epsilon)\n",
        "        \n",
        "        self.env.agent_pos, reward = self.takeaction(action)\n",
        "        newstate=4*self.env.agent_pos[0]+self.env.agent_pos[1]  #state update\n",
        "        \n",
        "        self.q_values[self.state,action]=self.q_values[self.state,action] + self.lr*(reward+self.df*np.max(self.q_values[newstate])-self.q_values[self.state,action])\n",
        "        self.state=newstate\n",
        "\n",
        "        self.rewardsum+=reward\n",
        "\n",
        "        \n",
        "        \n",
        "        if self.env.timestep >= self.env.max_timesteps:\n",
        "          self.done1 = True\n",
        "        elif (self.env.agent_pos == self.env.goal_pos).all():\n",
        "          self.done1 = True\n",
        "\n",
        "      self.stepstaken.append(self.stepno)\n",
        "      self.totalreward.append(self.rewardsum)\n",
        "      self.epsilondecay.append(self.epsilon)\n",
        "      self.epsilon*=self.decay\n",
        "      \n",
        "  def evaluation(self):\n",
        "    self.stepstaken=[]\n",
        "    self.totalreward=[]\n",
        "    for episode in range(10):\n",
        "      self.reset()\n",
        "      while not self.done1:\n",
        "        self.q_values[15]=0\n",
        "        action=self.action1(self.state,self.epsilon)\n",
        "        \n",
        "        self.env.agent_pos, reward = self.takeaction(action)\n",
        "        newstate=4*self.env.agent_pos[0]+self.env.agent_pos[1]  #state update\n",
        "        \n",
        "        self.q_values[self.state,action]=self.q_values[self.state,action] + self.lr*(reward+self.df*np.max(self.q_values[newstate])-self.q_values[self.state,action])\n",
        "        self.state=newstate\n",
        "\n",
        "        self.rewardsum+=reward\n",
        "\n",
        "        \n",
        "        \n",
        "        if self.env.timestep >= self.env.max_timesteps:\n",
        "          self.done1 = True\n",
        "        elif (self.env.agent_pos == self.env.goal_pos).all():\n",
        "          self.done1 = True\n",
        "\n",
        "      self.stepstaken.append(self.stepno)\n",
        "      self.totalreward.append(self.rewardsum)\n",
        "      "
      ],
      "metadata": {
        "id": "kPTwuAgx_Bzu"
      },
      "execution_count": 5,
      "outputs": []
    },
    {
      "cell_type": "code",
      "source": [
        "class sarsa:\n",
        "\n",
        "  def __init__(self):\n",
        "    self.env = StoGridEnvironment()\n",
        "    self.env.reset()\n",
        "    self.agent = RandomAgent(self.env)\n",
        "    self.q_values=np.zeros((16,4))\n",
        "    self.totalreward=[]\n",
        "    self.stepstaken=[]\n",
        "    self.epsilon=1\n",
        "    self.lr=0.2\n",
        "    self.df=0.9\n",
        "    self.decay=0.9954\n",
        "    self.epsilondecay=[]\n",
        "\n",
        "  def reset(self):\n",
        "    self.env.agent_pos=[0,0]\n",
        "    self.env.timestep=0\n",
        "    self.done1=False\n",
        "    self.action=0\n",
        "    self.state=0\n",
        "    self.reward=0   \n",
        "    self.stepno=0\n",
        "    self.rewardsum=0\n",
        "\n",
        "  def action1(self,state1,epsilon):\n",
        "    if np.random.rand()>epsilon:\n",
        "      return np.argmax(self.q_values[state1])\n",
        "    else:\n",
        "      return np.random.randint(4)\n",
        "  \n",
        "  def takeaction(self,action):\n",
        "    a=[+1,-1]\n",
        "    if action == 0:  #Down (95% down, 5% up)\n",
        "        self.env.agent_pos[0] = self.env.agent_pos[0] +np.random.choice(a,p=[0.95,0.05])\n",
        "          #print('Down')\n",
        "    if action == 1:  #Up  (95% up, 5% down)\n",
        "        self.env.agent_pos[0]= self.env.agent_pos[0] -np.random.choice(a,p=[0.95,0.05])\n",
        "          #print('Up')\n",
        "    if action == 2:  #Right (95% right, 5% left)\n",
        "        self.env.agent_pos[1] = self.env.agent_pos[1] +np.random.choice(a,p=[0.95,0.05])\n",
        "          #print('Right')\n",
        "    if action == 3:  #Left (95% left, 5% right)\n",
        "        self.env.agent_pos[1] = self.env.agent_pos[1] -np.random.choice(a,p=[0.95,0.05])\n",
        "          #print('left')\n",
        "\n",
        "    self.env.agent_pos = np.clip(self.env.agent_pos, 0, 3)\n",
        "    \n",
        "    if (self.env.agent_pos == self.env.goal_pos).all():\n",
        "        self.reward = 100\n",
        "    elif (self.env.agent_pos == self.env.r1).all():\n",
        "        self.reward =1\n",
        "    elif (self.env.agent_pos == self.env.r2).all():\n",
        "        self.reward =-2 \n",
        "    elif (self.env.agent_pos == self.env.r3).all():\n",
        "        self.reward =1\n",
        "    elif (self.env.agent_pos == self.env.r4).all():\n",
        "        self.reward =1\n",
        "    else:\n",
        "        self.reward = 0\n",
        "\n",
        "    self.env.timestep+=1\n",
        "    self.stepno+=1\n",
        "\n",
        "    return(self.env.agent_pos,self.reward)\n",
        "  \n",
        "  def training(self):\n",
        "    for episode in range(1000):\n",
        "      self.reset()\n",
        "      action=self.action1(self.state,self.epsilon)\n",
        "      while not self.done1:\n",
        "        self.q_values[15]=0\n",
        "        \n",
        "        self.env.agent_pos, reward = self.takeaction(action)\n",
        "        newstate=4*self.env.agent_pos[0]+self.env.agent_pos[1]  #state update\n",
        "        \n",
        "        nextaction=self.action1(newstate,self.epsilon)\n",
        "        self.q_values[self.state,action]=self.q_values[self.state,action] + self.lr*(reward+self.df*self.q_values[newstate,nextaction]-self.q_values[self.state,action])\n",
        "        self.state=newstate\n",
        "        action=nextaction\n",
        "        self.rewardsum+=reward\n",
        "\n",
        "        if self.env.timestep >= self.env.max_timesteps:\n",
        "          self.done1 = True\n",
        "        elif (self.env.agent_pos == self.env.goal_pos).all():\n",
        "          self.done1 = True\n",
        "\n",
        "      self.stepstaken.append(self.stepno)\n",
        "      self.totalreward.append(self.rewardsum)\n",
        "      self.epsilondecay.append(self.epsilon)\n",
        "      self.epsilon*=self.decay\n",
        "      \n",
        "  def evaluation(self):\n",
        "    self.stepstaken=[]\n",
        "    self.totalreward=[]\n",
        "    for episode in range(10):\n",
        "      self.reset()\n",
        "      action=self.action1(self.state,self.epsilon)\n",
        "      while not self.done1:\n",
        "        self.q_values[15]=0\n",
        "        \n",
        "        self.env.agent_pos, reward = self.takeaction(action)\n",
        "        newstate=4*self.env.agent_pos[0]+self.env.agent_pos[1]  #state update\n",
        "        \n",
        "        nextaction=self.action1(newstate,self.epsilon)\n",
        "        self.q_values[self.state,action]=self.q_values[self.state,action] + self.lr*(reward+self.df*self.q_values[newstate,nextaction]-self.q_values[self.state,action])\n",
        "        self.state=newstate\n",
        "        action=nextaction\n",
        "        self.rewardsum+=reward\n",
        "\n",
        "        if self.env.timestep >= self.env.max_timesteps:\n",
        "          self.done1 = True\n",
        "        elif (self.env.agent_pos == self.env.goal_pos).all():\n",
        "          self.done1 = True\n",
        "      self.stepstaken.append(self.stepno)\n",
        "      self.totalreward.append(self.rewardsum)"
      ],
      "metadata": {
        "id": "yEhgMycmA-qj"
      },
      "execution_count": 6,
      "outputs": []
    },
    {
      "cell_type": "code",
      "source": [
        "def QLimplemetation():\n",
        "    print('Implementing Q learning:\\n')\n",
        "    table1=q_learning()\n",
        "    table1.training()\n",
        "    print('Q table values after training:')\n",
        "    print(table1.q_values)\n",
        "\n",
        "    plot1 = plt.figure(1)\n",
        "    plt.xlabel('Episodes')\n",
        "    plt.title('Q learning results after training for stochastic environment')\n",
        "    plt.plot(table1.totalreward)\n",
        "    plt.plot(table1.stepstaken)\n",
        "    plt.legend(['Reward per episode','Steps per episode'],loc='best')\n",
        "\n",
        "    plot2 = plt.figure(2)\n",
        "    plt.plot(table1.epsilondecay)\n",
        "    plt.xlabel('Episodes')\n",
        "    plt.ylabel('Epsilon')\n",
        "    \n",
        "    print('Q table values after evaluation:')\n",
        "    table1.evaluation()\n",
        "    print(table1.q_values)\n",
        "\n",
        "    plot3=plt.figure(3)\n",
        "    plt.xlabel('Episodes')\n",
        "    plt.title('Q learning results after evaluation for stochastic environment:')\n",
        "    plt.plot(table1.totalreward)\n",
        "    plt.plot(table1.stepstaken)\n",
        "    plt.legend(['Reward per episode','Steps per episode'],loc='best')\n",
        "    plt.show()\n",
        "\n",
        "def sarsaimplementation():\n",
        "  print('Implementing SARSA:\\n')\n",
        "  table2=sarsa()\n",
        "  table2.training()\n",
        "  print('Q table values after training:')\n",
        "  print(table2.q_values)\n",
        "\n",
        "  plot1=plt.figure(1)\n",
        "  plt.xlabel('Episodes')\n",
        "  plt.title('SARSA results after training for stochastic environment')\n",
        "  plt.plot(table2.totalreward)\n",
        "  plt.plot(table2.stepstaken)\n",
        "  plt.legend(['Reward per episode','Steps per episode'],loc='best')\n",
        "\n",
        "  plot2=plt.figure(2)\n",
        "  plt.plot(table2.epsilondecay)\n",
        "  plt.xlabel('Episodes')\n",
        "  plt.ylabel('Epsilon')\n",
        "\n",
        "  table2.evaluation()\n",
        "  print('Q values after evaluation:')\n",
        "  print(table2.q_values)\n",
        "\n",
        "  plot3=plt.figure(3)\n",
        "  plt.xlabel('Episodes')\n",
        "  plt.title('SARSA results after evaluation for stochastic environment:')\n",
        "  plt.plot(table2.totalreward)\n",
        "  plt.plot(table2.stepstaken)\n",
        "  plt.legend(['Reward per episode','Steps per episode'],loc='best')\n",
        "  plt.show()"
      ],
      "metadata": {
        "id": "_QPFxz753RZQ"
      },
      "execution_count": 7,
      "outputs": []
    },
    {
      "cell_type": "code",
      "source": [
        "if __name__ == \"__main__\":\n",
        "  QLimplemetation()\n",
        "  sarsaimplementation()"
      ],
      "metadata": {
        "colab": {
          "base_uri": "https://localhost:8080/",
          "height": 1000
        },
        "id": "GcTChfYQ3T6k",
        "outputId": "40f48ed3-6dda-48d0-f229-e0eb391bb3c9"
      },
      "execution_count": 8,
      "outputs": [
        {
          "output_type": "stream",
          "name": "stdout",
          "text": [
            "Implementing Q learning:\n",
            "\n",
            "Q table values after training:\n",
            "[[56.77955778 50.78178294 53.34505144 51.11015947]\n",
            " [60.46821244 52.59837739 52.39005625 47.22314585]\n",
            " [68.7072253  50.14931334 41.12187787 28.03333788]\n",
            " [73.59136695 33.53761185 17.36371976 42.55788003]\n",
            " [63.13903943 51.81887847 59.01521912 56.4093886 ]\n",
            " [62.15547633 52.89681792 70.84455208 54.64960292]\n",
            " [78.70624017 51.37779148 71.73837812 53.61764264]\n",
            " [85.53256978 52.97331251 54.4043438  45.96092266]\n",
            " [66.99105267 57.1211581  70.53415998 63.95111825]\n",
            " [74.21069258 59.59961468 79.08889543 67.11616969]\n",
            " [88.32129248 72.44144154 81.9032106  71.76933327]\n",
            " [99.66426444 78.06840758 85.7063501  80.93775761]\n",
            " [69.8383722  59.97106246 75.90684172 70.13908203]\n",
            " [78.47289345 71.27211576 85.80392456 73.43149997]\n",
            " [88.51880678 81.43447396 98.42583821 81.07925834]\n",
            " [ 0.          0.          0.          0.        ]]\n",
            "Q table values after evaluation:\n",
            "[[56.92619671 50.78178294 53.34505144 51.11015947]\n",
            " [60.46821244 52.59837739 52.39005625 47.22314585]\n",
            " [68.7072253  50.14931334 41.12187787 28.03333788]\n",
            " [73.59136695 33.53761185 17.36371976 42.55788003]\n",
            " [63.93286106 51.81887847 59.01521912 56.4093886 ]\n",
            " [62.15547633 52.89681792 70.84455208 54.64960292]\n",
            " [78.70624017 51.37779148 71.73837812 53.61764264]\n",
            " [85.53256978 52.97331251 54.4043438  45.96092266]\n",
            " [66.99105267 57.1211581  71.33266427 63.95111825]\n",
            " [74.21069258 59.59961468 79.30440476 67.11616969]\n",
            " [88.19540766 72.44144154 81.9032106  71.76933327]\n",
            " [99.66426444 78.06840758 85.7063501  80.93775761]\n",
            " [69.8383722  59.97106246 75.90684172 70.13908203]\n",
            " [78.47289345 71.27211576 85.707127   73.43149997]\n",
            " [88.51880678 81.43447396 98.90946623 81.07925834]\n",
            " [ 0.          0.          0.          0.        ]]\n"
          ]
        },
        {
          "output_type": "display_data",
          "data": {
            "image/png": "[encoded data removed]",
            "text/plain": [
              "<Figure size 432x288 with 1 Axes>"
            ]
          },
          "metadata": {
            "needs_background": "light"
          }
        },
        {
          "output_type": "display_data",
          "data": {
            "image/png": "[encoded data removed]",
            "text/plain": [
              "<Figure size 432x288 with 1 Axes>"
            ]
          },
          "metadata": {
            "needs_background": "light"
          }
        },
        {
          "output_type": "display_data",
          "data": {
            "image/png": "[encoded data removed]",
            "text/plain": [
              "<Figure size 432x288 with 1 Axes>"
            ]
          },
          "metadata": {
            "needs_background": "light"
          }
        },
        {
          "output_type": "stream",
          "name": "stdout",
          "text": [
            "Implementing SARSA:\n",
            "\n",
            "Q table values after training:\n",
            "[[56.38088889 44.91702118 41.70300615 48.11204182]\n",
            " [15.96334208 21.75583325 47.60395809 17.1008056 ]\n",
            " [62.26246945 30.90518075 27.60342578 13.73901559]\n",
            " [40.58925959 17.67881903 13.4971869  11.85354344]\n",
            " [63.39550933 36.95992952 48.64785575 53.56049426]\n",
            " [36.14563291 22.15375154 64.80997788 23.77262135]\n",
            " [73.90345857 27.76096013 41.51568263 25.71101064]\n",
            " [65.2613406  17.07517819 44.78217646 19.44939285]\n",
            " [70.5764044  47.80008882 58.60145225 62.31007359]\n",
            " [54.26245624 22.25451888 75.36798439 42.29557088]\n",
            " [81.7324463  41.46508684 79.00400074 42.11841179]\n",
            " [99.92150037 39.46911112 71.16239875 40.56688898]\n",
            " [67.7559868  55.86648294 77.79351531 67.90135215]\n",
            " [75.06041115 65.37554195 88.31651521 64.49219423]\n",
            " [84.62126348 75.69643262 99.72966609 72.87286461]\n",
            " [ 0.          0.          0.          0.        ]]\n",
            "Q values after evaluation:\n",
            "[[56.08320234 44.91702118 41.70300615 48.11204182]\n",
            " [15.96334208 21.75583325 47.60395809 17.1008056 ]\n",
            " [62.26246945 30.90518075 27.60342578 13.73901559]\n",
            " [40.58925959 17.67881903 13.4971869  11.85354344]\n",
            " [62.61208398 36.95992952 48.64785575 53.56049426]\n",
            " [36.14563291 22.15375154 64.80997788 23.77262135]\n",
            " [73.90345857 27.76096013 41.51568263 25.71101064]\n",
            " [65.2613406  17.07517819 44.78217646 19.44939285]\n",
            " [71.44110583 47.80008882 58.60145225 62.31007359]\n",
            " [54.26245624 22.25451888 75.36798439 42.29557088]\n",
            " [81.7324463  41.46508684 79.00400074 42.11841179]\n",
            " [99.92150037 39.46911112 71.16239875 40.56688898]\n",
            " [67.7559868  55.86648294 79.07062358 67.90135215]\n",
            " [75.06041115 65.37554195 89.13601583 64.49219423]\n",
            " [84.62126348 75.69643262 99.97097312 73.418428  ]\n",
            " [ 0.          0.          0.          0.        ]]\n"
          ]
        },
        {
          "output_type": "display_data",
          "data": {
            "image/png": "[encoded data removed]",
            "text/plain": [
              "<Figure size 432x288 with 1 Axes>"
            ]
          },
          "metadata": {
            "needs_background": "light"
          }
        },
        {
          "output_type": "display_data",
          "data": {
            "image/png": "[encoded data removed]",
            "text/plain": [
              "<Figure size 432x288 with 1 Axes>"
            ]
          },
          "metadata": {
            "needs_background": "light"
          }
        },
        {
          "output_type": "display_data",
          "data": {
            "image/png": "[encoded data removed]",
            "text/plain": [
              "<Figure size 432x288 with 1 Axes>"
            ]
          },
          "metadata": {
            "needs_background": "light"
          }
        }
      ]
    },
    {
      "cell_type": "code",
      "source": [
        ""
      ],
      "metadata": {
        "id": "kx3M_1xT4n3c"
      },
      "execution_count": null,
      "outputs": []
    }
  ]
}