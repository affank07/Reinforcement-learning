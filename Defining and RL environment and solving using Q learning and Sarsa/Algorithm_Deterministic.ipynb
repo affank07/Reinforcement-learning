{
  "nbformat": 4,
  "nbformat_minor": 0,
  "metadata": {
    "colab": {
      "name": "Algorithm_Deterministic.ipynb",
      "provenance": [],
      "collapsed_sections": []
    },
    "kernelspec": {
      "name": "python3",
      "display_name": "Python 3"
    },
    "language_info": {
      "name": "python"
    }
  },
  "cells": [
    {
      "cell_type": "code",
      "execution_count": 1,
      "metadata": {
        "colab": {
          "base_uri": "https://localhost:8080/"
        },
        "id": "NIXRkbxUTUy9",
        "outputId": "3f392268-94d4-476c-874e-965ba86c619c"
      },
      "outputs": [
        {
          "output_type": "stream",
          "name": "stdout",
          "text": [
            "Requirement already satisfied: gym in /usr/local/lib/python3.7/dist-packages (0.17.3)\n",
            "Requirement already satisfied: numpy>=1.10.4 in /usr/local/lib/python3.7/dist-packages (from gym) (1.21.5)\n",
            "Requirement already satisfied: scipy in /usr/local/lib/python3.7/dist-packages (from gym) (1.4.1)\n",
            "Requirement already satisfied: cloudpickle<1.7.0,>=1.2.0 in /usr/local/lib/python3.7/dist-packages (from gym) (1.3.0)\n",
            "Requirement already satisfied: pyglet<=1.5.0,>=1.4.0 in /usr/local/lib/python3.7/dist-packages (from gym) (1.5.0)\n",
            "Requirement already satisfied: future in /usr/local/lib/python3.7/dist-packages (from pyglet<=1.5.0,>=1.4.0->gym) (0.16.0)\n"
          ]
        }
      ],
      "source": [
        "#I certify that the code and data in this assignment were generated independently, using only the tools and resources defined in the course and that I did not receive any external help, coaching or contributions during the production of this work\n",
        "!pip install gym"
      ]
    },
    {
      "cell_type": "code",
      "source": [
        "import numpy as np\n",
        "import matplotlib.pyplot as plt\n",
        "import gym\n",
        "from gym import spaces\n",
        "from google.colab import widgets\n",
        "import time"
      ],
      "metadata": {
        "id": "hh6gBXUGTX5y"
      },
      "execution_count": 2,
      "outputs": []
    },
    {
      "cell_type": "code",
      "source": [
        "class DeterGridEnvironment(gym.Env):            #Deterministic enviroment\n",
        "    metadata = { 'render.modes': [] }\n",
        "    \n",
        "    def __init__(self):\n",
        "        self.observation_space = spaces.Discrete(16)  #12\n",
        "        self.action_space = spaces.Discrete(4)   #4\n",
        "        self.max_timesteps = 25   #10\n",
        "\n",
        "    def reset(self):\n",
        "        self.timestep = 0\n",
        "        self.reward=0\n",
        "        self.agent_pos = [0, 0]\n",
        "        self.goal_pos = [3, 3]\n",
        "        self.r1=[0,2]\n",
        "        self.r2=[1,1]\n",
        "        self.r3=[1,3]\n",
        "        self.r4=[3,0]\n",
        "        self.state = np.zeros((4,4))\n",
        "        self.state[tuple(self.agent_pos)] = 1\n",
        "        self.state[tuple(self.goal_pos)] = 0.75\n",
        "        self.state[tuple(self.r1)] = 0.5\n",
        "        self.state[tuple(self.r2)] = 0.25\n",
        "        self.state[tuple(self.r3)] = 0.5\n",
        "        self.state[tuple(self.r4)] = 0.5\n",
        "        observation = self.state.flatten()\n",
        "        return observation\n",
        "    \n",
        "    def step(self, action):\n",
        "        self.state = np.random.choice(self.observation_space.n)\n",
        "        if action == 0:  #Down\n",
        "          self.agent_pos[0] += 1\n",
        "        if action == 1:  #Up\n",
        "          self.agent_pos[0] -= 1\n",
        "        if action == 2:  #Right\n",
        "          self.agent_pos[1] += 1\n",
        "        if action == 3:  #Left\n",
        "          self.agent_pos[1] -= 1\n",
        "          \n",
        "        self.agent_pos = np.clip(self.agent_pos, 0, 3)\n",
        "        self.state = np.zeros((4,4))\n",
        "        self.state[tuple(self.agent_pos)] = 1\n",
        "        self.state[tuple(self.goal_pos)] = 0.75\n",
        "        self.state[tuple(self.r1)] = 0.5\n",
        "        self.state[tuple(self.r2)] = 0.25\n",
        "        self.state[tuple(self.r3)] = 0.5\n",
        "        self.state[tuple(self.r4)] = 0.5\n",
        "        observation = self.state.flatten()\n",
        "        \n",
        "        \n",
        "        if (self.agent_pos == self.goal_pos).all():\n",
        "          self.reward += 100\n",
        "          print('Goal Reached: +100')\n",
        "        elif (self.agent_pos == self.r1).all():\n",
        "          self.reward +=1\n",
        "          print('Got a gold: +1')\n",
        "        elif (self.agent_pos == self.r2).all():\n",
        "          self.reward -=2\n",
        "          print('Bandits: -2')\n",
        "        elif (self.agent_pos == self.r3).all():\n",
        "          self.reward +=1\n",
        "          print('Got a gold: +1')\n",
        "        elif (self.agent_pos == self.r4).all():\n",
        "          self.reward +=1\n",
        "          print('Got a gold: +1')   \n",
        "\n",
        "        \n",
        "        self.timestep += 1\n",
        "        if self.timestep >= self.max_timesteps:\n",
        "          done = True\n",
        "        elif (self.agent_pos == self.goal_pos).all():\n",
        "          done = True\n",
        "        else:\n",
        "          done = False \n",
        "        info = {}\n",
        "        \n",
        "        return observation, self.reward, done, info\n",
        "\n",
        "    def render(self):\n",
        "        plt.imshow(self.state)"
      ],
      "metadata": {
        "id": "tByX1mONTaSz"
      },
      "execution_count": 3,
      "outputs": []
    },
    {
      "cell_type": "code",
      "source": [
        "class RandomAgent:\n",
        "  def __init__(self, env):\n",
        "    self.env = env\n",
        "    self.observation_space = env.observation_space\n",
        "    self.action_space = env.action_space\n",
        "\n",
        "  def step(self, observation):\n",
        "    return np.random.choice(self.action_space.n)"
      ],
      "metadata": {
        "id": "P8j5dZ-FTdIX"
      },
      "execution_count": 4,
      "outputs": []
    },
    {
      "cell_type": "code",
      "source": [
        "env = DeterGridEnvironment()\n",
        "agent = RandomAgent(env)\n",
        "\n",
        "obs = env.reset()\n",
        "done = False\n",
        "\n",
        "output_grid = widgets.Grid(1, 1)\n",
        "with output_grid.output_to(0, 0):\n",
        "  env.render()\n",
        "\n",
        "\n",
        "while not done:\n",
        "  action = agent.step(obs)\n",
        "  obs, reward, done, info = env.step(action)\n",
        "  with output_grid.output_to(0, 0):\n",
        "    output_grid.clear_cell()\n",
        "    env.render()\n",
        "  time.sleep(1)\n",
        "print('Total reward:', env.reward)"
      ],
      "metadata": {
        "colab": {
          "base_uri": "https://localhost:8080/",
          "height": 342
        },
        "id": "776pvfCqTgty",
        "outputId": "35a5baf2-247b-4e60-90fb-908df1631f51"
      },
      "execution_count": null,
      "outputs": [
        {
          "output_type": "display_data",
          "data": {
            "text/html": [
              "<style>\n",
              "       table#id8, #id8 > tbody > tr > th, #id8 > tbody > tr > td {\n",
              "         border: 1px solid lightgray;\n",
              "         border-collapse:collapse;\n",
              "         \n",
              "        }</style>"
            ],
            "text/plain": [
              "<IPython.core.display.HTML object>"
            ]
          },
          "metadata": {}
        },
        {
          "output_type": "display_data",
          "data": {
            "text/html": [
              "<table id=id8><tr><td id=id8-0-0></td></tr></table>"
            ],
            "text/plain": [
              "<IPython.core.display.HTML object>"
            ]
          },
          "metadata": {}
        },
        {
          "output_type": "display_data",
          "data": {
            "application/javascript": [
              "window[\"20a025b0-9d15-11ec-871d-0242ac1c0002\"] = google.colab.output.getActiveOutputArea();\n",
              "//# sourceURL=js_9c3b4d28a4"
            ],
            "text/plain": [
              "<IPython.core.display.Javascript object>"
            ]
          },
          "metadata": {}
        },
        {
          "output_type": "display_data",
          "data": {
            "application/javascript": [
              "window[\"20a08d48-9d15-11ec-871d-0242ac1c0002\"] = document.querySelector(\"#id8-0-0\");\n",
              "//# sourceURL=js_f330ea5200"
            ],
            "text/plain": [
              "<IPython.core.display.Javascript object>"
            ]
          },
          "metadata": {}
        },
        {
          "output_type": "display_data",
          "data": {
            "application/javascript": [
              "window[\"20a0f0ee-9d15-11ec-871d-0242ac1c0002\"] = google.colab.output.setActiveOutputArea(window[\"20a08d48-9d15-11ec-871d-0242ac1c0002\"]);\n",
              "//# sourceURL=js_b12555123d"
            ],
            "text/plain": [
              "<IPython.core.display.Javascript object>"
            ]
          },
          "metadata": {}
        },
        {
          "output_type": "display_data",
          "data": {
            "application/javascript": [
              "window[\"20b98b90-9d15-11ec-871d-0242ac1c0002\"] = google.colab.output.setActiveOutputArea(window[\"20a025b0-9d15-11ec-871d-0242ac1c0002\"]);\n",
              "//# sourceURL=js_184f5a9f2c"
            ],
            "text/plain": [
              "<IPython.core.display.Javascript object>"
            ]
          },
          "metadata": {}
        },
        {
          "output_type": "display_data",
          "data": {
            "application/javascript": [
              "window[\"20bbdf44-9d15-11ec-871d-0242ac1c0002\"] = google.colab.output.getActiveOutputArea();\n",
              "//# sourceURL=js_05f0780333"
            ],
            "text/plain": [
              "<IPython.core.display.Javascript object>"
            ]
          },
          "metadata": {}
        },
        {
          "output_type": "display_data",
          "data": {
            "application/javascript": [
              "window[\"20bc3bc4-9d15-11ec-871d-0242ac1c0002\"] = document.querySelector(\"#id8-0-0\");\n",
              "//# sourceURL=js_ff517ace01"
            ],
            "text/plain": [
              "<IPython.core.display.Javascript object>"
            ]
          },
          "metadata": {}
        },
        {
          "output_type": "display_data",
          "data": {
            "application/javascript": [
              "window[\"20bca014-9d15-11ec-871d-0242ac1c0002\"] = google.colab.output.setActiveOutputArea(window[\"20bc3bc4-9d15-11ec-871d-0242ac1c0002\"]);\n",
              "//# sourceURL=js_94c2e5abf3"
            ],
            "text/plain": [
              "<IPython.core.display.Javascript object>"
            ]
          },
          "metadata": {}
        },
        {
          "output_type": "display_data",
          "data": {
            "application/javascript": [
              "window[\"20eaaf36-9d15-11ec-871d-0242ac1c0002\"] = google.colab.output.setActiveOutputArea(window[\"20bbdf44-9d15-11ec-871d-0242ac1c0002\"]);\n",
              "//# sourceURL=js_12a133a213"
            ],
            "text/plain": [
              "<IPython.core.display.Javascript object>"
            ]
          },
          "metadata": {}
        },
        {
          "output_type": "stream",
          "name": "stdout",
          "text": [
            "Bandits: -2\n"
          ]
        },
        {
          "output_type": "display_data",
          "data": {
            "application/javascript": [
              "window[\"21865918-9d15-11ec-871d-0242ac1c0002\"] = google.colab.output.getActiveOutputArea();\n",
              "//# sourceURL=js_171262bf2d"
            ],
            "text/plain": [
              "<IPython.core.display.Javascript object>"
            ]
          },
          "metadata": {}
        },
        {
          "output_type": "display_data",
          "data": {
            "application/javascript": [
              "window[\"2186ebb2-9d15-11ec-871d-0242ac1c0002\"] = document.querySelector(\"#id8-0-0\");\n",
              "//# sourceURL=js_3593075bb4"
            ],
            "text/plain": [
              "<IPython.core.display.Javascript object>"
            ]
          },
          "metadata": {}
        },
        {
          "output_type": "display_data",
          "data": {
            "application/javascript": [
              "window[\"21875016-9d15-11ec-871d-0242ac1c0002\"] = google.colab.output.setActiveOutputArea(window[\"2186ebb2-9d15-11ec-871d-0242ac1c0002\"]);\n",
              "//# sourceURL=js_6fde8c17a9"
            ],
            "text/plain": [
              "<IPython.core.display.Javascript object>"
            ]
          },
          "metadata": {}
        },
        {
          "output_type": "display_data",
          "data": {
            "application/javascript": [
              "window[\"21a0bd6c-9d15-11ec-871d-0242ac1c0002\"] = google.colab.output.setActiveOutputArea(window[\"21865918-9d15-11ec-871d-0242ac1c0002\"]);\n",
              "//# sourceURL=js_46610c7a68"
            ],
            "text/plain": [
              "<IPython.core.display.Javascript object>"
            ]
          },
          "metadata": {}
        },
        {
          "output_type": "display_data",
          "data": {
            "application/javascript": [
              "window[\"223f11a6-9d15-11ec-871d-0242ac1c0002\"] = google.colab.output.getActiveOutputArea();\n",
              "//# sourceURL=js_41620331b5"
            ],
            "text/plain": [
              "<IPython.core.display.Javascript object>"
            ]
          },
          "metadata": {}
        },
        {
          "output_type": "display_data",
          "data": {
            "application/javascript": [
              "window[\"22401538-9d15-11ec-871d-0242ac1c0002\"] = document.querySelector(\"#id8-0-0\");\n",
              "//# sourceURL=js_7b47939673"
            ],
            "text/plain": [
              "<IPython.core.display.Javascript object>"
            ]
          },
          "metadata": {}
        },
        {
          "output_type": "display_data",
          "data": {
            "application/javascript": [
              "window[\"22412568-9d15-11ec-871d-0242ac1c0002\"] = google.colab.output.setActiveOutputArea(window[\"22401538-9d15-11ec-871d-0242ac1c0002\"]);\n",
              "//# sourceURL=js_3567da93e3"
            ],
            "text/plain": [
              "<IPython.core.display.Javascript object>"
            ]
          },
          "metadata": {}
        },
        {
          "output_type": "display_data",
          "data": {
            "application/javascript": [
              "window[\"2291a3c6-9d15-11ec-871d-0242ac1c0002\"] = google.colab.output.setActiveOutputArea(window[\"223f11a6-9d15-11ec-871d-0242ac1c0002\"]);\n",
              "//# sourceURL=js_b7d651a036"
            ],
            "text/plain": [
              "<IPython.core.display.Javascript object>"
            ]
          },
          "metadata": {}
        },
        {
          "output_type": "stream",
          "name": "stdout",
          "text": [
            "Bandits: -2\n"
          ]
        },
        {
          "output_type": "display_data",
          "data": {
            "application/javascript": [
              "window[\"232fb0c0-9d15-11ec-871d-0242ac1c0002\"] = google.colab.output.getActiveOutputArea();\n",
              "//# sourceURL=js_0f836248e0"
            ],
            "text/plain": [
              "<IPython.core.display.Javascript object>"
            ]
          },
          "metadata": {}
        },
        {
          "output_type": "display_data",
          "data": {
            "application/javascript": [
              "window[\"2330cc8a-9d15-11ec-871d-0242ac1c0002\"] = document.querySelector(\"#id8-0-0\");\n",
              "//# sourceURL=js_ccf2e0120f"
            ],
            "text/plain": [
              "<IPython.core.display.Javascript object>"
            ]
          },
          "metadata": {}
        },
        {
          "output_type": "display_data",
          "data": {
            "application/javascript": [
              "window[\"2331ee4e-9d15-11ec-871d-0242ac1c0002\"] = google.colab.output.setActiveOutputArea(window[\"2330cc8a-9d15-11ec-871d-0242ac1c0002\"]);\n",
              "//# sourceURL=js_cdd1d041a2"
            ],
            "text/plain": [
              "<IPython.core.display.Javascript object>"
            ]
          },
          "metadata": {}
        },
        {
          "output_type": "display_data",
          "data": {
            "application/javascript": [
              "window[\"23709fea-9d15-11ec-871d-0242ac1c0002\"] = google.colab.output.setActiveOutputArea(window[\"232fb0c0-9d15-11ec-871d-0242ac1c0002\"]);\n",
              "//# sourceURL=js_037b48fd0a"
            ],
            "text/plain": [
              "<IPython.core.display.Javascript object>"
            ]
          },
          "metadata": {}
        },
        {
          "output_type": "display_data",
          "data": {
            "application/javascript": [
              "window[\"240de2d2-9d15-11ec-871d-0242ac1c0002\"] = google.colab.output.getActiveOutputArea();\n",
              "//# sourceURL=js_90bf6e9841"
            ],
            "text/plain": [
              "<IPython.core.display.Javascript object>"
            ]
          },
          "metadata": {}
        },
        {
          "output_type": "display_data",
          "data": {
            "application/javascript": [
              "window[\"240edda4-9d15-11ec-871d-0242ac1c0002\"] = document.querySelector(\"#id8-0-0\");\n",
              "//# sourceURL=js_3ef6062a23"
            ],
            "text/plain": [
              "<IPython.core.display.Javascript object>"
            ]
          },
          "metadata": {}
        },
        {
          "output_type": "display_data",
          "data": {
            "application/javascript": [
              "window[\"2410c9de-9d15-11ec-871d-0242ac1c0002\"] = google.colab.output.setActiveOutputArea(window[\"240edda4-9d15-11ec-871d-0242ac1c0002\"]);\n",
              "//# sourceURL=js_8bc383927e"
            ],
            "text/plain": [
              "<IPython.core.display.Javascript object>"
            ]
          },
          "metadata": {}
        },
        {
          "output_type": "display_data",
          "data": {
            "application/javascript": [
              "window[\"2458af56-9d15-11ec-871d-0242ac1c0002\"] = google.colab.output.setActiveOutputArea(window[\"240de2d2-9d15-11ec-871d-0242ac1c0002\"]);\n",
              "//# sourceURL=js_2fcab85c09"
            ],
            "text/plain": [
              "<IPython.core.display.Javascript object>"
            ]
          },
          "metadata": {}
        },
        {
          "output_type": "display_data",
          "data": {
            "application/javascript": [
              "window[\"24f4852a-9d15-11ec-871d-0242ac1c0002\"] = google.colab.output.getActiveOutputArea();\n",
              "//# sourceURL=js_12db8f0dcd"
            ],
            "text/plain": [
              "<IPython.core.display.Javascript object>"
            ]
          },
          "metadata": {}
        },
        {
          "output_type": "display_data",
          "data": {
            "application/javascript": [
              "window[\"24f707a0-9d15-11ec-871d-0242ac1c0002\"] = document.querySelector(\"#id8-0-0\");\n",
              "//# sourceURL=js_f41e1460e2"
            ],
            "text/plain": [
              "<IPython.core.display.Javascript object>"
            ]
          },
          "metadata": {}
        },
        {
          "output_type": "display_data",
          "data": {
            "application/javascript": [
              "window[\"24f78900-9d15-11ec-871d-0242ac1c0002\"] = google.colab.output.setActiveOutputArea(window[\"24f707a0-9d15-11ec-871d-0242ac1c0002\"]);\n",
              "//# sourceURL=js_f17894fe85"
            ],
            "text/plain": [
              "<IPython.core.display.Javascript object>"
            ]
          },
          "metadata": {}
        },
        {
          "output_type": "display_data",
          "data": {
            "application/javascript": [
              "window[\"2536b71a-9d15-11ec-871d-0242ac1c0002\"] = google.colab.output.setActiveOutputArea(window[\"24f4852a-9d15-11ec-871d-0242ac1c0002\"]);\n",
              "//# sourceURL=js_49903ea19a"
            ],
            "text/plain": [
              "<IPython.core.display.Javascript object>"
            ]
          },
          "metadata": {}
        },
        {
          "output_type": "display_data",
          "data": {
            "application/javascript": [
              "window[\"25d48ab2-9d15-11ec-871d-0242ac1c0002\"] = google.colab.output.getActiveOutputArea();\n",
              "//# sourceURL=js_83fc4fc500"
            ],
            "text/plain": [
              "<IPython.core.display.Javascript object>"
            ]
          },
          "metadata": {}
        },
        {
          "output_type": "display_data",
          "data": {
            "application/javascript": [
              "window[\"25d52940-9d15-11ec-871d-0242ac1c0002\"] = document.querySelector(\"#id8-0-0\");\n",
              "//# sourceURL=js_40b4fce53d"
            ],
            "text/plain": [
              "<IPython.core.display.Javascript object>"
            ]
          },
          "metadata": {}
        },
        {
          "output_type": "display_data",
          "data": {
            "application/javascript": [
              "window[\"25d70648-9d15-11ec-871d-0242ac1c0002\"] = google.colab.output.setActiveOutputArea(window[\"25d52940-9d15-11ec-871d-0242ac1c0002\"]);\n",
              "//# sourceURL=js_a7b95b96e5"
            ],
            "text/plain": [
              "<IPython.core.display.Javascript object>"
            ]
          },
          "metadata": {}
        },
        {
          "output_type": "display_data",
          "data": {
            "application/javascript": [
              "window[\"260a5dd6-9d15-11ec-871d-0242ac1c0002\"] = google.colab.output.setActiveOutputArea(window[\"25d48ab2-9d15-11ec-871d-0242ac1c0002\"]);\n",
              "//# sourceURL=js_d1b04540de"
            ],
            "text/plain": [
              "<IPython.core.display.Javascript object>"
            ]
          },
          "metadata": {}
        },
        {
          "output_type": "stream",
          "name": "stdout",
          "text": [
            "Goal Reached: +100\n"
          ]
        },
        {
          "output_type": "display_data",
          "data": {
            "application/javascript": [
              "window[\"26a81634-9d15-11ec-871d-0242ac1c0002\"] = google.colab.output.getActiveOutputArea();\n",
              "//# sourceURL=js_018284ee96"
            ],
            "text/plain": [
              "<IPython.core.display.Javascript object>"
            ]
          },
          "metadata": {}
        },
        {
          "output_type": "display_data",
          "data": {
            "application/javascript": [
              "window[\"26a94d56-9d15-11ec-871d-0242ac1c0002\"] = document.querySelector(\"#id8-0-0\");\n",
              "//# sourceURL=js_e86816463d"
            ],
            "text/plain": [
              "<IPython.core.display.Javascript object>"
            ]
          },
          "metadata": {}
        },
        {
          "output_type": "display_data",
          "data": {
            "application/javascript": [
              "window[\"26aa8e6e-9d15-11ec-871d-0242ac1c0002\"] = google.colab.output.setActiveOutputArea(window[\"26a94d56-9d15-11ec-871d-0242ac1c0002\"]);\n",
              "//# sourceURL=js_a63e47fb6e"
            ],
            "text/plain": [
              "<IPython.core.display.Javascript object>"
            ]
          },
          "metadata": {}
        },
        {
          "output_type": "display_data",
          "data": {
            "image/png": "[encoded data removed]",
            "text/plain": [
              "<Figure size 432x288 with 1 Axes>"
            ]
          },
          "metadata": {
            "needs_background": "light"
          }
        },
        {
          "output_type": "display_data",
          "data": {
            "application/javascript": [
              "window[\"26d7453a-9d15-11ec-871d-0242ac1c0002\"] = google.colab.output.setActiveOutputArea(window[\"26a81634-9d15-11ec-871d-0242ac1c0002\"]);\n",
              "//# sourceURL=js_0eb893b1de"
            ],
            "text/plain": [
              "<IPython.core.display.Javascript object>"
            ]
          },
          "metadata": {}
        },
        {
          "output_type": "stream",
          "name": "stdout",
          "text": [
            "Total reward: 96\n"
          ]
        }
      ]
    },
    {
      "cell_type": "code",
      "source": [
        "class q_learning:\n",
        "\n",
        "  def __init__(self):\n",
        "    self.env = DeterGridEnvironment()\n",
        "    self.env.reset()\n",
        "    self.agent = RandomAgent(self.env)\n",
        "    self.q_values=np.zeros((16,4))\n",
        "    self.totalreward=[]\n",
        "    self.stepstaken=[]\n",
        "    self.epsilondecay=[]\n",
        "    self.epsilon=1\n",
        "    self.lr=0.2\n",
        "    self.df=0.9\n",
        "    self.decay=0.9954\n",
        "\n",
        "  def reset(self):\n",
        "    self.env.agent_pos=[0,0]\n",
        "    self.env.timestep=0\n",
        "    self.done1=False\n",
        "    self.action=0\n",
        "    self.state=0\n",
        "    self.reward=0   \n",
        "    self.stepno=0\n",
        "    self.rewardsum=0\n",
        "\n",
        "  def action1(self,state1,epsilon):\n",
        "    if np.random.rand()>epsilon:\n",
        "      return np.argmax(self.q_values[state1])\n",
        "    else:\n",
        "      return np.random.randint(4)\n",
        "  \n",
        "  def takeaction(self,action):\n",
        "    if action == 0:  #Down\n",
        "        self.env.agent_pos[0] += 1\n",
        "    elif action == 1:  #Up\n",
        "        self.env.agent_pos[0] -= 1\n",
        "    elif action == 2:  #Right\n",
        "        self.env.agent_pos[1] += 1\n",
        "    elif action == 3:  #Left\n",
        "        self.env.agent_pos[1] -= 1\n",
        "    self.env.agent_pos = np.clip(self.env.agent_pos, 0, 3)\n",
        "    \n",
        "    if (self.env.agent_pos == self.env.goal_pos).all():\n",
        "        self.reward = 100\n",
        "    elif (self.env.agent_pos == self.env.r1).all():\n",
        "        self.reward =1\n",
        "    elif (self.env.agent_pos == self.env.r2).all():\n",
        "        self.reward =-2 \n",
        "    elif (self.env.agent_pos == self.env.r3).all():\n",
        "        self.reward =1\n",
        "    elif (self.env.agent_pos == self.env.r4).all():\n",
        "        self.reward =1\n",
        "    else:\n",
        "        self.reward = 0\n",
        "\n",
        "    self.env.timestep+=1\n",
        "    self.stepno+=1\n",
        "\n",
        "    return(self.env.agent_pos,self.reward)\n",
        "  \n",
        "  def training(self):\n",
        "    for episode in range(1000):\n",
        "      self.reset()\n",
        "      while not self.done1:\n",
        "        self.q_values[15]=0\n",
        "        action=self.action1(self.state,self.epsilon)\n",
        "        \n",
        "        self.env.agent_pos, reward = self.takeaction(action)\n",
        "        newstate=4*self.env.agent_pos[0]+self.env.agent_pos[1]  #state update\n",
        "        \n",
        "        self.q_values[self.state,action]=self.q_values[self.state,action] + self.lr*(reward+self.df*np.max(self.q_values[newstate])-self.q_values[self.state,action])\n",
        "        self.state=newstate\n",
        "\n",
        "        self.rewardsum+=reward\n",
        "\n",
        "        \n",
        "        \n",
        "        if self.env.timestep >= self.env.max_timesteps:\n",
        "          self.done1 = True\n",
        "        elif (self.env.agent_pos == self.env.goal_pos).all():\n",
        "          self.done1 = True\n",
        "\n",
        "      self.stepstaken.append(self.stepno)\n",
        "      self.totalreward.append(self.rewardsum)\n",
        "      self.epsilondecay.append(self.epsilon)\n",
        "      self.epsilon*=self.decay\n",
        "  \n",
        "  def evaluation(self):\n",
        "    self.stepstaken=[]\n",
        "    self.totalreward=[]\n",
        "    for episode in range(10):\n",
        "      self.reset()\n",
        "      while not self.done1:\n",
        "        self.q_values[15]=0\n",
        "        action=self.action1(self.state,self.epsilon)\n",
        "        \n",
        "        self.env.agent_pos, reward = self.takeaction(action)\n",
        "        newstate=4*self.env.agent_pos[0]+self.env.agent_pos[1]  #state update\n",
        "        \n",
        "        self.q_values[self.state,action]=self.q_values[self.state,action] + self.lr*(reward+self.df*np.max(self.q_values[newstate])-self.q_values[self.state,action])\n",
        "        self.state=newstate\n",
        "\n",
        "        self.rewardsum+=reward\n",
        "\n",
        "        \n",
        "        \n",
        "        if self.env.timestep >= self.env.max_timesteps:\n",
        "          self.done1 = True\n",
        "        elif (self.env.agent_pos == self.env.goal_pos).all():\n",
        "          self.done1 = True\n",
        "\n",
        "      self.stepstaken.append(self.stepno)\n",
        "      self.totalreward.append(self.rewardsum)"
      ],
      "metadata": {
        "id": "G9fLq5_dYup3"
      },
      "execution_count": 5,
      "outputs": []
    },
    {
      "cell_type": "code",
      "source": [
        "class sarsa:\n",
        "\n",
        "  def __init__(self):\n",
        "    self.env = DeterGridEnvironment()\n",
        "    self.env.reset()\n",
        "    self.agent = RandomAgent(self.env)\n",
        "    self.q_values=np.zeros((16,4))\n",
        "    self.totalreward=[]\n",
        "    self.stepstaken=[]\n",
        "    self.epsilon=1\n",
        "    self.lr=0.2\n",
        "    self.df=0.9\n",
        "    self.decay=0.9954\n",
        "    self.epsilondecay=[]\n",
        "\n",
        "  def reset(self):\n",
        "    self.env.agent_pos=[0,0]\n",
        "    self.env.timestep=0\n",
        "    self.done1=False\n",
        "    self.action=0\n",
        "    self.state=0\n",
        "    self.reward=0   \n",
        "    self.stepno=0\n",
        "    self.rewardsum=0\n",
        "\n",
        "  def action1(self,state1,epsilon):\n",
        "    if np.random.rand()>epsilon:\n",
        "      return np.argmax(self.q_values[state1])\n",
        "    else:\n",
        "      return np.random.randint(4)\n",
        "  \n",
        "  def takeaction(self,action):\n",
        "    if action == 0:  #Down\n",
        "        self.env.agent_pos[0] += 1\n",
        "    elif action == 1:  #Up\n",
        "        self.env.agent_pos[0] -= 1\n",
        "    elif action == 2:  #Right\n",
        "        self.env.agent_pos[1] += 1\n",
        "    elif action == 3:  #Left\n",
        "        self.env.agent_pos[1] -= 1\n",
        "    self.env.agent_pos = np.clip(self.env.agent_pos, 0, 3)\n",
        "    \n",
        "    if (self.env.agent_pos == self.env.goal_pos).all():\n",
        "        self.reward = 100\n",
        "    elif (self.env.agent_pos == self.env.r1).all():\n",
        "        self.reward =1\n",
        "    elif (self.env.agent_pos == self.env.r2).all():\n",
        "        self.reward =-2 \n",
        "    elif (self.env.agent_pos == self.env.r3).all():\n",
        "        self.reward =1\n",
        "    elif (self.env.agent_pos == self.env.r4).all():\n",
        "        self.reward =1\n",
        "    else:\n",
        "        self.reward = 0\n",
        "\n",
        "    self.env.timestep+=1\n",
        "    self.stepno+=1\n",
        "\n",
        "    return(self.env.agent_pos,self.reward)\n",
        "  \n",
        "  def training(self):\n",
        "    for episode in range(1000):\n",
        "      self.reset()\n",
        "      action=self.action1(self.state,self.epsilon)\n",
        "      while not self.done1:\n",
        "        self.q_values[15]=0\n",
        "        \n",
        "        self.env.agent_pos, reward = self.takeaction(action)\n",
        "        newstate=4*self.env.agent_pos[0]+self.env.agent_pos[1]  #state update\n",
        "        \n",
        "        nextaction=self.action1(newstate,self.epsilon)\n",
        "        self.q_values[self.state,action]=self.q_values[self.state,action] + self.lr*(reward+self.df*self.q_values[newstate,nextaction]-self.q_values[self.state,action])\n",
        "        self.state=newstate\n",
        "        action=nextaction\n",
        "        self.rewardsum+=reward\n",
        "\n",
        "        if self.env.timestep >= self.env.max_timesteps:\n",
        "          self.done1 = True\n",
        "        elif (self.env.agent_pos == self.env.goal_pos).all():\n",
        "          self.done1 = True\n",
        "\n",
        "      self.stepstaken.append(self.stepno)\n",
        "      self.totalreward.append(self.rewardsum)\n",
        "      self.epsilondecay.append(self.epsilon)\n",
        "      self.epsilon*=self.decay\n",
        "\n",
        "  def evaluation(self):\n",
        "    self.stepstaken=[]\n",
        "    self.totalreward=[]\n",
        "    for episode in range(10):\n",
        "      self.reset()\n",
        "      action=self.action1(self.state,self.epsilon)\n",
        "      while not self.done1:\n",
        "        self.q_values[15]=0\n",
        "        \n",
        "        self.env.agent_pos, reward = self.takeaction(action)\n",
        "        newstate=4*self.env.agent_pos[0]+self.env.agent_pos[1]  #state update\n",
        "        \n",
        "        nextaction=self.action1(newstate,self.epsilon)\n",
        "        self.q_values[self.state,action]=self.q_values[self.state,action] + self.lr*(reward+self.df*self.q_values[newstate,nextaction]-self.q_values[self.state,action])\n",
        "        self.state=newstate\n",
        "        action=nextaction\n",
        "        self.rewardsum+=reward\n",
        "\n",
        "        if self.env.timestep >= self.env.max_timesteps:\n",
        "          self.done1 = True\n",
        "        elif (self.env.agent_pos == self.env.goal_pos).all():\n",
        "          self.done1 = True\n",
        "      self.stepstaken.append(self.stepno)\n",
        "      self.totalreward.append(self.rewardsum) \n"
      ],
      "metadata": {
        "id": "e-GMRzGsug__"
      },
      "execution_count": 6,
      "outputs": []
    },
    {
      "cell_type": "code",
      "source": [
        "def QLimplemetation():\n",
        "    print('Implementing Q learning:\\n')\n",
        "    table1=q_learning()\n",
        "    table1.training()\n",
        "    print('Q table values after training:')\n",
        "    print(table1.q_values)\n",
        "\n",
        "    plot1 = plt.figure(1)\n",
        "    plt.xlabel('Episodes')\n",
        "    plt.title('Q learning results after training for deterministic environment')\n",
        "    plt.plot(table1.totalreward)\n",
        "    plt.plot(table1.stepstaken)\n",
        "    plt.legend(['Reward per episode','Steps per episode'],loc='best')\n",
        "\n",
        "    plot2 = plt.figure(2)\n",
        "    plt.plot(table1.epsilondecay)\n",
        "    plt.xlabel('Episodes')\n",
        "    plt.ylabel('Epsilon')\n",
        "    \n",
        "    print('Q table values after evaluation:')\n",
        "    table1.evaluation()\n",
        "    print(table1.q_values)\n",
        "\n",
        "    plot3=plt.figure(3)\n",
        "    plt.xlabel('Episodes')\n",
        "    plt.title('Q learning results after evaluation for deterministic environment:')\n",
        "    plt.plot(table1.totalreward)\n",
        "    plt.plot(table1.stepstaken)\n",
        "    plt.legend(['Reward per episode','Steps per episode'],loc='best')\n",
        "    plt.show()\n",
        "\n",
        "def sarsaimplementation():\n",
        "  print('Implementing SARSA:\\n')\n",
        "  table2=sarsa()\n",
        "  table2.training()\n",
        "  print('Q table values after training:')\n",
        "  print(table2.q_values)\n",
        "\n",
        "  plot1=plt.figure(1)\n",
        "  plt.xlabel('Episodes')\n",
        "  plt.title('SARSA results after training for deterministic environment')\n",
        "  plt.plot(table2.totalreward)\n",
        "  plt.plot(table2.stepstaken)\n",
        "  plt.legend(['Reward per episode','Steps per episode'],loc='best')\n",
        "\n",
        "  plot2=plt.figure(2)\n",
        "  plt.plot(table2.epsilondecay)\n",
        "  plt.xlabel('Episodes')\n",
        "  plt.ylabel('Epsilon')\n",
        "\n",
        "  table2.evaluation()\n",
        "  print('Q values after evaluation:')\n",
        "  print(table2.q_values)\n",
        "\n",
        "  plot3=plt.figure(3)\n",
        "  plt.xlabel('Episodes')\n",
        "  plt.title('SARSA results after evaluation for deterministic environment:')\n",
        "  plt.plot(table2.totalreward)\n",
        "  plt.plot(table2.stepstaken)\n",
        "  plt.legend(['Reward per episode','Steps per episode'],loc='best')\n",
        "  plt.show()"
      ],
      "metadata": {
        "id": "ASMDs19vjhG1"
      },
      "execution_count": 7,
      "outputs": []
    },
    {
      "cell_type": "code",
      "source": [
        "if __name__ == \"__main__\":\n",
        "  QLimplemetation()\n",
        "  sarsaimplementation()"
      ],
      "metadata": {
        "colab": {
          "base_uri": "https://localhost:8080/",
          "height": 1000
        },
        "id": "l4Zv-wB5h5dn",
        "outputId": "dd59335f-9094-4dcc-e1b2-8aac9958c2af"
      },
      "execution_count": 9,
      "outputs": [
        {
          "output_type": "stream",
          "name": "stdout",
          "text": [
            "Implementing Q learning:\n",
            "\n",
            "Q table values after training:\n",
            "[[ 59.859       53.73517667  57.24798309  53.86891597]\n",
            " [ 63.6098262   54.26237957  63.4819833   51.73252568]\n",
            " [ 72.56730053  45.8900596   42.51688702  26.85356199]\n",
            " [ 70.56627834  15.34841038  27.44360814  38.63665201]\n",
            " [ 66.51        53.85708289  63.60999996  59.78855505]\n",
            " [ 72.9         56.76036998  72.77705359  57.99953388]\n",
            " [ 80.99994867  57.23144344  76.59056561  62.45695032]\n",
            " [ 89.56768574  46.80202651  44.59878195  61.94952058]\n",
            " [ 73.9         59.82643896  72.9         66.47736969]\n",
            " [ 80.99559623  63.52602188  81.          65.76680157]\n",
            " [ 90.          72.88849051  89.9779893   72.8986279 ]\n",
            " [ 99.99776993  76.92714772  84.57839783  76.17560077]\n",
            " [ 73.83410369  66.38729393  81.          73.78140699]\n",
            " [ 80.99898226  72.89899024  90.          73.88444494]\n",
            " [ 89.99798754  80.99962812 100.          80.99997289]\n",
            " [  0.           0.           0.           0.        ]]\n",
            "Q table values after evaluation:\n",
            "[[ 59.859       53.73517667  57.24798309  53.86891597]\n",
            " [ 63.6098262   54.26237957  63.4819833   51.73252568]\n",
            " [ 72.56730053  45.8900596   42.51688702  26.85356199]\n",
            " [ 70.56627834  15.34841038  27.44360814  38.63665201]\n",
            " [ 66.51        53.86028631  63.60999996  59.78855505]\n",
            " [ 72.9         56.76036998  72.77705359  57.99953388]\n",
            " [ 80.99994867  57.23144344  76.59056561  62.45695032]\n",
            " [ 89.56768574  46.80202651  44.59878195  61.94952058]\n",
            " [ 73.9         59.82643896  72.9         66.47736969]\n",
            " [ 80.99559623  63.52602188  81.          65.76680157]\n",
            " [ 90.          72.88849051  89.9779893   72.8986279 ]\n",
            " [ 99.99776993  76.92714772  84.57839783  76.17560077]\n",
            " [ 73.83410369  66.38729393  81.          73.78140699]\n",
            " [ 80.99898226  72.89899024  90.          73.88444494]\n",
            " [ 89.99798754  80.99962812 100.          80.99997289]\n",
            " [  0.           0.           0.           0.        ]]\n"
          ]
        },
        {
          "output_type": "display_data",
          "data": {
            "image/png": "[encoded data removed]",
            "text/plain": [
              "<Figure size 432x288 with 1 Axes>"
            ]
          },
          "metadata": {
            "needs_background": "light"
          }
        },
        {
          "output_type": "display_data",
          "data": {
            "image/png": "[encoded data removed]",
            "text/plain": [
              "<Figure size 432x288 with 1 Axes>"
            ]
          },
          "metadata": {
            "needs_background": "light"
          }
        },
        {
          "output_type": "display_data",
          "data": {
            "image/png": "[encoded data removed]",
            "text/plain": [
              "<Figure size 432x288 with 1 Axes>"
            ]
          },
          "metadata": {
            "needs_background": "light"
          }
        },
        {
          "output_type": "stream",
          "name": "stdout",
          "text": [
            "Implementing SARSA:\n",
            "\n",
            "Q table values after training:\n",
            "[[ 36.56977954  50.87843778  59.21139764  47.80086771]\n",
            " [ 56.418482    49.89075146  65.92730903  43.2330825 ]\n",
            " [ 72.79523326  64.29564349  66.25987266  50.33932408]\n",
            " [ 78.7468627   42.39820723  49.71448631  47.31937852]\n",
            " [  7.46405778  15.39563593  53.80541644  15.45545169]\n",
            " [ 47.17620082  25.89518513  72.31035761  23.38110585]\n",
            " [ 68.82871003  58.6473359   81.55022197  58.19040969]\n",
            " [ 89.86675586  65.71363477  77.72167166  64.8305641 ]\n",
            " [ 17.19928489   1.48256135  17.25626696   6.08599919]\n",
            " [ 25.41623503  11.11169508  68.70320462   8.41357836]\n",
            " [ 56.59669885  50.60458081  88.98729592  40.70522009]\n",
            " [100.          74.50983533  88.69162219  78.9934233 ]\n",
            " [  8.17331462   8.49258741  32.38455043  11.2690526 ]\n",
            " [ 26.70400898  11.79920671  81.27260645  16.78020552]\n",
            " [ 49.21373421  35.62275509  99.99564439  49.22107808]\n",
            " [  0.           0.           0.           0.        ]]\n",
            "Q values after evaluation:\n",
            "[[ 36.56977954  50.87843778  59.84041217  47.80086771]\n",
            " [ 56.418482    49.89075146  66.88740314  43.2330825 ]\n",
            " [ 73.55085817  64.29564349  66.25987266  50.33932408]\n",
            " [ 78.7468627   42.39820723  49.71448631  47.31937852]\n",
            " [  7.46405778  15.39563593  53.80541644  15.45545169]\n",
            " [ 47.17620082  25.89518513  72.31035761  23.38110585]\n",
            " [ 68.82871003  58.6473359   81.91951475  58.19040969]\n",
            " [ 89.98569302  65.71363477  77.72167166  64.8305641 ]\n",
            " [ 17.19928489   1.48256135  17.25626696   6.08599919]\n",
            " [ 25.41623503  11.11169508  68.70320462   8.41357836]\n",
            " [ 56.59669885  50.60458081  88.98729592  40.70522009]\n",
            " [100.          74.50983533  88.69162219  78.9934233 ]\n",
            " [  8.17331462   8.49258741  32.38455043  11.2690526 ]\n",
            " [ 26.70400898  11.79920671  81.27260645  16.78020552]\n",
            " [ 49.21373421  35.62275509  99.99564439  49.22107808]\n",
            " [  0.           0.           0.           0.        ]]\n"
          ]
        },
        {
          "output_type": "display_data",
          "data": {
            "image/png": "[encoded data removed]",
            "text/plain": [
              "<Figure size 432x288 with 1 Axes>"
            ]
          },
          "metadata": {
            "needs_background": "light"
          }
        },
        {
          "output_type": "display_data",
          "data": {
            "image/png": "[encoded data removed]",
            "text/plain": [
              "<Figure size 432x288 with 1 Axes>"
            ]
          },
          "metadata": {
            "needs_background": "light"
          }
        },
        {
          "output_type": "display_data",
          "data": {
            "image/png": "[encoded data removed]",
            "text/plain": [
              "<Figure size 432x288 with 1 Axes>"
            ]
          },
          "metadata": {
            "needs_background": "light"
          }
        }
      ]
    },
    {
      "cell_type": "code",
      "source": [
        ""
      ],
      "metadata": {
        "id": "bGkMbl6VCB8F"
      },
      "execution_count": null,
      "outputs": []
    }
  ]
}